{
 "cells": [
  {
   "cell_type": "markdown",
   "id": "4c9641e9",
   "metadata": {},
   "source": [
    "## 별이 빛나는 밤\n",
    "기능 : "
   ]
  },
  {
   "cell_type": "code",
   "execution_count": 26,
   "id": "38df305f",
   "metadata": {},
   "outputs": [
    {
     "name": "stdout",
     "output_type": "stream",
     "text": [
      "*\n",
      "**\n",
      "***\n",
      "****\n",
      "*****\n"
     ]
    }
   ],
   "source": [
    "for i in range(1,6):\n",
    "    print('*'*i)"
   ]
  },
  {
   "cell_type": "code",
   "execution_count": 28,
   "id": "f9b0c0cc",
   "metadata": {},
   "outputs": [
    {
     "name": "stdout",
     "output_type": "stream",
     "text": [
      "******\n",
      "******\n",
      "******\n",
      "******\n",
      "******\n",
      "******\n"
     ]
    }
   ],
   "source": [
    "for i in range(6):\n",
    "    print('*'*6)"
   ]
  },
  {
   "cell_type": "markdown",
   "id": "00117712",
   "metadata": {},
   "source": [
    "## 줄 바꿔 출력하기"
   ]
  },
  {
   "cell_type": "code",
   "execution_count": 50,
   "id": "ce61c4ba",
   "metadata": {},
   "outputs": [
    {
     "name": "stdout",
     "output_type": "stream",
     "text": [
      "숫자를 입력하세요 : 35\n",
      "\n",
      "1 2 3 4 5 6 7 8 9 10 \n",
      "11 12 13 14 15 16 17 18 19 20 \n",
      "21 22 23 24 25 26 27 28 29 30 \n",
      "31 32 33 34 35 "
     ]
    }
   ],
   "source": [
    "x = int(input('숫자를 입력하세요 : '))\n",
    "for i in range(x):\n",
    "    if i % 10 == 0:\n",
    "        print()\n",
    "    print(i+1, end=' ')"
   ]
  },
  {
   "cell_type": "markdown",
   "id": "3660042e",
   "metadata": {},
   "source": [
    "## 오늘의 당첨번호"
   ]
  },
  {
   "cell_type": "code",
   "execution_count": 43,
   "id": "aa3fcdb6",
   "metadata": {},
   "outputs": [
    {
     "name": "stdout",
     "output_type": "stream",
     "text": [
      "구매할 로또의 개수는? : 5\n"
     ]
    },
    {
     "data": {
      "text/plain": [
       "[[10, 23, 24, 27, 32, 43],\n",
       " [1, 20, 26, 34, 38, 39],\n",
       " [8, 23, 26, 32, 37, 42],\n",
       " [2, 10, 12, 16, 21, 24],\n",
       " [17, 21, 24, 26, 38, 42]]"
      ]
     },
     "execution_count": 43,
     "metadata": {},
     "output_type": "execute_result"
    }
   ],
   "source": [
    "import random\n",
    "\n",
    "lottos =[]\n",
    "num = int(input('구매할 로또의 개수는? : '))\n",
    "for i in range(num):\n",
    "    numbers = random.sample(range(1,46),6)\n",
    "    numbers.sort()\n",
    "    lottos.append(numbers)\n",
    "lottos"
   ]
  }
 ],
 "metadata": {
  "kernelspec": {
   "display_name": "Python 3",
   "language": "python",
   "name": "python3"
  },
  "language_info": {
   "codemirror_mode": {
    "name": "ipython",
    "version": 3
   },
   "file_extension": ".py",
   "mimetype": "text/x-python",
   "name": "python",
   "nbconvert_exporter": "python",
   "pygments_lexer": "ipython3",
   "version": "3.8.8"
  }
 },
 "nbformat": 4,
 "nbformat_minor": 5
}
