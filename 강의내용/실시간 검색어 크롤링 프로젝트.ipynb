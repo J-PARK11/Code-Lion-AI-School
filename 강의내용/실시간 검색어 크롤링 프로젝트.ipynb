{
 "cells": [
  {
   "cell_type": "markdown",
   "id": "5194a823",
   "metadata": {},
   "source": [
    "## 실시간 검색어 크롤링 프로젝트\n",
    "- 이론 : 크롤링(Crawling) = 기다   \n",
    "request : request는 웹페이지와 Restful API로 통신하는 모듈으로 \"PUT, GET, POST, DELETE\" 등의 태그를 사용함. request.get(url)을 객체에 담아 text, url, encoding 등의 메서드를 통해 여러 값을 확인할 수 있음.   \n",
    "BeautifulSoup : 'request.get'으로 불러들인 웹페이지 정보를 문자열 객체에서 HTML Passer를 기준으로 bs4 객체로 변환. BeautifulSoup(data, parsing method)\n",
    "- 실전 : response = request.get(url) --> soup = BeautifulSoup(resonse.text, 'html.parser') --> results = soup.findAll('tag', 'class')"
   ]
  },
  {
   "cell_type": "code",
   "execution_count": 129,
   "id": "7fb13c15",
   "metadata": {},
   "outputs": [
    {
     "name": "stdout",
     "output_type": "stream",
     "text": [
      "https://finance.naver.com/\n",
      "네이버 금융 \n",
      "\n",
      "Top종목 10\n",
      "일시: 2022년 05월 07일의 실시간 정보입니다.\n",
      "1위. 대한전선\n",
      "2위. KODEX\n",
      "3위. 부산주공\n",
      "4위. 이스트아시아홀딩스\n",
      "5위. 소니드\n",
      "6위. 대원전선\n",
      "7위. 이루온\n",
      "8위. TYM\n",
      "9위. 큐캐피탈\n",
      "10위. 지엘팜텍\n"
     ]
    }
   ],
   "source": [
    "from bs4 import BeautifulSoup\n",
    "import requests\n",
    "from datetime import datetime\n",
    "\n",
    "# URL로부터 HTML파일 객체 생성\n",
    "url = 'https://finance.naver.com/'\n",
    "response = requests.get(url)\n",
    "print(response.url)\n",
    "\n",
    "# bs4 객체 생성\n",
    "soup = BeautifulSoup(response.text, 'html.parser')\n",
    "print(soup.title.text,'\\n')\n",
    "\n",
    "# 파일 생성\n",
    "file = open('rankresult.txt', 'w', encoding='utf-8')\n",
    "\n",
    "# 결과 출력\n",
    "print('Top종목 10')\n",
    "print('일시:',datetime.today().strftime('%Y년 %m월 %d일의 실시간 정보입니다.'))\n",
    "\n",
    "# 정보 불러오기\n",
    "results = soup.findAll('tr','up')\n",
    "for i,result in enumerate(results[:10]):\n",
    "    file.write(('{0}위.'.format(i+1))+result.get_text().split()[0]+'\\n')\n",
    "    print('{0}위.'.format(i+1),result.get_text().split()[0])"
   ]
  },
  {
   "cell_type": "code",
   "execution_count": 132,
   "id": "60c027a5",
   "metadata": {},
   "outputs": [
    {
     "name": "stdout",
     "output_type": "stream",
     "text": [
      "2022년 05월 07일의 실시간 검색어 순위입니다.\n",
      "\n"
     ]
    }
   ],
   "source": [
    "from bs4 import BeautifulSoup\n",
    "import requests\n",
    "from datetime import datetime\n",
    "\n",
    "headers = {'User-Agent':'Mozilla/5.0 (Windows NT 6.3; Win64; x64) AppleWebKit/537.36 (KHTML, like Gecko) Chrome/63.0.3239.132 Safari/537.36'}\n",
    "url = \"https://datalab.naver.com/keyword/realtimeList.naver?age=20s\"\n",
    "response = requests.get(url,headers=headers)\n",
    "soup = BeautifulSoup(response.text, 'html.parser')\n",
    "rank = 1\n",
    "\n",
    "# span - item_title\n",
    "results = soup.findAll('span','item_title')\n",
    "\n",
    "search_rank_file = open(\"rankresult.txt\",\"a\")\n",
    "\n",
    "print(datetime.today().strftime(\"%Y년 %m월 %d일의 실시간 검색어 순위입니다.\\n\"))\n",
    "\n",
    "for result in results:\n",
    "    search_rank_file.write(str(rank)+\"위:\"+result.get_text()+\"\\n\")\n",
    "    print(rank,\"위 : \",result.get_text(),\"\\n\")\n",
    "    rank += 1"
   ]
  }
 ],
 "metadata": {
  "kernelspec": {
   "display_name": "Python 3",
   "language": "python",
   "name": "python3"
  },
  "language_info": {
   "codemirror_mode": {
    "name": "ipython",
    "version": 3
   },
   "file_extension": ".py",
   "mimetype": "text/x-python",
   "name": "python",
   "nbconvert_exporter": "python",
   "pygments_lexer": "ipython3",
   "version": "3.8.8"
  }
 },
 "nbformat": 4,
 "nbformat_minor": 5
}
