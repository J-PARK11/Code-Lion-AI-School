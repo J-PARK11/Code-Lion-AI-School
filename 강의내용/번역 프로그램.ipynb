{
 "cells": [
  {
   "cell_type": "markdown",
   "id": "d15d03ce",
   "metadata": {},
   "source": [
    "## 번역 프로그램\n",
    "- 이론 : 번역기(translator), 감지기(detector)\n",
    "- 실전 : pip install googletrans==4.0.0-rc1\n"
   ]
  },
  {
   "cell_type": "code",
   "execution_count": 6,
   "id": "b32bed59",
   "metadata": {},
   "outputs": [
    {
     "name": "stdout",
     "output_type": "stream",
     "text": [
      "언어를 감지할 문장을 입력하세요.한국\n",
      "ko\n",
      "None\n"
     ]
    }
   ],
   "source": [
    "from googletrans import Translator\n",
    "\n",
    "translator = Translator()\n",
    "sentence = \"안녕하세요 코드라이언입니다.\"\n",
    "#sentence = input('언어를 감지할 문장을 입력하세요.')\n",
    "\n",
    "detected = translator.detect(sentence)\n",
    "\n",
    "print(detected.lang)\n",
    "print(detected.confidence)"
   ]
  },
  {
   "cell_type": "code",
   "execution_count": 11,
   "id": "cc170ced",
   "metadata": {},
   "outputs": [
    {
     "name": "stdout",
     "output_type": "stream",
     "text": [
      "ko\n",
      "en\n",
      "Hello, this is Code Ryan.\n"
     ]
    }
   ],
   "source": [
    "from googletrans import Translator\n",
    "\n",
    "translator = Translator()\n",
    "sentence = '안녕하세요 코드라이언입니다.'\n",
    "#sentence = input('언어를 감지할 문장을 입력하세요.')\n",
    "\n",
    "result = translator.translate(sentence, dest='en')\n",
    "print(result.src)\n",
    "print(result.dest)\n",
    "print(result.text)\n"
   ]
  },
  {
   "cell_type": "code",
   "execution_count": 18,
   "id": "39b8a5c5",
   "metadata": {},
   "outputs": [
    {
     "name": "stdout",
     "output_type": "stream",
     "text": [
      "번역을 원하는 문장을 입력해주세요 :안녕\n",
      "어떤 언어로 번역을 원하시나요? :en\n",
      "\n",
      "------출력 결과------\n",
      "ko : 안녕\n",
      "en : hi\n",
      "--------------------\n"
     ]
    }
   ],
   "source": [
    "from googletrans import Translator\n",
    "\n",
    "sentence = input('번역을 원하는 문장을 입력해주세요 :')\n",
    "dest = input('어떤 언어로 번역을 원하시나요? :')\n",
    "\n",
    "translator = Translator()\n",
    "detected = translator.detect(sentence)\n",
    "result = translator.translate(sentence, dest=dest)\n",
    "\n",
    "print()\n",
    "print('------출력 결과------')\n",
    "print(f'{detected.lang} : {sentence}')\n",
    "print(f'{result.dest} : {result.text}')\n",
    "print('--------------------')"
   ]
  }
 ],
 "metadata": {
  "kernelspec": {
   "display_name": "Python 3",
   "language": "python",
   "name": "python3"
  },
  "language_info": {
   "codemirror_mode": {
    "name": "ipython",
    "version": 3
   },
   "file_extension": ".py",
   "mimetype": "text/x-python",
   "name": "python",
   "nbconvert_exporter": "python",
   "pygments_lexer": "ipython3",
   "version": "3.8.8"
  }
 },
 "nbformat": 4,
 "nbformat_minor": 5
}
