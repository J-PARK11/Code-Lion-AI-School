{
 "cells": [
  {
   "cell_type": "markdown",
   "id": "f8b9de97",
   "metadata": {},
   "source": [
    "## 오늘은 뭐 드실?\n",
    "기능 : 기존의 메뉴판에 원하는 메뉴를 추가하고, 중복을 제거한 뒤 삭제하고자 하는 메뉴를 입력받아 최종 메뉴판으로부터 랜덤하게 그날 먹을 점심메뉴를 추천해주는 프로덕트"
   ]
  },
  {
   "cell_type": "code",
   "execution_count": 4,
   "id": "546fc7f7",
   "metadata": {},
   "outputs": [
    {
     "name": "stdout",
     "output_type": "stream",
     "text": [
      "음식을 추가해주세요 : 짜장면\n",
      "['된장찌개', '피자', '제육볶음', '짜장면']\n",
      "음식을 추가해주세요 : 짬뽕\n",
      "['된장찌개', '피자', '제육볶음', '짜장면', '짬뽕']\n",
      "음식을 추가해주세요 : 탕수육\n",
      "['된장찌개', '피자', '제육볶음', '짜장면', '짬뽕', '탕수육']\n",
      "음식을 추가해주세요 : 라면\n",
      "['된장찌개', '피자', '제육볶음', '짜장면', '짬뽕', '탕수육', '라면']\n",
      "음식을 추가해주세요 : q\n",
      "음식을 제거해주세요 : 라면\n",
      "{'된장찌개', '짜장면', '짬뽕', '탕수육', '제육볶음', '피자'}\n",
      "음식을 제거해주세요 : q\n",
      "5\n",
      "4\n",
      "3\n",
      "2\n",
      "1\n",
      "짜장면\n"
     ]
    }
   ],
   "source": [
    "import random, time\n",
    "\n",
    "menu = ['된장찌개', '피자', '제육볶음']\n",
    "\n",
    "# 메뉴 추가\n",
    "while True:\n",
    "    item = input('음식을 추가해주세요 : ')\n",
    "    if item == 'q':\n",
    "        break\n",
    "    else:\n",
    "        menu.append(item)\n",
    "        print(menu)\n",
    "\n",
    "# 중복 제거\n",
    "set_menu = set(menu)\n",
    "\n",
    "# 메뉴 제거\n",
    "while True:\n",
    "    item = input('음식을 제거해주세요 : ')\n",
    "    if item == 'q':\n",
    "        break\n",
    "    else:\n",
    "        set_menu = set_menu - set([item])\n",
    "        print(set_menu)\n",
    "        \n",
    "# 딜레이 & 카운트\n",
    "for i in range(5,0,-1):\n",
    "    print(i)\n",
    "    time.sleep(1)\n",
    "\n",
    "# 랜덤한 메뉴 추천\n",
    "print(random.choice(list(set_menu)))"
   ]
  }
 ],
 "metadata": {
  "kernelspec": {
   "display_name": "Python 3",
   "language": "python",
   "name": "python3"
  },
  "language_info": {
   "codemirror_mode": {
    "name": "ipython",
    "version": 3
   },
   "file_extension": ".py",
   "mimetype": "text/x-python",
   "name": "python",
   "nbconvert_exporter": "python",
   "pygments_lexer": "ipython3",
   "version": "3.8.8"
  }
 },
 "nbformat": 4,
 "nbformat_minor": 5
}
