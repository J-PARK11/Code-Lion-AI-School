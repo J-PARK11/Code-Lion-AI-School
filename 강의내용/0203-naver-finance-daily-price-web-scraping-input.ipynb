{
 "cells": [
  {
   "cell_type": "markdown",
   "metadata": {
    "id": "pOdYzjmEAGhg"
   },
   "source": [
    "## 네이버 금융 개별종목 수집\n",
    "\n",
    "1. 수집 하고자 하는 페이지의 URL을 알아본다.\n",
    "1. 파이썬의 작은 브라우저 requests 를 통해 URL에 접근한다.\n",
    "1. response.status_code 가 200 OK 라면 정상 응답입니다.\n",
    "1. request의 response 값에서 response.text 만 받아옵니다.\n",
    "1. html 텍스트를 받아왔다면  BeautifulSoup 로 html 을 해석합니다.\n",
    "1. soup.select 를 통해 원하는 태그에 접근합니다.\n",
    "1. 목록을 먼저 받아옵니다.\n",
    "1. 목록에서 행을 하나씩 가져옵니다.\n",
    "1. 행을 모아서 데이터프레임으로 만듭니다.\n",
    "=> 판다스라면 read_html로 table로 된 태그에 대해 위 과정을 코드 한 줄로 해줍니다.\n",
    "\n",
    "\n",
    "\n",
    "### Keyword\n",
    "\n",
    "* html 파일 읽어오기\n",
    "    * pd.read_html(url, encoding=\"cp949\")\n",
    "\n",
    "* 결측 데이터 제거하기(axis 0:행, 1:열)\n",
    "    * table[0].dropna()\n",
    "\n",
    "* 데이터 프레임 합치기\n",
    "    * pd.concat([df1, df2, df3])\n",
    "\n",
    "* 중복데이터 제거\n",
    "    * df.drop_duplicates()\n",
    "\n",
    "* 과학적 기수법\n",
    "    * 1.210000e+02 => 121\n",
    "\n",
    "* 날짜 column의 첫 row값 확인\n",
    "    * date = df.iloc[0][\"날짜\"]\n",
    "\n",
    "* 파일로 저장하기 \n",
    "    * df.to_csv(file_name, index=False)\n",
    "\n",
    "* 파일 읽어오기\n",
    "    * pd.read_csv(file_name)"
   ]
  },
  {
   "cell_type": "markdown",
   "metadata": {
    "id": "-lIn4AdJTMkA"
   },
   "source": [
    "## 수집할 페이지 보기\n",
    "\n",
    "* 네이버 금융 국내증시 : https://finance.naver.com/sise/\n",
    "* 주요 종목\n",
    "    * 삼성전자 : https://finance.naver.com/item/main.naver?code=005930\n",
    "    * 현대차 : https://finance.naver.com/item/main.naver?code=005380\n",
    "    * SK하이닉스 : https://finance.naver.com/item/main.naver?code=000660"
   ]
  },
  {
   "cell_type": "markdown",
   "metadata": {
    "id": "2TQ3QBpMpzJ7"
   },
   "source": [
    "## 라이브러리 로드"
   ]
  },
  {
   "cell_type": "code",
   "execution_count": 30,
   "metadata": {
    "id": "6Mm8vuymTMkA"
   },
   "outputs": [],
   "source": [
    "# 라이브러리 로드\n",
    "import pandas as pd\n",
    "import numpy as np\n",
    "\n",
    "import requests\n",
    "from bs4 import BeautifulSoup as bs"
   ]
  },
  {
   "cell_type": "markdown",
   "metadata": {
    "id": "u6LPTaoRpzJ8"
   },
   "source": [
    "## 수집할 URL 정하기"
   ]
  },
  {
   "cell_type": "code",
   "execution_count": 12,
   "metadata": {
    "id": "QzZJoAvoTMkA"
   },
   "outputs": [
    {
     "name": "stdout",
     "output_type": "stream",
     "text": [
      "https://finance.naver.com/item/sise_day.naver?code=005930&page=1\n"
     ]
    }
   ],
   "source": [
    "# 종목번호와 상장사 이름을 item_code와 item_name으로 설정\n",
    "#item_code = \"323410\"\n",
    "#item_name = \"카카오뱅크\"\n",
    "\n",
    "item_code = \"005930\"\n",
    "item_name = \"삼성전자\"\n",
    "\n",
    "# 종목 URL 만들기\n",
    "# url\n",
    "url =  f'https://finance.naver.com/item/sise_day.naver?code={item_code}&page=1'\n",
    "print(url)"
   ]
  },
  {
   "cell_type": "markdown",
   "metadata": {
    "id": "omqDL0q0pzJ9"
   },
   "source": [
    "## requests를 통한 HTTP 요청\n",
    "* [Requests: HTTP for Humans™ — Requests documentation](https://requests.readthedocs.io/en/master/)\n",
    "* [Quickstart — Requests documentation # custom-headers](https://requests.readthedocs.io/en/latest/user/quickstart/#custom-headers)"
   ]
  },
  {
   "cell_type": "code",
   "execution_count": 28,
   "metadata": {
    "id": "4N9pP-4EpzJ-"
   },
   "outputs": [
    {
     "name": "stdout",
     "output_type": "stream",
     "text": [
      "Mozilla/5.0 (Windows NT 10.0; Win64; x64) AppleWebKit/537.36 (KHTML, like Gecko) Chrome/101.0.4951.64 Safari/537.36 Edg/101.0.1210.47\n"
     ]
    },
    {
     "data": {
      "text/plain": [
       "200"
      ]
     },
     "execution_count": 28,
     "metadata": {},
     "output_type": "execute_result"
    }
   ],
   "source": [
    "headers = {'user-agent': 'Mozilla/5.0 (Windows NT 10.0; Win64; x64) AppleWebKit/537.36 (KHTML, like Gecko) Chrome/101.0.4951.64 Safari/537.36 Edg/101.0.1210.47'}\n",
    "\n",
    "response = requests.get(url, headers=headers)\n",
    "print(headers['user-agent'])\n",
    "response.status_code"
   ]
  },
  {
   "cell_type": "code",
   "execution_count": 106,
   "metadata": {
    "collapsed": true
   },
   "outputs": [
    {
     "data": {
      "text/plain": [
       "'\\n<html lang=\"ko\">\\n<head>\\n<meta http-equiv=\"Content-Type\" content=\"text/html; charset=euc-kr\">\\n<title>네이버 금융</title>\\n\\n<link rel=\"stylesheet\" type=\"text/css\" href=\"https://ssl.pstatic.net/imgstock/static.pc/20220511192542/css/newstock.css\">\\n<link rel=\"stylesheet\" type=\"text/css\" href=\"https://ssl.pstatic.net/imgstock/static.pc/20220511192542/css/common.css\">\\n<link rel=\"stylesheet\" type=\"text/css\" href=\"https://ssl.pstatic.net/imgstock/static.pc/20220511192542/css/layout.css\">\\n<link rel=\"stylesheet\" type=\"text/css\" href=\"https://ssl.pstatic.net/imgstock/static.pc/20220511192542/css/main.css\">\\n<link rel=\"stylesheet\" type=\"text/css\" href=\"https://ssl.pstatic.net/imgstock/static.pc/20220511192542/css/newstock2.css\">\\n<link rel=\"stylesheet\" type=\"text/css\" href=\"https://ssl.pstatic.net/imgstock/static.pc/20220511192542/css/newstock3.css\">\\n<link rel=\"stylesheet\" type=\"text/css\" href=\"https://ssl.pstatic.net/imgstock/static.pc/20220511192542/css/world.css\">\\n</head>\\n<body>\\n<script language=\"JavaScript\">\\nfunction mouseOver(obj){\\n  obj.style.backgroundColor=\"#f6f4e5\";\\n}\\nfunction mouseOut(obj){\\n  obj.style.backgroundColor=\"#ffffff\";\\n}\\n</script>\\n\\t\\t\\t\\t<h4 class=\"tlline2\"><strong><span class=\"red03\">일별</span>시세</strong></h4>\\t\\t\\t\\n\\t\\t\\t\\t<table cellspacing=\"0\" class=\"type2\">\\n\\t\\t\\t\\t<tr>\\n\\t\\t\\t\\t<th>날짜</th>\\n\\t\\t\\t\\t<th>종가</th>\\n\\t\\t\\t\\t<th>전일비</th>\\n\\t\\t\\t\\t<th>시가</th>\\n\\t\\t\\t\\t<th>고가</th>\\n\\t\\t\\t\\t<th>저가</th>\\n\\t\\t\\t\\t<th>거래량</th>\\n\\t\\t\\t\\t</tr>\\n\\t\\t\\t\\t<tr>\\n\\t\\t\\t\\t<td colspan=\"7\" height=\"8\"></td>\\n\\t\\t\\t\\t</tr>\\n\\n\\n\\t\\n\\t\\t\\t\\t<tr onMouseOver=\"mouseOver(this)\" onMouseOut=\"mouseOut(this)\">\\n\\t\\t\\t\\t<td align=\"center\"><span class=\"tah p10 gray03\">2022.05.17</span></td>\\n\\t\\t\\t\\t<td class=\"num\"><span class=\"tah p11\">67,800</span></td>\\n\\t\\t\\t\\t<td class=\"num\">\\n\\t\\t\\t\\t<img src=\"https://ssl.pstatic.net/imgstock/images/images4/ico_up.gif\" width=\"7\" height=\"6\" style=\"margin-right:4px;\" alt=\"상승\"><span class=\"tah p11 red02\">\\n\\t\\t\\t\\t1,500\\n\\t\\t\\t\\t</span>\\n\\t\\t\\t</td>\\n\\t\\t\\t\\t<td class=\"num\"><span class=\"tah p11\">66,600</span></td>\\n\\t\\t\\t\\t<td class=\"num\"><span class=\"tah p11\">67,900</span></td>\\n\\t\\t\\t\\t<td class=\"num\"><span class=\"tah p11\">66,600</span></td>\\n\\t\\t\\t\\t<td class=\"num\"><span class=\"tah p11\">11,567,705</span></td>\\n\\t\\t\\t\\t</tr>\\n\\t\\t\\n\\t\\t\\t\\n\\t\\t\\t\\t\\n\\t\\t\\t\\t\\t<tr onMouseOver=\"mouseOver(this)\" onMouseOut=\"mouseOut(this)\">\\n\\t\\t\\t\\t\\t<td align=\"center\"><span class=\"tah p10 gray03\">2022.05.16</span></td>\\n\\t\\t\\t\\t\\t<td class=\"num\"><span class=\"tah p11\">66,300</span></td>\\n\\t\\t\\t\\t\\t<td class=\"num\">\\n\\t\\t\\t\\t<img src=\"https://ssl.pstatic.net/imgstock/images/images4/ico_down.gif\" width=\"7\" height=\"6\" style=\"margin-right:4px;\" alt=\"하락\"><span class=\"tah p11 nv01\">\\n\\t\\t\\t\\t200\\n\\t\\t\\t\\t</span>\\n\\t\\t\\t</td>\\n\\t\\t\\t\\t\\t<td class=\"num\"><span class=\"tah p11\">67,100</span></td>\\n\\t\\t\\t\\t\\t<td class=\"num\"><span class=\"tah p11\">67,400</span></td>\\n\\t\\t\\t\\t\\t<td class=\"num\"><span class=\"tah p11\">66,100</span></td>\\n\\t\\t\\t\\t\\t<td class=\"num\"><span class=\"tah p11\">11,937,555</span></td>\\n\\t\\t\\t\\t\\t</tr>\\n\\t\\t\\t\\t\\n\\t\\t\\t\\t\\n\\t\\t\\t\\n\\t\\t\\t\\n\\t\\t\\t\\n\\t\\t\\t\\n\\t\\t\\t\\n\\t\\n\\t\\t\\n\\t\\t\\t\\n\\t\\t\\t\\t\\n\\t\\t\\t\\t\\t<tr onMouseOver=\"mouseOver(this)\" onMouseOut=\"mouseOut(this)\">\\n\\t\\t\\t\\t\\t<td align=\"center\"><span class=\"tah p10 gray03\">2022.05.13</span></td>\\n\\t\\t\\t\\t\\t<td class=\"num\"><span class=\"tah p11\">66,500</span></td>\\n\\t\\t\\t\\t\\t<td class=\"num\">\\n\\t\\t\\t\\t<img src=\"https://ssl.pstatic.net/imgstock/images/images4/ico_up.gif\" width=\"7\" height=\"6\" style=\"margin-right:4px;\" alt=\"상승\"><span class=\"tah p11 red02\">\\n\\t\\t\\t\\t1,600\\n\\t\\t\\t\\t</span>\\n\\t\\t\\t</td>\\n\\t\\t\\t\\t\\t<td class=\"num\"><span class=\"tah p11\">65,300</span></td>\\n\\t\\t\\t\\t\\t<td class=\"num\"><span class=\"tah p11\">66,700</span></td>\\n\\t\\t\\t\\t\\t<td class=\"num\"><span class=\"tah p11\">65,200</span></td>\\n\\t\\t\\t\\t\\t<td class=\"num\"><span class=\"tah p11\">14,551,536</span></td>\\n\\t\\t\\t\\t\\t</tr>\\n\\t\\t\\t\\t\\n\\t\\t\\t\\t\\n\\t\\t\\t\\n\\t\\t\\t\\n\\t\\t\\t\\n\\t\\t\\t\\n\\t\\t\\t\\n\\t\\n\\t\\t\\n\\t\\t\\t\\n\\t\\t\\t\\t\\n\\t\\t\\t\\t\\t<tr onMouseOver=\"mouseOver(this)\" onMouseOut=\"mouseOut(this)\">\\n\\t\\t\\t\\t\\t<td align=\"center\"><span class=\"tah p10 gray03\">2022.05.12</span></td>\\n\\t\\t\\t\\t\\t<td class=\"num\"><span class=\"tah p11\">64,900</span></td>\\n\\t\\t\\t\\t\\t<td class=\"num\">\\n\\t\\t\\t\\t<img src=\"https://ssl.pstatic.net/imgstock/images/images4/ico_down.gif\" width=\"7\" height=\"6\" style=\"margin-right:4px;\" alt=\"하락\"><span class=\"tah p11 nv01\">\\n\\t\\t\\t\\t800\\n\\t\\t\\t\\t</span>\\n\\t\\t\\t</td>\\n\\t\\t\\t\\t\\t<td class=\"num\"><span class=\"tah p11\">65,200</span></td>\\n\\t\\t\\t\\t\\t<td class=\"num\"><span class=\"tah p11\">65,500</span></td>\\n\\t\\t\\t\\t\\t<td class=\"num\"><span class=\"tah p11\">64,900</span></td>\\n\\t\\t\\t\\t\\t<td class=\"num\"><span class=\"tah p11\">16,414,188</span></td>\\n\\t\\t\\t\\t\\t</tr>\\n\\t\\t\\t\\t\\n\\t\\t\\t\\t\\n\\t\\t\\t\\n\\t\\t\\t\\n\\t\\t\\t\\n\\t\\t\\t\\n\\t\\t\\t\\n\\t\\n\\t\\t\\n\\t\\t\\t\\n\\t\\t\\t\\t\\n\\t\\t\\t\\t\\t<tr onMouseOver=\"mouseOver(this)\" onMouseOut=\"mouseOut(this)\">\\n\\t\\t\\t\\t\\t<td align=\"center\"><span class=\"tah p10 gray03\">2022.05.11</span></td>\\n\\t\\t\\t\\t\\t<td class=\"num\"><span class=\"tah p11\">65,700</span></td>\\n\\t\\t\\t\\t\\t<td class=\"num\">\\n\\t\\t\\t\\t<span class=\"tah p11\">0</span>\\n\\t\\t\\t</td>\\n\\t\\t\\t\\t\\t<td class=\"num\"><span class=\"tah p11\">65,500</span></td>\\n\\t\\t\\t\\t\\t<td class=\"num\"><span class=\"tah p11\">66,300</span></td>\\n\\t\\t\\t\\t\\t<td class=\"num\"><span class=\"tah p11\">65,200</span></td>\\n\\t\\t\\t\\t\\t<td class=\"num\"><span class=\"tah p11\">12,330,920</span></td>\\n\\t\\t\\t\\t\\t</tr>\\n\\t\\t\\t\\t\\n\\t\\t\\t\\t\\n\\t\\t\\t\\n\\t\\t\\t\\n\\t\\t\\t\\n\\t\\t\\t\\n\\t\\t\\t\\t<tr>\\n\\t\\t\\t\\t<td colspan=\"7\" height=\"8\"></td>\\n\\t\\t\\t\\t</tr>\\n\\t\\t\\t\\t<tr>\\n\\t\\t\\t\\t<td colspan=\"7\" height=\"1\" bgcolor=\"#e1e1e1\"></td>\\n\\t\\t\\t\\t</tr>\\n\\t\\t\\t\\t<tr>\\n\\t\\t\\t\\t<td colspan=\"7\" height=\"8\"></td>\\n\\t\\t\\t\\t</tr>\\n\\t\\t\\t\\n\\t\\t\\t\\n\\t\\n\\t\\t\\n\\t\\t\\t\\n\\t\\t\\t\\t\\n\\t\\t\\t\\t\\t<tr onMouseOver=\"mouseOver(this)\" onMouseOut=\"mouseOut(this)\">\\n\\t\\t\\t\\t\\t<td align=\"center\"><span class=\"tah p10 gray03\">2022.05.10</span></td>\\n\\t\\t\\t\\t\\t<td class=\"num\"><span class=\"tah p11\">65,700</span></td>\\n\\t\\t\\t\\t\\t<td class=\"num\">\\n\\t\\t\\t\\t<img src=\"https://ssl.pstatic.net/imgstock/images/images4/ico_down.gif\" width=\"7\" height=\"6\" style=\"margin-right:4px;\" alt=\"하락\"><span class=\"tah p11 nv01\">\\n\\t\\t\\t\\t400\\n\\t\\t\\t\\t</span>\\n\\t\\t\\t</td>\\n\\t\\t\\t\\t\\t<td class=\"num\"><span class=\"tah p11\">65,900</span></td>\\n\\t\\t\\t\\t\\t<td class=\"num\"><span class=\"tah p11\">66,300</span></td>\\n\\t\\t\\t\\t\\t<td class=\"num\"><span class=\"tah p11\">65,300</span></td>\\n\\t\\t\\t\\t\\t<td class=\"num\"><span class=\"tah p11\">17,235,605</span></td>\\n\\t\\t\\t\\t\\t</tr>\\n\\t\\t\\t\\t\\n\\t\\t\\t\\t\\n\\t\\t\\t\\n\\t\\t\\t\\n\\t\\t\\t\\n\\t\\t\\t\\n\\t\\t\\t\\n\\t\\n\\t\\t\\n\\t\\t\\t\\n\\t\\t\\t\\t\\n\\t\\t\\t\\t\\t<tr onMouseOver=\"mouseOver(this)\" onMouseOut=\"mouseOut(this)\">\\n\\t\\t\\t\\t\\t<td align=\"center\"><span class=\"tah p10 gray03\">2022.05.09</span></td>\\n\\t\\t\\t\\t\\t<td class=\"num\"><span class=\"tah p11\">66,100</span></td>\\n\\t\\t\\t\\t\\t<td class=\"num\">\\n\\t\\t\\t\\t<img src=\"https://ssl.pstatic.net/imgstock/images/images4/ico_down.gif\" width=\"7\" height=\"6\" style=\"margin-right:4px;\" alt=\"하락\"><span class=\"tah p11 nv01\">\\n\\t\\t\\t\\t400\\n\\t\\t\\t\\t</span>\\n\\t\\t\\t</td>\\n\\t\\t\\t\\t\\t<td class=\"num\"><span class=\"tah p11\">66,300</span></td>\\n\\t\\t\\t\\t\\t<td class=\"num\"><span class=\"tah p11\">66,900</span></td>\\n\\t\\t\\t\\t\\t<td class=\"num\"><span class=\"tah p11\">66,100</span></td>\\n\\t\\t\\t\\t\\t<td class=\"num\"><span class=\"tah p11\">11,858,736</span></td>\\n\\t\\t\\t\\t\\t</tr>\\n\\t\\t\\t\\t\\n\\t\\t\\t\\t\\n\\t\\t\\t\\n\\t\\t\\t\\n\\t\\t\\t\\n\\t\\t\\t\\n\\t\\t\\t\\n\\t\\n\\t\\t\\n\\t\\t\\t\\n\\t\\t\\t\\t\\n\\t\\t\\t\\t\\t<tr onMouseOver=\"mouseOver(this)\" onMouseOut=\"mouseOut(this)\">\\n\\t\\t\\t\\t\\t<td align=\"center\"><span class=\"tah p10 gray03\">2022.05.06</span></td>\\n\\t\\t\\t\\t\\t<td class=\"num\"><span class=\"tah p11\">66,500</span></td>\\n\\t\\t\\t\\t\\t<td class=\"num\">\\n\\t\\t\\t\\t<img src=\"https://ssl.pstatic.net/imgstock/images/images4/ico_down.gif\" width=\"7\" height=\"6\" style=\"margin-right:4px;\" alt=\"하락\"><span class=\"tah p11 nv01\">\\n\\t\\t\\t\\t1,400\\n\\t\\t\\t\\t</span>\\n\\t\\t\\t</td>\\n\\t\\t\\t\\t\\t<td class=\"num\"><span class=\"tah p11\">67,000</span></td>\\n\\t\\t\\t\\t\\t<td class=\"num\"><span class=\"tah p11\">67,100</span></td>\\n\\t\\t\\t\\t\\t<td class=\"num\"><span class=\"tah p11\">66,500</span></td>\\n\\t\\t\\t\\t\\t<td class=\"num\"><span class=\"tah p11\">14,356,156</span></td>\\n\\t\\t\\t\\t\\t</tr>\\n\\t\\t\\t\\t\\n\\t\\t\\t\\t\\n\\t\\t\\t\\n\\t\\t\\t\\n\\t\\t\\t\\n\\t\\t\\t\\n\\t\\t\\t\\n\\t\\n\\t\\t\\n\\t\\t\\t\\n\\t\\t\\t\\t\\n\\t\\t\\t\\t\\t<tr onMouseOver=\"mouseOver(this)\" onMouseOut=\"mouseOut(this)\">\\n\\t\\t\\t\\t\\t<td align=\"center\"><span class=\"tah p10 gray03\">2022.05.04</span></td>\\n\\t\\t\\t\\t\\t<td class=\"num\"><span class=\"tah p11\">67,900</span></td>\\n\\t\\t\\t\\t\\t<td class=\"num\">\\n\\t\\t\\t\\t<img src=\"https://ssl.pstatic.net/imgstock/images/images4/ico_up.gif\" width=\"7\" height=\"6\" style=\"margin-right:4px;\" alt=\"상승\"><span class=\"tah p11 red02\">\\n\\t\\t\\t\\t400\\n\\t\\t\\t\\t</span>\\n\\t\\t\\t</td>\\n\\t\\t\\t\\t\\t<td class=\"num\"><span class=\"tah p11\">68,000</span></td>\\n\\t\\t\\t\\t\\t<td class=\"num\"><span class=\"tah p11\">68,400</span></td>\\n\\t\\t\\t\\t\\t<td class=\"num\"><span class=\"tah p11\">67,500</span></td>\\n\\t\\t\\t\\t\\t<td class=\"num\"><span class=\"tah p11\">11,505,248</span></td>\\n\\t\\t\\t\\t\\t</tr>\\n\\t\\t\\t\\t\\n\\t\\t\\t\\t\\n\\t\\t\\t\\n\\t\\t\\t\\n\\t\\t\\t\\n\\t\\t\\t\\n\\t\\t\\t\\n\\t\\n\\t\\t\\n\\t\\t\\t\\n\\t\\t\\t\\t\\n\\t\\t\\t\\t\\t<tr onMouseOver=\"mouseOver(this)\" onMouseOut=\"mouseOut(this)\">\\n\\t\\t\\t\\t\\t<td align=\"center\"><span class=\"tah p10 gray03\">2022.05.03</span></td>\\n\\t\\t\\t\\t\\t<td class=\"num\"><span class=\"tah p11\">67,500</span></td>\\n\\t\\t\\t\\t\\t<td class=\"num\">\\n\\t\\t\\t\\t<img src=\"https://ssl.pstatic.net/imgstock/images/images4/ico_up.gif\" width=\"7\" height=\"6\" style=\"margin-right:4px;\" alt=\"상승\"><span class=\"tah p11 red02\">\\n\\t\\t\\t\\t200\\n\\t\\t\\t\\t</span>\\n\\t\\t\\t</td>\\n\\t\\t\\t\\t\\t<td class=\"num\"><span class=\"tah p11\">67,400</span></td>\\n\\t\\t\\t\\t\\t<td class=\"num\"><span class=\"tah p11\">68,400</span></td>\\n\\t\\t\\t\\t\\t<td class=\"num\"><span class=\"tah p11\">67,300</span></td>\\n\\t\\t\\t\\t\\t<td class=\"num\"><span class=\"tah p11\">14,168,875</span></td>\\n\\t\\t\\t\\t\\t</tr>\\n\\t\\t\\t\\t\\n\\t\\t\\t\\t\\n\\t\\t\\t\\n\\t\\t\\t\\n\\t\\t\\t\\n\\t\\t\\t\\n\\t\\t\\t\\n\\t\\n\\t\\t\\n\\t\\n\\t\\n\\t\\n\\n\\t\\t\\t\\t<tr>\\n\\t\\t\\t\\t<td colspan=\"7\" height=\"8\"></td>\\n\\t\\t\\t\\t</tr>\\n\\t\\t\\t\\t</table>\\n\\t\\t\\t\\t<!--- 페이지 네비게이션 시작--->\\n\\t\\t\\t\\t<table summary=\"페이지 네비게이션 리스트\" class=\"Nnavi\" align=\"center\">\\n\\t\\t\\t\\t<caption>페이지 네비게이션</caption>\\n\\t\\t\\t\\t<tr>\\t\\t\\n\\t\\t\\t\\n\\t\\t\\t\\t\\n                \\n                <td class=\"on\">\\n\\t\\t\\t\\t<a href=\"/item/sise_day.naver?code=005930&amp;page=1\"  >1</a>\\n\\t\\t\\t\\t</td>\\n<td>\\n\\t\\t\\t\\t<a href=\"/item/sise_day.naver?code=005930&amp;page=2\"  >2</a>\\n\\t\\t\\t\\t</td>\\n<td>\\n\\t\\t\\t\\t<a href=\"/item/sise_day.naver?code=005930&amp;page=3\"  >3</a>\\n\\t\\t\\t\\t</td>\\n<td>\\n\\t\\t\\t\\t<a href=\"/item/sise_day.naver?code=005930&amp;page=4\"  >4</a>\\n\\t\\t\\t\\t</td>\\n<td>\\n\\t\\t\\t\\t<a href=\"/item/sise_day.naver?code=005930&amp;page=5\"  >5</a>\\n\\t\\t\\t\\t</td>\\n<td>\\n\\t\\t\\t\\t<a href=\"/item/sise_day.naver?code=005930&amp;page=6\"  >6</a>\\n\\t\\t\\t\\t</td>\\n<td>\\n\\t\\t\\t\\t<a href=\"/item/sise_day.naver?code=005930&amp;page=7\"  >7</a>\\n\\t\\t\\t\\t</td>\\n<td>\\n\\t\\t\\t\\t<a href=\"/item/sise_day.naver?code=005930&amp;page=8\"  >8</a>\\n\\t\\t\\t\\t</td>\\n<td>\\n\\t\\t\\t\\t<a href=\"/item/sise_day.naver?code=005930&amp;page=9\"  >9</a>\\n\\t\\t\\t\\t</td>\\n<td>\\n\\t\\t\\t\\t<a href=\"/item/sise_day.naver?code=005930&amp;page=10\"  >10</a>\\n\\t\\t\\t\\t</td>\\n\\n                <td class=\"pgR\">\\n\\t\\t\\t\\t<a href=\"/item/sise_day.naver?code=005930&amp;page=11\"  >\\n\\t\\t\\t\\t다음<img src=\"https://ssl.pstatic.net/static/n/cmn/bu_pgarR.gif\" width=\"3\" height=\"5\" alt=\"\" border=\"0\">\\n\\t\\t\\t\\t</a>\\n\\t\\t\\t\\t</td>\\n\\n                <td class=\"pgRR\">\\n\\t\\t\\t\\t<a href=\"/item/sise_day.naver?code=005930&amp;page=650\"  >맨뒤\\n\\t\\t\\t\\t<img src=\"https://ssl.pstatic.net/static/n/cmn/bu_pgarRR.gif\" width=\"8\" height=\"5\" alt=\"\" border=\"0\">\\n\\t\\t\\t\\t</a>\\n\\t\\t\\t\\t</td>\\n\\n            \\n\\t\\t\\t\\t</tr>\\n\\t\\t\\t\\t</table>\\n\\t\\t\\t\\t<!--- 페이지 네비게이션 끝--->\\n\\n\\n\\t<script type=\"text/javascript\" src=\"https://ssl.pstatic.net/imgstock/static.pc/20220511192542/js/jindo.min.ns.1.5.3.euckr.js\"></script>\\n\\t<script type=\"text/javascript\" src=\"https://ssl.pstatic.net/imgstock/static.pc/20220511192542/js/lcslog.js\"></script>\\n\\t<script type=\"text/javascript\">\\n        ;(function(){\\n            var eventType = \"onpageshow\" in window ? \"pageshow\" : \"load\";\\n            jindo.$Fn(function(){\\n                lcs_do();\\n            }).attach(window, eventType);\\n        })();\\n\\t</script>\\n\\n</body>'"
      ]
     },
     "execution_count": 106,
     "metadata": {},
     "output_type": "execute_result"
    }
   ],
   "source": [
    "response.text"
   ]
  },
  {
   "cell_type": "markdown",
   "metadata": {
    "id": "IGxRB1hgpzJ-"
   },
   "source": [
    "## BeautifulSoup 을 통한 table 태그 찾기"
   ]
  },
  {
   "cell_type": "code",
   "execution_count": 33,
   "metadata": {
    "collapsed": true,
    "id": "e8xvhBcKpzJ-"
   },
   "outputs": [
    {
     "data": {
      "text/plain": [
       "<html lang=\"ko\">\n",
       "<head>\n",
       "<meta content=\"text/html; charset=utf-8\" http-equiv=\"Content-Type\"/>\n",
       "<title>네이버 금융</title>\n",
       "<link href=\"https://ssl.pstatic.net/imgstock/static.pc/20220511192542/css/newstock.css\" rel=\"stylesheet\" type=\"text/css\"/>\n",
       "<link href=\"https://ssl.pstatic.net/imgstock/static.pc/20220511192542/css/common.css\" rel=\"stylesheet\" type=\"text/css\"/>\n",
       "<link href=\"https://ssl.pstatic.net/imgstock/static.pc/20220511192542/css/layout.css\" rel=\"stylesheet\" type=\"text/css\"/>\n",
       "<link href=\"https://ssl.pstatic.net/imgstock/static.pc/20220511192542/css/main.css\" rel=\"stylesheet\" type=\"text/css\"/>\n",
       "<link href=\"https://ssl.pstatic.net/imgstock/static.pc/20220511192542/css/newstock2.css\" rel=\"stylesheet\" type=\"text/css\"/>\n",
       "<link href=\"https://ssl.pstatic.net/imgstock/static.pc/20220511192542/css/newstock3.css\" rel=\"stylesheet\" type=\"text/css\"/>\n",
       "<link href=\"https://ssl.pstatic.net/imgstock/static.pc/20220511192542/css/world.css\" rel=\"stylesheet\" type=\"text/css\"/>\n",
       "</head>\n",
       "<body>\n",
       "<script language=\"JavaScript\">\n",
       "function mouseOver(obj){\n",
       "  obj.style.backgroundColor=\"#f6f4e5\";\n",
       "}\n",
       "function mouseOut(obj){\n",
       "  obj.style.backgroundColor=\"#ffffff\";\n",
       "}\n",
       "</script>\n",
       "<h4 class=\"tlline2\"><strong><span class=\"red03\">일별</span>시세</strong></h4>\n",
       "<table cellspacing=\"0\" class=\"type2\">\n",
       "<tr>\n",
       "<th>날짜</th>\n",
       "<th>종가</th>\n",
       "<th>전일비</th>\n",
       "<th>시가</th>\n",
       "<th>고가</th>\n",
       "<th>저가</th>\n",
       "<th>거래량</th>\n",
       "</tr>\n",
       "<tr>\n",
       "<td colspan=\"7\" height=\"8\"></td>\n",
       "</tr>\n",
       "<tr onmouseout=\"mouseOut(this)\" onmouseover=\"mouseOver(this)\">\n",
       "<td align=\"center\"><span class=\"tah p10 gray03\">2022.05.17</span></td>\n",
       "<td class=\"num\"><span class=\"tah p11\">67,800</span></td>\n",
       "<td class=\"num\">\n",
       "<img alt=\"상승\" height=\"6\" src=\"https://ssl.pstatic.net/imgstock/images/images4/ico_up.gif\" style=\"margin-right:4px;\" width=\"7\"/><span class=\"tah p11 red02\">\n",
       "\t\t\t\t1,500\n",
       "\t\t\t\t</span>\n",
       "</td>\n",
       "<td class=\"num\"><span class=\"tah p11\">66,600</span></td>\n",
       "<td class=\"num\"><span class=\"tah p11\">67,900</span></td>\n",
       "<td class=\"num\"><span class=\"tah p11\">66,600</span></td>\n",
       "<td class=\"num\"><span class=\"tah p11\">11,567,705</span></td>\n",
       "</tr>\n",
       "<tr onmouseout=\"mouseOut(this)\" onmouseover=\"mouseOver(this)\">\n",
       "<td align=\"center\"><span class=\"tah p10 gray03\">2022.05.16</span></td>\n",
       "<td class=\"num\"><span class=\"tah p11\">66,300</span></td>\n",
       "<td class=\"num\">\n",
       "<img alt=\"하락\" height=\"6\" src=\"https://ssl.pstatic.net/imgstock/images/images4/ico_down.gif\" style=\"margin-right:4px;\" width=\"7\"/><span class=\"tah p11 nv01\">\n",
       "\t\t\t\t200\n",
       "\t\t\t\t</span>\n",
       "</td>\n",
       "<td class=\"num\"><span class=\"tah p11\">67,100</span></td>\n",
       "<td class=\"num\"><span class=\"tah p11\">67,400</span></td>\n",
       "<td class=\"num\"><span class=\"tah p11\">66,100</span></td>\n",
       "<td class=\"num\"><span class=\"tah p11\">11,937,555</span></td>\n",
       "</tr>\n",
       "<tr onmouseout=\"mouseOut(this)\" onmouseover=\"mouseOver(this)\">\n",
       "<td align=\"center\"><span class=\"tah p10 gray03\">2022.05.13</span></td>\n",
       "<td class=\"num\"><span class=\"tah p11\">66,500</span></td>\n",
       "<td class=\"num\">\n",
       "<img alt=\"상승\" height=\"6\" src=\"https://ssl.pstatic.net/imgstock/images/images4/ico_up.gif\" style=\"margin-right:4px;\" width=\"7\"/><span class=\"tah p11 red02\">\n",
       "\t\t\t\t1,600\n",
       "\t\t\t\t</span>\n",
       "</td>\n",
       "<td class=\"num\"><span class=\"tah p11\">65,300</span></td>\n",
       "<td class=\"num\"><span class=\"tah p11\">66,700</span></td>\n",
       "<td class=\"num\"><span class=\"tah p11\">65,200</span></td>\n",
       "<td class=\"num\"><span class=\"tah p11\">14,551,536</span></td>\n",
       "</tr>\n",
       "<tr onmouseout=\"mouseOut(this)\" onmouseover=\"mouseOver(this)\">\n",
       "<td align=\"center\"><span class=\"tah p10 gray03\">2022.05.12</span></td>\n",
       "<td class=\"num\"><span class=\"tah p11\">64,900</span></td>\n",
       "<td class=\"num\">\n",
       "<img alt=\"하락\" height=\"6\" src=\"https://ssl.pstatic.net/imgstock/images/images4/ico_down.gif\" style=\"margin-right:4px;\" width=\"7\"/><span class=\"tah p11 nv01\">\n",
       "\t\t\t\t800\n",
       "\t\t\t\t</span>\n",
       "</td>\n",
       "<td class=\"num\"><span class=\"tah p11\">65,200</span></td>\n",
       "<td class=\"num\"><span class=\"tah p11\">65,500</span></td>\n",
       "<td class=\"num\"><span class=\"tah p11\">64,900</span></td>\n",
       "<td class=\"num\"><span class=\"tah p11\">16,414,188</span></td>\n",
       "</tr>\n",
       "<tr onmouseout=\"mouseOut(this)\" onmouseover=\"mouseOver(this)\">\n",
       "<td align=\"center\"><span class=\"tah p10 gray03\">2022.05.11</span></td>\n",
       "<td class=\"num\"><span class=\"tah p11\">65,700</span></td>\n",
       "<td class=\"num\">\n",
       "<span class=\"tah p11\">0</span>\n",
       "</td>\n",
       "<td class=\"num\"><span class=\"tah p11\">65,500</span></td>\n",
       "<td class=\"num\"><span class=\"tah p11\">66,300</span></td>\n",
       "<td class=\"num\"><span class=\"tah p11\">65,200</span></td>\n",
       "<td class=\"num\"><span class=\"tah p11\">12,330,920</span></td>\n",
       "</tr>\n",
       "<tr>\n",
       "<td colspan=\"7\" height=\"8\"></td>\n",
       "</tr>\n",
       "<tr>\n",
       "<td bgcolor=\"#e1e1e1\" colspan=\"7\" height=\"1\"></td>\n",
       "</tr>\n",
       "<tr>\n",
       "<td colspan=\"7\" height=\"8\"></td>\n",
       "</tr>\n",
       "<tr onmouseout=\"mouseOut(this)\" onmouseover=\"mouseOver(this)\">\n",
       "<td align=\"center\"><span class=\"tah p10 gray03\">2022.05.10</span></td>\n",
       "<td class=\"num\"><span class=\"tah p11\">65,700</span></td>\n",
       "<td class=\"num\">\n",
       "<img alt=\"하락\" height=\"6\" src=\"https://ssl.pstatic.net/imgstock/images/images4/ico_down.gif\" style=\"margin-right:4px;\" width=\"7\"/><span class=\"tah p11 nv01\">\n",
       "\t\t\t\t400\n",
       "\t\t\t\t</span>\n",
       "</td>\n",
       "<td class=\"num\"><span class=\"tah p11\">65,900</span></td>\n",
       "<td class=\"num\"><span class=\"tah p11\">66,300</span></td>\n",
       "<td class=\"num\"><span class=\"tah p11\">65,300</span></td>\n",
       "<td class=\"num\"><span class=\"tah p11\">17,235,605</span></td>\n",
       "</tr>\n",
       "<tr onmouseout=\"mouseOut(this)\" onmouseover=\"mouseOver(this)\">\n",
       "<td align=\"center\"><span class=\"tah p10 gray03\">2022.05.09</span></td>\n",
       "<td class=\"num\"><span class=\"tah p11\">66,100</span></td>\n",
       "<td class=\"num\">\n",
       "<img alt=\"하락\" height=\"6\" src=\"https://ssl.pstatic.net/imgstock/images/images4/ico_down.gif\" style=\"margin-right:4px;\" width=\"7\"/><span class=\"tah p11 nv01\">\n",
       "\t\t\t\t400\n",
       "\t\t\t\t</span>\n",
       "</td>\n",
       "<td class=\"num\"><span class=\"tah p11\">66,300</span></td>\n",
       "<td class=\"num\"><span class=\"tah p11\">66,900</span></td>\n",
       "<td class=\"num\"><span class=\"tah p11\">66,100</span></td>\n",
       "<td class=\"num\"><span class=\"tah p11\">11,858,736</span></td>\n",
       "</tr>\n",
       "<tr onmouseout=\"mouseOut(this)\" onmouseover=\"mouseOver(this)\">\n",
       "<td align=\"center\"><span class=\"tah p10 gray03\">2022.05.06</span></td>\n",
       "<td class=\"num\"><span class=\"tah p11\">66,500</span></td>\n",
       "<td class=\"num\">\n",
       "<img alt=\"하락\" height=\"6\" src=\"https://ssl.pstatic.net/imgstock/images/images4/ico_down.gif\" style=\"margin-right:4px;\" width=\"7\"/><span class=\"tah p11 nv01\">\n",
       "\t\t\t\t1,400\n",
       "\t\t\t\t</span>\n",
       "</td>\n",
       "<td class=\"num\"><span class=\"tah p11\">67,000</span></td>\n",
       "<td class=\"num\"><span class=\"tah p11\">67,100</span></td>\n",
       "<td class=\"num\"><span class=\"tah p11\">66,500</span></td>\n",
       "<td class=\"num\"><span class=\"tah p11\">14,356,156</span></td>\n",
       "</tr>\n",
       "<tr onmouseout=\"mouseOut(this)\" onmouseover=\"mouseOver(this)\">\n",
       "<td align=\"center\"><span class=\"tah p10 gray03\">2022.05.04</span></td>\n",
       "<td class=\"num\"><span class=\"tah p11\">67,900</span></td>\n",
       "<td class=\"num\">\n",
       "<img alt=\"상승\" height=\"6\" src=\"https://ssl.pstatic.net/imgstock/images/images4/ico_up.gif\" style=\"margin-right:4px;\" width=\"7\"/><span class=\"tah p11 red02\">\n",
       "\t\t\t\t400\n",
       "\t\t\t\t</span>\n",
       "</td>\n",
       "<td class=\"num\"><span class=\"tah p11\">68,000</span></td>\n",
       "<td class=\"num\"><span class=\"tah p11\">68,400</span></td>\n",
       "<td class=\"num\"><span class=\"tah p11\">67,500</span></td>\n",
       "<td class=\"num\"><span class=\"tah p11\">11,505,248</span></td>\n",
       "</tr>\n",
       "<tr onmouseout=\"mouseOut(this)\" onmouseover=\"mouseOver(this)\">\n",
       "<td align=\"center\"><span class=\"tah p10 gray03\">2022.05.03</span></td>\n",
       "<td class=\"num\"><span class=\"tah p11\">67,500</span></td>\n",
       "<td class=\"num\">\n",
       "<img alt=\"상승\" height=\"6\" src=\"https://ssl.pstatic.net/imgstock/images/images4/ico_up.gif\" style=\"margin-right:4px;\" width=\"7\"/><span class=\"tah p11 red02\">\n",
       "\t\t\t\t200\n",
       "\t\t\t\t</span>\n",
       "</td>\n",
       "<td class=\"num\"><span class=\"tah p11\">67,400</span></td>\n",
       "<td class=\"num\"><span class=\"tah p11\">68,400</span></td>\n",
       "<td class=\"num\"><span class=\"tah p11\">67,300</span></td>\n",
       "<td class=\"num\"><span class=\"tah p11\">14,168,875</span></td>\n",
       "</tr>\n",
       "<tr>\n",
       "<td colspan=\"7\" height=\"8\"></td>\n",
       "</tr>\n",
       "</table>\n",
       "<!--- 페이지 네비게이션 시작--->\n",
       "<table align=\"center\" class=\"Nnavi\" summary=\"페이지 네비게이션 리스트\">\n",
       "<caption>페이지 네비게이션</caption>\n",
       "<tr>\n",
       "<td class=\"on\">\n",
       "<a href=\"/item/sise_day.naver?code=005930&amp;page=1\">1</a>\n",
       "</td>\n",
       "<td>\n",
       "<a href=\"/item/sise_day.naver?code=005930&amp;page=2\">2</a>\n",
       "</td>\n",
       "<td>\n",
       "<a href=\"/item/sise_day.naver?code=005930&amp;page=3\">3</a>\n",
       "</td>\n",
       "<td>\n",
       "<a href=\"/item/sise_day.naver?code=005930&amp;page=4\">4</a>\n",
       "</td>\n",
       "<td>\n",
       "<a href=\"/item/sise_day.naver?code=005930&amp;page=5\">5</a>\n",
       "</td>\n",
       "<td>\n",
       "<a href=\"/item/sise_day.naver?code=005930&amp;page=6\">6</a>\n",
       "</td>\n",
       "<td>\n",
       "<a href=\"/item/sise_day.naver?code=005930&amp;page=7\">7</a>\n",
       "</td>\n",
       "<td>\n",
       "<a href=\"/item/sise_day.naver?code=005930&amp;page=8\">8</a>\n",
       "</td>\n",
       "<td>\n",
       "<a href=\"/item/sise_day.naver?code=005930&amp;page=9\">9</a>\n",
       "</td>\n",
       "<td>\n",
       "<a href=\"/item/sise_day.naver?code=005930&amp;page=10\">10</a>\n",
       "</td>\n",
       "<td class=\"pgR\">\n",
       "<a href=\"/item/sise_day.naver?code=005930&amp;page=11\">\n",
       "\t\t\t\t다음<img alt=\"\" border=\"0\" height=\"5\" src=\"https://ssl.pstatic.net/static/n/cmn/bu_pgarR.gif\" width=\"3\"/>\n",
       "</a>\n",
       "</td>\n",
       "<td class=\"pgRR\">\n",
       "<a href=\"/item/sise_day.naver?code=005930&amp;page=650\">맨뒤\n",
       "\t\t\t\t<img alt=\"\" border=\"0\" height=\"5\" src=\"https://ssl.pstatic.net/static/n/cmn/bu_pgarRR.gif\" width=\"8\"/>\n",
       "</a>\n",
       "</td>\n",
       "</tr>\n",
       "</table>\n",
       "<!--- 페이지 네비게이션 끝--->\n",
       "<script src=\"https://ssl.pstatic.net/imgstock/static.pc/20220511192542/js/jindo.min.ns.1.5.3.euckr.js\" type=\"text/javascript\"></script>\n",
       "<script src=\"https://ssl.pstatic.net/imgstock/static.pc/20220511192542/js/lcslog.js\" type=\"text/javascript\"></script>\n",
       "<script type=\"text/javascript\">\n",
       "        ;(function(){\n",
       "            var eventType = \"onpageshow\" in window ? \"pageshow\" : \"load\";\n",
       "            jindo.$Fn(function(){\n",
       "                lcs_do();\n",
       "            }).attach(window, eventType);\n",
       "        })();\n",
       "\t</script>\n",
       "</body></html>"
      ]
     },
     "execution_count": 33,
     "metadata": {},
     "output_type": "execute_result"
    }
   ],
   "source": [
    "html = bs(response.text, 'lxml')\n",
    "html"
   ]
  },
  {
   "cell_type": "code",
   "execution_count": 42,
   "metadata": {
    "id": "AvLHkpkOpzJ_"
   },
   "outputs": [
    {
     "data": {
      "text/plain": [
       "<title>네이버 금융</title>"
      ]
     },
     "execution_count": 42,
     "metadata": {},
     "output_type": "execute_result"
    }
   ],
   "source": [
    "html.title"
   ]
  },
  {
   "cell_type": "code",
   "execution_count": 43,
   "metadata": {},
   "outputs": [
    {
     "data": {
      "text/plain": [
       "'네이버 금융'"
      ]
     },
     "execution_count": 43,
     "metadata": {},
     "output_type": "execute_result"
    }
   ],
   "source": [
    "html.title.string"
   ]
  },
  {
   "cell_type": "code",
   "execution_count": 36,
   "metadata": {},
   "outputs": [
    {
     "data": {
      "text/plain": [
       "'title'"
      ]
     },
     "execution_count": 36,
     "metadata": {},
     "output_type": "execute_result"
    }
   ],
   "source": [
    "html.title.name"
   ]
  },
  {
   "cell_type": "code",
   "execution_count": 40,
   "metadata": {},
   "outputs": [
    {
     "data": {
      "text/plain": [
       "<head>\n",
       "<meta content=\"text/html; charset=utf-8\" http-equiv=\"Content-Type\"/>\n",
       "<title>네이버 금융</title>\n",
       "<link href=\"https://ssl.pstatic.net/imgstock/static.pc/20220511192542/css/newstock.css\" rel=\"stylesheet\" type=\"text/css\"/>\n",
       "<link href=\"https://ssl.pstatic.net/imgstock/static.pc/20220511192542/css/common.css\" rel=\"stylesheet\" type=\"text/css\"/>\n",
       "<link href=\"https://ssl.pstatic.net/imgstock/static.pc/20220511192542/css/layout.css\" rel=\"stylesheet\" type=\"text/css\"/>\n",
       "<link href=\"https://ssl.pstatic.net/imgstock/static.pc/20220511192542/css/main.css\" rel=\"stylesheet\" type=\"text/css\"/>\n",
       "<link href=\"https://ssl.pstatic.net/imgstock/static.pc/20220511192542/css/newstock2.css\" rel=\"stylesheet\" type=\"text/css\"/>\n",
       "<link href=\"https://ssl.pstatic.net/imgstock/static.pc/20220511192542/css/newstock3.css\" rel=\"stylesheet\" type=\"text/css\"/>\n",
       "<link href=\"https://ssl.pstatic.net/imgstock/static.pc/20220511192542/css/world.css\" rel=\"stylesheet\" type=\"text/css\"/>\n",
       "</head>"
      ]
     },
     "execution_count": 40,
     "metadata": {},
     "output_type": "execute_result"
    }
   ],
   "source": [
    "html.title.parent"
   ]
  },
  {
   "cell_type": "code",
   "execution_count": 41,
   "metadata": {},
   "outputs": [
    {
     "data": {
      "text/plain": [
       "'head'"
      ]
     },
     "execution_count": 41,
     "metadata": {},
     "output_type": "execute_result"
    }
   ],
   "source": [
    "html.title.parent.name"
   ]
  },
  {
   "cell_type": "code",
   "execution_count": 45,
   "metadata": {},
   "outputs": [
    {
     "data": {
      "text/plain": [
       "33"
      ]
     },
     "execution_count": 45,
     "metadata": {},
     "output_type": "execute_result"
    }
   ],
   "source": [
    "len(html.find('table'))"
   ]
  },
  {
   "cell_type": "code",
   "execution_count": 47,
   "metadata": {},
   "outputs": [
    {
     "data": {
      "text/plain": [
       "2"
      ]
     },
     "execution_count": 47,
     "metadata": {},
     "output_type": "execute_result"
    }
   ],
   "source": [
    "len(html.find_all('table'))"
   ]
  },
  {
   "cell_type": "code",
   "execution_count": 52,
   "metadata": {},
   "outputs": [
    {
     "data": {
      "text/plain": [
       "2"
      ]
     },
     "execution_count": 52,
     "metadata": {},
     "output_type": "execute_result"
    }
   ],
   "source": [
    "tables = html.select('table')\n",
    "len(tables)"
   ]
  },
  {
   "cell_type": "markdown",
   "metadata": {
    "id": "wUczQAoFpzJ_"
   },
   "source": [
    "## pandas 코드 한 줄로 데이터 수집하기"
   ]
  },
  {
   "cell_type": "code",
   "execution_count": 54,
   "metadata": {
    "id": "T3e0Jt0mTMkA"
   },
   "outputs": [
    {
     "name": "stdout",
     "output_type": "stream",
     "text": [
      "2\n"
     ]
    },
    {
     "data": {
      "text/html": [
       "<div>\n",
       "<style scoped>\n",
       "    .dataframe tbody tr th:only-of-type {\n",
       "        vertical-align: middle;\n",
       "    }\n",
       "\n",
       "    .dataframe tbody tr th {\n",
       "        vertical-align: top;\n",
       "    }\n",
       "\n",
       "    .dataframe thead th {\n",
       "        text-align: right;\n",
       "    }\n",
       "</style>\n",
       "<table border=\"1\" class=\"dataframe\">\n",
       "  <thead>\n",
       "    <tr style=\"text-align: right;\">\n",
       "      <th></th>\n",
       "      <th>날짜</th>\n",
       "      <th>종가</th>\n",
       "      <th>전일비</th>\n",
       "      <th>시가</th>\n",
       "      <th>고가</th>\n",
       "      <th>저가</th>\n",
       "      <th>거래량</th>\n",
       "    </tr>\n",
       "  </thead>\n",
       "  <tbody>\n",
       "    <tr>\n",
       "      <th>0</th>\n",
       "      <td>NaN</td>\n",
       "      <td>NaN</td>\n",
       "      <td>NaN</td>\n",
       "      <td>NaN</td>\n",
       "      <td>NaN</td>\n",
       "      <td>NaN</td>\n",
       "      <td>NaN</td>\n",
       "    </tr>\n",
       "    <tr>\n",
       "      <th>1</th>\n",
       "      <td>2022.05.17</td>\n",
       "      <td>67800.0</td>\n",
       "      <td>1500.0</td>\n",
       "      <td>66600.0</td>\n",
       "      <td>67900.0</td>\n",
       "      <td>66600.0</td>\n",
       "      <td>11567705.0</td>\n",
       "    </tr>\n",
       "    <tr>\n",
       "      <th>2</th>\n",
       "      <td>2022.05.16</td>\n",
       "      <td>66300.0</td>\n",
       "      <td>200.0</td>\n",
       "      <td>67100.0</td>\n",
       "      <td>67400.0</td>\n",
       "      <td>66100.0</td>\n",
       "      <td>11937555.0</td>\n",
       "    </tr>\n",
       "    <tr>\n",
       "      <th>3</th>\n",
       "      <td>2022.05.13</td>\n",
       "      <td>66500.0</td>\n",
       "      <td>1600.0</td>\n",
       "      <td>65300.0</td>\n",
       "      <td>66700.0</td>\n",
       "      <td>65200.0</td>\n",
       "      <td>14551536.0</td>\n",
       "    </tr>\n",
       "    <tr>\n",
       "      <th>4</th>\n",
       "      <td>2022.05.12</td>\n",
       "      <td>64900.0</td>\n",
       "      <td>800.0</td>\n",
       "      <td>65200.0</td>\n",
       "      <td>65500.0</td>\n",
       "      <td>64900.0</td>\n",
       "      <td>16414188.0</td>\n",
       "    </tr>\n",
       "    <tr>\n",
       "      <th>5</th>\n",
       "      <td>2022.05.11</td>\n",
       "      <td>65700.0</td>\n",
       "      <td>0.0</td>\n",
       "      <td>65500.0</td>\n",
       "      <td>66300.0</td>\n",
       "      <td>65200.0</td>\n",
       "      <td>12330920.0</td>\n",
       "    </tr>\n",
       "    <tr>\n",
       "      <th>6</th>\n",
       "      <td>NaN</td>\n",
       "      <td>NaN</td>\n",
       "      <td>NaN</td>\n",
       "      <td>NaN</td>\n",
       "      <td>NaN</td>\n",
       "      <td>NaN</td>\n",
       "      <td>NaN</td>\n",
       "    </tr>\n",
       "    <tr>\n",
       "      <th>7</th>\n",
       "      <td>NaN</td>\n",
       "      <td>NaN</td>\n",
       "      <td>NaN</td>\n",
       "      <td>NaN</td>\n",
       "      <td>NaN</td>\n",
       "      <td>NaN</td>\n",
       "      <td>NaN</td>\n",
       "    </tr>\n",
       "    <tr>\n",
       "      <th>8</th>\n",
       "      <td>NaN</td>\n",
       "      <td>NaN</td>\n",
       "      <td>NaN</td>\n",
       "      <td>NaN</td>\n",
       "      <td>NaN</td>\n",
       "      <td>NaN</td>\n",
       "      <td>NaN</td>\n",
       "    </tr>\n",
       "    <tr>\n",
       "      <th>9</th>\n",
       "      <td>2022.05.10</td>\n",
       "      <td>65700.0</td>\n",
       "      <td>400.0</td>\n",
       "      <td>65900.0</td>\n",
       "      <td>66300.0</td>\n",
       "      <td>65300.0</td>\n",
       "      <td>17235605.0</td>\n",
       "    </tr>\n",
       "    <tr>\n",
       "      <th>10</th>\n",
       "      <td>2022.05.09</td>\n",
       "      <td>66100.0</td>\n",
       "      <td>400.0</td>\n",
       "      <td>66300.0</td>\n",
       "      <td>66900.0</td>\n",
       "      <td>66100.0</td>\n",
       "      <td>11858736.0</td>\n",
       "    </tr>\n",
       "    <tr>\n",
       "      <th>11</th>\n",
       "      <td>2022.05.06</td>\n",
       "      <td>66500.0</td>\n",
       "      <td>1400.0</td>\n",
       "      <td>67000.0</td>\n",
       "      <td>67100.0</td>\n",
       "      <td>66500.0</td>\n",
       "      <td>14356156.0</td>\n",
       "    </tr>\n",
       "    <tr>\n",
       "      <th>12</th>\n",
       "      <td>2022.05.04</td>\n",
       "      <td>67900.0</td>\n",
       "      <td>400.0</td>\n",
       "      <td>68000.0</td>\n",
       "      <td>68400.0</td>\n",
       "      <td>67500.0</td>\n",
       "      <td>11505248.0</td>\n",
       "    </tr>\n",
       "    <tr>\n",
       "      <th>13</th>\n",
       "      <td>2022.05.03</td>\n",
       "      <td>67500.0</td>\n",
       "      <td>200.0</td>\n",
       "      <td>67400.0</td>\n",
       "      <td>68400.0</td>\n",
       "      <td>67300.0</td>\n",
       "      <td>14168875.0</td>\n",
       "    </tr>\n",
       "    <tr>\n",
       "      <th>14</th>\n",
       "      <td>NaN</td>\n",
       "      <td>NaN</td>\n",
       "      <td>NaN</td>\n",
       "      <td>NaN</td>\n",
       "      <td>NaN</td>\n",
       "      <td>NaN</td>\n",
       "      <td>NaN</td>\n",
       "    </tr>\n",
       "  </tbody>\n",
       "</table>\n",
       "</div>"
      ],
      "text/plain": [
       "            날짜       종가     전일비       시가       고가       저가         거래량\n",
       "0          NaN      NaN     NaN      NaN      NaN      NaN         NaN\n",
       "1   2022.05.17  67800.0  1500.0  66600.0  67900.0  66600.0  11567705.0\n",
       "2   2022.05.16  66300.0   200.0  67100.0  67400.0  66100.0  11937555.0\n",
       "3   2022.05.13  66500.0  1600.0  65300.0  66700.0  65200.0  14551536.0\n",
       "4   2022.05.12  64900.0   800.0  65200.0  65500.0  64900.0  16414188.0\n",
       "5   2022.05.11  65700.0     0.0  65500.0  66300.0  65200.0  12330920.0\n",
       "6          NaN      NaN     NaN      NaN      NaN      NaN         NaN\n",
       "7          NaN      NaN     NaN      NaN      NaN      NaN         NaN\n",
       "8          NaN      NaN     NaN      NaN      NaN      NaN         NaN\n",
       "9   2022.05.10  65700.0   400.0  65900.0  66300.0  65300.0  17235605.0\n",
       "10  2022.05.09  66100.0   400.0  66300.0  66900.0  66100.0  11858736.0\n",
       "11  2022.05.06  66500.0  1400.0  67000.0  67100.0  66500.0  14356156.0\n",
       "12  2022.05.04  67900.0   400.0  68000.0  68400.0  67500.0  11505248.0\n",
       "13  2022.05.03  67500.0   200.0  67400.0  68400.0  67300.0  14168875.0\n",
       "14         NaN      NaN     NaN      NaN      NaN      NaN         NaN"
      ]
     },
     "execution_count": 54,
     "metadata": {},
     "output_type": "execute_result"
    }
   ],
   "source": [
    "# read_html을 이용하여 url의 page내의 값을 DataFrame으로 받아옵니다.\n",
    "# cp949는 한글 인코딩을 위해 사용합니다. 기본 인코딩 설정은 utf-8 이며, \n",
    "# 네이버의 일별 시세는 cp949 인코딩으로 불러올 수 있습니다.\n",
    "# 데이터를 로드 했을 때 한글 인코딩이 깨진다면 대부분 cp949 로 불러올 수 있습니다.\n",
    "# table\n",
    "table = pd.read_html(str(tables),encoding='cp949')\n",
    "print(len(table))\n",
    "table[0]"
   ]
  },
  {
   "cell_type": "code",
   "execution_count": 59,
   "metadata": {},
   "outputs": [
    {
     "name": "stdout",
     "output_type": "stream",
     "text": [
      "2\n"
     ]
    }
   ],
   "source": [
    "table = pd.read_html(requests.get(url, headers = headers).text, encoding='cp949')\n",
    "print(len(table))"
   ]
  },
  {
   "cell_type": "code",
   "execution_count": 60,
   "metadata": {
    "id": "GQ_LCYp0TMkA"
   },
   "outputs": [
    {
     "data": {
      "text/html": [
       "<div>\n",
       "<style scoped>\n",
       "    .dataframe tbody tr th:only-of-type {\n",
       "        vertical-align: middle;\n",
       "    }\n",
       "\n",
       "    .dataframe tbody tr th {\n",
       "        vertical-align: top;\n",
       "    }\n",
       "\n",
       "    .dataframe thead th {\n",
       "        text-align: right;\n",
       "    }\n",
       "</style>\n",
       "<table border=\"1\" class=\"dataframe\">\n",
       "  <thead>\n",
       "    <tr style=\"text-align: right;\">\n",
       "      <th></th>\n",
       "      <th>날짜</th>\n",
       "      <th>종가</th>\n",
       "      <th>전일비</th>\n",
       "      <th>시가</th>\n",
       "      <th>고가</th>\n",
       "      <th>저가</th>\n",
       "      <th>거래량</th>\n",
       "    </tr>\n",
       "  </thead>\n",
       "  <tbody>\n",
       "    <tr>\n",
       "      <th>0</th>\n",
       "      <td>NaN</td>\n",
       "      <td>NaN</td>\n",
       "      <td>NaN</td>\n",
       "      <td>NaN</td>\n",
       "      <td>NaN</td>\n",
       "      <td>NaN</td>\n",
       "      <td>NaN</td>\n",
       "    </tr>\n",
       "    <tr>\n",
       "      <th>1</th>\n",
       "      <td>2022.05.17</td>\n",
       "      <td>67800.0</td>\n",
       "      <td>1500.0</td>\n",
       "      <td>66600.0</td>\n",
       "      <td>67900.0</td>\n",
       "      <td>66600.0</td>\n",
       "      <td>12889934.0</td>\n",
       "    </tr>\n",
       "    <tr>\n",
       "      <th>2</th>\n",
       "      <td>2022.05.16</td>\n",
       "      <td>66300.0</td>\n",
       "      <td>200.0</td>\n",
       "      <td>67100.0</td>\n",
       "      <td>67400.0</td>\n",
       "      <td>66100.0</td>\n",
       "      <td>11937555.0</td>\n",
       "    </tr>\n",
       "    <tr>\n",
       "      <th>3</th>\n",
       "      <td>2022.05.13</td>\n",
       "      <td>66500.0</td>\n",
       "      <td>1600.0</td>\n",
       "      <td>65300.0</td>\n",
       "      <td>66700.0</td>\n",
       "      <td>65200.0</td>\n",
       "      <td>14551536.0</td>\n",
       "    </tr>\n",
       "    <tr>\n",
       "      <th>4</th>\n",
       "      <td>2022.05.12</td>\n",
       "      <td>64900.0</td>\n",
       "      <td>800.0</td>\n",
       "      <td>65200.0</td>\n",
       "      <td>65500.0</td>\n",
       "      <td>64900.0</td>\n",
       "      <td>16414188.0</td>\n",
       "    </tr>\n",
       "    <tr>\n",
       "      <th>5</th>\n",
       "      <td>2022.05.11</td>\n",
       "      <td>65700.0</td>\n",
       "      <td>0.0</td>\n",
       "      <td>65500.0</td>\n",
       "      <td>66300.0</td>\n",
       "      <td>65200.0</td>\n",
       "      <td>12330920.0</td>\n",
       "    </tr>\n",
       "    <tr>\n",
       "      <th>6</th>\n",
       "      <td>NaN</td>\n",
       "      <td>NaN</td>\n",
       "      <td>NaN</td>\n",
       "      <td>NaN</td>\n",
       "      <td>NaN</td>\n",
       "      <td>NaN</td>\n",
       "      <td>NaN</td>\n",
       "    </tr>\n",
       "    <tr>\n",
       "      <th>7</th>\n",
       "      <td>NaN</td>\n",
       "      <td>NaN</td>\n",
       "      <td>NaN</td>\n",
       "      <td>NaN</td>\n",
       "      <td>NaN</td>\n",
       "      <td>NaN</td>\n",
       "      <td>NaN</td>\n",
       "    </tr>\n",
       "    <tr>\n",
       "      <th>8</th>\n",
       "      <td>NaN</td>\n",
       "      <td>NaN</td>\n",
       "      <td>NaN</td>\n",
       "      <td>NaN</td>\n",
       "      <td>NaN</td>\n",
       "      <td>NaN</td>\n",
       "      <td>NaN</td>\n",
       "    </tr>\n",
       "    <tr>\n",
       "      <th>9</th>\n",
       "      <td>2022.05.10</td>\n",
       "      <td>65700.0</td>\n",
       "      <td>400.0</td>\n",
       "      <td>65900.0</td>\n",
       "      <td>66300.0</td>\n",
       "      <td>65300.0</td>\n",
       "      <td>17235605.0</td>\n",
       "    </tr>\n",
       "    <tr>\n",
       "      <th>10</th>\n",
       "      <td>2022.05.09</td>\n",
       "      <td>66100.0</td>\n",
       "      <td>400.0</td>\n",
       "      <td>66300.0</td>\n",
       "      <td>66900.0</td>\n",
       "      <td>66100.0</td>\n",
       "      <td>11858736.0</td>\n",
       "    </tr>\n",
       "    <tr>\n",
       "      <th>11</th>\n",
       "      <td>2022.05.06</td>\n",
       "      <td>66500.0</td>\n",
       "      <td>1400.0</td>\n",
       "      <td>67000.0</td>\n",
       "      <td>67100.0</td>\n",
       "      <td>66500.0</td>\n",
       "      <td>14356156.0</td>\n",
       "    </tr>\n",
       "    <tr>\n",
       "      <th>12</th>\n",
       "      <td>2022.05.04</td>\n",
       "      <td>67900.0</td>\n",
       "      <td>400.0</td>\n",
       "      <td>68000.0</td>\n",
       "      <td>68400.0</td>\n",
       "      <td>67500.0</td>\n",
       "      <td>11505248.0</td>\n",
       "    </tr>\n",
       "    <tr>\n",
       "      <th>13</th>\n",
       "      <td>2022.05.03</td>\n",
       "      <td>67500.0</td>\n",
       "      <td>200.0</td>\n",
       "      <td>67400.0</td>\n",
       "      <td>68400.0</td>\n",
       "      <td>67300.0</td>\n",
       "      <td>14168875.0</td>\n",
       "    </tr>\n",
       "    <tr>\n",
       "      <th>14</th>\n",
       "      <td>NaN</td>\n",
       "      <td>NaN</td>\n",
       "      <td>NaN</td>\n",
       "      <td>NaN</td>\n",
       "      <td>NaN</td>\n",
       "      <td>NaN</td>\n",
       "      <td>NaN</td>\n",
       "    </tr>\n",
       "  </tbody>\n",
       "</table>\n",
       "</div>"
      ],
      "text/plain": [
       "            날짜       종가     전일비       시가       고가       저가         거래량\n",
       "0          NaN      NaN     NaN      NaN      NaN      NaN         NaN\n",
       "1   2022.05.17  67800.0  1500.0  66600.0  67900.0  66600.0  12889934.0\n",
       "2   2022.05.16  66300.0   200.0  67100.0  67400.0  66100.0  11937555.0\n",
       "3   2022.05.13  66500.0  1600.0  65300.0  66700.0  65200.0  14551536.0\n",
       "4   2022.05.12  64900.0   800.0  65200.0  65500.0  64900.0  16414188.0\n",
       "5   2022.05.11  65700.0     0.0  65500.0  66300.0  65200.0  12330920.0\n",
       "6          NaN      NaN     NaN      NaN      NaN      NaN         NaN\n",
       "7          NaN      NaN     NaN      NaN      NaN      NaN         NaN\n",
       "8          NaN      NaN     NaN      NaN      NaN      NaN         NaN\n",
       "9   2022.05.10  65700.0   400.0  65900.0  66300.0  65300.0  17235605.0\n",
       "10  2022.05.09  66100.0   400.0  66300.0  66900.0  66100.0  11858736.0\n",
       "11  2022.05.06  66500.0  1400.0  67000.0  67100.0  66500.0  14356156.0\n",
       "12  2022.05.04  67900.0   400.0  68000.0  68400.0  67500.0  11505248.0\n",
       "13  2022.05.03  67500.0   200.0  67400.0  68400.0  67300.0  14168875.0\n",
       "14         NaN      NaN     NaN      NaN      NaN      NaN         NaN"
      ]
     },
     "execution_count": 60,
     "metadata": {},
     "output_type": "execute_result"
    }
   ],
   "source": [
    "# table[0]와 table[1]을 확인하여 보면 table[0]에 필요한 데이터들이 있습니다.\n",
    "table[0]"
   ]
  },
  {
   "cell_type": "code",
   "execution_count": 64,
   "metadata": {
    "id": "0gI1rNUbTMkA"
   },
   "outputs": [
    {
     "data": {
      "text/html": [
       "<div>\n",
       "<style scoped>\n",
       "    .dataframe tbody tr th:only-of-type {\n",
       "        vertical-align: middle;\n",
       "    }\n",
       "\n",
       "    .dataframe tbody tr th {\n",
       "        vertical-align: top;\n",
       "    }\n",
       "\n",
       "    .dataframe thead th {\n",
       "        text-align: right;\n",
       "    }\n",
       "</style>\n",
       "<table border=\"1\" class=\"dataframe\">\n",
       "  <thead>\n",
       "    <tr style=\"text-align: right;\">\n",
       "      <th></th>\n",
       "      <th>날짜</th>\n",
       "      <th>종가</th>\n",
       "      <th>전일비</th>\n",
       "      <th>시가</th>\n",
       "      <th>고가</th>\n",
       "      <th>저가</th>\n",
       "      <th>거래량</th>\n",
       "    </tr>\n",
       "  </thead>\n",
       "  <tbody>\n",
       "    <tr>\n",
       "      <th>0</th>\n",
       "      <td>2022.05.17</td>\n",
       "      <td>67800.0</td>\n",
       "      <td>1500.0</td>\n",
       "      <td>66600.0</td>\n",
       "      <td>67900.0</td>\n",
       "      <td>66600.0</td>\n",
       "      <td>12889934.0</td>\n",
       "    </tr>\n",
       "    <tr>\n",
       "      <th>1</th>\n",
       "      <td>2022.05.16</td>\n",
       "      <td>66300.0</td>\n",
       "      <td>200.0</td>\n",
       "      <td>67100.0</td>\n",
       "      <td>67400.0</td>\n",
       "      <td>66100.0</td>\n",
       "      <td>11937555.0</td>\n",
       "    </tr>\n",
       "    <tr>\n",
       "      <th>2</th>\n",
       "      <td>2022.05.13</td>\n",
       "      <td>66500.0</td>\n",
       "      <td>1600.0</td>\n",
       "      <td>65300.0</td>\n",
       "      <td>66700.0</td>\n",
       "      <td>65200.0</td>\n",
       "      <td>14551536.0</td>\n",
       "    </tr>\n",
       "    <tr>\n",
       "      <th>3</th>\n",
       "      <td>2022.05.12</td>\n",
       "      <td>64900.0</td>\n",
       "      <td>800.0</td>\n",
       "      <td>65200.0</td>\n",
       "      <td>65500.0</td>\n",
       "      <td>64900.0</td>\n",
       "      <td>16414188.0</td>\n",
       "    </tr>\n",
       "    <tr>\n",
       "      <th>4</th>\n",
       "      <td>2022.05.11</td>\n",
       "      <td>65700.0</td>\n",
       "      <td>0.0</td>\n",
       "      <td>65500.0</td>\n",
       "      <td>66300.0</td>\n",
       "      <td>65200.0</td>\n",
       "      <td>12330920.0</td>\n",
       "    </tr>\n",
       "    <tr>\n",
       "      <th>5</th>\n",
       "      <td>2022.05.10</td>\n",
       "      <td>65700.0</td>\n",
       "      <td>400.0</td>\n",
       "      <td>65900.0</td>\n",
       "      <td>66300.0</td>\n",
       "      <td>65300.0</td>\n",
       "      <td>17235605.0</td>\n",
       "    </tr>\n",
       "    <tr>\n",
       "      <th>6</th>\n",
       "      <td>2022.05.09</td>\n",
       "      <td>66100.0</td>\n",
       "      <td>400.0</td>\n",
       "      <td>66300.0</td>\n",
       "      <td>66900.0</td>\n",
       "      <td>66100.0</td>\n",
       "      <td>11858736.0</td>\n",
       "    </tr>\n",
       "    <tr>\n",
       "      <th>7</th>\n",
       "      <td>2022.05.06</td>\n",
       "      <td>66500.0</td>\n",
       "      <td>1400.0</td>\n",
       "      <td>67000.0</td>\n",
       "      <td>67100.0</td>\n",
       "      <td>66500.0</td>\n",
       "      <td>14356156.0</td>\n",
       "    </tr>\n",
       "    <tr>\n",
       "      <th>8</th>\n",
       "      <td>2022.05.04</td>\n",
       "      <td>67900.0</td>\n",
       "      <td>400.0</td>\n",
       "      <td>68000.0</td>\n",
       "      <td>68400.0</td>\n",
       "      <td>67500.0</td>\n",
       "      <td>11505248.0</td>\n",
       "    </tr>\n",
       "    <tr>\n",
       "      <th>9</th>\n",
       "      <td>2022.05.03</td>\n",
       "      <td>67500.0</td>\n",
       "      <td>200.0</td>\n",
       "      <td>67400.0</td>\n",
       "      <td>68400.0</td>\n",
       "      <td>67300.0</td>\n",
       "      <td>14168875.0</td>\n",
       "    </tr>\n",
       "  </tbody>\n",
       "</table>\n",
       "</div>"
      ],
      "text/plain": [
       "           날짜       종가     전일비       시가       고가       저가         거래량\n",
       "0  2022.05.17  67800.0  1500.0  66600.0  67900.0  66600.0  12889934.0\n",
       "1  2022.05.16  66300.0   200.0  67100.0  67400.0  66100.0  11937555.0\n",
       "2  2022.05.13  66500.0  1600.0  65300.0  66700.0  65200.0  14551536.0\n",
       "3  2022.05.12  64900.0   800.0  65200.0  65500.0  64900.0  16414188.0\n",
       "4  2022.05.11  65700.0     0.0  65500.0  66300.0  65200.0  12330920.0\n",
       "5  2022.05.10  65700.0   400.0  65900.0  66300.0  65300.0  17235605.0\n",
       "6  2022.05.09  66100.0   400.0  66300.0  66900.0  66100.0  11858736.0\n",
       "7  2022.05.06  66500.0  1400.0  67000.0  67100.0  66500.0  14356156.0\n",
       "8  2022.05.04  67900.0   400.0  68000.0  68400.0  67500.0  11505248.0\n",
       "9  2022.05.03  67500.0   200.0  67400.0  68400.0  67300.0  14168875.0"
      ]
     },
     "execution_count": 64,
     "metadata": {},
     "output_type": "execute_result"
    }
   ],
   "source": [
    "# dropna를 통해 결측치가 들어있는 row를 제거합니다.\n",
    "# temp\n",
    "temp = table[0].dropna(axis=0).reset_index(drop=True)\n",
    "temp"
   ]
  },
  {
   "cell_type": "markdown",
   "metadata": {
    "id": "CKhsb94wTMkA"
   },
   "source": [
    "## 페이지별 데이터 수집 함수 만들기"
   ]
  },
  {
   "cell_type": "code",
   "execution_count": 85,
   "metadata": {
    "id": "gJugcyoiTMkA"
   },
   "outputs": [],
   "source": [
    "# 종목 번호를 이용해 page에 따라 데이터를 읽어오는 함수\n",
    "# 일자별 시세를 페이지별로 수집\n",
    "\n",
    "def get_day_list(item_code, page_no):\n",
    "    # header definition\n",
    "    headers = {'user-agent': 'Mozilla/5.0'}\n",
    "    \n",
    "    # url crawling\n",
    "    url =  f'https://finance.naver.com/item/sise_day.naver?code={item_code}&page={page_no}'\n",
    "    table = pd.read_html(requests.get(url,headers = headers).text, encoding='cp949')\n",
    "    \n",
    "    # df create & preprocessing\n",
    "    df = table[0]\n",
    "    df.dropna(inplace=True)\n",
    "    df.reset_index(inplace=True, drop=True)\n",
    "    \n",
    "    return df"
   ]
  },
  {
   "cell_type": "code",
   "execution_count": 86,
   "metadata": {
    "id": "evjinapgTMkA"
   },
   "outputs": [
    {
     "data": {
      "text/html": [
       "<div>\n",
       "<style scoped>\n",
       "    .dataframe tbody tr th:only-of-type {\n",
       "        vertical-align: middle;\n",
       "    }\n",
       "\n",
       "    .dataframe tbody tr th {\n",
       "        vertical-align: top;\n",
       "    }\n",
       "\n",
       "    .dataframe thead th {\n",
       "        text-align: right;\n",
       "    }\n",
       "</style>\n",
       "<table border=\"1\" class=\"dataframe\">\n",
       "  <thead>\n",
       "    <tr style=\"text-align: right;\">\n",
       "      <th></th>\n",
       "      <th>날짜</th>\n",
       "      <th>종가</th>\n",
       "      <th>전일비</th>\n",
       "      <th>시가</th>\n",
       "      <th>고가</th>\n",
       "      <th>저가</th>\n",
       "      <th>거래량</th>\n",
       "    </tr>\n",
       "  </thead>\n",
       "  <tbody>\n",
       "    <tr>\n",
       "      <th>0</th>\n",
       "      <td>2022.04.18</td>\n",
       "      <td>66700.0</td>\n",
       "      <td>100.0</td>\n",
       "      <td>66500.0</td>\n",
       "      <td>67100.0</td>\n",
       "      <td>66100.0</td>\n",
       "      <td>10119203.0</td>\n",
       "    </tr>\n",
       "    <tr>\n",
       "      <th>1</th>\n",
       "      <td>2022.04.15</td>\n",
       "      <td>66600.0</td>\n",
       "      <td>900.0</td>\n",
       "      <td>67200.0</td>\n",
       "      <td>67300.0</td>\n",
       "      <td>66500.0</td>\n",
       "      <td>13176415.0</td>\n",
       "    </tr>\n",
       "    <tr>\n",
       "      <th>2</th>\n",
       "      <td>2022.04.14</td>\n",
       "      <td>67500.0</td>\n",
       "      <td>1200.0</td>\n",
       "      <td>68700.0</td>\n",
       "      <td>68700.0</td>\n",
       "      <td>67500.0</td>\n",
       "      <td>16409494.0</td>\n",
       "    </tr>\n",
       "    <tr>\n",
       "      <th>3</th>\n",
       "      <td>2022.04.13</td>\n",
       "      <td>68700.0</td>\n",
       "      <td>1700.0</td>\n",
       "      <td>67300.0</td>\n",
       "      <td>69000.0</td>\n",
       "      <td>67200.0</td>\n",
       "      <td>17378619.0</td>\n",
       "    </tr>\n",
       "    <tr>\n",
       "      <th>4</th>\n",
       "      <td>2022.04.12</td>\n",
       "      <td>67000.0</td>\n",
       "      <td>900.0</td>\n",
       "      <td>67600.0</td>\n",
       "      <td>67700.0</td>\n",
       "      <td>67000.0</td>\n",
       "      <td>13924389.0</td>\n",
       "    </tr>\n",
       "    <tr>\n",
       "      <th>5</th>\n",
       "      <td>2022.04.11</td>\n",
       "      <td>67900.0</td>\n",
       "      <td>100.0</td>\n",
       "      <td>67800.0</td>\n",
       "      <td>68100.0</td>\n",
       "      <td>67400.0</td>\n",
       "      <td>12263735.0</td>\n",
       "    </tr>\n",
       "    <tr>\n",
       "      <th>6</th>\n",
       "      <td>2022.04.08</td>\n",
       "      <td>67800.0</td>\n",
       "      <td>200.0</td>\n",
       "      <td>68100.0</td>\n",
       "      <td>68300.0</td>\n",
       "      <td>67700.0</td>\n",
       "      <td>15453191.0</td>\n",
       "    </tr>\n",
       "    <tr>\n",
       "      <th>7</th>\n",
       "      <td>2022.04.07</td>\n",
       "      <td>68000.0</td>\n",
       "      <td>500.0</td>\n",
       "      <td>68500.0</td>\n",
       "      <td>68500.0</td>\n",
       "      <td>68000.0</td>\n",
       "      <td>20683327.0</td>\n",
       "    </tr>\n",
       "    <tr>\n",
       "      <th>8</th>\n",
       "      <td>2022.04.06</td>\n",
       "      <td>68500.0</td>\n",
       "      <td>700.0</td>\n",
       "      <td>68600.0</td>\n",
       "      <td>68800.0</td>\n",
       "      <td>68500.0</td>\n",
       "      <td>15517308.0</td>\n",
       "    </tr>\n",
       "    <tr>\n",
       "      <th>9</th>\n",
       "      <td>2022.04.05</td>\n",
       "      <td>69200.0</td>\n",
       "      <td>100.0</td>\n",
       "      <td>69400.0</td>\n",
       "      <td>69600.0</td>\n",
       "      <td>69100.0</td>\n",
       "      <td>8467248.0</td>\n",
       "    </tr>\n",
       "  </tbody>\n",
       "</table>\n",
       "</div>"
      ],
      "text/plain": [
       "           날짜       종가     전일비       시가       고가       저가         거래량\n",
       "0  2022.04.18  66700.0   100.0  66500.0  67100.0  66100.0  10119203.0\n",
       "1  2022.04.15  66600.0   900.0  67200.0  67300.0  66500.0  13176415.0\n",
       "2  2022.04.14  67500.0  1200.0  68700.0  68700.0  67500.0  16409494.0\n",
       "3  2022.04.13  68700.0  1700.0  67300.0  69000.0  67200.0  17378619.0\n",
       "4  2022.04.12  67000.0   900.0  67600.0  67700.0  67000.0  13924389.0\n",
       "5  2022.04.11  67900.0   100.0  67800.0  68100.0  67400.0  12263735.0\n",
       "6  2022.04.08  67800.0   200.0  68100.0  68300.0  67700.0  15453191.0\n",
       "7  2022.04.07  68000.0   500.0  68500.0  68500.0  68000.0  20683327.0\n",
       "8  2022.04.06  68500.0   700.0  68600.0  68800.0  68500.0  15517308.0\n",
       "9  2022.04.05  69200.0   100.0  69400.0  69600.0  69100.0   8467248.0"
      ]
     },
     "execution_count": 86,
     "metadata": {},
     "output_type": "execute_result"
    }
   ],
   "source": [
    "# 함수가 잘 만들어졌는지 확인하기\n",
    "item_code = \"005930\"\n",
    "item_name = \"삼성전자\"\n",
    "\n",
    "get_day_list(item_code,3)"
   ]
  },
  {
   "cell_type": "markdown",
   "metadata": {
    "id": "uuaac8XTTMkA"
   },
   "source": [
    "## 반복문을 통한 전체 일자 데이터 수집하기\n",
    "* (주의) 기간이 긴 데이터를 수집할때는 서버에 부담을 주지 않기 위해 time.sleep()값을 주세요."
   ]
  },
  {
   "cell_type": "code",
   "execution_count": 112,
   "metadata": {
    "id": "EQs1C6C_TMkA"
   },
   "outputs": [],
   "source": [
    "import time\n",
    "\n",
    "def get_days_list(item_code):\n",
    "    # header definition\n",
    "    headers = {'user-agent': 'Mozilla/5.0'}\n",
    "    \n",
    "    # url crawling\n",
    "    table_list = []\n",
    "    page=1\n",
    "    prev=''\n",
    "    while True:\n",
    "        url =  f'https://finance.naver.com/item/sise_day.naver?code={item_code}&page={page}'\n",
    "        r = requests.get(url, headers=headers)\n",
    "        if r.text == prev :\n",
    "            break\n",
    "        table = pd.read_html(r.text, encoding='cp949')[0]\n",
    "        table_list.append(table)\n",
    "        print(page, end=' ')\n",
    "        time.sleep(0.1)\n",
    "        prev = r.text\n",
    "        page+=1\n",
    "            \n",
    "    # df create & preprocessing\n",
    "    df = pd.concat(table_list)\n",
    "    df.dropna(axis=0, inplace=True)\n",
    "    df.reset_index(inplace=True, drop=True)\n",
    "    \n",
    "    return df"
   ]
  },
  {
   "cell_type": "code",
   "execution_count": 113,
   "metadata": {
    "id": "CyMHyxTcpzKB"
   },
   "outputs": [
    {
     "name": "stdout",
     "output_type": "stream",
     "text": [
      "1 2 3 4 5 6 7 8 "
     ]
    },
    {
     "data": {
      "text/html": [
       "<div>\n",
       "<style scoped>\n",
       "    .dataframe tbody tr th:only-of-type {\n",
       "        vertical-align: middle;\n",
       "    }\n",
       "\n",
       "    .dataframe tbody tr th {\n",
       "        vertical-align: top;\n",
       "    }\n",
       "\n",
       "    .dataframe thead th {\n",
       "        text-align: right;\n",
       "    }\n",
       "</style>\n",
       "<table border=\"1\" class=\"dataframe\">\n",
       "  <thead>\n",
       "    <tr style=\"text-align: right;\">\n",
       "      <th></th>\n",
       "      <th>날짜</th>\n",
       "      <th>종가</th>\n",
       "      <th>전일비</th>\n",
       "      <th>시가</th>\n",
       "      <th>고가</th>\n",
       "      <th>저가</th>\n",
       "      <th>거래량</th>\n",
       "    </tr>\n",
       "  </thead>\n",
       "  <tbody>\n",
       "    <tr>\n",
       "      <th>0</th>\n",
       "      <td>2022.05.17</td>\n",
       "      <td>408500.0</td>\n",
       "      <td>8000.0</td>\n",
       "      <td>400500.0</td>\n",
       "      <td>411000.0</td>\n",
       "      <td>399000.0</td>\n",
       "      <td>228839.0</td>\n",
       "    </tr>\n",
       "    <tr>\n",
       "      <th>1</th>\n",
       "      <td>2022.05.16</td>\n",
       "      <td>400500.0</td>\n",
       "      <td>0.0</td>\n",
       "      <td>407000.0</td>\n",
       "      <td>407500.0</td>\n",
       "      <td>397000.0</td>\n",
       "      <td>200731.0</td>\n",
       "    </tr>\n",
       "    <tr>\n",
       "      <th>2</th>\n",
       "      <td>2022.05.13</td>\n",
       "      <td>400500.0</td>\n",
       "      <td>12500.0</td>\n",
       "      <td>390500.0</td>\n",
       "      <td>401500.0</td>\n",
       "      <td>390500.0</td>\n",
       "      <td>228636.0</td>\n",
       "    </tr>\n",
       "    <tr>\n",
       "      <th>3</th>\n",
       "      <td>2022.05.12</td>\n",
       "      <td>388000.0</td>\n",
       "      <td>3500.0</td>\n",
       "      <td>390000.0</td>\n",
       "      <td>395500.0</td>\n",
       "      <td>386000.0</td>\n",
       "      <td>251570.0</td>\n",
       "    </tr>\n",
       "    <tr>\n",
       "      <th>4</th>\n",
       "      <td>2022.05.11</td>\n",
       "      <td>391500.0</td>\n",
       "      <td>2000.0</td>\n",
       "      <td>394000.0</td>\n",
       "      <td>398000.0</td>\n",
       "      <td>391500.0</td>\n",
       "      <td>239355.0</td>\n",
       "    </tr>\n",
       "    <tr>\n",
       "      <th>...</th>\n",
       "      <td>...</td>\n",
       "      <td>...</td>\n",
       "      <td>...</td>\n",
       "      <td>...</td>\n",
       "      <td>...</td>\n",
       "      <td>...</td>\n",
       "      <td>...</td>\n",
       "    </tr>\n",
       "    <tr>\n",
       "      <th>68</th>\n",
       "      <td>2022.02.07</td>\n",
       "      <td>548000.0</td>\n",
       "      <td>44000.0</td>\n",
       "      <td>520000.0</td>\n",
       "      <td>548000.0</td>\n",
       "      <td>511000.0</td>\n",
       "      <td>1911176.0</td>\n",
       "    </tr>\n",
       "    <tr>\n",
       "      <th>69</th>\n",
       "      <td>2022.02.04</td>\n",
       "      <td>504000.0</td>\n",
       "      <td>27000.0</td>\n",
       "      <td>476500.0</td>\n",
       "      <td>505000.0</td>\n",
       "      <td>476000.0</td>\n",
       "      <td>2088996.0</td>\n",
       "    </tr>\n",
       "    <tr>\n",
       "      <th>70</th>\n",
       "      <td>2022.02.03</td>\n",
       "      <td>477000.0</td>\n",
       "      <td>27000.0</td>\n",
       "      <td>458000.0</td>\n",
       "      <td>495500.0</td>\n",
       "      <td>441000.0</td>\n",
       "      <td>2918435.0</td>\n",
       "    </tr>\n",
       "    <tr>\n",
       "      <th>71</th>\n",
       "      <td>2022.01.28</td>\n",
       "      <td>450000.0</td>\n",
       "      <td>55000.0</td>\n",
       "      <td>476000.0</td>\n",
       "      <td>483000.0</td>\n",
       "      <td>445000.0</td>\n",
       "      <td>4559773.0</td>\n",
       "    </tr>\n",
       "    <tr>\n",
       "      <th>72</th>\n",
       "      <td>2022.01.27</td>\n",
       "      <td>505000.0</td>\n",
       "      <td>92000.0</td>\n",
       "      <td>597000.0</td>\n",
       "      <td>598000.0</td>\n",
       "      <td>450000.0</td>\n",
       "      <td>15946992.0</td>\n",
       "    </tr>\n",
       "  </tbody>\n",
       "</table>\n",
       "<p>73 rows × 7 columns</p>\n",
       "</div>"
      ],
      "text/plain": [
       "            날짜        종가      전일비        시가        고가        저가         거래량\n",
       "0   2022.05.17  408500.0   8000.0  400500.0  411000.0  399000.0    228839.0\n",
       "1   2022.05.16  400500.0      0.0  407000.0  407500.0  397000.0    200731.0\n",
       "2   2022.05.13  400500.0  12500.0  390500.0  401500.0  390500.0    228636.0\n",
       "3   2022.05.12  388000.0   3500.0  390000.0  395500.0  386000.0    251570.0\n",
       "4   2022.05.11  391500.0   2000.0  394000.0  398000.0  391500.0    239355.0\n",
       "..         ...       ...      ...       ...       ...       ...         ...\n",
       "68  2022.02.07  548000.0  44000.0  520000.0  548000.0  511000.0   1911176.0\n",
       "69  2022.02.04  504000.0  27000.0  476500.0  505000.0  476000.0   2088996.0\n",
       "70  2022.02.03  477000.0  27000.0  458000.0  495500.0  441000.0   2918435.0\n",
       "71  2022.01.28  450000.0  55000.0  476000.0  483000.0  445000.0   4559773.0\n",
       "72  2022.01.27  505000.0  92000.0  597000.0  598000.0  450000.0  15946992.0\n",
       "\n",
       "[73 rows x 7 columns]"
      ]
     },
     "execution_count": 113,
     "metadata": {},
     "output_type": "execute_result"
    }
   ],
   "source": [
    "# 함수가 잘 만들어졌는지 확인하기\n",
    "item_code = \"373220\"\n",
    "item_name = \"LG에너지솔루션\"\n",
    "\n",
    "get_days_list(item_code)"
   ]
  },
  {
   "cell_type": "markdown",
   "metadata": {
    "id": "iEFBJv5XTMkA"
   },
   "source": [
    "## 수집한 데이터 하나의 데이터프레임으로 합치기\n",
    "\n",
    "<img src=\"https://pandas.pydata.org/docs/_images/merging_concat_basic.png\">\n",
    "\n",
    "* [Merge, join, concatenate and compare documentation](https://pandas.pydata.org/docs/user_guide/merging.html#merge-join-concatenate-and-compare)"
   ]
  },
  {
   "cell_type": "code",
   "execution_count": 171,
   "metadata": {
    "id": "mUcxeTMFTMkA"
   },
   "outputs": [
    {
     "name": "stdout",
     "output_type": "stream",
     "text": [
      "1 2 3 4 5 6 7 8 "
     ]
    },
    {
     "data": {
      "text/html": [
       "<div>\n",
       "<style scoped>\n",
       "    .dataframe tbody tr th:only-of-type {\n",
       "        vertical-align: middle;\n",
       "    }\n",
       "\n",
       "    .dataframe tbody tr th {\n",
       "        vertical-align: top;\n",
       "    }\n",
       "\n",
       "    .dataframe thead th {\n",
       "        text-align: right;\n",
       "    }\n",
       "</style>\n",
       "<table border=\"1\" class=\"dataframe\">\n",
       "  <thead>\n",
       "    <tr style=\"text-align: right;\">\n",
       "      <th></th>\n",
       "      <th>날짜</th>\n",
       "      <th>종가</th>\n",
       "      <th>전일비</th>\n",
       "      <th>시가</th>\n",
       "      <th>고가</th>\n",
       "      <th>저가</th>\n",
       "      <th>거래량</th>\n",
       "    </tr>\n",
       "  </thead>\n",
       "  <tbody>\n",
       "    <tr>\n",
       "      <th>0</th>\n",
       "      <td>2022.05.17</td>\n",
       "      <td>408500.0</td>\n",
       "      <td>8000.0</td>\n",
       "      <td>400500.0</td>\n",
       "      <td>411000.0</td>\n",
       "      <td>399000.0</td>\n",
       "      <td>228952.0</td>\n",
       "    </tr>\n",
       "    <tr>\n",
       "      <th>1</th>\n",
       "      <td>2022.05.16</td>\n",
       "      <td>400500.0</td>\n",
       "      <td>0.0</td>\n",
       "      <td>407000.0</td>\n",
       "      <td>407500.0</td>\n",
       "      <td>397000.0</td>\n",
       "      <td>200731.0</td>\n",
       "    </tr>\n",
       "    <tr>\n",
       "      <th>2</th>\n",
       "      <td>2022.05.13</td>\n",
       "      <td>400500.0</td>\n",
       "      <td>12500.0</td>\n",
       "      <td>390500.0</td>\n",
       "      <td>401500.0</td>\n",
       "      <td>390500.0</td>\n",
       "      <td>228636.0</td>\n",
       "    </tr>\n",
       "    <tr>\n",
       "      <th>3</th>\n",
       "      <td>2022.05.12</td>\n",
       "      <td>388000.0</td>\n",
       "      <td>3500.0</td>\n",
       "      <td>390000.0</td>\n",
       "      <td>395500.0</td>\n",
       "      <td>386000.0</td>\n",
       "      <td>251570.0</td>\n",
       "    </tr>\n",
       "    <tr>\n",
       "      <th>4</th>\n",
       "      <td>2022.05.11</td>\n",
       "      <td>391500.0</td>\n",
       "      <td>2000.0</td>\n",
       "      <td>394000.0</td>\n",
       "      <td>398000.0</td>\n",
       "      <td>391500.0</td>\n",
       "      <td>239355.0</td>\n",
       "    </tr>\n",
       "    <tr>\n",
       "      <th>...</th>\n",
       "      <td>...</td>\n",
       "      <td>...</td>\n",
       "      <td>...</td>\n",
       "      <td>...</td>\n",
       "      <td>...</td>\n",
       "      <td>...</td>\n",
       "      <td>...</td>\n",
       "    </tr>\n",
       "    <tr>\n",
       "      <th>68</th>\n",
       "      <td>2022.02.07</td>\n",
       "      <td>548000.0</td>\n",
       "      <td>44000.0</td>\n",
       "      <td>520000.0</td>\n",
       "      <td>548000.0</td>\n",
       "      <td>511000.0</td>\n",
       "      <td>1911176.0</td>\n",
       "    </tr>\n",
       "    <tr>\n",
       "      <th>69</th>\n",
       "      <td>2022.02.04</td>\n",
       "      <td>504000.0</td>\n",
       "      <td>27000.0</td>\n",
       "      <td>476500.0</td>\n",
       "      <td>505000.0</td>\n",
       "      <td>476000.0</td>\n",
       "      <td>2088996.0</td>\n",
       "    </tr>\n",
       "    <tr>\n",
       "      <th>70</th>\n",
       "      <td>2022.02.03</td>\n",
       "      <td>477000.0</td>\n",
       "      <td>27000.0</td>\n",
       "      <td>458000.0</td>\n",
       "      <td>495500.0</td>\n",
       "      <td>441000.0</td>\n",
       "      <td>2918435.0</td>\n",
       "    </tr>\n",
       "    <tr>\n",
       "      <th>71</th>\n",
       "      <td>2022.01.28</td>\n",
       "      <td>450000.0</td>\n",
       "      <td>55000.0</td>\n",
       "      <td>476000.0</td>\n",
       "      <td>483000.0</td>\n",
       "      <td>445000.0</td>\n",
       "      <td>4559773.0</td>\n",
       "    </tr>\n",
       "    <tr>\n",
       "      <th>72</th>\n",
       "      <td>2022.01.27</td>\n",
       "      <td>505000.0</td>\n",
       "      <td>92000.0</td>\n",
       "      <td>597000.0</td>\n",
       "      <td>598000.0</td>\n",
       "      <td>450000.0</td>\n",
       "      <td>15946992.0</td>\n",
       "    </tr>\n",
       "  </tbody>\n",
       "</table>\n",
       "<p>73 rows × 7 columns</p>\n",
       "</div>"
      ],
      "text/plain": [
       "            날짜        종가      전일비        시가        고가        저가         거래량\n",
       "0   2022.05.17  408500.0   8000.0  400500.0  411000.0  399000.0    228952.0\n",
       "1   2022.05.16  400500.0      0.0  407000.0  407500.0  397000.0    200731.0\n",
       "2   2022.05.13  400500.0  12500.0  390500.0  401500.0  390500.0    228636.0\n",
       "3   2022.05.12  388000.0   3500.0  390000.0  395500.0  386000.0    251570.0\n",
       "4   2022.05.11  391500.0   2000.0  394000.0  398000.0  391500.0    239355.0\n",
       "..         ...       ...      ...       ...       ...       ...         ...\n",
       "68  2022.02.07  548000.0  44000.0  520000.0  548000.0  511000.0   1911176.0\n",
       "69  2022.02.04  504000.0  27000.0  476500.0  505000.0  476000.0   2088996.0\n",
       "70  2022.02.03  477000.0  27000.0  458000.0  495500.0  441000.0   2918435.0\n",
       "71  2022.01.28  450000.0  55000.0  476000.0  483000.0  445000.0   4559773.0\n",
       "72  2022.01.27  505000.0  92000.0  597000.0  598000.0  450000.0  15946992.0\n",
       "\n",
       "[73 rows x 7 columns]"
      ]
     },
     "execution_count": 171,
     "metadata": {},
     "output_type": "execute_result"
    }
   ],
   "source": [
    "# DataFrame들이 list의 형태로 저장된 것을 concat을 이용하여 합치면서 하나의 DataFrame으로 만듭니다.\n",
    "df = get_days_list(item_code)\n",
    "df"
   ]
  },
  {
   "cell_type": "code",
   "execution_count": 147,
   "metadata": {},
   "outputs": [
    {
     "name": "stdout",
     "output_type": "stream",
     "text": [
      "37.5 µs ± 2.2 µs per loop (mean ± std. dev. of 7 runs, 10000 loops each)\n"
     ]
    }
   ],
   "source": [
    "%timeit df.iloc[0,0]"
   ]
  },
  {
   "cell_type": "code",
   "execution_count": 148,
   "metadata": {},
   "outputs": [
    {
     "name": "stdout",
     "output_type": "stream",
     "text": [
      "144 µs ± 7.04 µs per loop (mean ± std. dev. of 7 runs, 10000 loops each)\n"
     ]
    }
   ],
   "source": [
    "%timeit df.iloc[0][0]"
   ]
  },
  {
   "cell_type": "markdown",
   "metadata": {
    "id": "xbV1ou_cpzKB"
   },
   "source": [
    "<img src=\"https://pandas.pydata.org/docs/_images/02_io_readwrite.svg\">"
   ]
  },
  {
   "cell_type": "code",
   "execution_count": 149,
   "metadata": {
    "id": "Ep3NWfM-TMkA"
   },
   "outputs": [
    {
     "data": {
      "text/html": [
       "<div>\n",
       "<style scoped>\n",
       "    .dataframe tbody tr th:only-of-type {\n",
       "        vertical-align: middle;\n",
       "    }\n",
       "\n",
       "    .dataframe tbody tr th {\n",
       "        vertical-align: top;\n",
       "    }\n",
       "\n",
       "    .dataframe thead th {\n",
       "        text-align: right;\n",
       "    }\n",
       "</style>\n",
       "<table border=\"1\" class=\"dataframe\">\n",
       "  <thead>\n",
       "    <tr style=\"text-align: right;\">\n",
       "      <th></th>\n",
       "      <th>날짜</th>\n",
       "      <th>종가</th>\n",
       "      <th>전일비</th>\n",
       "      <th>시가</th>\n",
       "      <th>고가</th>\n",
       "      <th>저가</th>\n",
       "      <th>거래량</th>\n",
       "    </tr>\n",
       "  </thead>\n",
       "  <tbody>\n",
       "    <tr>\n",
       "      <th>0</th>\n",
       "      <td>2022.05.17</td>\n",
       "      <td>408500.0</td>\n",
       "      <td>8000.0</td>\n",
       "      <td>400500.0</td>\n",
       "      <td>411000.0</td>\n",
       "      <td>399000.0</td>\n",
       "      <td>228952.0</td>\n",
       "    </tr>\n",
       "    <tr>\n",
       "      <th>1</th>\n",
       "      <td>2022.05.16</td>\n",
       "      <td>400500.0</td>\n",
       "      <td>0.0</td>\n",
       "      <td>407000.0</td>\n",
       "      <td>407500.0</td>\n",
       "      <td>397000.0</td>\n",
       "      <td>200731.0</td>\n",
       "    </tr>\n",
       "    <tr>\n",
       "      <th>2</th>\n",
       "      <td>2022.05.13</td>\n",
       "      <td>400500.0</td>\n",
       "      <td>12500.0</td>\n",
       "      <td>390500.0</td>\n",
       "      <td>401500.0</td>\n",
       "      <td>390500.0</td>\n",
       "      <td>228636.0</td>\n",
       "    </tr>\n",
       "    <tr>\n",
       "      <th>3</th>\n",
       "      <td>2022.05.12</td>\n",
       "      <td>388000.0</td>\n",
       "      <td>3500.0</td>\n",
       "      <td>390000.0</td>\n",
       "      <td>395500.0</td>\n",
       "      <td>386000.0</td>\n",
       "      <td>251570.0</td>\n",
       "    </tr>\n",
       "    <tr>\n",
       "      <th>4</th>\n",
       "      <td>2022.05.11</td>\n",
       "      <td>391500.0</td>\n",
       "      <td>2000.0</td>\n",
       "      <td>394000.0</td>\n",
       "      <td>398000.0</td>\n",
       "      <td>391500.0</td>\n",
       "      <td>239355.0</td>\n",
       "    </tr>\n",
       "  </tbody>\n",
       "</table>\n",
       "</div>"
      ],
      "text/plain": [
       "           날짜        종가      전일비        시가        고가        저가       거래량\n",
       "0  2022.05.17  408500.0   8000.0  400500.0  411000.0  399000.0  228952.0\n",
       "1  2022.05.16  400500.0      0.0  407000.0  407500.0  397000.0  200731.0\n",
       "2  2022.05.13  400500.0  12500.0  390500.0  401500.0  390500.0  228636.0\n",
       "3  2022.05.12  388000.0   3500.0  390000.0  395500.0  386000.0  251570.0\n",
       "4  2022.05.11  391500.0   2000.0  394000.0  398000.0  391500.0  239355.0"
      ]
     },
     "execution_count": 149,
     "metadata": {},
     "output_type": "execute_result"
    }
   ],
   "source": [
    "# head와 tail로 데이터의 일부를 가져와서 봅니다.\n",
    "df.head()"
   ]
  },
  {
   "cell_type": "code",
   "execution_count": 150,
   "metadata": {
    "id": "hHcKUo8iTMkA"
   },
   "outputs": [
    {
     "data": {
      "text/html": [
       "<div>\n",
       "<style scoped>\n",
       "    .dataframe tbody tr th:only-of-type {\n",
       "        vertical-align: middle;\n",
       "    }\n",
       "\n",
       "    .dataframe tbody tr th {\n",
       "        vertical-align: top;\n",
       "    }\n",
       "\n",
       "    .dataframe thead th {\n",
       "        text-align: right;\n",
       "    }\n",
       "</style>\n",
       "<table border=\"1\" class=\"dataframe\">\n",
       "  <thead>\n",
       "    <tr style=\"text-align: right;\">\n",
       "      <th></th>\n",
       "      <th>날짜</th>\n",
       "      <th>종가</th>\n",
       "      <th>전일비</th>\n",
       "      <th>시가</th>\n",
       "      <th>고가</th>\n",
       "      <th>저가</th>\n",
       "      <th>거래량</th>\n",
       "    </tr>\n",
       "  </thead>\n",
       "  <tbody>\n",
       "    <tr>\n",
       "      <th>68</th>\n",
       "      <td>2022.02.07</td>\n",
       "      <td>548000.0</td>\n",
       "      <td>44000.0</td>\n",
       "      <td>520000.0</td>\n",
       "      <td>548000.0</td>\n",
       "      <td>511000.0</td>\n",
       "      <td>1911176.0</td>\n",
       "    </tr>\n",
       "    <tr>\n",
       "      <th>69</th>\n",
       "      <td>2022.02.04</td>\n",
       "      <td>504000.0</td>\n",
       "      <td>27000.0</td>\n",
       "      <td>476500.0</td>\n",
       "      <td>505000.0</td>\n",
       "      <td>476000.0</td>\n",
       "      <td>2088996.0</td>\n",
       "    </tr>\n",
       "    <tr>\n",
       "      <th>70</th>\n",
       "      <td>2022.02.03</td>\n",
       "      <td>477000.0</td>\n",
       "      <td>27000.0</td>\n",
       "      <td>458000.0</td>\n",
       "      <td>495500.0</td>\n",
       "      <td>441000.0</td>\n",
       "      <td>2918435.0</td>\n",
       "    </tr>\n",
       "    <tr>\n",
       "      <th>71</th>\n",
       "      <td>2022.01.28</td>\n",
       "      <td>450000.0</td>\n",
       "      <td>55000.0</td>\n",
       "      <td>476000.0</td>\n",
       "      <td>483000.0</td>\n",
       "      <td>445000.0</td>\n",
       "      <td>4559773.0</td>\n",
       "    </tr>\n",
       "    <tr>\n",
       "      <th>72</th>\n",
       "      <td>2022.01.27</td>\n",
       "      <td>505000.0</td>\n",
       "      <td>92000.0</td>\n",
       "      <td>597000.0</td>\n",
       "      <td>598000.0</td>\n",
       "      <td>450000.0</td>\n",
       "      <td>15946992.0</td>\n",
       "    </tr>\n",
       "  </tbody>\n",
       "</table>\n",
       "</div>"
      ],
      "text/plain": [
       "            날짜        종가      전일비        시가        고가        저가         거래량\n",
       "68  2022.02.07  548000.0  44000.0  520000.0  548000.0  511000.0   1911176.0\n",
       "69  2022.02.04  504000.0  27000.0  476500.0  505000.0  476000.0   2088996.0\n",
       "70  2022.02.03  477000.0  27000.0  458000.0  495500.0  441000.0   2918435.0\n",
       "71  2022.01.28  450000.0  55000.0  476000.0  483000.0  445000.0   4559773.0\n",
       "72  2022.01.27  505000.0  92000.0  597000.0  598000.0  450000.0  15946992.0"
      ]
     },
     "execution_count": 150,
     "metadata": {},
     "output_type": "execute_result"
    }
   ],
   "source": [
    "df.tail()"
   ]
  },
  {
   "cell_type": "markdown",
   "metadata": {
    "id": "DdML6w8yTMkA"
   },
   "source": [
    "## 데이터프레임에 종목코드와 종목명을 추가하기\n",
    "* 파생변수 만들기"
   ]
  },
  {
   "cell_type": "code",
   "execution_count": null,
   "metadata": {
    "id": "-yIDnlZHTMkA"
   },
   "outputs": [],
   "source": [
    "# '종목코드'와 '종목명' column을 추가하면서 각각 item_code와 item_name 값을 입력합니다.\n",
    "# df[\"종목코드\"]\n",
    "# df[\"종목명\"]"
   ]
  },
  {
   "cell_type": "code",
   "execution_count": 172,
   "metadata": {
    "id": "bwDA0C4PTMkA"
   },
   "outputs": [
    {
     "data": {
      "text/html": [
       "<div>\n",
       "<style scoped>\n",
       "    .dataframe tbody tr th:only-of-type {\n",
       "        vertical-align: middle;\n",
       "    }\n",
       "\n",
       "    .dataframe tbody tr th {\n",
       "        vertical-align: top;\n",
       "    }\n",
       "\n",
       "    .dataframe thead th {\n",
       "        text-align: right;\n",
       "    }\n",
       "</style>\n",
       "<table border=\"1\" class=\"dataframe\">\n",
       "  <thead>\n",
       "    <tr style=\"text-align: right;\">\n",
       "      <th></th>\n",
       "      <th>날짜</th>\n",
       "      <th>종가</th>\n",
       "      <th>전일비</th>\n",
       "      <th>시가</th>\n",
       "      <th>고가</th>\n",
       "      <th>저가</th>\n",
       "      <th>거래량</th>\n",
       "      <th>종목코드</th>\n",
       "      <th>종목명</th>\n",
       "    </tr>\n",
       "  </thead>\n",
       "  <tbody>\n",
       "    <tr>\n",
       "      <th>0</th>\n",
       "      <td>2022.05.17</td>\n",
       "      <td>408500.0</td>\n",
       "      <td>8000.0</td>\n",
       "      <td>400500.0</td>\n",
       "      <td>411000.0</td>\n",
       "      <td>399000.0</td>\n",
       "      <td>228952.0</td>\n",
       "      <td>373220</td>\n",
       "      <td>LG에너지솔루션</td>\n",
       "    </tr>\n",
       "  </tbody>\n",
       "</table>\n",
       "</div>"
      ],
      "text/plain": [
       "           날짜        종가     전일비        시가        고가        저가       거래량  \\\n",
       "0  2022.05.17  408500.0  8000.0  400500.0  411000.0  399000.0  228952.0   \n",
       "\n",
       "     종목코드       종목명  \n",
       "0  373220  LG에너지솔루션  "
      ]
     },
     "execution_count": 172,
     "metadata": {},
     "output_type": "execute_result"
    }
   ],
   "source": [
    "df['종목코드'] = item_code\n",
    "df['종목명'] = item_name\n",
    "df.head(1)"
   ]
  },
  {
   "cell_type": "markdown",
   "metadata": {
    "id": "3RlnKPE1TMkA"
   },
   "source": [
    "## 컬럼 순서 변경하기"
   ]
  },
  {
   "cell_type": "code",
   "execution_count": null,
   "metadata": {
    "id": "JblNSbuRTMkA"
   },
   "outputs": [],
   "source": [
    "# DataFrame에서 column 들의 이름을 순서를 조정하여 column순서를 변경할 수 있습니다."
   ]
  },
  {
   "cell_type": "code",
   "execution_count": 173,
   "metadata": {
    "id": "K1GYLvjzpzKD"
   },
   "outputs": [
    {
     "name": "stdout",
     "output_type": "stream",
     "text": [
      "(73, 9)\n"
     ]
    },
    {
     "data": {
      "text/html": [
       "<div>\n",
       "<style scoped>\n",
       "    .dataframe tbody tr th:only-of-type {\n",
       "        vertical-align: middle;\n",
       "    }\n",
       "\n",
       "    .dataframe tbody tr th {\n",
       "        vertical-align: top;\n",
       "    }\n",
       "\n",
       "    .dataframe thead th {\n",
       "        text-align: right;\n",
       "    }\n",
       "</style>\n",
       "<table border=\"1\" class=\"dataframe\">\n",
       "  <thead>\n",
       "    <tr style=\"text-align: right;\">\n",
       "      <th></th>\n",
       "      <th>종목코드</th>\n",
       "      <th>종목명</th>\n",
       "      <th>날짜</th>\n",
       "      <th>종가</th>\n",
       "      <th>전일비</th>\n",
       "      <th>시가</th>\n",
       "      <th>고가</th>\n",
       "      <th>저가</th>\n",
       "      <th>거래량</th>\n",
       "    </tr>\n",
       "  </thead>\n",
       "  <tbody>\n",
       "    <tr>\n",
       "      <th>0</th>\n",
       "      <td>373220</td>\n",
       "      <td>LG에너지솔루션</td>\n",
       "      <td>2022.05.17</td>\n",
       "      <td>408500.0</td>\n",
       "      <td>8000.0</td>\n",
       "      <td>400500.0</td>\n",
       "      <td>411000.0</td>\n",
       "      <td>399000.0</td>\n",
       "      <td>228952.0</td>\n",
       "    </tr>\n",
       "  </tbody>\n",
       "</table>\n",
       "</div>"
      ],
      "text/plain": [
       "     종목코드       종목명          날짜        종가     전일비        시가        고가  \\\n",
       "0  373220  LG에너지솔루션  2022.05.17  408500.0  8000.0  400500.0  411000.0   \n",
       "\n",
       "         저가       거래량  \n",
       "0  399000.0  228952.0  "
      ]
     },
     "execution_count": 173,
     "metadata": {},
     "output_type": "execute_result"
    }
   ],
   "source": [
    "cols = ['종목코드', '종목명', '날짜', '종가', '전일비', '시가', '고가', '저가', '거래량']\n",
    "df = df[cols]\n",
    "print(df.shape)\n",
    "df.head(1)"
   ]
  },
  {
   "cell_type": "markdown",
   "metadata": {
    "id": "_-SXjeiSTMkA"
   },
   "source": [
    "## 중복데이터 제거하기\n",
    "* drop_duplicates 를 통해 중복된 데이터가 있다면 제거합니다."
   ]
  },
  {
   "cell_type": "code",
   "execution_count": 174,
   "metadata": {
    "id": "F0VZGMNRTMkA"
   },
   "outputs": [
    {
     "name": "stdout",
     "output_type": "stream",
     "text": [
      "(73, 9)\n",
      "(73, 9)\n"
     ]
    }
   ],
   "source": [
    "# drop_duplicates : row들 끼리 data를 비교하여 같은 값이 있으면 row중 하나를 삭제\n",
    "# df.shape를 전/후로 출력하여 삭제된 row가 있는지 확인\n",
    "print(df.shape)\n",
    "df = df.drop_duplicates('날짜')\n",
    "print(df.shape)"
   ]
  },
  {
   "cell_type": "markdown",
   "metadata": {
    "id": "viEbEi4iTMkB"
   },
   "source": [
    "## 기술통계값 구하기"
   ]
  },
  {
   "cell_type": "code",
   "execution_count": 161,
   "metadata": {
    "id": "Q-gV-QPPTMkB"
   },
   "outputs": [
    {
     "data": {
      "text/html": [
       "<div>\n",
       "<style scoped>\n",
       "    .dataframe tbody tr th:only-of-type {\n",
       "        vertical-align: middle;\n",
       "    }\n",
       "\n",
       "    .dataframe tbody tr th {\n",
       "        vertical-align: top;\n",
       "    }\n",
       "\n",
       "    .dataframe thead th {\n",
       "        text-align: right;\n",
       "    }\n",
       "</style>\n",
       "<table border=\"1\" class=\"dataframe\">\n",
       "  <thead>\n",
       "    <tr style=\"text-align: right;\">\n",
       "      <th></th>\n",
       "      <th>종가</th>\n",
       "      <th>전일비</th>\n",
       "      <th>시가</th>\n",
       "      <th>고가</th>\n",
       "      <th>저가</th>\n",
       "      <th>거래량</th>\n",
       "    </tr>\n",
       "  </thead>\n",
       "  <tbody>\n",
       "    <tr>\n",
       "      <th>count</th>\n",
       "      <td>73.000000</td>\n",
       "      <td>73.000000</td>\n",
       "      <td>73.000000</td>\n",
       "      <td>73.000000</td>\n",
       "      <td>73.000000</td>\n",
       "      <td>7.300000e+01</td>\n",
       "    </tr>\n",
       "    <tr>\n",
       "      <th>mean</th>\n",
       "      <td>430034.246575</td>\n",
       "      <td>11102.739726</td>\n",
       "      <td>431684.931507</td>\n",
       "      <td>439404.109589</td>\n",
       "      <td>421534.246575</td>\n",
       "      <td>9.898333e+05</td>\n",
       "    </tr>\n",
       "    <tr>\n",
       "      <th>std</th>\n",
       "      <td>36285.933222</td>\n",
       "      <td>14639.169040</td>\n",
       "      <td>41067.653097</td>\n",
       "      <td>42785.775928</td>\n",
       "      <td>32119.820028</td>\n",
       "      <td>1.957457e+06</td>\n",
       "    </tr>\n",
       "    <tr>\n",
       "      <th>min</th>\n",
       "      <td>359500.000000</td>\n",
       "      <td>0.000000</td>\n",
       "      <td>363000.000000</td>\n",
       "      <td>367500.000000</td>\n",
       "      <td>355000.000000</td>\n",
       "      <td>1.156520e+05</td>\n",
       "    </tr>\n",
       "    <tr>\n",
       "      <th>25%</th>\n",
       "      <td>408000.000000</td>\n",
       "      <td>2500.000000</td>\n",
       "      <td>406000.000000</td>\n",
       "      <td>412000.000000</td>\n",
       "      <td>399000.000000</td>\n",
       "      <td>3.207460e+05</td>\n",
       "    </tr>\n",
       "    <tr>\n",
       "      <th>50%</th>\n",
       "      <td>433000.000000</td>\n",
       "      <td>6000.000000</td>\n",
       "      <td>433500.000000</td>\n",
       "      <td>437500.000000</td>\n",
       "      <td>423500.000000</td>\n",
       "      <td>4.155240e+05</td>\n",
       "    </tr>\n",
       "    <tr>\n",
       "      <th>75%</th>\n",
       "      <td>442000.000000</td>\n",
       "      <td>13000.000000</td>\n",
       "      <td>443500.000000</td>\n",
       "      <td>448500.000000</td>\n",
       "      <td>437500.000000</td>\n",
       "      <td>8.954600e+05</td>\n",
       "    </tr>\n",
       "    <tr>\n",
       "      <th>max</th>\n",
       "      <td>548000.000000</td>\n",
       "      <td>92000.000000</td>\n",
       "      <td>597000.000000</td>\n",
       "      <td>598000.000000</td>\n",
       "      <td>524000.000000</td>\n",
       "      <td>1.594699e+07</td>\n",
       "    </tr>\n",
       "  </tbody>\n",
       "</table>\n",
       "</div>"
      ],
      "text/plain": [
       "                  종가           전일비             시가             고가  \\\n",
       "count      73.000000     73.000000      73.000000      73.000000   \n",
       "mean   430034.246575  11102.739726  431684.931507  439404.109589   \n",
       "std     36285.933222  14639.169040   41067.653097   42785.775928   \n",
       "min    359500.000000      0.000000  363000.000000  367500.000000   \n",
       "25%    408000.000000   2500.000000  406000.000000  412000.000000   \n",
       "50%    433000.000000   6000.000000  433500.000000  437500.000000   \n",
       "75%    442000.000000  13000.000000  443500.000000  448500.000000   \n",
       "max    548000.000000  92000.000000  597000.000000  598000.000000   \n",
       "\n",
       "                  저가           거래량  \n",
       "count      73.000000  7.300000e+01  \n",
       "mean   421534.246575  9.898333e+05  \n",
       "std     32119.820028  1.957457e+06  \n",
       "min    355000.000000  1.156520e+05  \n",
       "25%    399000.000000  3.207460e+05  \n",
       "50%    423500.000000  4.155240e+05  \n",
       "75%    437500.000000  8.954600e+05  \n",
       "max    524000.000000  1.594699e+07  "
      ]
     },
     "execution_count": 161,
     "metadata": {},
     "output_type": "execute_result"
    }
   ],
   "source": [
    "# describe는 기본적으로 수치데이터에 대한 기술통계값을 구하게 됩니다.\n",
    "df.describe()"
   ]
  },
  {
   "cell_type": "markdown",
   "metadata": {
    "id": "MZYL5CNcpzKD"
   },
   "source": [
    "* 참고 : E notation\n",
    "[과학적 기수법 - 위키백과, 우리 모두의 백과사전](https://ko.wikipedia.org/wiki/%EA%B3%BC%ED%95%99%EC%A0%81_%EA%B8%B0%EC%88%98%EB%B2%95)\n",
    "\n",
    "과학적 기수법, 과학적 표기법(scientific notation, scientific form, standard index form, standard form)은 너무 크거나 너무 작은 숫자들을 십진법으로 편하게 작성하여 표현하는 방법이다. 과학자, 수학자, 공학자들이 공통적으로 사용하는데, 부분적인 이유는 특정한 산술을 단순화시켜 주기 때문이다. 과학 계산기에서는 \"SCI\" 디스플레이 모드라는 이름으로 알려져 있다."
   ]
  },
  {
   "cell_type": "code",
   "execution_count": null,
   "metadata": {
    "id": "bRrv4mutpzKE"
   },
   "outputs": [],
   "source": [
    "# 거래량의 과학적 기수법 읽기\n"
   ]
  },
  {
   "cell_type": "markdown",
   "metadata": {
    "id": "Ql0phnyuTMkB"
   },
   "source": [
    "## 최근 날짜 구해서 파일명 만들기"
   ]
  },
  {
   "cell_type": "code",
   "execution_count": 176,
   "metadata": {
    "id": "_dyLUpVVTMkB"
   },
   "outputs": [
    {
     "data": {
      "text/html": [
       "<div>\n",
       "<style scoped>\n",
       "    .dataframe tbody tr th:only-of-type {\n",
       "        vertical-align: middle;\n",
       "    }\n",
       "\n",
       "    .dataframe tbody tr th {\n",
       "        vertical-align: top;\n",
       "    }\n",
       "\n",
       "    .dataframe thead th {\n",
       "        text-align: right;\n",
       "    }\n",
       "</style>\n",
       "<table border=\"1\" class=\"dataframe\">\n",
       "  <thead>\n",
       "    <tr style=\"text-align: right;\">\n",
       "      <th></th>\n",
       "      <th>종목코드</th>\n",
       "      <th>종목명</th>\n",
       "      <th>날짜</th>\n",
       "      <th>종가</th>\n",
       "      <th>전일비</th>\n",
       "      <th>시가</th>\n",
       "      <th>고가</th>\n",
       "      <th>저가</th>\n",
       "      <th>거래량</th>\n",
       "    </tr>\n",
       "  </thead>\n",
       "  <tbody>\n",
       "    <tr>\n",
       "      <th>0</th>\n",
       "      <td>373220</td>\n",
       "      <td>LG에너지솔루션</td>\n",
       "      <td>2022.05.17</td>\n",
       "      <td>408500.0</td>\n",
       "      <td>8000.0</td>\n",
       "      <td>400500.0</td>\n",
       "      <td>411000.0</td>\n",
       "      <td>399000.0</td>\n",
       "      <td>228952.0</td>\n",
       "    </tr>\n",
       "  </tbody>\n",
       "</table>\n",
       "</div>"
      ],
      "text/plain": [
       "     종목코드       종목명          날짜        종가     전일비        시가        고가  \\\n",
       "0  373220  LG에너지솔루션  2022.05.17  408500.0  8000.0  400500.0  411000.0   \n",
       "\n",
       "         저가       거래량  \n",
       "0  399000.0  228952.0  "
      ]
     },
     "execution_count": 176,
     "metadata": {},
     "output_type": "execute_result"
    }
   ],
   "source": [
    "# 날짜 column의 첫 row값 확인\n",
    "# date\n",
    "df[df['날짜'] == df['날짜'][0]]"
   ]
  },
  {
   "cell_type": "code",
   "execution_count": null,
   "metadata": {
    "id": "teInPugvTMkB"
   },
   "outputs": [],
   "source": [
    "# 종목명, 종목코드, 날짜를 이름으로 하는 csv 파일명 만들기\n",
    "# file_name"
   ]
  },
  {
   "cell_type": "markdown",
   "metadata": {
    "id": "1LXe-dutTMkB"
   },
   "source": [
    "## 파일로 저장하기"
   ]
  },
  {
   "cell_type": "code",
   "execution_count": null,
   "metadata": {
    "id": "dBRXOwIxTMkB"
   },
   "outputs": [],
   "source": [
    "# 파일로 저장하기 \n",
    "# index=False 로 데이터프레임의 기본 index 는 저장하지 않도록 합니다.\n"
   ]
  },
  {
   "cell_type": "code",
   "execution_count": null,
   "metadata": {
    "id": "EEfm9Yk9TMkB"
   },
   "outputs": [],
   "source": [
    "# 제대로 저장되었는지 파일을 읽어서 확인합니다.\n"
   ]
  },
  {
   "cell_type": "markdown",
   "metadata": {
    "id": "ns71GJrepzKF"
   },
   "source": [
    "## 전체 과정을 하나의 함수로 만들기"
   ]
  },
  {
   "cell_type": "code",
   "execution_count": 181,
   "metadata": {
    "id": "p0ZnJR2vpzKF"
   },
   "outputs": [],
   "source": [
    "def get_item_list(item_code, item_name):\n",
    "    df = get_days_list(item_code)\n",
    "    date = df['날짜'][0]\n",
    "    filename = f'{item_name}-{item_code}-{date}'\n",
    "    print(filename)\n",
    "    df.to_csv(filename)\n",
    "    return df"
   ]
  },
  {
   "cell_type": "code",
   "execution_count": 182,
   "metadata": {
    "id": "dWsnom_CpzKF"
   },
   "outputs": [
    {
     "name": "stdout",
     "output_type": "stream",
     "text": [
      "1 2 3 4 5 6 7 8 9 10 11 12 13 14 15 16 17 18 19 카카오뱅크-323410-2022.05.17\n"
     ]
    },
    {
     "data": {
      "text/html": [
       "<div>\n",
       "<style scoped>\n",
       "    .dataframe tbody tr th:only-of-type {\n",
       "        vertical-align: middle;\n",
       "    }\n",
       "\n",
       "    .dataframe tbody tr th {\n",
       "        vertical-align: top;\n",
       "    }\n",
       "\n",
       "    .dataframe thead th {\n",
       "        text-align: right;\n",
       "    }\n",
       "</style>\n",
       "<table border=\"1\" class=\"dataframe\">\n",
       "  <thead>\n",
       "    <tr style=\"text-align: right;\">\n",
       "      <th></th>\n",
       "      <th>날짜</th>\n",
       "      <th>종가</th>\n",
       "      <th>전일비</th>\n",
       "      <th>시가</th>\n",
       "      <th>고가</th>\n",
       "      <th>저가</th>\n",
       "      <th>거래량</th>\n",
       "    </tr>\n",
       "  </thead>\n",
       "  <tbody>\n",
       "    <tr>\n",
       "      <th>0</th>\n",
       "      <td>2022.05.17</td>\n",
       "      <td>40000.0</td>\n",
       "      <td>1150.0</td>\n",
       "      <td>38450.0</td>\n",
       "      <td>40250.0</td>\n",
       "      <td>38450.0</td>\n",
       "      <td>1148434.0</td>\n",
       "    </tr>\n",
       "    <tr>\n",
       "      <th>1</th>\n",
       "      <td>2022.05.16</td>\n",
       "      <td>38850.0</td>\n",
       "      <td>400.0</td>\n",
       "      <td>38500.0</td>\n",
       "      <td>39750.0</td>\n",
       "      <td>38450.0</td>\n",
       "      <td>1189121.0</td>\n",
       "    </tr>\n",
       "    <tr>\n",
       "      <th>2</th>\n",
       "      <td>2022.05.13</td>\n",
       "      <td>38450.0</td>\n",
       "      <td>500.0</td>\n",
       "      <td>37850.0</td>\n",
       "      <td>38550.0</td>\n",
       "      <td>37100.0</td>\n",
       "      <td>1708351.0</td>\n",
       "    </tr>\n",
       "    <tr>\n",
       "      <th>3</th>\n",
       "      <td>2022.05.12</td>\n",
       "      <td>37950.0</td>\n",
       "      <td>2150.0</td>\n",
       "      <td>39500.0</td>\n",
       "      <td>39600.0</td>\n",
       "      <td>37550.0</td>\n",
       "      <td>2795518.0</td>\n",
       "    </tr>\n",
       "    <tr>\n",
       "      <th>4</th>\n",
       "      <td>2022.05.11</td>\n",
       "      <td>40100.0</td>\n",
       "      <td>50.0</td>\n",
       "      <td>39900.0</td>\n",
       "      <td>40300.0</td>\n",
       "      <td>39600.0</td>\n",
       "      <td>957524.0</td>\n",
       "    </tr>\n",
       "    <tr>\n",
       "      <th>...</th>\n",
       "      <td>...</td>\n",
       "      <td>...</td>\n",
       "      <td>...</td>\n",
       "      <td>...</td>\n",
       "      <td>...</td>\n",
       "      <td>...</td>\n",
       "      <td>...</td>\n",
       "    </tr>\n",
       "    <tr>\n",
       "      <th>185</th>\n",
       "      <td>2021.08.12</td>\n",
       "      <td>73800.0</td>\n",
       "      <td>600.0</td>\n",
       "      <td>73600.0</td>\n",
       "      <td>75400.0</td>\n",
       "      <td>72700.0</td>\n",
       "      <td>5878196.0</td>\n",
       "    </tr>\n",
       "    <tr>\n",
       "      <th>186</th>\n",
       "      <td>2021.08.11</td>\n",
       "      <td>74400.0</td>\n",
       "      <td>3000.0</td>\n",
       "      <td>71200.0</td>\n",
       "      <td>77500.0</td>\n",
       "      <td>68100.0</td>\n",
       "      <td>21592734.0</td>\n",
       "    </tr>\n",
       "    <tr>\n",
       "      <th>187</th>\n",
       "      <td>2021.08.10</td>\n",
       "      <td>71400.0</td>\n",
       "      <td>7100.0</td>\n",
       "      <td>81800.0</td>\n",
       "      <td>85600.0</td>\n",
       "      <td>68000.0</td>\n",
       "      <td>26495122.0</td>\n",
       "    </tr>\n",
       "    <tr>\n",
       "      <th>188</th>\n",
       "      <td>2021.08.09</td>\n",
       "      <td>78500.0</td>\n",
       "      <td>8700.0</td>\n",
       "      <td>69800.0</td>\n",
       "      <td>89100.0</td>\n",
       "      <td>69000.0</td>\n",
       "      <td>44833696.0</td>\n",
       "    </tr>\n",
       "    <tr>\n",
       "      <th>189</th>\n",
       "      <td>2021.08.06</td>\n",
       "      <td>69800.0</td>\n",
       "      <td>16100.0</td>\n",
       "      <td>53700.0</td>\n",
       "      <td>69800.0</td>\n",
       "      <td>51000.0</td>\n",
       "      <td>59402373.0</td>\n",
       "    </tr>\n",
       "  </tbody>\n",
       "</table>\n",
       "<p>190 rows × 7 columns</p>\n",
       "</div>"
      ],
      "text/plain": [
       "             날짜       종가      전일비       시가       고가       저가         거래량\n",
       "0    2022.05.17  40000.0   1150.0  38450.0  40250.0  38450.0   1148434.0\n",
       "1    2022.05.16  38850.0    400.0  38500.0  39750.0  38450.0   1189121.0\n",
       "2    2022.05.13  38450.0    500.0  37850.0  38550.0  37100.0   1708351.0\n",
       "3    2022.05.12  37950.0   2150.0  39500.0  39600.0  37550.0   2795518.0\n",
       "4    2022.05.11  40100.0     50.0  39900.0  40300.0  39600.0    957524.0\n",
       "..          ...      ...      ...      ...      ...      ...         ...\n",
       "185  2021.08.12  73800.0    600.0  73600.0  75400.0  72700.0   5878196.0\n",
       "186  2021.08.11  74400.0   3000.0  71200.0  77500.0  68100.0  21592734.0\n",
       "187  2021.08.10  71400.0   7100.0  81800.0  85600.0  68000.0  26495122.0\n",
       "188  2021.08.09  78500.0   8700.0  69800.0  89100.0  69000.0  44833696.0\n",
       "189  2021.08.06  69800.0  16100.0  53700.0  69800.0  51000.0  59402373.0\n",
       "\n",
       "[190 rows x 7 columns]"
      ]
     },
     "execution_count": 182,
     "metadata": {},
     "output_type": "execute_result"
    }
   ],
   "source": [
    "item_code = \"323410\"\n",
    "item_name = \"카카오뱅크\"\n",
    "get_item_list(item_code, item_name)"
   ]
  },
  {
   "cell_type": "code",
   "execution_count": 183,
   "metadata": {},
   "outputs": [
    {
     "data": {
      "text/html": [
       "<div>\n",
       "<style scoped>\n",
       "    .dataframe tbody tr th:only-of-type {\n",
       "        vertical-align: middle;\n",
       "    }\n",
       "\n",
       "    .dataframe tbody tr th {\n",
       "        vertical-align: top;\n",
       "    }\n",
       "\n",
       "    .dataframe thead th {\n",
       "        text-align: right;\n",
       "    }\n",
       "</style>\n",
       "<table border=\"1\" class=\"dataframe\">\n",
       "  <thead>\n",
       "    <tr style=\"text-align: right;\">\n",
       "      <th></th>\n",
       "      <th>Unnamed: 0</th>\n",
       "      <th>날짜</th>\n",
       "      <th>종가</th>\n",
       "      <th>전일비</th>\n",
       "      <th>시가</th>\n",
       "      <th>고가</th>\n",
       "      <th>저가</th>\n",
       "      <th>거래량</th>\n",
       "    </tr>\n",
       "  </thead>\n",
       "  <tbody>\n",
       "    <tr>\n",
       "      <th>0</th>\n",
       "      <td>0</td>\n",
       "      <td>2022.05.17</td>\n",
       "      <td>40000.0</td>\n",
       "      <td>1150.0</td>\n",
       "      <td>38450.0</td>\n",
       "      <td>40250.0</td>\n",
       "      <td>38450.0</td>\n",
       "      <td>1148434.0</td>\n",
       "    </tr>\n",
       "    <tr>\n",
       "      <th>1</th>\n",
       "      <td>1</td>\n",
       "      <td>2022.05.16</td>\n",
       "      <td>38850.0</td>\n",
       "      <td>400.0</td>\n",
       "      <td>38500.0</td>\n",
       "      <td>39750.0</td>\n",
       "      <td>38450.0</td>\n",
       "      <td>1189121.0</td>\n",
       "    </tr>\n",
       "    <tr>\n",
       "      <th>2</th>\n",
       "      <td>2</td>\n",
       "      <td>2022.05.13</td>\n",
       "      <td>38450.0</td>\n",
       "      <td>500.0</td>\n",
       "      <td>37850.0</td>\n",
       "      <td>38550.0</td>\n",
       "      <td>37100.0</td>\n",
       "      <td>1708351.0</td>\n",
       "    </tr>\n",
       "    <tr>\n",
       "      <th>3</th>\n",
       "      <td>3</td>\n",
       "      <td>2022.05.12</td>\n",
       "      <td>37950.0</td>\n",
       "      <td>2150.0</td>\n",
       "      <td>39500.0</td>\n",
       "      <td>39600.0</td>\n",
       "      <td>37550.0</td>\n",
       "      <td>2795518.0</td>\n",
       "    </tr>\n",
       "    <tr>\n",
       "      <th>4</th>\n",
       "      <td>4</td>\n",
       "      <td>2022.05.11</td>\n",
       "      <td>40100.0</td>\n",
       "      <td>50.0</td>\n",
       "      <td>39900.0</td>\n",
       "      <td>40300.0</td>\n",
       "      <td>39600.0</td>\n",
       "      <td>957524.0</td>\n",
       "    </tr>\n",
       "    <tr>\n",
       "      <th>...</th>\n",
       "      <td>...</td>\n",
       "      <td>...</td>\n",
       "      <td>...</td>\n",
       "      <td>...</td>\n",
       "      <td>...</td>\n",
       "      <td>...</td>\n",
       "      <td>...</td>\n",
       "      <td>...</td>\n",
       "    </tr>\n",
       "    <tr>\n",
       "      <th>185</th>\n",
       "      <td>185</td>\n",
       "      <td>2021.08.12</td>\n",
       "      <td>73800.0</td>\n",
       "      <td>600.0</td>\n",
       "      <td>73600.0</td>\n",
       "      <td>75400.0</td>\n",
       "      <td>72700.0</td>\n",
       "      <td>5878196.0</td>\n",
       "    </tr>\n",
       "    <tr>\n",
       "      <th>186</th>\n",
       "      <td>186</td>\n",
       "      <td>2021.08.11</td>\n",
       "      <td>74400.0</td>\n",
       "      <td>3000.0</td>\n",
       "      <td>71200.0</td>\n",
       "      <td>77500.0</td>\n",
       "      <td>68100.0</td>\n",
       "      <td>21592734.0</td>\n",
       "    </tr>\n",
       "    <tr>\n",
       "      <th>187</th>\n",
       "      <td>187</td>\n",
       "      <td>2021.08.10</td>\n",
       "      <td>71400.0</td>\n",
       "      <td>7100.0</td>\n",
       "      <td>81800.0</td>\n",
       "      <td>85600.0</td>\n",
       "      <td>68000.0</td>\n",
       "      <td>26495122.0</td>\n",
       "    </tr>\n",
       "    <tr>\n",
       "      <th>188</th>\n",
       "      <td>188</td>\n",
       "      <td>2021.08.09</td>\n",
       "      <td>78500.0</td>\n",
       "      <td>8700.0</td>\n",
       "      <td>69800.0</td>\n",
       "      <td>89100.0</td>\n",
       "      <td>69000.0</td>\n",
       "      <td>44833696.0</td>\n",
       "    </tr>\n",
       "    <tr>\n",
       "      <th>189</th>\n",
       "      <td>189</td>\n",
       "      <td>2021.08.06</td>\n",
       "      <td>69800.0</td>\n",
       "      <td>16100.0</td>\n",
       "      <td>53700.0</td>\n",
       "      <td>69800.0</td>\n",
       "      <td>51000.0</td>\n",
       "      <td>59402373.0</td>\n",
       "    </tr>\n",
       "  </tbody>\n",
       "</table>\n",
       "<p>190 rows × 8 columns</p>\n",
       "</div>"
      ],
      "text/plain": [
       "     Unnamed: 0          날짜       종가      전일비       시가       고가       저가  \\\n",
       "0             0  2022.05.17  40000.0   1150.0  38450.0  40250.0  38450.0   \n",
       "1             1  2022.05.16  38850.0    400.0  38500.0  39750.0  38450.0   \n",
       "2             2  2022.05.13  38450.0    500.0  37850.0  38550.0  37100.0   \n",
       "3             3  2022.05.12  37950.0   2150.0  39500.0  39600.0  37550.0   \n",
       "4             4  2022.05.11  40100.0     50.0  39900.0  40300.0  39600.0   \n",
       "..          ...         ...      ...      ...      ...      ...      ...   \n",
       "185         185  2021.08.12  73800.0    600.0  73600.0  75400.0  72700.0   \n",
       "186         186  2021.08.11  74400.0   3000.0  71200.0  77500.0  68100.0   \n",
       "187         187  2021.08.10  71400.0   7100.0  81800.0  85600.0  68000.0   \n",
       "188         188  2021.08.09  78500.0   8700.0  69800.0  89100.0  69000.0   \n",
       "189         189  2021.08.06  69800.0  16100.0  53700.0  69800.0  51000.0   \n",
       "\n",
       "            거래량  \n",
       "0     1148434.0  \n",
       "1     1189121.0  \n",
       "2     1708351.0  \n",
       "3     2795518.0  \n",
       "4      957524.0  \n",
       "..          ...  \n",
       "185   5878196.0  \n",
       "186  21592734.0  \n",
       "187  26495122.0  \n",
       "188  44833696.0  \n",
       "189  59402373.0  \n",
       "\n",
       "[190 rows x 8 columns]"
      ]
     },
     "execution_count": 183,
     "metadata": {},
     "output_type": "execute_result"
    }
   ],
   "source": [
    "pd.read_csv('카카오뱅크-323410-2022.05.17')"
   ]
  },
  {
   "cell_type": "markdown",
   "metadata": {
    "id": "sMn_Jv2BpzKF"
   },
   "source": [
    "## 내가 만든 함수의 기능과 소스코드가 궁금하다면?"
   ]
  },
  {
   "cell_type": "code",
   "execution_count": null,
   "metadata": {
    "id": "Do91XzYdpzKF"
   },
   "outputs": [],
   "source": [
    "# 도움말 보기\n",
    "# get_item_list?\n"
   ]
  },
  {
   "cell_type": "code",
   "execution_count": null,
   "metadata": {
    "id": "ZEgR39pVpzKG"
   },
   "outputs": [],
   "source": [
    "# 소스코드 보기\n",
    "# get_item_list??\n"
   ]
  },
  {
   "cell_type": "code",
   "execution_count": null,
   "metadata": {
    "id": "mKNWBkWKpzKG"
   },
   "outputs": [],
   "source": []
  }
 ],
 "metadata": {
  "colab": {
   "collapsed_sections": [],
   "name": "0603-naver-finance-daily-price-web-scraping-input.ipynb",
   "provenance": [],
   "toc_visible": true
  },
  "kernelspec": {
   "display_name": "Python 3",
   "language": "python",
   "name": "python3"
  },
  "language_info": {
   "codemirror_mode": {
    "name": "ipython",
    "version": 3
   },
   "file_extension": ".py",
   "mimetype": "text/x-python",
   "name": "python",
   "nbconvert_exporter": "python",
   "pygments_lexer": "ipython3",
   "version": "3.8.8"
  },
  "toc": {
   "base_numbering": 1,
   "nav_menu": {},
   "number_sections": true,
   "sideBar": true,
   "skip_h1_title": false,
   "title_cell": "Table of Contents",
   "title_sidebar": "Contents",
   "toc_cell": false,
   "toc_position": {
    "height": "calc(100% - 180px)",
    "left": "10px",
    "top": "150px",
    "width": "204.8px"
   },
   "toc_section_display": true,
   "toc_window_display": true
  },
  "varInspector": {
   "cols": {
    "lenName": 16,
    "lenType": 16,
    "lenVar": 40
   },
   "kernels_config": {
    "python": {
     "delete_cmd_postfix": "",
     "delete_cmd_prefix": "del ",
     "library": "var_list.py",
     "varRefreshCmd": "print(var_dic_list())"
    },
    "r": {
     "delete_cmd_postfix": ") ",
     "delete_cmd_prefix": "rm(",
     "library": "var_list.r",
     "varRefreshCmd": "cat(var_dic_list()) "
    }
   },
   "types_to_exclude": [
    "module",
    "function",
    "builtin_function_or_method",
    "instance",
    "_Feature"
   ],
   "window_display": false
  }
 },
 "nbformat": 4,
 "nbformat_minor": 1
}
