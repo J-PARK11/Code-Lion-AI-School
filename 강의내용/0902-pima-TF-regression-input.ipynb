{
 "cells": [
  {
   "cell_type": "markdown",
   "metadata": {
    "id": "lQiibFeJEAAA"
   },
   "source": [
    "## 텐서플로 회귀 모델 만들기\n",
    "* [자동차 연비 예측하기: 회귀  |  TensorFlow Core](https://www.tensorflow.org/tutorials/keras/regression)"
   ]
  },
  {
   "cell_type": "code",
   "execution_count": 227,
   "metadata": {
    "id": "7AT2VWETEAAE"
   },
   "outputs": [],
   "source": [
    "import pandas as pd\n",
    "import numpy as np\n",
    "import seaborn as sns\n",
    "import matplotlib.pyplot as plt\n",
    "import datetime as dt\n",
    "import time\n",
    "\n",
    "import tensorflow as tf\n",
    "from tqdm import tqdm\n",
    "import tensorflow_addons as tfa\n",
    "\n",
    "from sklearn.preprocessing import StandardScaler,MinMaxScaler"
   ]
  },
  {
   "cell_type": "code",
   "execution_count": 3,
   "metadata": {
    "id": "d_pM4n1pEAAG",
    "scrolled": true
   },
   "outputs": [
    {
     "data": {
      "text/plain": [
       "(768, 9)"
      ]
     },
     "execution_count": 3,
     "metadata": {},
     "output_type": "execute_result"
    }
   ],
   "source": [
    "df = pd.read_csv(\"http://bit.ly/data-diabetes-csv\")\n",
    "df.shape"
   ]
  },
  {
   "cell_type": "code",
   "execution_count": 5,
   "metadata": {
    "id": "xcNFEQnMEAAH"
   },
   "outputs": [
    {
     "name": "stdout",
     "output_type": "stream",
     "text": [
      "df.shape : (394, 9)\n"
     ]
    },
    {
     "data": {
      "text/html": [
       "<div>\n",
       "<style scoped>\n",
       "    .dataframe tbody tr th:only-of-type {\n",
       "        vertical-align: middle;\n",
       "    }\n",
       "\n",
       "    .dataframe tbody tr th {\n",
       "        vertical-align: top;\n",
       "    }\n",
       "\n",
       "    .dataframe thead th {\n",
       "        text-align: right;\n",
       "    }\n",
       "</style>\n",
       "<table border=\"1\" class=\"dataframe\">\n",
       "  <thead>\n",
       "    <tr style=\"text-align: right;\">\n",
       "      <th></th>\n",
       "      <th>Pregnancies</th>\n",
       "      <th>Glucose</th>\n",
       "      <th>BloodPressure</th>\n",
       "      <th>SkinThickness</th>\n",
       "      <th>Insulin</th>\n",
       "      <th>BMI</th>\n",
       "      <th>DiabetesPedigreeFunction</th>\n",
       "      <th>Age</th>\n",
       "      <th>Outcome</th>\n",
       "    </tr>\n",
       "  </thead>\n",
       "  <tbody>\n",
       "    <tr>\n",
       "      <th>3</th>\n",
       "      <td>1</td>\n",
       "      <td>89</td>\n",
       "      <td>66</td>\n",
       "      <td>23</td>\n",
       "      <td>94</td>\n",
       "      <td>28.1</td>\n",
       "      <td>0.167</td>\n",
       "      <td>21</td>\n",
       "      <td>0</td>\n",
       "    </tr>\n",
       "    <tr>\n",
       "      <th>4</th>\n",
       "      <td>0</td>\n",
       "      <td>137</td>\n",
       "      <td>40</td>\n",
       "      <td>35</td>\n",
       "      <td>168</td>\n",
       "      <td>43.1</td>\n",
       "      <td>2.288</td>\n",
       "      <td>33</td>\n",
       "      <td>1</td>\n",
       "    </tr>\n",
       "    <tr>\n",
       "      <th>6</th>\n",
       "      <td>3</td>\n",
       "      <td>78</td>\n",
       "      <td>50</td>\n",
       "      <td>32</td>\n",
       "      <td>88</td>\n",
       "      <td>31.0</td>\n",
       "      <td>0.248</td>\n",
       "      <td>26</td>\n",
       "      <td>1</td>\n",
       "    </tr>\n",
       "    <tr>\n",
       "      <th>8</th>\n",
       "      <td>2</td>\n",
       "      <td>197</td>\n",
       "      <td>70</td>\n",
       "      <td>45</td>\n",
       "      <td>543</td>\n",
       "      <td>30.5</td>\n",
       "      <td>0.158</td>\n",
       "      <td>53</td>\n",
       "      <td>1</td>\n",
       "    </tr>\n",
       "    <tr>\n",
       "      <th>13</th>\n",
       "      <td>1</td>\n",
       "      <td>189</td>\n",
       "      <td>60</td>\n",
       "      <td>23</td>\n",
       "      <td>846</td>\n",
       "      <td>30.1</td>\n",
       "      <td>0.398</td>\n",
       "      <td>59</td>\n",
       "      <td>1</td>\n",
       "    </tr>\n",
       "  </tbody>\n",
       "</table>\n",
       "</div>"
      ],
      "text/plain": [
       "    Pregnancies  Glucose  BloodPressure  SkinThickness  Insulin   BMI  \\\n",
       "3             1       89             66             23       94  28.1   \n",
       "4             0      137             40             35      168  43.1   \n",
       "6             3       78             50             32       88  31.0   \n",
       "8             2      197             70             45      543  30.5   \n",
       "13            1      189             60             23      846  30.1   \n",
       "\n",
       "    DiabetesPedigreeFunction  Age  Outcome  \n",
       "3                      0.167   21        0  \n",
       "4                      2.288   33        1  \n",
       "6                      0.248   26        1  \n",
       "8                      0.158   53        1  \n",
       "13                     0.398   59        1  "
      ]
     },
     "execution_count": 5,
     "metadata": {},
     "output_type": "execute_result"
    }
   ],
   "source": [
    "# Insulin 값이 0보다 큰 값만 사용합니다.\n",
    "# df\n",
    "df = df[df['Insulin'] > 0]\n",
    "print('df.shape :',df.shape)\n",
    "df.head()"
   ]
  },
  {
   "cell_type": "code",
   "execution_count": 6,
   "metadata": {
    "id": "7BiXuIlmEAAL"
   },
   "outputs": [],
   "source": [
    "# label_name 을 Insulin 으로 합니다.\n",
    "label_name = 'Insulin'"
   ]
  },
  {
   "cell_type": "code",
   "execution_count": 7,
   "metadata": {
    "id": "PIiVno3eEAAK"
   },
   "outputs": [
    {
     "name": "stdout",
     "output_type": "stream",
     "text": [
      "(315, 9) (79, 9)\n"
     ]
    }
   ],
   "source": [
    "# train, test 데이터셋을 pandas 의 sample을 사용해서 8:2로 나눕니다.\n",
    "train = df.sample(frac = 0.8, random_state=42)\n",
    "test = df.drop(train.index)\n",
    "\n",
    "print(train.shape, test.shape)"
   ]
  },
  {
   "cell_type": "code",
   "execution_count": 89,
   "metadata": {},
   "outputs": [
    {
     "name": "stdout",
     "output_type": "stream",
     "text": [
      "(315, 8) (315,)\n",
      "(79, 8) (79,)\n"
     ]
    }
   ],
   "source": [
    "X_train = train.drop(label_name, axis=1)\n",
    "y_train = train[label_name]\n",
    "X_test = test.drop(label_name, axis=1)\n",
    "y_test = test[label_name]\n",
    "\n",
    "print(X_train.shape, y_train.shape)\n",
    "print(X_test.shape, y_test.shape)"
   ]
  },
  {
   "cell_type": "code",
   "execution_count": 229,
   "metadata": {},
   "outputs": [
    {
     "name": "stdout",
     "output_type": "stream",
     "text": [
      "(315, 8)\n",
      "(79, 8)\n"
     ]
    }
   ],
   "source": [
    "scaler = MinMaxScaler()\n",
    "X_train_scaled = scaler.fit_transform(X_train)\n",
    "\n",
    "scaler = MinMaxScaler()\n",
    "X_test_scaled = scaler.fit_transform(X_test)\n",
    "\n",
    "print(X_train_scaled.shape)\n",
    "print(X_test_scaled.shape)"
   ]
  },
  {
   "cell_type": "markdown",
   "metadata": {
    "id": "1VSU-7p0EAAO"
   },
   "source": [
    "<img src=\"https://cs231n.github.io/assets/nn1/neural_net.jpeg\" width=\"30%\"> <img src=\"https://cs231n.github.io/assets/nn1/neural_net2.jpeg\" width=\"40%\">\n",
    "\n",
    "* 이미지 출처 : https://cs231n.github.io/neural-networks-1/"
   ]
  },
  {
   "cell_type": "markdown",
   "metadata": {
    "id": "AWvRDwDVEAAP"
   },
   "source": [
    "## 딥러닝 레이어 만들기\n",
    "\n",
    "* [자동차 연비 예측하기: 회귀  |  TensorFlow Core](https://www.tensorflow.org/tutorials/keras/regression)\n",
    "\n",
    "* 층 설정\n",
    "    * 신경망의 기본 구성 요소는 층(layer)입니다. \n",
    "    * 층은 주입된 데이터에서 표현을 추출합니다. \n",
    "    * 대부분 딥러닝은 간단한 층을 연결하여 구성됩니다. \n",
    "    * tf.keras.layers.Dense와 같은 층들의 가중치(parameter)는 훈련하는 동안 학습됩니다.\n",
    "\n",
    "* Dense Layer: \n",
    "    * 밀집 연결(densely-connected) 또는 완전 연결(fully-connected) 층이라고 부릅니다. \n",
    "    * 첫 번째 Dense 층은 128개의 노드(또는 뉴런)를 가집니다. \n",
    "    * 마지막 층은 출력층 입니다.\n",
    "        * 소프트맥스 일 때 : 2개의 노드의 소프트맥스(softmax) 층입니다. 이 층은 2개의 확률을 반환하고 반환된 값의 전체 합은 1입니다. \n",
    "        * 각 노드는 현재 이미지가 2개 클래스 중 하나에 속할 확률을 출력합니다.\n",
    "        * 시그모이드 일 때 : 둘 중 하나를 예측할 때 1개의 출력값을 출력합니다. 확률을 받아 임계값 기준으로 True, False로 나눕니다.\n",
    "    \n",
    "    \n",
    "* 출력층 :\n",
    "    * 예측 값이 n개 일 때 :  tf.keras.layers.Dense(n, activation='softmax')\n",
    "    * 예측 값이 둘 중 하나일 때 : tf.keras.layers.Dense(1, activation='sigmoid')\n",
    "    \n",
    "    \n",
    "* 드롭아웃(dropout)은 신경망에서 가장 효과적이고 널리 사용하는 규제 기법 중 하나입니다. 토론토(Toronto) 대학의 힌튼(Hinton)과 그의 제자들이 개발했습니다. 드롭아웃을 층에 적용하면 훈련하는 동안 층의 출력 특성을 랜덤하게 끕니다(즉, 0으로 만듭니다). 훈련하는 동안 어떤 입력 샘플에 대해 [0.2, 0.5, 1.3, 0.8, 1.1] 벡터를 출력하는 층이 있다고 가정해 보죠. 드롭아웃을 적용하면 이 벡터에서 몇 개의 원소가 랜덤하게 0이 됩니다. 예를 들면, [0, 0.5, 1.3, 0, 1.1]가 됩니다. \"드롭아웃 비율\"은 0이 되는 특성의 비율입니다. 보통 0.2에서 0.5 사이를 사용합니다. 테스트 단계에서는 어떤 유닛도 드롭아웃하지 않습니다. 훈련 단계보다 더 많은 유닛이 활성화되기 때문에 균형을 맞추기 위해 층의 출력 값을 드롭아웃 비율만큼 줄입니다.\n",
    "\n",
    "* tf.keras에서는 Dropout 층을 이용해 네트워크에 드롭아웃을 추가할 수 있습니다. 이 층은 바로 이전 층의 출력에 드롭아웃을 적용합니다. (https://www.tensorflow.org/tutorials/keras/overfit_and_underfit)"
   ]
  },
  {
   "cell_type": "code",
   "execution_count": 208,
   "metadata": {
    "id": "y7wYCza3EAAQ"
   },
   "outputs": [],
   "source": [
    "# tensorflow 를 tf로 불러오기\n",
    "import tensorflow as tf"
   ]
  },
  {
   "cell_type": "code",
   "execution_count": 230,
   "metadata": {
    "id": "MfSKzjmJEAAO"
   },
   "outputs": [
    {
     "data": {
      "text/plain": [
       "8"
      ]
     },
     "execution_count": 230,
     "metadata": {},
     "output_type": "execute_result"
    }
   ],
   "source": [
    "# input_shape 값을 구합니다. feature의 수로 만듭니다.\n",
    "input_shape = X_train.shape[1]\n",
    "input_shape"
   ]
  },
  {
   "cell_type": "code",
   "execution_count": 265,
   "metadata": {
    "id": "hSUltkuXEAAQ"
   },
   "outputs": [
    {
     "data": {
      "text/plain": [
       "<keras.engine.sequential.Sequential at 0x13bc585e2e0>"
      ]
     },
     "execution_count": 265,
     "metadata": {},
     "output_type": "execute_result"
    }
   ],
   "source": [
    "# 입력 레이어를 Input 레이어로 사용할 수도 있습니다.  tf.keras.layers.Input(shape=(input_shape))\n",
    "# 분류와 똑같지만 회귀는 출력을 하나로 합니다.  tf.keras.layers.Dense(1)\n",
    "\n",
    "init = tf.keras.initializers.GlorotNormal()\n",
    "reg = tf.keras.regularizers.L2(l2=0.01)\n",
    "\n",
    "model = tf.keras.models.Sequential([\n",
    "    tf.keras.layers.Dense(units=256, activation='relu', input_shape=[input_shape]),\n",
    "    tf.keras.layers.Dense(units=128, activation='relu'),\n",
    "    tf.keras.layers.Dropout(0.2),\n",
    "    tf.keras.layers.Dense(units=128, activation='swish'),\n",
    "    tf.keras.layers.Dense(units=128, activation='swish'),\n",
    "    tf.keras.layers.Dropout(0.2),\n",
    "    tf.keras.layers.Dense(units=64, activation='swish'),\n",
    "    tf.keras.layers.Dense(units=64, activation='swish'),\n",
    "    tf.keras.layers.Dropout(0.2),\n",
    "    tf.keras.layers.Dense(units=64, activation='swish'),\n",
    "    tf.keras.layers.Dense(units=32, activation='swish'),\n",
    "    tf.keras.layers.Dropout(0.2),\n",
    "    tf.keras.layers.Dense(units=32, activation='swish'),\n",
    "    tf.keras.layers.Dense(units=16, activation='swish'),\n",
    "    tf.keras.layers.Dropout(0.2),\n",
    "    tf.keras.layers.Dense(units=1),         \n",
    "])\n",
    "model"
   ]
  },
  {
   "cell_type": "markdown",
   "metadata": {
    "id": "-3feIPeKEAAR"
   },
   "source": [
    "### 모델 컴파일\n",
    "모델을 훈련하기 전에 필요한 몇 가지 설정이 모델 컴파일 단계에서 추가됩니다:\n",
    "\n",
    "* 옵티마이저(Optimizer) - 데이터와 손실 함수를 바탕으로 모델의 업데이트 방법을 결정합니다.\n",
    "* 지표(Metrics) - 훈련 단계와 테스트 단계를 모니터링하기 위해 사용합니다. 다음 예에서는 올바르게 분류된 이미지의 비율인 정확도를 사용합니다.\n",
    "\n",
    "\n",
    "* 손실 함수(Loss function) - 훈련 하는 동안 모델의 오차를 측정합니다. 모델의 학습이 올바른 방향으로 향하도록 이 함수를 최소화해야 합니다. 최적의 가중치를 찾도록 해야함\n",
    "    * 회귀  : MSE, MAE\n",
    "    * 분류 : \n",
    "        * binary_crossentropy\n",
    "        * categorical_crossentropy(one-hot형태의 클래스 예: [0, 1, 0, 0])\n",
    "        * sparse_categorical_crossentropy(정답값이 0, 1, 2, 3, 4 와 같은 형태일 때)\n"
   ]
  },
  {
   "cell_type": "code",
   "execution_count": 266,
   "metadata": {
    "id": "51-SXAWxEAAR"
   },
   "outputs": [],
   "source": [
    "# 모델을 컴파일 합니다.\n",
    "lr_schedule = tf.keras.optimizers.schedules.ExponentialDecay(\n",
    "    initial_learning_rate=1e-2,\n",
    "    decay_steps=10000,\n",
    "    decay_rate=0.9)\n",
    "\n",
    "optimizer_use = tf.keras.optimizers.RMSprop(learning_rate = lr_schedule)\n",
    "model.compile(loss='mse', optimizer=optimizer_use, metrics=['mae','mse'])"
   ]
  },
  {
   "cell_type": "code",
   "execution_count": 267,
   "metadata": {
    "id": "Tz6CJ_i6EAAS"
   },
   "outputs": [
    {
     "name": "stdout",
     "output_type": "stream",
     "text": [
      "Model: \"sequential_11\"\n",
      "_________________________________________________________________\n",
      " Layer (type)                Output Shape              Param #   \n",
      "=================================================================\n",
      " dense_105 (Dense)           (None, 256)               2304      \n",
      "                                                                 \n",
      " dense_106 (Dense)           (None, 128)               32896     \n",
      "                                                                 \n",
      " dropout_44 (Dropout)        (None, 128)               0         \n",
      "                                                                 \n",
      " dense_107 (Dense)           (None, 128)               16512     \n",
      "                                                                 \n",
      " dense_108 (Dense)           (None, 128)               16512     \n",
      "                                                                 \n",
      " dropout_45 (Dropout)        (None, 128)               0         \n",
      "                                                                 \n",
      " dense_109 (Dense)           (None, 64)                8256      \n",
      "                                                                 \n",
      " dense_110 (Dense)           (None, 64)                4160      \n",
      "                                                                 \n",
      " dropout_46 (Dropout)        (None, 64)                0         \n",
      "                                                                 \n",
      " dense_111 (Dense)           (None, 64)                4160      \n",
      "                                                                 \n",
      " dense_112 (Dense)           (None, 32)                2080      \n",
      "                                                                 \n",
      " dropout_47 (Dropout)        (None, 32)                0         \n",
      "                                                                 \n",
      " dense_113 (Dense)           (None, 32)                1056      \n",
      "                                                                 \n",
      " dense_114 (Dense)           (None, 16)                528       \n",
      "                                                                 \n",
      " dropout_48 (Dropout)        (None, 16)                0         \n",
      "                                                                 \n",
      " dense_115 (Dense)           (None, 1)                 17        \n",
      "                                                                 \n",
      "=================================================================\n",
      "Total params: 88,481\n",
      "Trainable params: 88,481\n",
      "Non-trainable params: 0\n",
      "_________________________________________________________________\n"
     ]
    }
   ],
   "source": [
    "# 모델을 요약합니다.\n",
    "model.summary()"
   ]
  },
  {
   "cell_type": "markdown",
   "metadata": {
    "id": "vl4NMYz6EAAT"
   },
   "source": [
    "## 학습\n",
    "* 에포크마다 훈련 상태를 점검하기 위해 EarlyStopping 콜백(callback)을 사용하겠습니다. 지정된 에포크 횟수 동안 성능 향상이 없으면 자동으로 훈련이 멈춥니다."
   ]
  },
  {
   "cell_type": "code",
   "execution_count": 268,
   "metadata": {
    "id": "67yKveZ7EAAT"
   },
   "outputs": [],
   "source": [
    "# 모델을 학습합니다.\n",
    "# 학습결과를 history 변수에 할당합니다.\n",
    "# CallBack Functions\n",
    "checkpoint_dir = 'Training_checkpoint/'\n",
    "checkpoint_path = checkpoint_dir + 'cp-{epoch:04d}-{val_loss:.2f}.ckpt'\n",
    "patience_time = 100\n",
    "\n",
    "early_stopping = tf.keras.callbacks.EarlyStopping('val_loss', patience=patience_time)\n",
    "cp = tf.keras.callbacks.ModelCheckpoint(filepath = checkpoint_path, verbose=1,\n",
    "                                       save_weights_only = True,\n",
    "                                       save_best_only = True)"
   ]
  },
  {
   "cell_type": "code",
   "execution_count": 269,
   "metadata": {},
   "outputs": [
    {
     "data": {
      "application/vnd.jupyter.widget-view+json": {
       "model_id": "8651739a1106459085c17cb64df01f4e",
       "version_major": 2,
       "version_minor": 0
      },
      "text/plain": [
       "Training:   0%|                                                                               0/100 ETA: ?s,  …"
      ]
     },
     "metadata": {},
     "output_type": "display_data"
    },
    {
     "name": "stdout",
     "output_type": "stream",
     "text": [
      "Epoch 1/100\n"
     ]
    },
    {
     "data": {
      "application/vnd.jupyter.widget-view+json": {
       "model_id": "25ee798d44b14f31982750e6b5f3fa07",
       "version_major": 2,
       "version_minor": 0
      },
      "text/plain": [
       "0/8                                                                                                          E…"
      ]
     },
     "metadata": {},
     "output_type": "display_data"
    },
    {
     "name": "stdout",
     "output_type": "stream",
     "text": [
      "\n",
      "Epoch 1: val_loss improved from inf to 33692.73828, saving model to Training_checkpoint\\cp-0001-33692.74.ckpt\n",
      "Epoch 2/100\n"
     ]
    },
    {
     "data": {
      "application/vnd.jupyter.widget-view+json": {
       "model_id": "14345f8ddf8d477cb801e3fb6260e62d",
       "version_major": 2,
       "version_minor": 0
      },
      "text/plain": [
       "0/8                                                                                                          E…"
      ]
     },
     "metadata": {},
     "output_type": "display_data"
    },
    {
     "name": "stdout",
     "output_type": "stream",
     "text": [
      "\n",
      "Epoch 2: val_loss improved from 33692.73828 to 20928.93359, saving model to Training_checkpoint\\cp-0002-20928.93.ckpt\n",
      "Epoch 3/100\n"
     ]
    },
    {
     "data": {
      "application/vnd.jupyter.widget-view+json": {
       "model_id": "ad2d56ee5605483b8255aeab38f2049e",
       "version_major": 2,
       "version_minor": 0
      },
      "text/plain": [
       "0/8                                                                                                          E…"
      ]
     },
     "metadata": {},
     "output_type": "display_data"
    },
    {
     "name": "stdout",
     "output_type": "stream",
     "text": [
      "\n",
      "Epoch 3: val_loss improved from 20928.93359 to 15701.86914, saving model to Training_checkpoint\\cp-0003-15701.87.ckpt\n",
      "Epoch 4/100\n"
     ]
    },
    {
     "data": {
      "application/vnd.jupyter.widget-view+json": {
       "model_id": "6ec4593057474e3086ec8d98fa2872a6",
       "version_major": 2,
       "version_minor": 0
      },
      "text/plain": [
       "0/8                                                                                                          E…"
      ]
     },
     "metadata": {},
     "output_type": "display_data"
    },
    {
     "name": "stdout",
     "output_type": "stream",
     "text": [
      "\n",
      "Epoch 4: val_loss did not improve from 15701.86914\n",
      "Epoch 5/100\n"
     ]
    },
    {
     "data": {
      "application/vnd.jupyter.widget-view+json": {
       "model_id": "bf2c4303998c4250b93f2c19906eecb6",
       "version_major": 2,
       "version_minor": 0
      },
      "text/plain": [
       "0/8                                                                                                          E…"
      ]
     },
     "metadata": {},
     "output_type": "display_data"
    },
    {
     "name": "stdout",
     "output_type": "stream",
     "text": [
      "\n",
      "Epoch 5: val_loss improved from 15701.86914 to 15404.75293, saving model to Training_checkpoint\\cp-0005-15404.75.ckpt\n",
      "Epoch 6/100\n"
     ]
    },
    {
     "data": {
      "application/vnd.jupyter.widget-view+json": {
       "model_id": "f1b055f9c85c426588f000dc432c6e39",
       "version_major": 2,
       "version_minor": 0
      },
      "text/plain": [
       "0/8                                                                                                          E…"
      ]
     },
     "metadata": {},
     "output_type": "display_data"
    },
    {
     "name": "stdout",
     "output_type": "stream",
     "text": [
      "\n",
      "Epoch 6: val_loss did not improve from 15404.75293\n",
      "Epoch 7/100\n"
     ]
    },
    {
     "data": {
      "application/vnd.jupyter.widget-view+json": {
       "model_id": "2f2b7e497e1e4d0fa85a713dafdeac84",
       "version_major": 2,
       "version_minor": 0
      },
      "text/plain": [
       "0/8                                                                                                          E…"
      ]
     },
     "metadata": {},
     "output_type": "display_data"
    },
    {
     "name": "stdout",
     "output_type": "stream",
     "text": [
      "\n",
      "Epoch 7: val_loss improved from 15404.75293 to 15065.06543, saving model to Training_checkpoint\\cp-0007-15065.07.ckpt\n",
      "Epoch 8/100\n"
     ]
    },
    {
     "data": {
      "application/vnd.jupyter.widget-view+json": {
       "model_id": "0172bce3ba9a457799c1fcf33d5d30cb",
       "version_major": 2,
       "version_minor": 0
      },
      "text/plain": [
       "0/8                                                                                                          E…"
      ]
     },
     "metadata": {},
     "output_type": "display_data"
    },
    {
     "name": "stdout",
     "output_type": "stream",
     "text": [
      "\n",
      "Epoch 8: val_loss improved from 15065.06543 to 13223.82715, saving model to Training_checkpoint\\cp-0008-13223.83.ckpt\n",
      "Epoch 9/100\n"
     ]
    },
    {
     "data": {
      "application/vnd.jupyter.widget-view+json": {
       "model_id": "4e164d671fa14c45959ee14a0bd9a91e",
       "version_major": 2,
       "version_minor": 0
      },
      "text/plain": [
       "0/8                                                                                                          E…"
      ]
     },
     "metadata": {},
     "output_type": "display_data"
    },
    {
     "name": "stdout",
     "output_type": "stream",
     "text": [
      "\n",
      "Epoch 9: val_loss did not improve from 13223.82715\n",
      "Epoch 10/100\n"
     ]
    },
    {
     "data": {
      "application/vnd.jupyter.widget-view+json": {
       "model_id": "ef1f16c86dbe4ba19b494a0bb5d490b4",
       "version_major": 2,
       "version_minor": 0
      },
      "text/plain": [
       "0/8                                                                                                          E…"
      ]
     },
     "metadata": {},
     "output_type": "display_data"
    },
    {
     "name": "stdout",
     "output_type": "stream",
     "text": [
      "\n",
      "Epoch 10: val_loss did not improve from 13223.82715\n",
      "Epoch 11/100\n"
     ]
    },
    {
     "data": {
      "application/vnd.jupyter.widget-view+json": {
       "model_id": "4749979ea05d458d97824ea5abdfb5c6",
       "version_major": 2,
       "version_minor": 0
      },
      "text/plain": [
       "0/8                                                                                                          E…"
      ]
     },
     "metadata": {},
     "output_type": "display_data"
    },
    {
     "name": "stdout",
     "output_type": "stream",
     "text": [
      "\n",
      "Epoch 11: val_loss did not improve from 13223.82715\n",
      "Epoch 12/100\n"
     ]
    },
    {
     "data": {
      "application/vnd.jupyter.widget-view+json": {
       "model_id": "52480e9b7540470ebc98ee45cac9a343",
       "version_major": 2,
       "version_minor": 0
      },
      "text/plain": [
       "0/8                                                                                                          E…"
      ]
     },
     "metadata": {},
     "output_type": "display_data"
    },
    {
     "name": "stdout",
     "output_type": "stream",
     "text": [
      "\n",
      "Epoch 12: val_loss did not improve from 13223.82715\n",
      "Epoch 13/100\n"
     ]
    },
    {
     "data": {
      "application/vnd.jupyter.widget-view+json": {
       "model_id": "b54f8edc22774b13a25052175e352d8c",
       "version_major": 2,
       "version_minor": 0
      },
      "text/plain": [
       "0/8                                                                                                          E…"
      ]
     },
     "metadata": {},
     "output_type": "display_data"
    },
    {
     "name": "stdout",
     "output_type": "stream",
     "text": [
      "\n",
      "Epoch 13: val_loss did not improve from 13223.82715\n",
      "Epoch 14/100\n"
     ]
    },
    {
     "data": {
      "application/vnd.jupyter.widget-view+json": {
       "model_id": "600d695f0f4c4686acef395731002769",
       "version_major": 2,
       "version_minor": 0
      },
      "text/plain": [
       "0/8                                                                                                          E…"
      ]
     },
     "metadata": {},
     "output_type": "display_data"
    },
    {
     "name": "stdout",
     "output_type": "stream",
     "text": [
      "\n",
      "Epoch 14: val_loss did not improve from 13223.82715\n",
      "Epoch 15/100\n"
     ]
    },
    {
     "data": {
      "application/vnd.jupyter.widget-view+json": {
       "model_id": "68fbbbbdd3e04a85a5ef4bf00c1d945e",
       "version_major": 2,
       "version_minor": 0
      },
      "text/plain": [
       "0/8                                                                                                          E…"
      ]
     },
     "metadata": {},
     "output_type": "display_data"
    },
    {
     "name": "stdout",
     "output_type": "stream",
     "text": [
      "\n",
      "Epoch 15: val_loss did not improve from 13223.82715\n",
      "Epoch 16/100\n"
     ]
    },
    {
     "data": {
      "application/vnd.jupyter.widget-view+json": {
       "model_id": "80a3bdde62a442449467d1a9641a091d",
       "version_major": 2,
       "version_minor": 0
      },
      "text/plain": [
       "0/8                                                                                                          E…"
      ]
     },
     "metadata": {},
     "output_type": "display_data"
    },
    {
     "name": "stdout",
     "output_type": "stream",
     "text": [
      "\n",
      "Epoch 16: val_loss did not improve from 13223.82715\n",
      "Epoch 17/100\n"
     ]
    },
    {
     "data": {
      "application/vnd.jupyter.widget-view+json": {
       "model_id": "b297f2e57091432688375d909e1a3b3b",
       "version_major": 2,
       "version_minor": 0
      },
      "text/plain": [
       "0/8                                                                                                          E…"
      ]
     },
     "metadata": {},
     "output_type": "display_data"
    },
    {
     "name": "stdout",
     "output_type": "stream",
     "text": [
      "\n",
      "Epoch 17: val_loss did not improve from 13223.82715\n",
      "Epoch 18/100\n"
     ]
    },
    {
     "data": {
      "application/vnd.jupyter.widget-view+json": {
       "model_id": "2929566aa50c4698bf15ddab2a44cadf",
       "version_major": 2,
       "version_minor": 0
      },
      "text/plain": [
       "0/8                                                                                                          E…"
      ]
     },
     "metadata": {},
     "output_type": "display_data"
    },
    {
     "name": "stdout",
     "output_type": "stream",
     "text": [
      "\n",
      "Epoch 18: val_loss did not improve from 13223.82715\n",
      "Epoch 19/100\n"
     ]
    },
    {
     "data": {
      "application/vnd.jupyter.widget-view+json": {
       "model_id": "cb98dab2403240eca9fd13a264518683",
       "version_major": 2,
       "version_minor": 0
      },
      "text/plain": [
       "0/8                                                                                                          E…"
      ]
     },
     "metadata": {},
     "output_type": "display_data"
    },
    {
     "name": "stdout",
     "output_type": "stream",
     "text": [
      "\n",
      "Epoch 19: val_loss did not improve from 13223.82715\n",
      "Epoch 20/100\n"
     ]
    },
    {
     "data": {
      "application/vnd.jupyter.widget-view+json": {
       "model_id": "393c3f8db4bd45179c9dc95790b8f87b",
       "version_major": 2,
       "version_minor": 0
      },
      "text/plain": [
       "0/8                                                                                                          E…"
      ]
     },
     "metadata": {},
     "output_type": "display_data"
    },
    {
     "name": "stdout",
     "output_type": "stream",
     "text": [
      "\n",
      "Epoch 20: val_loss did not improve from 13223.82715\n",
      "Epoch 21/100\n"
     ]
    },
    {
     "data": {
      "application/vnd.jupyter.widget-view+json": {
       "model_id": "3be46b7df88344a3965fe4bfcd46770c",
       "version_major": 2,
       "version_minor": 0
      },
      "text/plain": [
       "0/8                                                                                                          E…"
      ]
     },
     "metadata": {},
     "output_type": "display_data"
    },
    {
     "name": "stdout",
     "output_type": "stream",
     "text": [
      "\n",
      "Epoch 21: val_loss did not improve from 13223.82715\n",
      "Epoch 22/100\n"
     ]
    },
    {
     "data": {
      "application/vnd.jupyter.widget-view+json": {
       "model_id": "d3cced57ed4d49c085f5eeb502e99de2",
       "version_major": 2,
       "version_minor": 0
      },
      "text/plain": [
       "0/8                                                                                                          E…"
      ]
     },
     "metadata": {},
     "output_type": "display_data"
    },
    {
     "name": "stdout",
     "output_type": "stream",
     "text": [
      "\n",
      "Epoch 22: val_loss did not improve from 13223.82715\n",
      "Epoch 23/100\n"
     ]
    },
    {
     "data": {
      "application/vnd.jupyter.widget-view+json": {
       "model_id": "ed71cb5aa87b45a7bd33cab19a9ebf9f",
       "version_major": 2,
       "version_minor": 0
      },
      "text/plain": [
       "0/8                                                                                                          E…"
      ]
     },
     "metadata": {},
     "output_type": "display_data"
    },
    {
     "name": "stdout",
     "output_type": "stream",
     "text": [
      "\n",
      "Epoch 23: val_loss did not improve from 13223.82715\n",
      "Epoch 24/100\n"
     ]
    },
    {
     "data": {
      "application/vnd.jupyter.widget-view+json": {
       "model_id": "a7616aa49d5d435db7d688e517e1bae5",
       "version_major": 2,
       "version_minor": 0
      },
      "text/plain": [
       "0/8                                                                                                          E…"
      ]
     },
     "metadata": {},
     "output_type": "display_data"
    },
    {
     "name": "stdout",
     "output_type": "stream",
     "text": [
      "\n",
      "Epoch 24: val_loss did not improve from 13223.82715\n",
      "Epoch 25/100\n"
     ]
    },
    {
     "data": {
      "application/vnd.jupyter.widget-view+json": {
       "model_id": "f222838246cb455eb186894bca9aee10",
       "version_major": 2,
       "version_minor": 0
      },
      "text/plain": [
       "0/8                                                                                                          E…"
      ]
     },
     "metadata": {},
     "output_type": "display_data"
    },
    {
     "name": "stdout",
     "output_type": "stream",
     "text": [
      "\n",
      "Epoch 25: val_loss did not improve from 13223.82715\n",
      "Epoch 26/100\n"
     ]
    },
    {
     "data": {
      "application/vnd.jupyter.widget-view+json": {
       "model_id": "839951d9b16d465cb66d73fb67b3fa5b",
       "version_major": 2,
       "version_minor": 0
      },
      "text/plain": [
       "0/8                                                                                                          E…"
      ]
     },
     "metadata": {},
     "output_type": "display_data"
    },
    {
     "name": "stdout",
     "output_type": "stream",
     "text": [
      "\n",
      "Epoch 26: val_loss did not improve from 13223.82715\n",
      "Epoch 27/100\n"
     ]
    },
    {
     "data": {
      "application/vnd.jupyter.widget-view+json": {
       "model_id": "540653e6bf584f8bacf37b0174e1940b",
       "version_major": 2,
       "version_minor": 0
      },
      "text/plain": [
       "0/8                                                                                                          E…"
      ]
     },
     "metadata": {},
     "output_type": "display_data"
    },
    {
     "name": "stdout",
     "output_type": "stream",
     "text": [
      "\n",
      "Epoch 27: val_loss did not improve from 13223.82715\n",
      "Epoch 28/100\n"
     ]
    },
    {
     "data": {
      "application/vnd.jupyter.widget-view+json": {
       "model_id": "cbc50ed8b12b43dba146e719adb3c42f",
       "version_major": 2,
       "version_minor": 0
      },
      "text/plain": [
       "0/8                                                                                                          E…"
      ]
     },
     "metadata": {},
     "output_type": "display_data"
    },
    {
     "name": "stdout",
     "output_type": "stream",
     "text": [
      "\n",
      "Epoch 28: val_loss did not improve from 13223.82715\n",
      "Epoch 29/100\n"
     ]
    },
    {
     "data": {
      "application/vnd.jupyter.widget-view+json": {
       "model_id": "9489305c1ebd413f80837e2fb58abd36",
       "version_major": 2,
       "version_minor": 0
      },
      "text/plain": [
       "0/8                                                                                                          E…"
      ]
     },
     "metadata": {},
     "output_type": "display_data"
    },
    {
     "name": "stdout",
     "output_type": "stream",
     "text": [
      "\n",
      "Epoch 29: val_loss did not improve from 13223.82715\n",
      "Epoch 30/100\n"
     ]
    },
    {
     "data": {
      "application/vnd.jupyter.widget-view+json": {
       "model_id": "cbf73632d7bc41e2a103591df6e4e2b2",
       "version_major": 2,
       "version_minor": 0
      },
      "text/plain": [
       "0/8                                                                                                          E…"
      ]
     },
     "metadata": {},
     "output_type": "display_data"
    },
    {
     "name": "stdout",
     "output_type": "stream",
     "text": [
      "\n",
      "Epoch 30: val_loss did not improve from 13223.82715\n",
      "Epoch 31/100\n"
     ]
    },
    {
     "data": {
      "application/vnd.jupyter.widget-view+json": {
       "model_id": "8972b143f8d44a548c17f664204a0cf3",
       "version_major": 2,
       "version_minor": 0
      },
      "text/plain": [
       "0/8                                                                                                          E…"
      ]
     },
     "metadata": {},
     "output_type": "display_data"
    },
    {
     "name": "stdout",
     "output_type": "stream",
     "text": [
      "\n",
      "Epoch 31: val_loss did not improve from 13223.82715\n",
      "Epoch 32/100\n"
     ]
    },
    {
     "data": {
      "application/vnd.jupyter.widget-view+json": {
       "model_id": "54ff26e20d12465d896bdceac88c05f0",
       "version_major": 2,
       "version_minor": 0
      },
      "text/plain": [
       "0/8                                                                                                          E…"
      ]
     },
     "metadata": {},
     "output_type": "display_data"
    },
    {
     "name": "stdout",
     "output_type": "stream",
     "text": [
      "\n",
      "Epoch 32: val_loss did not improve from 13223.82715\n",
      "Epoch 33/100\n"
     ]
    },
    {
     "data": {
      "application/vnd.jupyter.widget-view+json": {
       "model_id": "d1b69a087cb548be8f945fe52ea71ad7",
       "version_major": 2,
       "version_minor": 0
      },
      "text/plain": [
       "0/8                                                                                                          E…"
      ]
     },
     "metadata": {},
     "output_type": "display_data"
    },
    {
     "name": "stdout",
     "output_type": "stream",
     "text": [
      "\n",
      "Epoch 33: val_loss did not improve from 13223.82715\n",
      "Epoch 34/100\n"
     ]
    },
    {
     "data": {
      "application/vnd.jupyter.widget-view+json": {
       "model_id": "5036053d4e6146b08a70721f73c4bcd2",
       "version_major": 2,
       "version_minor": 0
      },
      "text/plain": [
       "0/8                                                                                                          E…"
      ]
     },
     "metadata": {},
     "output_type": "display_data"
    },
    {
     "name": "stdout",
     "output_type": "stream",
     "text": [
      "\n",
      "Epoch 34: val_loss did not improve from 13223.82715\n",
      "Epoch 35/100\n"
     ]
    },
    {
     "data": {
      "application/vnd.jupyter.widget-view+json": {
       "model_id": "cff50274da534359911371202c3341a7",
       "version_major": 2,
       "version_minor": 0
      },
      "text/plain": [
       "0/8                                                                                                          E…"
      ]
     },
     "metadata": {},
     "output_type": "display_data"
    },
    {
     "name": "stdout",
     "output_type": "stream",
     "text": [
      "\n",
      "Epoch 35: val_loss did not improve from 13223.82715\n",
      "Epoch 36/100\n"
     ]
    },
    {
     "data": {
      "application/vnd.jupyter.widget-view+json": {
       "model_id": "abdb54e578c34574903d7e4e4c4127c2",
       "version_major": 2,
       "version_minor": 0
      },
      "text/plain": [
       "0/8                                                                                                          E…"
      ]
     },
     "metadata": {},
     "output_type": "display_data"
    },
    {
     "name": "stdout",
     "output_type": "stream",
     "text": [
      "\n",
      "Epoch 36: val_loss did not improve from 13223.82715\n",
      "Epoch 37/100\n"
     ]
    },
    {
     "data": {
      "application/vnd.jupyter.widget-view+json": {
       "model_id": "137831a4ae584734a7c4238d9347dc1b",
       "version_major": 2,
       "version_minor": 0
      },
      "text/plain": [
       "0/8                                                                                                          E…"
      ]
     },
     "metadata": {},
     "output_type": "display_data"
    },
    {
     "name": "stdout",
     "output_type": "stream",
     "text": [
      "\n",
      "Epoch 37: val_loss did not improve from 13223.82715\n",
      "Epoch 38/100\n"
     ]
    },
    {
     "data": {
      "application/vnd.jupyter.widget-view+json": {
       "model_id": "01bed468c69a46f5888a5471618a818a",
       "version_major": 2,
       "version_minor": 0
      },
      "text/plain": [
       "0/8                                                                                                          E…"
      ]
     },
     "metadata": {},
     "output_type": "display_data"
    },
    {
     "name": "stdout",
     "output_type": "stream",
     "text": [
      "\n",
      "Epoch 38: val_loss did not improve from 13223.82715\n",
      "Epoch 39/100\n"
     ]
    },
    {
     "data": {
      "application/vnd.jupyter.widget-view+json": {
       "model_id": "f920daf3ef2e49d49b2e7e7165d123da",
       "version_major": 2,
       "version_minor": 0
      },
      "text/plain": [
       "0/8                                                                                                          E…"
      ]
     },
     "metadata": {},
     "output_type": "display_data"
    },
    {
     "name": "stdout",
     "output_type": "stream",
     "text": [
      "\n",
      "Epoch 39: val_loss did not improve from 13223.82715\n",
      "Epoch 40/100\n"
     ]
    },
    {
     "data": {
      "application/vnd.jupyter.widget-view+json": {
       "model_id": "a118dfcc76c440f1b16b63ee56019916",
       "version_major": 2,
       "version_minor": 0
      },
      "text/plain": [
       "0/8                                                                                                          E…"
      ]
     },
     "metadata": {},
     "output_type": "display_data"
    },
    {
     "name": "stdout",
     "output_type": "stream",
     "text": [
      "\n",
      "Epoch 40: val_loss did not improve from 13223.82715\n",
      "Epoch 41/100\n"
     ]
    },
    {
     "data": {
      "application/vnd.jupyter.widget-view+json": {
       "model_id": "f5ad4293d29a4f249441bdc02b962818",
       "version_major": 2,
       "version_minor": 0
      },
      "text/plain": [
       "0/8                                                                                                          E…"
      ]
     },
     "metadata": {},
     "output_type": "display_data"
    },
    {
     "name": "stdout",
     "output_type": "stream",
     "text": [
      "\n",
      "Epoch 41: val_loss did not improve from 13223.82715\n",
      "Epoch 42/100\n"
     ]
    },
    {
     "data": {
      "application/vnd.jupyter.widget-view+json": {
       "model_id": "cd141d6c8dfc46f98a1bdf4b11fbb6fc",
       "version_major": 2,
       "version_minor": 0
      },
      "text/plain": [
       "0/8                                                                                                          E…"
      ]
     },
     "metadata": {},
     "output_type": "display_data"
    },
    {
     "name": "stdout",
     "output_type": "stream",
     "text": [
      "\n",
      "Epoch 42: val_loss did not improve from 13223.82715\n",
      "Epoch 43/100\n"
     ]
    },
    {
     "data": {
      "application/vnd.jupyter.widget-view+json": {
       "model_id": "58d09e5d61574014b63b3f3c8e07ed1e",
       "version_major": 2,
       "version_minor": 0
      },
      "text/plain": [
       "0/8                                                                                                          E…"
      ]
     },
     "metadata": {},
     "output_type": "display_data"
    },
    {
     "name": "stdout",
     "output_type": "stream",
     "text": [
      "\n",
      "Epoch 43: val_loss did not improve from 13223.82715\n",
      "Epoch 44/100\n"
     ]
    },
    {
     "data": {
      "application/vnd.jupyter.widget-view+json": {
       "model_id": "847eeaa83faf448090e18ed74ebbbfc9",
       "version_major": 2,
       "version_minor": 0
      },
      "text/plain": [
       "0/8                                                                                                          E…"
      ]
     },
     "metadata": {},
     "output_type": "display_data"
    },
    {
     "name": "stdout",
     "output_type": "stream",
     "text": [
      "\n",
      "Epoch 44: val_loss did not improve from 13223.82715\n",
      "Epoch 45/100\n"
     ]
    },
    {
     "data": {
      "application/vnd.jupyter.widget-view+json": {
       "model_id": "5a26aa38f50c40eeb468808fa8c9e6c9",
       "version_major": 2,
       "version_minor": 0
      },
      "text/plain": [
       "0/8                                                                                                          E…"
      ]
     },
     "metadata": {},
     "output_type": "display_data"
    },
    {
     "name": "stdout",
     "output_type": "stream",
     "text": [
      "\n",
      "Epoch 45: val_loss did not improve from 13223.82715\n",
      "Epoch 46/100\n"
     ]
    },
    {
     "data": {
      "application/vnd.jupyter.widget-view+json": {
       "model_id": "6b43f9012d5e4bfaba24a6fbd262a561",
       "version_major": 2,
       "version_minor": 0
      },
      "text/plain": [
       "0/8                                                                                                          E…"
      ]
     },
     "metadata": {},
     "output_type": "display_data"
    },
    {
     "name": "stdout",
     "output_type": "stream",
     "text": [
      "\n",
      "Epoch 46: val_loss did not improve from 13223.82715\n",
      "Epoch 47/100\n"
     ]
    },
    {
     "data": {
      "application/vnd.jupyter.widget-view+json": {
       "model_id": "bb9248de75f44ab3be8c06f1353891a7",
       "version_major": 2,
       "version_minor": 0
      },
      "text/plain": [
       "0/8                                                                                                          E…"
      ]
     },
     "metadata": {},
     "output_type": "display_data"
    },
    {
     "name": "stdout",
     "output_type": "stream",
     "text": [
      "\n",
      "Epoch 47: val_loss did not improve from 13223.82715\n",
      "Epoch 48/100\n"
     ]
    },
    {
     "data": {
      "application/vnd.jupyter.widget-view+json": {
       "model_id": "57d66d8ab2334924866646e5eb777da2",
       "version_major": 2,
       "version_minor": 0
      },
      "text/plain": [
       "0/8                                                                                                          E…"
      ]
     },
     "metadata": {},
     "output_type": "display_data"
    },
    {
     "name": "stdout",
     "output_type": "stream",
     "text": [
      "\n",
      "Epoch 48: val_loss did not improve from 13223.82715\n",
      "Epoch 49/100\n"
     ]
    },
    {
     "data": {
      "application/vnd.jupyter.widget-view+json": {
       "model_id": "f62f5288d2bc4c4aa77e19ed2c2575db",
       "version_major": 2,
       "version_minor": 0
      },
      "text/plain": [
       "0/8                                                                                                          E…"
      ]
     },
     "metadata": {},
     "output_type": "display_data"
    },
    {
     "name": "stdout",
     "output_type": "stream",
     "text": [
      "\n",
      "Epoch 49: val_loss did not improve from 13223.82715\n",
      "Epoch 50/100\n"
     ]
    },
    {
     "data": {
      "application/vnd.jupyter.widget-view+json": {
       "model_id": "0c6d44abeb674ca3836b9fa144f60cbf",
       "version_major": 2,
       "version_minor": 0
      },
      "text/plain": [
       "0/8                                                                                                          E…"
      ]
     },
     "metadata": {},
     "output_type": "display_data"
    },
    {
     "name": "stdout",
     "output_type": "stream",
     "text": [
      "\n",
      "Epoch 50: val_loss did not improve from 13223.82715\n",
      "Epoch 51/100\n"
     ]
    },
    {
     "data": {
      "application/vnd.jupyter.widget-view+json": {
       "model_id": "5de3f7736b6f4da0a70c55d340716354",
       "version_major": 2,
       "version_minor": 0
      },
      "text/plain": [
       "0/8                                                                                                          E…"
      ]
     },
     "metadata": {},
     "output_type": "display_data"
    },
    {
     "name": "stdout",
     "output_type": "stream",
     "text": [
      "\n",
      "Epoch 51: val_loss did not improve from 13223.82715\n",
      "Epoch 52/100\n"
     ]
    },
    {
     "data": {
      "application/vnd.jupyter.widget-view+json": {
       "model_id": "d002e87c38444271b40fa453dd72c1b4",
       "version_major": 2,
       "version_minor": 0
      },
      "text/plain": [
       "0/8                                                                                                          E…"
      ]
     },
     "metadata": {},
     "output_type": "display_data"
    },
    {
     "name": "stdout",
     "output_type": "stream",
     "text": [
      "\n",
      "Epoch 52: val_loss did not improve from 13223.82715\n",
      "Epoch 53/100\n"
     ]
    },
    {
     "data": {
      "application/vnd.jupyter.widget-view+json": {
       "model_id": "8b38da93c72a40e4814fddedd93f3914",
       "version_major": 2,
       "version_minor": 0
      },
      "text/plain": [
       "0/8                                                                                                          E…"
      ]
     },
     "metadata": {},
     "output_type": "display_data"
    },
    {
     "name": "stdout",
     "output_type": "stream",
     "text": [
      "\n",
      "Epoch 53: val_loss did not improve from 13223.82715\n",
      "Epoch 54/100\n"
     ]
    },
    {
     "data": {
      "application/vnd.jupyter.widget-view+json": {
       "model_id": "863644d0916d4c498df8099a47b6c82a",
       "version_major": 2,
       "version_minor": 0
      },
      "text/plain": [
       "0/8                                                                                                          E…"
      ]
     },
     "metadata": {},
     "output_type": "display_data"
    },
    {
     "name": "stdout",
     "output_type": "stream",
     "text": [
      "\n",
      "Epoch 54: val_loss did not improve from 13223.82715\n",
      "Epoch 55/100\n"
     ]
    },
    {
     "data": {
      "application/vnd.jupyter.widget-view+json": {
       "model_id": "4db163827ac04cc9aaa2e069750af44e",
       "version_major": 2,
       "version_minor": 0
      },
      "text/plain": [
       "0/8                                                                                                          E…"
      ]
     },
     "metadata": {},
     "output_type": "display_data"
    },
    {
     "name": "stdout",
     "output_type": "stream",
     "text": [
      "\n",
      "Epoch 55: val_loss did not improve from 13223.82715\n",
      "Epoch 56/100\n"
     ]
    },
    {
     "data": {
      "application/vnd.jupyter.widget-view+json": {
       "model_id": "a12b4e74db84469791986f2bf277b7c5",
       "version_major": 2,
       "version_minor": 0
      },
      "text/plain": [
       "0/8                                                                                                          E…"
      ]
     },
     "metadata": {},
     "output_type": "display_data"
    },
    {
     "name": "stdout",
     "output_type": "stream",
     "text": [
      "\n",
      "Epoch 56: val_loss did not improve from 13223.82715\n",
      "Epoch 57/100\n"
     ]
    },
    {
     "data": {
      "application/vnd.jupyter.widget-view+json": {
       "model_id": "470f86a4ba694cfda2e690c443160fed",
       "version_major": 2,
       "version_minor": 0
      },
      "text/plain": [
       "0/8                                                                                                          E…"
      ]
     },
     "metadata": {},
     "output_type": "display_data"
    },
    {
     "name": "stdout",
     "output_type": "stream",
     "text": [
      "\n",
      "Epoch 57: val_loss did not improve from 13223.82715\n",
      "Epoch 58/100\n"
     ]
    },
    {
     "data": {
      "application/vnd.jupyter.widget-view+json": {
       "model_id": "8037f69052244ecfb9428688650fbe11",
       "version_major": 2,
       "version_minor": 0
      },
      "text/plain": [
       "0/8                                                                                                          E…"
      ]
     },
     "metadata": {},
     "output_type": "display_data"
    },
    {
     "name": "stdout",
     "output_type": "stream",
     "text": [
      "\n",
      "Epoch 58: val_loss did not improve from 13223.82715\n",
      "Epoch 59/100\n"
     ]
    },
    {
     "data": {
      "application/vnd.jupyter.widget-view+json": {
       "model_id": "bfe866d5e4dd445dbcd1c4775901eaf5",
       "version_major": 2,
       "version_minor": 0
      },
      "text/plain": [
       "0/8                                                                                                          E…"
      ]
     },
     "metadata": {},
     "output_type": "display_data"
    },
    {
     "name": "stdout",
     "output_type": "stream",
     "text": [
      "\n",
      "Epoch 59: val_loss did not improve from 13223.82715\n",
      "Epoch 60/100\n"
     ]
    },
    {
     "data": {
      "application/vnd.jupyter.widget-view+json": {
       "model_id": "f45c979c796c44f9b35c15fd1bd3a2c9",
       "version_major": 2,
       "version_minor": 0
      },
      "text/plain": [
       "0/8                                                                                                          E…"
      ]
     },
     "metadata": {},
     "output_type": "display_data"
    },
    {
     "name": "stdout",
     "output_type": "stream",
     "text": [
      "\n",
      "Epoch 60: val_loss did not improve from 13223.82715\n",
      "Epoch 61/100\n"
     ]
    },
    {
     "data": {
      "application/vnd.jupyter.widget-view+json": {
       "model_id": "f9879b2bbbdf4487929123ec6466c947",
       "version_major": 2,
       "version_minor": 0
      },
      "text/plain": [
       "0/8                                                                                                          E…"
      ]
     },
     "metadata": {},
     "output_type": "display_data"
    },
    {
     "name": "stdout",
     "output_type": "stream",
     "text": [
      "\n",
      "Epoch 61: val_loss did not improve from 13223.82715\n",
      "Epoch 62/100\n"
     ]
    },
    {
     "data": {
      "application/vnd.jupyter.widget-view+json": {
       "model_id": "0e6a10c770184896b18d76a28bbb4c33",
       "version_major": 2,
       "version_minor": 0
      },
      "text/plain": [
       "0/8                                                                                                          E…"
      ]
     },
     "metadata": {},
     "output_type": "display_data"
    },
    {
     "name": "stdout",
     "output_type": "stream",
     "text": [
      "\n",
      "Epoch 62: val_loss did not improve from 13223.82715\n",
      "Epoch 63/100\n"
     ]
    },
    {
     "data": {
      "application/vnd.jupyter.widget-view+json": {
       "model_id": "806f74eb66824e62a814810eb95e26f8",
       "version_major": 2,
       "version_minor": 0
      },
      "text/plain": [
       "0/8                                                                                                          E…"
      ]
     },
     "metadata": {},
     "output_type": "display_data"
    },
    {
     "name": "stdout",
     "output_type": "stream",
     "text": [
      "\n",
      "Epoch 63: val_loss did not improve from 13223.82715\n",
      "Epoch 64/100\n"
     ]
    },
    {
     "data": {
      "application/vnd.jupyter.widget-view+json": {
       "model_id": "128e08688bef478da491d9ade7a08fef",
       "version_major": 2,
       "version_minor": 0
      },
      "text/plain": [
       "0/8                                                                                                          E…"
      ]
     },
     "metadata": {},
     "output_type": "display_data"
    },
    {
     "name": "stdout",
     "output_type": "stream",
     "text": [
      "\n",
      "Epoch 64: val_loss did not improve from 13223.82715\n",
      "Epoch 65/100\n"
     ]
    },
    {
     "data": {
      "application/vnd.jupyter.widget-view+json": {
       "model_id": "7fb37ffca6304a7f9aedb9da268fac0a",
       "version_major": 2,
       "version_minor": 0
      },
      "text/plain": [
       "0/8                                                                                                          E…"
      ]
     },
     "metadata": {},
     "output_type": "display_data"
    },
    {
     "name": "stdout",
     "output_type": "stream",
     "text": [
      "\n",
      "Epoch 65: val_loss did not improve from 13223.82715\n",
      "Epoch 66/100\n"
     ]
    },
    {
     "data": {
      "application/vnd.jupyter.widget-view+json": {
       "model_id": "fe5f90fa4c1142e08dd3bb2dc270432d",
       "version_major": 2,
       "version_minor": 0
      },
      "text/plain": [
       "0/8                                                                                                          E…"
      ]
     },
     "metadata": {},
     "output_type": "display_data"
    },
    {
     "name": "stdout",
     "output_type": "stream",
     "text": [
      "\n",
      "Epoch 66: val_loss did not improve from 13223.82715\n",
      "Epoch 67/100\n"
     ]
    },
    {
     "data": {
      "application/vnd.jupyter.widget-view+json": {
       "model_id": "dc3dc7855ca746be80f6c9a43b5e0c21",
       "version_major": 2,
       "version_minor": 0
      },
      "text/plain": [
       "0/8                                                                                                          E…"
      ]
     },
     "metadata": {},
     "output_type": "display_data"
    },
    {
     "name": "stdout",
     "output_type": "stream",
     "text": [
      "\n",
      "Epoch 67: val_loss did not improve from 13223.82715\n",
      "Epoch 68/100\n"
     ]
    },
    {
     "data": {
      "application/vnd.jupyter.widget-view+json": {
       "model_id": "b40da6c7d3e84115be4055f8934dd873",
       "version_major": 2,
       "version_minor": 0
      },
      "text/plain": [
       "0/8                                                                                                          E…"
      ]
     },
     "metadata": {},
     "output_type": "display_data"
    },
    {
     "name": "stdout",
     "output_type": "stream",
     "text": [
      "\n",
      "Epoch 68: val_loss did not improve from 13223.82715\n",
      "Epoch 69/100\n"
     ]
    },
    {
     "data": {
      "application/vnd.jupyter.widget-view+json": {
       "model_id": "b6d359a2836141cf9279cebfd5dbc5f5",
       "version_major": 2,
       "version_minor": 0
      },
      "text/plain": [
       "0/8                                                                                                          E…"
      ]
     },
     "metadata": {},
     "output_type": "display_data"
    },
    {
     "name": "stdout",
     "output_type": "stream",
     "text": [
      "\n",
      "Epoch 69: val_loss did not improve from 13223.82715\n",
      "Epoch 70/100\n"
     ]
    },
    {
     "data": {
      "application/vnd.jupyter.widget-view+json": {
       "model_id": "01ca808aeebf44b59240fb50691f3d96",
       "version_major": 2,
       "version_minor": 0
      },
      "text/plain": [
       "0/8                                                                                                          E…"
      ]
     },
     "metadata": {},
     "output_type": "display_data"
    },
    {
     "name": "stdout",
     "output_type": "stream",
     "text": [
      "\n",
      "Epoch 70: val_loss did not improve from 13223.82715\n",
      "Epoch 71/100\n"
     ]
    },
    {
     "data": {
      "application/vnd.jupyter.widget-view+json": {
       "model_id": "de5ea3f0e1874461898ee2d83e320d90",
       "version_major": 2,
       "version_minor": 0
      },
      "text/plain": [
       "0/8                                                                                                          E…"
      ]
     },
     "metadata": {},
     "output_type": "display_data"
    },
    {
     "name": "stdout",
     "output_type": "stream",
     "text": [
      "\n",
      "Epoch 71: val_loss did not improve from 13223.82715\n",
      "Epoch 72/100\n"
     ]
    },
    {
     "data": {
      "application/vnd.jupyter.widget-view+json": {
       "model_id": "bd7a0455e08148b9bdf31bf5ff785138",
       "version_major": 2,
       "version_minor": 0
      },
      "text/plain": [
       "0/8                                                                                                          E…"
      ]
     },
     "metadata": {},
     "output_type": "display_data"
    },
    {
     "name": "stdout",
     "output_type": "stream",
     "text": [
      "\n",
      "Epoch 72: val_loss did not improve from 13223.82715\n",
      "Epoch 73/100\n"
     ]
    },
    {
     "data": {
      "application/vnd.jupyter.widget-view+json": {
       "model_id": "b49d4902a5024f72b19b3b039a857a1d",
       "version_major": 2,
       "version_minor": 0
      },
      "text/plain": [
       "0/8                                                                                                          E…"
      ]
     },
     "metadata": {},
     "output_type": "display_data"
    },
    {
     "name": "stdout",
     "output_type": "stream",
     "text": [
      "\n",
      "Epoch 73: val_loss did not improve from 13223.82715\n",
      "Epoch 74/100\n"
     ]
    },
    {
     "data": {
      "application/vnd.jupyter.widget-view+json": {
       "model_id": "0d0351732f084d498f3ad408488457dc",
       "version_major": 2,
       "version_minor": 0
      },
      "text/plain": [
       "0/8                                                                                                          E…"
      ]
     },
     "metadata": {},
     "output_type": "display_data"
    },
    {
     "name": "stdout",
     "output_type": "stream",
     "text": [
      "\n",
      "Epoch 74: val_loss did not improve from 13223.82715\n",
      "Epoch 75/100\n"
     ]
    },
    {
     "data": {
      "application/vnd.jupyter.widget-view+json": {
       "model_id": "83ca1d531a9142faa29edd710aea64ef",
       "version_major": 2,
       "version_minor": 0
      },
      "text/plain": [
       "0/8                                                                                                          E…"
      ]
     },
     "metadata": {},
     "output_type": "display_data"
    },
    {
     "name": "stdout",
     "output_type": "stream",
     "text": [
      "\n",
      "Epoch 75: val_loss did not improve from 13223.82715\n",
      "Epoch 76/100\n"
     ]
    },
    {
     "data": {
      "application/vnd.jupyter.widget-view+json": {
       "model_id": "4d175b5bbb924eac858d80516275d61a",
       "version_major": 2,
       "version_minor": 0
      },
      "text/plain": [
       "0/8                                                                                                          E…"
      ]
     },
     "metadata": {},
     "output_type": "display_data"
    },
    {
     "name": "stdout",
     "output_type": "stream",
     "text": [
      "\n",
      "Epoch 76: val_loss did not improve from 13223.82715\n",
      "Epoch 77/100\n"
     ]
    },
    {
     "data": {
      "application/vnd.jupyter.widget-view+json": {
       "model_id": "51a26e086def4af783194061161d882b",
       "version_major": 2,
       "version_minor": 0
      },
      "text/plain": [
       "0/8                                                                                                          E…"
      ]
     },
     "metadata": {},
     "output_type": "display_data"
    },
    {
     "name": "stdout",
     "output_type": "stream",
     "text": [
      "\n",
      "Epoch 77: val_loss did not improve from 13223.82715\n",
      "Epoch 78/100\n"
     ]
    },
    {
     "data": {
      "application/vnd.jupyter.widget-view+json": {
       "model_id": "647032baa17848dda02f1c98cf0e3614",
       "version_major": 2,
       "version_minor": 0
      },
      "text/plain": [
       "0/8                                                                                                          E…"
      ]
     },
     "metadata": {},
     "output_type": "display_data"
    },
    {
     "name": "stdout",
     "output_type": "stream",
     "text": [
      "\n",
      "Epoch 78: val_loss did not improve from 13223.82715\n",
      "Epoch 79/100\n"
     ]
    },
    {
     "data": {
      "application/vnd.jupyter.widget-view+json": {
       "model_id": "1107aa0c57144d65bc0013fafd7a6d23",
       "version_major": 2,
       "version_minor": 0
      },
      "text/plain": [
       "0/8                                                                                                          E…"
      ]
     },
     "metadata": {},
     "output_type": "display_data"
    },
    {
     "name": "stdout",
     "output_type": "stream",
     "text": [
      "\n",
      "Epoch 79: val_loss did not improve from 13223.82715\n",
      "Epoch 80/100\n"
     ]
    },
    {
     "data": {
      "application/vnd.jupyter.widget-view+json": {
       "model_id": "cc164913661246ef98e03e6c4dbc66db",
       "version_major": 2,
       "version_minor": 0
      },
      "text/plain": [
       "0/8                                                                                                          E…"
      ]
     },
     "metadata": {},
     "output_type": "display_data"
    },
    {
     "name": "stdout",
     "output_type": "stream",
     "text": [
      "\n",
      "Epoch 80: val_loss did not improve from 13223.82715\n",
      "Epoch 81/100\n"
     ]
    },
    {
     "data": {
      "application/vnd.jupyter.widget-view+json": {
       "model_id": "8daba4a98a5142658b857d5ff1a453b9",
       "version_major": 2,
       "version_minor": 0
      },
      "text/plain": [
       "0/8                                                                                                          E…"
      ]
     },
     "metadata": {},
     "output_type": "display_data"
    },
    {
     "name": "stdout",
     "output_type": "stream",
     "text": [
      "\n",
      "Epoch 81: val_loss did not improve from 13223.82715\n",
      "Epoch 82/100\n"
     ]
    },
    {
     "data": {
      "application/vnd.jupyter.widget-view+json": {
       "model_id": "2864b170b5d941929a2eea3a574aabe1",
       "version_major": 2,
       "version_minor": 0
      },
      "text/plain": [
       "0/8                                                                                                          E…"
      ]
     },
     "metadata": {},
     "output_type": "display_data"
    },
    {
     "name": "stdout",
     "output_type": "stream",
     "text": [
      "\n",
      "Epoch 82: val_loss did not improve from 13223.82715\n",
      "Epoch 83/100\n"
     ]
    },
    {
     "data": {
      "application/vnd.jupyter.widget-view+json": {
       "model_id": "252e47b52aa646c9baa1525cbc8de9d9",
       "version_major": 2,
       "version_minor": 0
      },
      "text/plain": [
       "0/8                                                                                                          E…"
      ]
     },
     "metadata": {},
     "output_type": "display_data"
    },
    {
     "name": "stdout",
     "output_type": "stream",
     "text": [
      "\n",
      "Epoch 83: val_loss improved from 13223.82715 to 13136.39258, saving model to Training_checkpoint\\cp-0083-13136.39.ckpt\n",
      "Epoch 84/100\n"
     ]
    },
    {
     "data": {
      "application/vnd.jupyter.widget-view+json": {
       "model_id": "ef8a344feeff46809e6391cacc19b0df",
       "version_major": 2,
       "version_minor": 0
      },
      "text/plain": [
       "0/8                                                                                                          E…"
      ]
     },
     "metadata": {},
     "output_type": "display_data"
    },
    {
     "name": "stdout",
     "output_type": "stream",
     "text": [
      "\n",
      "Epoch 84: val_loss did not improve from 13136.39258\n",
      "Epoch 85/100\n"
     ]
    },
    {
     "data": {
      "application/vnd.jupyter.widget-view+json": {
       "model_id": "8077034009da4bfc89c674f0ef71d8ed",
       "version_major": 2,
       "version_minor": 0
      },
      "text/plain": [
       "0/8                                                                                                          E…"
      ]
     },
     "metadata": {},
     "output_type": "display_data"
    },
    {
     "name": "stdout",
     "output_type": "stream",
     "text": [
      "\n",
      "Epoch 85: val_loss did not improve from 13136.39258\n",
      "Epoch 86/100\n"
     ]
    },
    {
     "data": {
      "application/vnd.jupyter.widget-view+json": {
       "model_id": "1daedaac1d9d433fb951892ea8107603",
       "version_major": 2,
       "version_minor": 0
      },
      "text/plain": [
       "0/8                                                                                                          E…"
      ]
     },
     "metadata": {},
     "output_type": "display_data"
    },
    {
     "name": "stdout",
     "output_type": "stream",
     "text": [
      "\n",
      "Epoch 86: val_loss did not improve from 13136.39258\n",
      "Epoch 87/100\n"
     ]
    },
    {
     "data": {
      "application/vnd.jupyter.widget-view+json": {
       "model_id": "2e72ba4a746e46589c99e927964caf82",
       "version_major": 2,
       "version_minor": 0
      },
      "text/plain": [
       "0/8                                                                                                          E…"
      ]
     },
     "metadata": {},
     "output_type": "display_data"
    },
    {
     "name": "stdout",
     "output_type": "stream",
     "text": [
      "\n",
      "Epoch 87: val_loss did not improve from 13136.39258\n",
      "Epoch 88/100\n"
     ]
    },
    {
     "data": {
      "application/vnd.jupyter.widget-view+json": {
       "model_id": "743a91fb7751425682d78db73d2aa011",
       "version_major": 2,
       "version_minor": 0
      },
      "text/plain": [
       "0/8                                                                                                          E…"
      ]
     },
     "metadata": {},
     "output_type": "display_data"
    },
    {
     "name": "stdout",
     "output_type": "stream",
     "text": [
      "\n",
      "Epoch 88: val_loss did not improve from 13136.39258\n",
      "Epoch 89/100\n"
     ]
    },
    {
     "data": {
      "application/vnd.jupyter.widget-view+json": {
       "model_id": "9885a3c5715e47fdb6094d45e4bd8e6c",
       "version_major": 2,
       "version_minor": 0
      },
      "text/plain": [
       "0/8                                                                                                          E…"
      ]
     },
     "metadata": {},
     "output_type": "display_data"
    },
    {
     "name": "stdout",
     "output_type": "stream",
     "text": [
      "\n",
      "Epoch 89: val_loss did not improve from 13136.39258\n",
      "Epoch 90/100\n"
     ]
    },
    {
     "data": {
      "application/vnd.jupyter.widget-view+json": {
       "model_id": "62ba01c8fa464a7e8287f58656cf3e6b",
       "version_major": 2,
       "version_minor": 0
      },
      "text/plain": [
       "0/8                                                                                                          E…"
      ]
     },
     "metadata": {},
     "output_type": "display_data"
    },
    {
     "name": "stdout",
     "output_type": "stream",
     "text": [
      "\n",
      "Epoch 90: val_loss did not improve from 13136.39258\n",
      "Epoch 91/100\n"
     ]
    },
    {
     "data": {
      "application/vnd.jupyter.widget-view+json": {
       "model_id": "e84d2ebdb4a5417db3236be35d436381",
       "version_major": 2,
       "version_minor": 0
      },
      "text/plain": [
       "0/8                                                                                                          E…"
      ]
     },
     "metadata": {},
     "output_type": "display_data"
    },
    {
     "name": "stdout",
     "output_type": "stream",
     "text": [
      "\n",
      "Epoch 91: val_loss improved from 13136.39258 to 13071.31738, saving model to Training_checkpoint\\cp-0091-13071.32.ckpt\n",
      "Epoch 92/100\n"
     ]
    },
    {
     "data": {
      "application/vnd.jupyter.widget-view+json": {
       "model_id": "59a85d71b3264982b76cd24f5c95a5c3",
       "version_major": 2,
       "version_minor": 0
      },
      "text/plain": [
       "0/8                                                                                                          E…"
      ]
     },
     "metadata": {},
     "output_type": "display_data"
    },
    {
     "name": "stdout",
     "output_type": "stream",
     "text": [
      "\n",
      "Epoch 92: val_loss did not improve from 13071.31738\n",
      "Epoch 93/100\n"
     ]
    },
    {
     "data": {
      "application/vnd.jupyter.widget-view+json": {
       "model_id": "f3378530eb244605890467bbd9f8154a",
       "version_major": 2,
       "version_minor": 0
      },
      "text/plain": [
       "0/8                                                                                                          E…"
      ]
     },
     "metadata": {},
     "output_type": "display_data"
    },
    {
     "name": "stdout",
     "output_type": "stream",
     "text": [
      "\n",
      "Epoch 93: val_loss did not improve from 13071.31738\n",
      "Epoch 94/100\n"
     ]
    },
    {
     "data": {
      "application/vnd.jupyter.widget-view+json": {
       "model_id": "b8825d48f03e4e0ab6941112f1ea5748",
       "version_major": 2,
       "version_minor": 0
      },
      "text/plain": [
       "0/8                                                                                                          E…"
      ]
     },
     "metadata": {},
     "output_type": "display_data"
    },
    {
     "name": "stdout",
     "output_type": "stream",
     "text": [
      "\n",
      "Epoch 94: val_loss did not improve from 13071.31738\n",
      "Epoch 95/100\n"
     ]
    },
    {
     "data": {
      "application/vnd.jupyter.widget-view+json": {
       "model_id": "e73c77988c0643309ed2f75ddbadbc42",
       "version_major": 2,
       "version_minor": 0
      },
      "text/plain": [
       "0/8                                                                                                          E…"
      ]
     },
     "metadata": {},
     "output_type": "display_data"
    },
    {
     "name": "stdout",
     "output_type": "stream",
     "text": [
      "\n",
      "Epoch 95: val_loss did not improve from 13071.31738\n",
      "Epoch 96/100\n"
     ]
    },
    {
     "data": {
      "application/vnd.jupyter.widget-view+json": {
       "model_id": "d503f10561e34b17ae668f65f95564a7",
       "version_major": 2,
       "version_minor": 0
      },
      "text/plain": [
       "0/8                                                                                                          E…"
      ]
     },
     "metadata": {},
     "output_type": "display_data"
    },
    {
     "name": "stdout",
     "output_type": "stream",
     "text": [
      "\n",
      "Epoch 96: val_loss did not improve from 13071.31738\n",
      "Epoch 97/100\n"
     ]
    },
    {
     "data": {
      "application/vnd.jupyter.widget-view+json": {
       "model_id": "3053fa1cb8d9443eade1a0797ebb7dd9",
       "version_major": 2,
       "version_minor": 0
      },
      "text/plain": [
       "0/8                                                                                                          E…"
      ]
     },
     "metadata": {},
     "output_type": "display_data"
    },
    {
     "name": "stdout",
     "output_type": "stream",
     "text": [
      "\n",
      "Epoch 97: val_loss improved from 13071.31738 to 12979.45410, saving model to Training_checkpoint\\cp-0097-12979.45.ckpt\n",
      "Epoch 98/100\n"
     ]
    },
    {
     "data": {
      "application/vnd.jupyter.widget-view+json": {
       "model_id": "a6680fcfb0c9454aa5463828287b0673",
       "version_major": 2,
       "version_minor": 0
      },
      "text/plain": [
       "0/8                                                                                                          E…"
      ]
     },
     "metadata": {},
     "output_type": "display_data"
    },
    {
     "name": "stdout",
     "output_type": "stream",
     "text": [
      "\n",
      "Epoch 98: val_loss did not improve from 12979.45410\n",
      "Epoch 99/100\n"
     ]
    },
    {
     "data": {
      "application/vnd.jupyter.widget-view+json": {
       "model_id": "9809647ae7844238a39d7e149ab6360f",
       "version_major": 2,
       "version_minor": 0
      },
      "text/plain": [
       "0/8                                                                                                          E…"
      ]
     },
     "metadata": {},
     "output_type": "display_data"
    },
    {
     "name": "stdout",
     "output_type": "stream",
     "text": [
      "\n",
      "Epoch 99: val_loss did not improve from 12979.45410\n",
      "Epoch 100/100\n"
     ]
    },
    {
     "data": {
      "application/vnd.jupyter.widget-view+json": {
       "model_id": "f70aecfcbd174943b28b502fdb3b8cd9",
       "version_major": 2,
       "version_minor": 0
      },
      "text/plain": [
       "0/8                                                                                                          E…"
      ]
     },
     "metadata": {},
     "output_type": "display_data"
    },
    {
     "name": "stdout",
     "output_type": "stream",
     "text": [
      "\n",
      "Epoch 100: val_loss did not improve from 12979.45410\n"
     ]
    },
    {
     "data": {
      "text/plain": [
       "<keras.callbacks.History at 0x13bc590a310>"
      ]
     },
     "execution_count": 269,
     "metadata": {},
     "output_type": "execute_result"
    }
   ],
   "source": [
    "# history \n",
    "tqdm_callback = tfa.callbacks.TQDMProgressBar()\n",
    "\n",
    "start = time.time()\n",
    "history = model.fit(X_train_scaled, y_train, epochs=100, validation_split=0.2,\n",
    "                   batch_size=32, verbose=0,\n",
    "                   callbacks=[early_stopping, cp, tqdm_callback])\n",
    "end = time.time()\n",
    "history"
   ]
  },
  {
   "cell_type": "code",
   "execution_count": 270,
   "metadata": {},
   "outputs": [
    {
     "name": "stdout",
     "output_type": "stream",
     "text": [
      "Training Time : 0:00:19\n"
     ]
    }
   ],
   "source": [
    "train_time = end-start\n",
    "result = dt.timedelta(seconds=train_time)\n",
    "print('Training Time :',str(result).split('.')[0])"
   ]
  },
  {
   "cell_type": "code",
   "execution_count": 271,
   "metadata": {
    "id": "REkXQdANEAAU"
   },
   "outputs": [
    {
     "data": {
      "text/html": [
       "<div>\n",
       "<style scoped>\n",
       "    .dataframe tbody tr th:only-of-type {\n",
       "        vertical-align: middle;\n",
       "    }\n",
       "\n",
       "    .dataframe tbody tr th {\n",
       "        vertical-align: top;\n",
       "    }\n",
       "\n",
       "    .dataframe thead th {\n",
       "        text-align: right;\n",
       "    }\n",
       "</style>\n",
       "<table border=\"1\" class=\"dataframe\">\n",
       "  <thead>\n",
       "    <tr style=\"text-align: right;\">\n",
       "      <th></th>\n",
       "      <th>loss</th>\n",
       "      <th>mae</th>\n",
       "      <th>mse</th>\n",
       "      <th>val_loss</th>\n",
       "      <th>val_mae</th>\n",
       "      <th>val_mse</th>\n",
       "    </tr>\n",
       "  </thead>\n",
       "  <tbody>\n",
       "    <tr>\n",
       "      <th>0</th>\n",
       "      <td>300968.500000</td>\n",
       "      <td>297.286957</td>\n",
       "      <td>300968.500000</td>\n",
       "      <td>33692.738281</td>\n",
       "      <td>133.335724</td>\n",
       "      <td>33692.738281</td>\n",
       "    </tr>\n",
       "    <tr>\n",
       "      <th>1</th>\n",
       "      <td>22072.433594</td>\n",
       "      <td>103.160866</td>\n",
       "      <td>22072.433594</td>\n",
       "      <td>20928.933594</td>\n",
       "      <td>86.327705</td>\n",
       "      <td>20928.933594</td>\n",
       "    </tr>\n",
       "    <tr>\n",
       "      <th>2</th>\n",
       "      <td>19780.009766</td>\n",
       "      <td>99.628349</td>\n",
       "      <td>19780.009766</td>\n",
       "      <td>15701.869141</td>\n",
       "      <td>70.195641</td>\n",
       "      <td>15701.869141</td>\n",
       "    </tr>\n",
       "    <tr>\n",
       "      <th>3</th>\n",
       "      <td>17566.072266</td>\n",
       "      <td>94.569923</td>\n",
       "      <td>17566.072266</td>\n",
       "      <td>22138.246094</td>\n",
       "      <td>91.708649</td>\n",
       "      <td>22138.246094</td>\n",
       "    </tr>\n",
       "    <tr>\n",
       "      <th>4</th>\n",
       "      <td>16843.595703</td>\n",
       "      <td>87.486618</td>\n",
       "      <td>16843.595703</td>\n",
       "      <td>15404.752930</td>\n",
       "      <td>69.051155</td>\n",
       "      <td>15404.752930</td>\n",
       "    </tr>\n",
       "  </tbody>\n",
       "</table>\n",
       "</div>"
      ],
      "text/plain": [
       "            loss         mae            mse      val_loss     val_mae  \\\n",
       "0  300968.500000  297.286957  300968.500000  33692.738281  133.335724   \n",
       "1   22072.433594  103.160866   22072.433594  20928.933594   86.327705   \n",
       "2   19780.009766   99.628349   19780.009766  15701.869141   70.195641   \n",
       "3   17566.072266   94.569923   17566.072266  22138.246094   91.708649   \n",
       "4   16843.595703   87.486618   16843.595703  15404.752930   69.051155   \n",
       "\n",
       "        val_mse  \n",
       "0  33692.738281  \n",
       "1  20928.933594  \n",
       "2  15701.869141  \n",
       "3  22138.246094  \n",
       "4  15404.752930  "
      ]
     },
     "execution_count": 271,
     "metadata": {},
     "output_type": "execute_result"
    }
   ],
   "source": [
    "# history 를 데이터프레임으로 만듭니다.\n",
    "df_hist = pd.DataFrame(history.history)\n",
    "df_hist.head()"
   ]
  },
  {
   "cell_type": "code",
   "execution_count": 272,
   "metadata": {},
   "outputs": [
    {
     "data": {
      "text/html": [
       "<div>\n",
       "<style scoped>\n",
       "    .dataframe tbody tr th:only-of-type {\n",
       "        vertical-align: middle;\n",
       "    }\n",
       "\n",
       "    .dataframe tbody tr th {\n",
       "        vertical-align: top;\n",
       "    }\n",
       "\n",
       "    .dataframe thead th {\n",
       "        text-align: right;\n",
       "    }\n",
       "</style>\n",
       "<table border=\"1\" class=\"dataframe\">\n",
       "  <thead>\n",
       "    <tr style=\"text-align: right;\">\n",
       "      <th></th>\n",
       "      <th>loss</th>\n",
       "      <th>mae</th>\n",
       "      <th>mse</th>\n",
       "      <th>val_loss</th>\n",
       "      <th>val_mae</th>\n",
       "      <th>val_mse</th>\n",
       "    </tr>\n",
       "  </thead>\n",
       "  <tbody>\n",
       "    <tr>\n",
       "      <th>96</th>\n",
       "      <td>10283.128906</td>\n",
       "      <td>68.583168</td>\n",
       "      <td>10283.128906</td>\n",
       "      <td>12979.454102</td>\n",
       "      <td>76.913857</td>\n",
       "      <td>12979.454102</td>\n",
       "    </tr>\n",
       "  </tbody>\n",
       "</table>\n",
       "</div>"
      ],
      "text/plain": [
       "            loss        mae           mse      val_loss    val_mae  \\\n",
       "96  10283.128906  68.583168  10283.128906  12979.454102  76.913857   \n",
       "\n",
       "         val_mse  \n",
       "96  12979.454102  "
      ]
     },
     "execution_count": 272,
     "metadata": {},
     "output_type": "execute_result"
    }
   ],
   "source": [
    "df_hist.sort_values(by='val_loss').head(1)"
   ]
  },
  {
   "cell_type": "code",
   "execution_count": null,
   "metadata": {
    "id": "OmgVWpFhEAAU"
   },
   "outputs": [],
   "source": [
    "# 학습결과를 시각화 합니다.\n",
    "# loss, accuracy 값 시각화 \n",
    "plt.title('Loss Learning Curve')\n",
    "plt.plot(df_hist.loss, label='loss')\n",
    "plt.plot(df_hist.val_loss, label='val_loss')\n",
    "plt.axvline(x=df_hist.shape[0]-patience_time, color='r', linestyle='--',label='best epoch')\n",
    "plt.legend()\n",
    "plt.show()"
   ]
  },
  {
   "cell_type": "markdown",
   "metadata": {
    "id": "bVfA8pZSEAAV"
   },
   "source": [
    "## 예측"
   ]
  },
  {
   "cell_type": "code",
   "execution_count": 249,
   "metadata": {
    "id": "ZFs4Sb8uEAAW"
   },
   "outputs": [
    {
     "name": "stdout",
     "output_type": "stream",
     "text": [
      "3/3 [==============================] - 0s 3ms/step\n"
     ]
    }
   ],
   "source": [
    "# y_pred\n",
    "y_pred = model.predict(X_test_scaled)"
   ]
  },
  {
   "cell_type": "code",
   "execution_count": 250,
   "metadata": {
    "id": "77nm4TDmEAAW"
   },
   "outputs": [
    {
     "data": {
      "text/plain": [
       "(79,)"
      ]
     },
     "execution_count": 250,
     "metadata": {},
     "output_type": "execute_result"
    }
   ],
   "source": [
    "# 예측값을 flatten을 사용해 1차원으로 변환합니다. \n",
    "y_predict = y_pred.flatten()\n",
    "y_predict.shape"
   ]
  },
  {
   "cell_type": "code",
   "execution_count": 251,
   "metadata": {},
   "outputs": [
    {
     "data": {
      "text/plain": [
       "(79,)"
      ]
     },
     "execution_count": 251,
     "metadata": {},
     "output_type": "execute_result"
    }
   ],
   "source": [
    "y_test.shape"
   ]
  },
  {
   "cell_type": "code",
   "execution_count": 252,
   "metadata": {},
   "outputs": [
    {
     "name": "stdout",
     "output_type": "stream",
     "text": [
      "result.shape : (79, 3)\n"
     ]
    },
    {
     "data": {
      "text/html": [
       "<div>\n",
       "<style scoped>\n",
       "    .dataframe tbody tr th:only-of-type {\n",
       "        vertical-align: middle;\n",
       "    }\n",
       "\n",
       "    .dataframe tbody tr th {\n",
       "        vertical-align: top;\n",
       "    }\n",
       "\n",
       "    .dataframe thead th {\n",
       "        text-align: right;\n",
       "    }\n",
       "</style>\n",
       "<table border=\"1\" class=\"dataframe\">\n",
       "  <thead>\n",
       "    <tr style=\"text-align: right;\">\n",
       "      <th></th>\n",
       "      <th>Truth</th>\n",
       "      <th>Pred</th>\n",
       "      <th>Error</th>\n",
       "    </tr>\n",
       "  </thead>\n",
       "  <tbody>\n",
       "    <tr>\n",
       "      <th>0</th>\n",
       "      <td>168</td>\n",
       "      <td>208.654068</td>\n",
       "      <td>1652.7532</td>\n",
       "    </tr>\n",
       "    <tr>\n",
       "      <th>1</th>\n",
       "      <td>110</td>\n",
       "      <td>96.545715</td>\n",
       "      <td>181.0178</td>\n",
       "    </tr>\n",
       "    <tr>\n",
       "      <th>2</th>\n",
       "      <td>82</td>\n",
       "      <td>201.529129</td>\n",
       "      <td>14287.2127</td>\n",
       "    </tr>\n",
       "    <tr>\n",
       "      <th>3</th>\n",
       "      <td>36</td>\n",
       "      <td>167.001022</td>\n",
       "      <td>17161.2679</td>\n",
       "    </tr>\n",
       "    <tr>\n",
       "      <th>4</th>\n",
       "      <td>71</td>\n",
       "      <td>128.275406</td>\n",
       "      <td>3280.4721</td>\n",
       "    </tr>\n",
       "  </tbody>\n",
       "</table>\n",
       "</div>"
      ],
      "text/plain": [
       "   Truth        Pred       Error\n",
       "0    168  208.654068   1652.7532\n",
       "1    110   96.545715    181.0178\n",
       "2     82  201.529129  14287.2127\n",
       "3     36  167.001022  17161.2679\n",
       "4     71  128.275406   3280.4721"
      ]
     },
     "execution_count": 252,
     "metadata": {},
     "output_type": "execute_result"
    }
   ],
   "source": [
    "result = pd.DataFrame(y_test)\n",
    "pred = pd.Series(index=y_test.index, data = y_predict).to_frame()\n",
    "result = pd.concat([result,pred],axis=1).rename(columns={'Insulin':'Truth',0:'Pred'})\n",
    "\n",
    "result['Error'] = np.round(np.square(result['Truth']-result['Pred']),4)\n",
    "result.reset_index(drop=True, inplace=True)\n",
    "print(\"result.shape :\",result.shape)\n",
    "\n",
    "result.head()"
   ]
  },
  {
   "cell_type": "markdown",
   "metadata": {
    "id": "aJH6WyhgEAAW"
   },
   "source": [
    "## 평가"
   ]
  },
  {
   "cell_type": "code",
   "execution_count": 255,
   "metadata": {
    "id": "nYaiz_HREAAW"
   },
   "outputs": [
    {
     "name": "stdout",
     "output_type": "stream",
     "text": [
      "3/3 [==============================] - 0s 5ms/step - loss: 13989.6230 - mae: 99.3558 - mse: 13989.6230\n",
      "테스트 세트의 평균 절대 오차: 99.36\n",
      "테스트 세트의 평균 제곱 오차: 13989.62\n",
      "테스트 세트의 평균 손실: 13989.62\n"
     ]
    }
   ],
   "source": [
    "# evaluate를 통해 평가하기\n",
    "loss, mae, mse = model.evaluate(X_test_scaled,y_test)\n",
    "\n",
    "\n",
    "print(\"테스트 세트의 평균 절대 오차: {:5.2f}\".format(mae))\n",
    "print(\"테스트 세트의 평균 제곱 오차: {:5.2f}\".format(mse))\n",
    "print(\"테스트 세트의 평균 손실: {:5.2f}\".format(loss))"
   ]
  },
  {
   "cell_type": "code",
   "execution_count": 256,
   "metadata": {
    "id": "Y-95gUjYEAAX"
   },
   "outputs": [
    {
     "data": {
      "image/png": "[encoded data removed]",
      "text/plain": [
       "<Figure size 432x432 with 3 Axes>"
      ]
     },
     "metadata": {
      "needs_background": "light"
     },
     "output_type": "display_data"
    }
   ],
   "source": [
    "# jointplot 으로 실제값과 예측값을 시각화 합니다.\n",
    "sns.jointplot(x = y_test, y=y_predict, kind='reg')\n",
    "plt.show()"
   ]
  },
  {
   "cell_type": "code",
   "execution_count": 257,
   "metadata": {},
   "outputs": [
    {
     "data": {
      "image/png": "[encoded data removed]",
      "text/plain": [
       "<Figure size 432x288 with 1 Axes>"
      ]
     },
     "metadata": {
      "needs_background": "light"
     },
     "output_type": "display_data"
    }
   ],
   "source": [
    "plt.scatter(x = result['Truth'], y = result['Pred'])\n",
    "plt.plot([0,600],[0,600], color='r', linestyle='--')\n",
    "plt.show()"
   ]
  },
  {
   "cell_type": "code",
   "execution_count": 258,
   "metadata": {},
   "outputs": [
    {
     "data": {
      "image/png": "[encoded data removed]",
      "text/plain": [
       "<Figure size 1152x432 with 1 Axes>"
      ]
     },
     "metadata": {
      "needs_background": "light"
     },
     "output_type": "display_data"
    }
   ],
   "source": [
    "plt.figure(figsize=(16,6))\n",
    "sns.lineplot(x = result.index, y = result['Truth'], alpha=0.5, label='Truth')\n",
    "sns.lineplot(x = result.index, y = result['Pred'], alpha=0.5, label='Pred')\n",
    "plt.title('Truth and Pred Coincidences',size=20)\n",
    "plt.legend(loc='upper right')\n",
    "plt.show()"
   ]
  },
  {
   "cell_type": "code",
   "execution_count": 259,
   "metadata": {},
   "outputs": [
    {
     "name": "stdout",
     "output_type": "stream",
     "text": [
      "boundary : 34489.6833\n"
     ]
    }
   ],
   "source": [
    "upper, lower= np.quantile(result['Error'].values,0.75), np.quantile(result['Error'].values,0.25)\n",
    "iqr = upper-lower\n",
    "boundary = upper + iqr*1.5\n",
    "print('boundary :',np.round(boundary,4))"
   ]
  },
  {
   "cell_type": "code",
   "execution_count": 260,
   "metadata": {},
   "outputs": [
    {
     "data": {
      "image/png": "[encoded data removed]",
      "text/plain": [
       "<Figure size 720x288 with 1 Axes>"
      ]
     },
     "metadata": {
      "needs_background": "light"
     },
     "output_type": "display_data"
    }
   ],
   "source": [
    "plt.figure(figsize=(10,4))\n",
    "sns.scatterplot(x = result.index, y = result['Error'], color = 'red', alpha=0.5, marker='*', label='Error Points')\n",
    "sns.lineplot(x = result.index, y = boundary, color='blue', linestyle='--', label='Outlier Boundary', alpha=0.8)\n",
    "plt.title('Prediction Error Variances')\n",
    "plt.legend(loc=\"upper right\")\n",
    "plt.show()"
   ]
  },
  {
   "cell_type": "markdown",
   "metadata": {
    "id": "9v4s8rlhEAAX"
   },
   "source": [
    "### MAE(Mean Absolute Error)\n",
    "* [Mean absolute error - Wikipedia](https://en.wikipedia.org/wiki/Mean_absolute_error)"
   ]
  },
  {
   "cell_type": "code",
   "execution_count": 261,
   "metadata": {
    "id": "tguPkAjlEAAX"
   },
   "outputs": [
    {
     "data": {
      "text/plain": [
       "99.35578252092192"
      ]
     },
     "execution_count": 261,
     "metadata": {},
     "output_type": "execute_result"
    }
   ],
   "source": [
    "# 예측값과 실제값의 차이에 대한 절대값의 평균\n",
    "error = result['Truth'] - result['Pred']\n",
    "np.abs(error).mean()"
   ]
  },
  {
   "cell_type": "markdown",
   "metadata": {
    "id": "KtrUfRBLEAAX"
   },
   "source": [
    "### MAPE(Mean Absolute Percentage Error)"
   ]
  },
  {
   "cell_type": "code",
   "execution_count": 262,
   "metadata": {
    "id": "RJD8SpfjEAAY"
   },
   "outputs": [
    {
     "data": {
      "text/plain": [
       "0.509020834876145"
      ]
     },
     "execution_count": 262,
     "metadata": {},
     "output_type": "execute_result"
    }
   ],
   "source": [
    "# (실제값 - 예측값 / 실제값)의 절대값에 대한 평균\n",
    "# mape\n",
    "np.abs(error / result['Pred']).mean()"
   ]
  },
  {
   "cell_type": "markdown",
   "metadata": {
    "id": "4XYPMgFyEAAY"
   },
   "source": [
    "### MSE(Mean Squared Error)"
   ]
  },
  {
   "cell_type": "code",
   "execution_count": 263,
   "metadata": {
    "id": "4llqvcm5EAAY"
   },
   "outputs": [
    {
     "data": {
      "text/plain": [
       "13989.624341985425"
      ]
     },
     "execution_count": 263,
     "metadata": {},
     "output_type": "execute_result"
    }
   ],
   "source": [
    "# 실제값 - 예측값의 차이의 제곱의 평균\n",
    "# MAE와 비슷해 보이나 제곱을 통해 음수를 양수로 변환함\n",
    "# 분산과 유사한 공식\n",
    "# mse \n",
    "(error**2).mean()"
   ]
  },
  {
   "cell_type": "markdown",
   "metadata": {
    "id": "dWP-mY5wEAAZ"
   },
   "source": [
    "### RMSE(Root Mean Squared Error)"
   ]
  },
  {
   "cell_type": "code",
   "execution_count": 264,
   "metadata": {
    "id": "XP-WyT2-EAAZ"
   },
   "outputs": [
    {
     "data": {
      "text/plain": [
       "118.27774237778394"
      ]
     },
     "execution_count": 264,
     "metadata": {},
     "output_type": "execute_result"
    }
   ],
   "source": [
    "# MSE 값에 Root를 취함, 표준편차와 유사한 공식\n",
    "np.sqrt((error**2).mean())"
   ]
  }
 ],
 "metadata": {
  "colab": {
   "name": "0302-pima-tensorflow2-regression-input.ipynb",
   "provenance": []
  },
  "kernelspec": {
   "display_name": "Python 3 (ipykernel)",
   "language": "python",
   "name": "python3"
  },
  "language_info": {
   "codemirror_mode": {
    "name": "ipython",
    "version": 3
   },
   "file_extension": ".py",
   "mimetype": "text/x-python",
   "name": "python",
   "nbconvert_exporter": "python",
   "pygments_lexer": "ipython3",
   "version": "3.9.12"
  },
  "toc": {
   "base_numbering": 1,
   "nav_menu": {},
   "number_sections": true,
   "sideBar": true,
   "skip_h1_title": false,
   "title_cell": "Table of Contents",
   "title_sidebar": "Contents",
   "toc_cell": false,
   "toc_position": {},
   "toc_section_display": true,
   "toc_window_display": false
  },
  "varInspector": {
   "cols": {
    "lenName": 16,
    "lenType": 16,
    "lenVar": 40
   },
   "kernels_config": {
    "python": {
     "delete_cmd_postfix": "",
     "delete_cmd_prefix": "del ",
     "library": "var_list.py",
     "varRefreshCmd": "print(var_dic_list())"
    },
    "r": {
     "delete_cmd_postfix": ") ",
     "delete_cmd_prefix": "rm(",
     "library": "var_list.r",
     "varRefreshCmd": "cat(var_dic_list()) "
    }
   },
   "types_to_exclude": [
    "module",
    "function",
    "builtin_function_or_method",
    "instance",
    "_Feature"
   ],
   "window_display": false
  }
 },
 "nbformat": 4,
 "nbformat_minor": 1
}
