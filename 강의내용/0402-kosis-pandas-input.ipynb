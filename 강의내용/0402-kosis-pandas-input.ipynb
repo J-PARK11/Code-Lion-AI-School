{
 "cells": [
  {
   "cell_type": "markdown",
   "id": "c93e301e",
   "metadata": {
    "id": "8e39d0ac"
   },
   "source": [
    "KOSIS에서는 국내, 국제, 북한등의 주요 통계를 한 곳에 모아 이용자가 원하는 통계를 한번에 찾을 수 있도록 통계청이 제공하는 서비스입니다.  \n",
    "경제, 사회, 환경 등 30개분야의 데이터를 제공해줍니다.\n",
    "* https://kosis.kr/index/index.do\n",
    "\n",
    "사용하는 데이터는 KOSIS에서 제공해주는 연령, 성별 암검진 대상 및 수검현황에 관한 데이터 입니다.  \n",
    "데이터에는 연령과 성별별로 검진시 발병되는 암에 관한 데이터가 정리되어 있습니다.\n",
    "\n",
    "아래의 URL에서 건강검진 통계 -> 암검진 -> 연령별 성별 암검진 대상 및 수검인원 현황에 들어가면 데이터를 받을 수 있습니다.\n",
    "* https://kosis.kr/statHtml/statHtml.do?orgId=350&tblId=DT_35007_N010&conn_path=I2"
   ]
  },
  {
   "cell_type": "markdown",
   "id": "6d90ad72",
   "metadata": {
    "id": "45a211ab"
   },
   "source": [
    "## pandas"
   ]
  },
  {
   "cell_type": "code",
   "execution_count": 1,
   "id": "3b6ac7b5",
   "metadata": {
    "id": "f19e2bd6"
   },
   "outputs": [],
   "source": [
    "# pandas 를 불러옵니다.\n",
    "import pandas as pd\n",
    "import numpy as np"
   ]
  },
  {
   "cell_type": "markdown",
   "id": "6a5b9e70",
   "metadata": {
    "id": "e20b6fa0"
   },
   "source": [
    "## pandas로 파일 불러오고 확인해보기\n",
    "\n",
    "<img src = 'https://pandas.pydata.org/docs/_images/02_io_readwrite.svg'>"
   ]
  },
  {
   "cell_type": "code",
   "execution_count": 33,
   "id": "e9349fc9",
   "metadata": {
    "id": "fa065ada",
    "outputId": "372d3657-90ff-4e97-cf4e-dc183de84849"
   },
   "outputs": [
    {
     "name": "stdout",
     "output_type": "stream",
     "text": [
      "df.shape : (2428, 6)\n"
     ]
    },
    {
     "data": {
      "text/html": [
       "<div>\n",
       "<style scoped>\n",
       "    .dataframe tbody tr th:only-of-type {\n",
       "        vertical-align: middle;\n",
       "    }\n",
       "\n",
       "    .dataframe tbody tr th {\n",
       "        vertical-align: top;\n",
       "    }\n",
       "\n",
       "    .dataframe thead th {\n",
       "        text-align: right;\n",
       "    }\n",
       "</style>\n",
       "<table border=\"1\" class=\"dataframe\">\n",
       "  <thead>\n",
       "    <tr style=\"text-align: right;\">\n",
       "      <th></th>\n",
       "      <th>연령별(1)</th>\n",
       "      <th>시점</th>\n",
       "      <th>암검진별(1)</th>\n",
       "      <th>성별(1)</th>\n",
       "      <th>대상인원 (명)</th>\n",
       "      <th>수검인원 (명)</th>\n",
       "    </tr>\n",
       "  </thead>\n",
       "  <tbody>\n",
       "    <tr>\n",
       "      <th>0</th>\n",
       "      <td>계</td>\n",
       "      <td>2010</td>\n",
       "      <td>계</td>\n",
       "      <td>합계</td>\n",
       "      <td>12945756</td>\n",
       "      <td>6184804</td>\n",
       "    </tr>\n",
       "    <tr>\n",
       "      <th>1</th>\n",
       "      <td>계</td>\n",
       "      <td>2010</td>\n",
       "      <td>계</td>\n",
       "      <td>남자</td>\n",
       "      <td>6071884</td>\n",
       "      <td>2522586</td>\n",
       "    </tr>\n",
       "    <tr>\n",
       "      <th>2</th>\n",
       "      <td>계</td>\n",
       "      <td>2010</td>\n",
       "      <td>계</td>\n",
       "      <td>여자</td>\n",
       "      <td>6873872</td>\n",
       "      <td>3662218</td>\n",
       "    </tr>\n",
       "    <tr>\n",
       "      <th>3</th>\n",
       "      <td>계</td>\n",
       "      <td>2010</td>\n",
       "      <td>위암</td>\n",
       "      <td>합계</td>\n",
       "      <td>10997959</td>\n",
       "      <td>4915858</td>\n",
       "    </tr>\n",
       "    <tr>\n",
       "      <th>4</th>\n",
       "      <td>계</td>\n",
       "      <td>2010</td>\n",
       "      <td>위암</td>\n",
       "      <td>남자</td>\n",
       "      <td>5553666</td>\n",
       "      <td>2202416</td>\n",
       "    </tr>\n",
       "  </tbody>\n",
       "</table>\n",
       "</div>"
      ],
      "text/plain": [
       "  연령별(1)    시점 암검진별(1) 성별(1)  대상인원 (명) 수검인원 (명)\n",
       "0      계  2010       계    합계  12945756  6184804\n",
       "1      계  2010       계    남자   6071884  2522586\n",
       "2      계  2010       계    여자   6873872  3662218\n",
       "3      계  2010      위암    합계  10997959  4915858\n",
       "4      계  2010      위암    남자   5553666  2202416"
      ]
     },
     "execution_count": 33,
     "metadata": {},
     "output_type": "execute_result"
    }
   ],
   "source": [
    "# pandas에서는 read_csv파일로 csv파일을 불러올 수 있습니다.\n",
    "# csv파일은 ,(쉼표)로 구분하여 저장한 데이터파일입니다.\n",
    "# read_csv()로 csv파일을 불러올 때 한글 인코딩 문제로 에러가 발생될 수 있습니다.\n",
    "# 에러가 발생할때는 encoding 속성값을 'euc-kr', 'cp949', 'ms949'로 변경해서 실행합니다.\n",
    "# DataFrame을 변수에 지정할때는 보통 약자인 df나 가공전에는 row를 사용합니다.\n",
    "# kosis-cancer-raw.csv\n",
    "# df\n",
    "\n",
    "df = pd.read_csv('data/kosis-cancer-raw.csv', encoding='cp949')\n",
    "print('df.shape :',df.shape)\n",
    "df.head()"
   ]
  },
  {
   "cell_type": "markdown",
   "id": "d543b241",
   "metadata": {
    "id": "307777a1"
   },
   "source": [
    "## DataFrame의 columns의 이름 바꿔주기"
   ]
  },
  {
   "cell_type": "code",
   "execution_count": 34,
   "id": "1d29126f",
   "metadata": {
    "id": "3f95732c",
    "outputId": "572d0b57-61a9-4823-a4fa-8157245f9131",
    "scrolled": false
   },
   "outputs": [
    {
     "data": {
      "text/html": [
       "<div>\n",
       "<style scoped>\n",
       "    .dataframe tbody tr th:only-of-type {\n",
       "        vertical-align: middle;\n",
       "    }\n",
       "\n",
       "    .dataframe tbody tr th {\n",
       "        vertical-align: top;\n",
       "    }\n",
       "\n",
       "    .dataframe thead th {\n",
       "        text-align: right;\n",
       "    }\n",
       "</style>\n",
       "<table border=\"1\" class=\"dataframe\">\n",
       "  <thead>\n",
       "    <tr style=\"text-align: right;\">\n",
       "      <th></th>\n",
       "      <th>연령별</th>\n",
       "      <th>시점</th>\n",
       "      <th>암검진별</th>\n",
       "      <th>성별</th>\n",
       "      <th>대상인원 (명)</th>\n",
       "      <th>수검인원 (명)</th>\n",
       "    </tr>\n",
       "  </thead>\n",
       "  <tbody>\n",
       "    <tr>\n",
       "      <th>0</th>\n",
       "      <td>계</td>\n",
       "      <td>2010</td>\n",
       "      <td>계</td>\n",
       "      <td>합계</td>\n",
       "      <td>12945756</td>\n",
       "      <td>6184804</td>\n",
       "    </tr>\n",
       "    <tr>\n",
       "      <th>1</th>\n",
       "      <td>계</td>\n",
       "      <td>2010</td>\n",
       "      <td>계</td>\n",
       "      <td>남자</td>\n",
       "      <td>6071884</td>\n",
       "      <td>2522586</td>\n",
       "    </tr>\n",
       "    <tr>\n",
       "      <th>2</th>\n",
       "      <td>계</td>\n",
       "      <td>2010</td>\n",
       "      <td>계</td>\n",
       "      <td>여자</td>\n",
       "      <td>6873872</td>\n",
       "      <td>3662218</td>\n",
       "    </tr>\n",
       "    <tr>\n",
       "      <th>3</th>\n",
       "      <td>계</td>\n",
       "      <td>2010</td>\n",
       "      <td>위암</td>\n",
       "      <td>합계</td>\n",
       "      <td>10997959</td>\n",
       "      <td>4915858</td>\n",
       "    </tr>\n",
       "    <tr>\n",
       "      <th>4</th>\n",
       "      <td>계</td>\n",
       "      <td>2010</td>\n",
       "      <td>위암</td>\n",
       "      <td>남자</td>\n",
       "      <td>5553666</td>\n",
       "      <td>2202416</td>\n",
       "    </tr>\n",
       "  </tbody>\n",
       "</table>\n",
       "</div>"
      ],
      "text/plain": [
       "  연령별    시점 암검진별  성별  대상인원 (명) 수검인원 (명)\n",
       "0   계  2010    계  합계  12945756  6184804\n",
       "1   계  2010    계  남자   6071884  2522586\n",
       "2   계  2010    계  여자   6873872  3662218\n",
       "3   계  2010   위암  합계  10997959  4915858\n",
       "4   계  2010   위암  남자   5553666  2202416"
      ]
     },
     "execution_count": 34,
     "metadata": {},
     "output_type": "execute_result"
    }
   ],
   "source": [
    "# rename(index={}, columns={}, inplace=)함수를 통해 DataFrame의 행과 열의 이름을 바꿔줄 수 있다.\n",
    "# df.rename(columns={'연령별(1)' : '연령별', '암검진별(1)' : '암검진별', '성별(1)' : '성별'}, inplace=True)\n",
    "df.rename(columns={'연령별(1)' : '연령별', '암검진별(1)' : '암검진별', '성별(1)' : '성별'}, inplace=True)\n",
    "df.head()"
   ]
  },
  {
   "cell_type": "markdown",
   "id": "444c65e1",
   "metadata": {
    "id": "bda470ca"
   },
   "source": [
    "## DataFrame의 내용 바꾸기"
   ]
  },
  {
   "cell_type": "code",
   "execution_count": 35,
   "id": "224e0eaa",
   "metadata": {
    "id": "588a5916",
    "outputId": "741e8ed4-771f-4794-9a60-0a15f48cbd12"
   },
   "outputs": [
    {
     "data": {
      "text/html": [
       "<div>\n",
       "<style scoped>\n",
       "    .dataframe tbody tr th:only-of-type {\n",
       "        vertical-align: middle;\n",
       "    }\n",
       "\n",
       "    .dataframe tbody tr th {\n",
       "        vertical-align: top;\n",
       "    }\n",
       "\n",
       "    .dataframe thead th {\n",
       "        text-align: right;\n",
       "    }\n",
       "</style>\n",
       "<table border=\"1\" class=\"dataframe\">\n",
       "  <thead>\n",
       "    <tr style=\"text-align: right;\">\n",
       "      <th></th>\n",
       "      <th>연령별</th>\n",
       "      <th>시점</th>\n",
       "      <th>암검진별</th>\n",
       "      <th>성별</th>\n",
       "      <th>대상인원 (명)</th>\n",
       "      <th>수검인원 (명)</th>\n",
       "    </tr>\n",
       "  </thead>\n",
       "  <tbody>\n",
       "    <tr>\n",
       "      <th>0</th>\n",
       "      <td>계</td>\n",
       "      <td>2010</td>\n",
       "      <td>계</td>\n",
       "      <td>합계</td>\n",
       "      <td>12945756</td>\n",
       "      <td>6184804</td>\n",
       "    </tr>\n",
       "    <tr>\n",
       "      <th>1</th>\n",
       "      <td>계</td>\n",
       "      <td>2010</td>\n",
       "      <td>계</td>\n",
       "      <td>남자</td>\n",
       "      <td>6071884</td>\n",
       "      <td>2522586</td>\n",
       "    </tr>\n",
       "    <tr>\n",
       "      <th>2</th>\n",
       "      <td>계</td>\n",
       "      <td>2010</td>\n",
       "      <td>계</td>\n",
       "      <td>여자</td>\n",
       "      <td>6873872</td>\n",
       "      <td>3662218</td>\n",
       "    </tr>\n",
       "    <tr>\n",
       "      <th>3</th>\n",
       "      <td>계</td>\n",
       "      <td>2010</td>\n",
       "      <td>위암</td>\n",
       "      <td>합계</td>\n",
       "      <td>10997959</td>\n",
       "      <td>4915858</td>\n",
       "    </tr>\n",
       "    <tr>\n",
       "      <th>4</th>\n",
       "      <td>계</td>\n",
       "      <td>2010</td>\n",
       "      <td>위암</td>\n",
       "      <td>남자</td>\n",
       "      <td>5553666</td>\n",
       "      <td>2202416</td>\n",
       "    </tr>\n",
       "  </tbody>\n",
       "</table>\n",
       "</div>"
      ],
      "text/plain": [
       "  연령별    시점 암검진별  성별  대상인원 (명)  수검인원 (명)\n",
       "0   계  2010    계  합계  12945756   6184804\n",
       "1   계  2010    계  남자   6071884   2522586\n",
       "2   계  2010    계  여자   6873872   3662218\n",
       "3   계  2010   위암  합계  10997959   4915858\n",
       "4   계  2010   위암  남자   5553666   2202416"
      ]
     },
     "execution_count": 35,
     "metadata": {},
     "output_type": "execute_result"
    }
   ],
   "source": [
    "# replace함수로 DataFrame안에 있는 내용을 바꿔줄 수 있습니다.\n",
    "# 데이터 안의 '-'(하이픈)을 0으로 바꿔줍니다.\n",
    "# 이후 '데이터' column의 dtype을 int로 바꾸기 위해 내용을 바꿔줘야 합니다.\n",
    "df = df.replace('-',0)\n",
    "df.iloc[:,-1] = df.iloc[:,-1].astype('int')\n",
    "df.iloc[:,-2] = df.iloc[:,-2].astype('int')\n",
    "df.head()"
   ]
  },
  {
   "cell_type": "markdown",
   "id": "1f80a7a2",
   "metadata": {},
   "source": [
    "## 사용하지 않는 데이터 제거"
   ]
  },
  {
   "cell_type": "code",
   "execution_count": 36,
   "id": "3a4cd8a2",
   "metadata": {
    "id": "9fa7389d",
    "outputId": "21ae07b1-bce5-4c30-8ea3-04a76d72e1f0"
   },
   "outputs": [
    {
     "name": "stdout",
     "output_type": "stream",
     "text": [
      "df.shape : (1238, 6)\n"
     ]
    },
    {
     "data": {
      "text/html": [
       "<div>\n",
       "<style scoped>\n",
       "    .dataframe tbody tr th:only-of-type {\n",
       "        vertical-align: middle;\n",
       "    }\n",
       "\n",
       "    .dataframe tbody tr th {\n",
       "        vertical-align: top;\n",
       "    }\n",
       "\n",
       "    .dataframe thead th {\n",
       "        text-align: right;\n",
       "    }\n",
       "</style>\n",
       "<table border=\"1\" class=\"dataframe\">\n",
       "  <thead>\n",
       "    <tr style=\"text-align: right;\">\n",
       "      <th></th>\n",
       "      <th>연령별</th>\n",
       "      <th>시점</th>\n",
       "      <th>암검진별</th>\n",
       "      <th>성별</th>\n",
       "      <th>대상인원 (명)</th>\n",
       "      <th>수검인원 (명)</th>\n",
       "    </tr>\n",
       "  </thead>\n",
       "  <tbody>\n",
       "    <tr>\n",
       "      <th>0</th>\n",
       "      <td>20 ~ 24세</td>\n",
       "      <td>2016</td>\n",
       "      <td>위암</td>\n",
       "      <td>남자</td>\n",
       "      <td>0</td>\n",
       "      <td>0</td>\n",
       "    </tr>\n",
       "    <tr>\n",
       "      <th>1</th>\n",
       "      <td>20 ~ 24세</td>\n",
       "      <td>2016</td>\n",
       "      <td>위암</td>\n",
       "      <td>여자</td>\n",
       "      <td>0</td>\n",
       "      <td>0</td>\n",
       "    </tr>\n",
       "    <tr>\n",
       "      <th>2</th>\n",
       "      <td>20 ~ 24세</td>\n",
       "      <td>2016</td>\n",
       "      <td>대장암</td>\n",
       "      <td>남자</td>\n",
       "      <td>0</td>\n",
       "      <td>0</td>\n",
       "    </tr>\n",
       "    <tr>\n",
       "      <th>3</th>\n",
       "      <td>20 ~ 24세</td>\n",
       "      <td>2016</td>\n",
       "      <td>대장암</td>\n",
       "      <td>여자</td>\n",
       "      <td>0</td>\n",
       "      <td>0</td>\n",
       "    </tr>\n",
       "    <tr>\n",
       "      <th>4</th>\n",
       "      <td>20 ~ 24세</td>\n",
       "      <td>2016</td>\n",
       "      <td>간암</td>\n",
       "      <td>남자</td>\n",
       "      <td>0</td>\n",
       "      <td>0</td>\n",
       "    </tr>\n",
       "  </tbody>\n",
       "</table>\n",
       "</div>"
      ],
      "text/plain": [
       "        연령별    시점 암검진별  성별  대상인원 (명)  수검인원 (명)\n",
       "0  20 ~ 24세  2016   위암  남자         0         0\n",
       "1  20 ~ 24세  2016   위암  여자         0         0\n",
       "2  20 ~ 24세  2016  대장암  남자         0         0\n",
       "3  20 ~ 24세  2016  대장암  여자         0         0\n",
       "4  20 ~ 24세  2016   간암  남자         0         0"
      ]
     },
     "execution_count": 36,
     "metadata": {},
     "output_type": "execute_result"
    }
   ],
   "source": [
    "# drop함수를 통해 DataFrame안에 있는 행을 제거해줄 수 있습니다.\n",
    "# 데이터안의 '연령별' column안에 있는 '계'는 사용하지 않을 예정이기 때문에 제거합니다.\n",
    "# 데이터안의 '암검진별' column안에 있는 '계'는 사용하지 않을 예정이기 때문에 제거합니다.\n",
    "# 데이터안의 '성별' column안에 있는 '합계'는 사용하지 않을 예정이기 때문에 제거합니다.\n",
    "# 이후 index를  다시 재지정해 준 뒤 기존의 index column을 제거합니다.\n",
    "# df\n",
    "df = df[df['연령별'] != '계']\n",
    "df = df[df['암검진별'] != '계']\n",
    "df = df[df['성별'] != '합계']\n",
    "df.reset_index(drop=True, inplace=True)\n",
    "\n",
    "print('df.shape :',df.shape)\n",
    "df.head()"
   ]
  },
  {
   "cell_type": "markdown",
   "id": "6c0e5cab",
   "metadata": {
    "id": "ab4c2f4d"
   },
   "source": [
    "## 일부 데이터 확인하기"
   ]
  },
  {
   "cell_type": "code",
   "execution_count": 37,
   "id": "514b322d",
   "metadata": {
    "id": "fbcae81e",
    "outputId": "60bc5588-cc30-41f5-9e9f-78e0167ecc07"
   },
   "outputs": [
    {
     "data": {
      "text/html": [
       "<div>\n",
       "<style scoped>\n",
       "    .dataframe tbody tr th:only-of-type {\n",
       "        vertical-align: middle;\n",
       "    }\n",
       "\n",
       "    .dataframe tbody tr th {\n",
       "        vertical-align: top;\n",
       "    }\n",
       "\n",
       "    .dataframe thead th {\n",
       "        text-align: right;\n",
       "    }\n",
       "</style>\n",
       "<table border=\"1\" class=\"dataframe\">\n",
       "  <thead>\n",
       "    <tr style=\"text-align: right;\">\n",
       "      <th></th>\n",
       "      <th>연령별</th>\n",
       "      <th>시점</th>\n",
       "      <th>암검진별</th>\n",
       "      <th>성별</th>\n",
       "      <th>대상인원 (명)</th>\n",
       "      <th>수검인원 (명)</th>\n",
       "    </tr>\n",
       "  </thead>\n",
       "  <tbody>\n",
       "    <tr>\n",
       "      <th>0</th>\n",
       "      <td>20 ~ 24세</td>\n",
       "      <td>2016</td>\n",
       "      <td>위암</td>\n",
       "      <td>남자</td>\n",
       "      <td>0</td>\n",
       "      <td>0</td>\n",
       "    </tr>\n",
       "    <tr>\n",
       "      <th>1</th>\n",
       "      <td>20 ~ 24세</td>\n",
       "      <td>2016</td>\n",
       "      <td>위암</td>\n",
       "      <td>여자</td>\n",
       "      <td>0</td>\n",
       "      <td>0</td>\n",
       "    </tr>\n",
       "    <tr>\n",
       "      <th>2</th>\n",
       "      <td>20 ~ 24세</td>\n",
       "      <td>2016</td>\n",
       "      <td>대장암</td>\n",
       "      <td>남자</td>\n",
       "      <td>0</td>\n",
       "      <td>0</td>\n",
       "    </tr>\n",
       "    <tr>\n",
       "      <th>3</th>\n",
       "      <td>20 ~ 24세</td>\n",
       "      <td>2016</td>\n",
       "      <td>대장암</td>\n",
       "      <td>여자</td>\n",
       "      <td>0</td>\n",
       "      <td>0</td>\n",
       "    </tr>\n",
       "    <tr>\n",
       "      <th>4</th>\n",
       "      <td>20 ~ 24세</td>\n",
       "      <td>2016</td>\n",
       "      <td>간암</td>\n",
       "      <td>남자</td>\n",
       "      <td>0</td>\n",
       "      <td>0</td>\n",
       "    </tr>\n",
       "  </tbody>\n",
       "</table>\n",
       "</div>"
      ],
      "text/plain": [
       "        연령별    시점 암검진별  성별  대상인원 (명)  수검인원 (명)\n",
       "0  20 ~ 24세  2016   위암  남자         0         0\n",
       "1  20 ~ 24세  2016   위암  여자         0         0\n",
       "2  20 ~ 24세  2016  대장암  남자         0         0\n",
       "3  20 ~ 24세  2016  대장암  여자         0         0\n",
       "4  20 ~ 24세  2016   간암  남자         0         0"
      ]
     },
     "execution_count": 37,
     "metadata": {},
     "output_type": "execute_result"
    }
   ],
   "source": [
    "# 판다스의 head() 함수로 DataFrame의 앞쪽 데이터를 괄호 안에 지정한 개수만큼 얻어올 수 있습니다.\n",
    "# 지정하지 않으면 기본값인 5개를 얻어오게 됩니다.\n",
    "df.head()"
   ]
  },
  {
   "cell_type": "code",
   "execution_count": 39,
   "id": "48208f09",
   "metadata": {
    "id": "6b709e32",
    "outputId": "0a20dd5c-991f-435f-9a70-b9fa0eeece6a"
   },
   "outputs": [
    {
     "data": {
      "text/html": [
       "<div>\n",
       "<style scoped>\n",
       "    .dataframe tbody tr th:only-of-type {\n",
       "        vertical-align: middle;\n",
       "    }\n",
       "\n",
       "    .dataframe tbody tr th {\n",
       "        vertical-align: top;\n",
       "    }\n",
       "\n",
       "    .dataframe thead th {\n",
       "        text-align: right;\n",
       "    }\n",
       "</style>\n",
       "<table border=\"1\" class=\"dataframe\">\n",
       "  <thead>\n",
       "    <tr style=\"text-align: right;\">\n",
       "      <th></th>\n",
       "      <th>연령별</th>\n",
       "      <th>시점</th>\n",
       "      <th>암검진별</th>\n",
       "      <th>성별</th>\n",
       "      <th>대상인원 (명)</th>\n",
       "      <th>수검인원 (명)</th>\n",
       "    </tr>\n",
       "  </thead>\n",
       "  <tbody>\n",
       "    <tr>\n",
       "      <th>1233</th>\n",
       "      <td>85세 이상</td>\n",
       "      <td>2019</td>\n",
       "      <td>간암</td>\n",
       "      <td>여자</td>\n",
       "      <td>3592</td>\n",
       "      <td>914</td>\n",
       "    </tr>\n",
       "    <tr>\n",
       "      <th>1234</th>\n",
       "      <td>85세 이상</td>\n",
       "      <td>2019</td>\n",
       "      <td>유방암</td>\n",
       "      <td>남자</td>\n",
       "      <td>0</td>\n",
       "      <td>0</td>\n",
       "    </tr>\n",
       "    <tr>\n",
       "      <th>1235</th>\n",
       "      <td>85세 이상</td>\n",
       "      <td>2019</td>\n",
       "      <td>유방암</td>\n",
       "      <td>여자</td>\n",
       "      <td>171274</td>\n",
       "      <td>22476</td>\n",
       "    </tr>\n",
       "    <tr>\n",
       "      <th>1236</th>\n",
       "      <td>85세 이상</td>\n",
       "      <td>2019</td>\n",
       "      <td>자궁경부암</td>\n",
       "      <td>남자</td>\n",
       "      <td>0</td>\n",
       "      <td>0</td>\n",
       "    </tr>\n",
       "    <tr>\n",
       "      <th>1237</th>\n",
       "      <td>85세 이상</td>\n",
       "      <td>2019</td>\n",
       "      <td>자궁경부암</td>\n",
       "      <td>여자</td>\n",
       "      <td>165503</td>\n",
       "      <td>9123</td>\n",
       "    </tr>\n",
       "  </tbody>\n",
       "</table>\n",
       "</div>"
      ],
      "text/plain": [
       "         연령별    시점   암검진별  성별  대상인원 (명)  수검인원 (명)\n",
       "1233  85세 이상  2019     간암  여자      3592       914\n",
       "1234  85세 이상  2019    유방암  남자         0         0\n",
       "1235  85세 이상  2019    유방암  여자    171274     22476\n",
       "1236  85세 이상  2019  자궁경부암  남자         0         0\n",
       "1237  85세 이상  2019  자궁경부암  여자    165503      9123"
      ]
     },
     "execution_count": 39,
     "metadata": {},
     "output_type": "execute_result"
    }
   ],
   "source": [
    "# 판다스의 tail() 함수로 DataFrame의 뒤쪽 데이터를 괄호 안에 지정한 개수만큼 얻어올 수 있습니다.\n",
    "# 지정하지 않으면 기본값인 5개를 얻어오게 됩니다.\n",
    "df.tail(5)\n",
    "# df.tail()"
   ]
  },
  {
   "cell_type": "code",
   "execution_count": 41,
   "id": "478caace",
   "metadata": {
    "id": "f325fc49",
    "outputId": "61170414-ab26-458d-c71e-d70fae2b2eff"
   },
   "outputs": [
    {
     "data": {
      "text/html": [
       "<div>\n",
       "<style scoped>\n",
       "    .dataframe tbody tr th:only-of-type {\n",
       "        vertical-align: middle;\n",
       "    }\n",
       "\n",
       "    .dataframe tbody tr th {\n",
       "        vertical-align: top;\n",
       "    }\n",
       "\n",
       "    .dataframe thead th {\n",
       "        text-align: right;\n",
       "    }\n",
       "</style>\n",
       "<table border=\"1\" class=\"dataframe\">\n",
       "  <thead>\n",
       "    <tr style=\"text-align: right;\">\n",
       "      <th></th>\n",
       "      <th>연령별</th>\n",
       "      <th>시점</th>\n",
       "      <th>암검진별</th>\n",
       "      <th>성별</th>\n",
       "      <th>대상인원 (명)</th>\n",
       "      <th>수검인원 (명)</th>\n",
       "    </tr>\n",
       "  </thead>\n",
       "  <tbody>\n",
       "    <tr>\n",
       "      <th>238</th>\n",
       "      <td>35 ~ 39세</td>\n",
       "      <td>2017</td>\n",
       "      <td>유방암</td>\n",
       "      <td>남자</td>\n",
       "      <td>0</td>\n",
       "      <td>0</td>\n",
       "    </tr>\n",
       "    <tr>\n",
       "      <th>130</th>\n",
       "      <td>30 ~ 34세</td>\n",
       "      <td>2015</td>\n",
       "      <td>자궁경부암</td>\n",
       "      <td>여자</td>\n",
       "      <td>934426</td>\n",
       "      <td>441708</td>\n",
       "    </tr>\n",
       "    <tr>\n",
       "      <th>672</th>\n",
       "      <td>60 ~ 64세</td>\n",
       "      <td>2012</td>\n",
       "      <td>대장암</td>\n",
       "      <td>남자</td>\n",
       "      <td>998034</td>\n",
       "      <td>346644</td>\n",
       "    </tr>\n",
       "    <tr>\n",
       "      <th>427</th>\n",
       "      <td>45 ~ 49세</td>\n",
       "      <td>2017</td>\n",
       "      <td>대장암</td>\n",
       "      <td>여자</td>\n",
       "      <td>0</td>\n",
       "      <td>0</td>\n",
       "    </tr>\n",
       "    <tr>\n",
       "      <th>439</th>\n",
       "      <td>45 ~ 49세</td>\n",
       "      <td>2018</td>\n",
       "      <td>간암</td>\n",
       "      <td>여자</td>\n",
       "      <td>59967</td>\n",
       "      <td>44543</td>\n",
       "    </tr>\n",
       "  </tbody>\n",
       "</table>\n",
       "</div>"
      ],
      "text/plain": [
       "          연령별    시점   암검진별  성별  대상인원 (명)  수검인원 (명)\n",
       "238  35 ~ 39세  2017    유방암  남자         0         0\n",
       "130  30 ~ 34세  2015  자궁경부암  여자    934426    441708\n",
       "672  60 ~ 64세  2012    대장암  남자    998034    346644\n",
       "427  45 ~ 49세  2017    대장암  여자         0         0\n",
       "439  45 ~ 49세  2018     간암  여자     59967     44543"
      ]
     },
     "execution_count": 41,
     "metadata": {},
     "output_type": "execute_result"
    }
   ],
   "source": [
    "# sample() 함수로 DataFrame의 랜덤 데이터를 괄호 안에 지정한 개수만큼 얻어올 수 있습니다.\n",
    "# 지정하지 않으면 기본값인 1개를 얻어오게 됩니다.\n",
    "df.sample(5)"
   ]
  },
  {
   "cell_type": "markdown",
   "id": "9ff460e6",
   "metadata": {
    "id": "aeaa2d8a"
   },
   "source": [
    "## 데이터 요약하기"
   ]
  },
  {
   "cell_type": "code",
   "execution_count": 42,
   "id": "8ae5dfe6",
   "metadata": {
    "id": "808813c8",
    "outputId": "d357b21d-75ed-49f7-8e8e-2e1a1ae6dca2"
   },
   "outputs": [
    {
     "name": "stdout",
     "output_type": "stream",
     "text": [
      "<class 'pandas.core.frame.DataFrame'>\n",
      "RangeIndex: 1238 entries, 0 to 1237\n",
      "Data columns (total 6 columns):\n",
      " #   Column    Non-Null Count  Dtype \n",
      "---  ------    --------------  ----- \n",
      " 0   연령별       1238 non-null   object\n",
      " 1   시점        1238 non-null   int64 \n",
      " 2   암검진별      1238 non-null   object\n",
      " 3   성별        1238 non-null   object\n",
      " 4   대상인원 (명)  1238 non-null   int32 \n",
      " 5   수검인원 (명)  1238 non-null   int32 \n",
      "dtypes: int32(2), int64(1), object(3)\n",
      "memory usage: 48.5+ KB\n"
     ]
    }
   ],
   "source": [
    "# info() 함수를 사용하면 DataFrame을 구성하고있는 데이터 자료형의 자세한 내용을 확인할 수 있습니다.\n",
    "df.info()"
   ]
  },
  {
   "cell_type": "code",
   "execution_count": 43,
   "id": "b5da4b74",
   "metadata": {
    "id": "eea6e379",
    "outputId": "e28f209f-4217-4f7a-eff3-0b2087c11f66"
   },
   "outputs": [
    {
     "data": {
      "text/html": [
       "<div>\n",
       "<style scoped>\n",
       "    .dataframe tbody tr th:only-of-type {\n",
       "        vertical-align: middle;\n",
       "    }\n",
       "\n",
       "    .dataframe tbody tr th {\n",
       "        vertical-align: top;\n",
       "    }\n",
       "\n",
       "    .dataframe thead th {\n",
       "        text-align: right;\n",
       "    }\n",
       "</style>\n",
       "<table border=\"1\" class=\"dataframe\">\n",
       "  <thead>\n",
       "    <tr style=\"text-align: right;\">\n",
       "      <th></th>\n",
       "      <th>시점</th>\n",
       "      <th>대상인원 (명)</th>\n",
       "      <th>수검인원 (명)</th>\n",
       "    </tr>\n",
       "  </thead>\n",
       "  <tbody>\n",
       "    <tr>\n",
       "      <th>count</th>\n",
       "      <td>1238.000000</td>\n",
       "      <td>1.238000e+03</td>\n",
       "      <td>1238.000000</td>\n",
       "    </tr>\n",
       "    <tr>\n",
       "      <th>mean</th>\n",
       "      <td>2014.676898</td>\n",
       "      <td>3.205908e+05</td>\n",
       "      <td>155581.409532</td>\n",
       "    </tr>\n",
       "    <tr>\n",
       "      <th>std</th>\n",
       "      <td>2.937060</td>\n",
       "      <td>4.335422e+05</td>\n",
       "      <td>214726.839330</td>\n",
       "    </tr>\n",
       "    <tr>\n",
       "      <th>min</th>\n",
       "      <td>2010.000000</td>\n",
       "      <td>0.000000e+00</td>\n",
       "      <td>0.000000</td>\n",
       "    </tr>\n",
       "    <tr>\n",
       "      <th>25%</th>\n",
       "      <td>2012.000000</td>\n",
       "      <td>0.000000e+00</td>\n",
       "      <td>0.000000</td>\n",
       "    </tr>\n",
       "    <tr>\n",
       "      <th>50%</th>\n",
       "      <td>2015.000000</td>\n",
       "      <td>6.345100e+04</td>\n",
       "      <td>25318.000000</td>\n",
       "    </tr>\n",
       "    <tr>\n",
       "      <th>75%</th>\n",
       "      <td>2017.000000</td>\n",
       "      <td>6.015292e+05</td>\n",
       "      <td>300887.250000</td>\n",
       "    </tr>\n",
       "    <tr>\n",
       "      <th>max</th>\n",
       "      <td>2019.000000</td>\n",
       "      <td>1.859394e+06</td>\n",
       "      <td>768088.000000</td>\n",
       "    </tr>\n",
       "  </tbody>\n",
       "</table>\n",
       "</div>"
      ],
      "text/plain": [
       "                시점      대상인원 (명)       수검인원 (명)\n",
       "count  1238.000000  1.238000e+03    1238.000000\n",
       "mean   2014.676898  3.205908e+05  155581.409532\n",
       "std       2.937060  4.335422e+05  214726.839330\n",
       "min    2010.000000  0.000000e+00       0.000000\n",
       "25%    2012.000000  0.000000e+00       0.000000\n",
       "50%    2015.000000  6.345100e+04   25318.000000\n",
       "75%    2017.000000  6.015292e+05  300887.250000\n",
       "max    2019.000000  1.859394e+06  768088.000000"
      ]
     },
     "execution_count": 43,
     "metadata": {},
     "output_type": "execute_result"
    }
   ],
   "source": [
    "# describe() 함수로 DataFrame에 저장된 숫자 데이터의 요약 통계량을 확인 할 수 있습니다.\n",
    "# df에 숫자데이터는 '시점' column만 존재하기 때문에 '시점' column만 요약 통계량이 나오게 됩니다.\n",
    "df.describe()"
   ]
  },
  {
   "cell_type": "code",
   "execution_count": 45,
   "id": "3e24e428",
   "metadata": {
    "id": "4d6bc70e",
    "outputId": "9429c383-e29d-476c-d818-2e62978c8098"
   },
   "outputs": [
    {
     "data": {
      "text/plain": [
       "연령별          14\n",
       "시점           10\n",
       "암검진별          5\n",
       "성별            2\n",
       "대상인원 (명)    788\n",
       "수검인원 (명)    788\n",
       "dtype: int64"
      ]
     },
     "execution_count": 45,
     "metadata": {},
     "output_type": "execute_result"
    }
   ],
   "source": [
    "# nunique() 함수로 DataFrame에 고유값의 개수를 확인할 수 있습니다.\n",
    "df.nunique()"
   ]
  },
  {
   "cell_type": "code",
   "execution_count": 46,
   "id": "344e73ce",
   "metadata": {
    "id": "b4e75c7e",
    "outputId": "54c94d44-72ef-46ca-9da9-9188bb6b780c"
   },
   "outputs": [
    {
     "data": {
      "text/plain": [
       "RangeIndex(start=0, stop=1238, step=1)"
      ]
     },
     "execution_count": 46,
     "metadata": {},
     "output_type": "execute_result"
    }
   ],
   "source": [
    "# index속성은 DataFrame의 인덱스를 얻어올 수 있습니다.\n",
    "df.index"
   ]
  },
  {
   "cell_type": "code",
   "execution_count": 47,
   "id": "51e42631",
   "metadata": {
    "id": "054a58e7",
    "outputId": "9570e825-a449-41bb-809d-14da8fa786e3"
   },
   "outputs": [
    {
     "data": {
      "text/plain": [
       "Index(['연령별', '시점', '암검진별', '성별', '대상인원 (명)', '수검인원 (명)'], dtype='object')"
      ]
     },
     "execution_count": 47,
     "metadata": {},
     "output_type": "execute_result"
    }
   ],
   "source": [
    "# columns속성을 통해 DataFrame을 구성하는 열 이름과 속성을 확인할 수 있습니다.\n",
    "df.columns"
   ]
  },
  {
   "cell_type": "code",
   "execution_count": 48,
   "id": "793fcc0f",
   "metadata": {
    "id": "5e72ae8f",
    "outputId": "15564816-2079-4ee6-ea21-565f5a514dae"
   },
   "outputs": [
    {
     "data": {
      "text/plain": [
       "array([['20 ~ 24세', 2016, '위암', '남자', 0, 0],\n",
       "       ['20 ~ 24세', 2016, '위암', '여자', 0, 0],\n",
       "       ['20 ~ 24세', 2016, '대장암', '남자', 0, 0],\n",
       "       ...,\n",
       "       ['85세 이상', 2019, '유방암', '여자', 171274, 22476],\n",
       "       ['85세 이상', 2019, '자궁경부암', '남자', 0, 0],\n",
       "       ['85세 이상', 2019, '자궁경부암', '여자', 165503, 9123]], dtype=object)"
      ]
     },
     "execution_count": 48,
     "metadata": {},
     "output_type": "execute_result"
    }
   ],
   "source": [
    "# values속성을 통해 시리즈의 데이터를 얻어올 수 있습니다.\n",
    "df.values"
   ]
  },
  {
   "cell_type": "markdown",
   "id": "e723e06a",
   "metadata": {},
   "source": [
    "## 데이터 타입 변경"
   ]
  },
  {
   "cell_type": "code",
   "execution_count": 51,
   "id": "5de111f9",
   "metadata": {
    "id": "064608d3",
    "outputId": "d0027f7b-d4f6-442d-c5ac-5d173092f8fb"
   },
   "outputs": [
    {
     "data": {
      "text/plain": [
       "0           0.0\n",
       "1           0.0\n",
       "2           0.0\n",
       "3           0.0\n",
       "4           0.0\n",
       "         ...   \n",
       "1233      914.0\n",
       "1234        0.0\n",
       "1235    22476.0\n",
       "1236        0.0\n",
       "1237     9123.0\n",
       "Name: 수검인원 (명), Length: 1238, dtype: float64"
      ]
     },
     "execution_count": 51,
     "metadata": {},
     "output_type": "execute_result"
    }
   ],
   "source": [
    "# astype함수를 통해 dtype을 변경할 수 있습니다.\n",
    "# df['대상인원']\n",
    "# df['수검인원']\n",
    "df['대상인원 (명)'].astype('float')\n",
    "df['수검인원 (명)'].astype('float')"
   ]
  },
  {
   "cell_type": "markdown",
   "id": "09e4028c",
   "metadata": {
    "id": "80f2740b"
   },
   "source": [
    "## 데이터 색인하기"
   ]
  },
  {
   "cell_type": "markdown",
   "id": "1027b6c2",
   "metadata": {
    "id": "80ad1813"
   },
   "source": [
    "### Series\n",
    "<img src=\"https://pandas.pydata.org/docs/_images/01_table_series.svg\">"
   ]
  },
  {
   "cell_type": "code",
   "execution_count": 54,
   "id": "9cd7e359",
   "metadata": {
    "id": "5b96e6cc",
    "outputId": "ce62ec01-73d6-4e31-e6a7-196397f26b51"
   },
   "outputs": [
    {
     "data": {
      "text/plain": [
       "0     위암\n",
       "1     위암\n",
       "2    대장암\n",
       "3    대장암\n",
       "Name: 암검진별, dtype: object"
      ]
     },
     "execution_count": 54,
     "metadata": {},
     "output_type": "execute_result"
    }
   ],
   "source": [
    "# 컬럼 하나를 색인합니다.\n",
    "df['암검진별'][:4]"
   ]
  },
  {
   "cell_type": "code",
   "execution_count": 55,
   "id": "853a2e57",
   "metadata": {
    "id": "d5041fc9",
    "outputId": "1116de7c-5aab-4fdb-f224-b38a5d49d48b"
   },
   "outputs": [
    {
     "data": {
      "text/plain": [
       "pandas.core.series.Series"
      ]
     },
     "execution_count": 55,
     "metadata": {},
     "output_type": "execute_result"
    }
   ],
   "source": [
    "# df['암검진별']의 type을 확인해 봅니다.\n",
    "type(df['암검진별'])"
   ]
  },
  {
   "cell_type": "code",
   "execution_count": 58,
   "id": "a28382c4",
   "metadata": {
    "id": "8869edde",
    "outputId": "d41969ea-db50-4c8e-8d56-858a65765f6b"
   },
   "outputs": [
    {
     "data": {
      "text/plain": [
       "연령별         20 ~ 24세\n",
       "시점              2016\n",
       "암검진별              위암\n",
       "성별                남자\n",
       "대상인원 (명)           0\n",
       "수검인원 (명)           0\n",
       "Name: 0, dtype: object"
      ]
     },
     "execution_count": 58,
     "metadata": {},
     "output_type": "execute_result"
    }
   ],
   "source": [
    "# 0번째 행만 가져옵니다. 행 인덱스를 가져올 때는 .loc를 이용합니다.\n",
    "# loc는 위치(locate)를 의미합니다.\n",
    "df.loc[0]"
   ]
  },
  {
   "cell_type": "code",
   "execution_count": 57,
   "id": "1120ded9",
   "metadata": {
    "id": "26851cda",
    "outputId": "a81e2a0e-3e56-4bd2-9eec-5215fd77061c"
   },
   "outputs": [
    {
     "data": {
      "text/plain": [
       "pandas.core.series.Series"
      ]
     },
     "execution_count": 57,
     "metadata": {},
     "output_type": "execute_result"
    }
   ],
   "source": [
    "# df.loc[0]의 type을 확인해 봅니다.\n",
    "type(df.loc[0])"
   ]
  },
  {
   "cell_type": "markdown",
   "id": "589bca74",
   "metadata": {
    "id": "f9df94f0"
   },
   "source": [
    "### DataFrame\n",
    "<img src=\"https://pandas.pydata.org/docs/_images/01_table_dataframe.svg\" width=\"400\">"
   ]
  },
  {
   "cell_type": "code",
   "execution_count": 60,
   "id": "52d88be5",
   "metadata": {},
   "outputs": [
    {
     "data": {
      "text/html": [
       "<div>\n",
       "<style scoped>\n",
       "    .dataframe tbody tr th:only-of-type {\n",
       "        vertical-align: middle;\n",
       "    }\n",
       "\n",
       "    .dataframe tbody tr th {\n",
       "        vertical-align: top;\n",
       "    }\n",
       "\n",
       "    .dataframe thead th {\n",
       "        text-align: right;\n",
       "    }\n",
       "</style>\n",
       "<table border=\"1\" class=\"dataframe\">\n",
       "  <thead>\n",
       "    <tr style=\"text-align: right;\">\n",
       "      <th></th>\n",
       "      <th>연령별</th>\n",
       "      <th>시점</th>\n",
       "      <th>암검진별</th>\n",
       "      <th>성별</th>\n",
       "      <th>대상인원 (명)</th>\n",
       "      <th>수검인원 (명)</th>\n",
       "    </tr>\n",
       "  </thead>\n",
       "  <tbody>\n",
       "    <tr>\n",
       "      <th>0</th>\n",
       "      <td>20 ~ 24세</td>\n",
       "      <td>2016</td>\n",
       "      <td>위암</td>\n",
       "      <td>남자</td>\n",
       "      <td>0</td>\n",
       "      <td>0</td>\n",
       "    </tr>\n",
       "    <tr>\n",
       "      <th>1</th>\n",
       "      <td>20 ~ 24세</td>\n",
       "      <td>2016</td>\n",
       "      <td>위암</td>\n",
       "      <td>여자</td>\n",
       "      <td>0</td>\n",
       "      <td>0</td>\n",
       "    </tr>\n",
       "    <tr>\n",
       "      <th>2</th>\n",
       "      <td>20 ~ 24세</td>\n",
       "      <td>2016</td>\n",
       "      <td>대장암</td>\n",
       "      <td>남자</td>\n",
       "      <td>0</td>\n",
       "      <td>0</td>\n",
       "    </tr>\n",
       "    <tr>\n",
       "      <th>3</th>\n",
       "      <td>20 ~ 24세</td>\n",
       "      <td>2016</td>\n",
       "      <td>대장암</td>\n",
       "      <td>여자</td>\n",
       "      <td>0</td>\n",
       "      <td>0</td>\n",
       "    </tr>\n",
       "    <tr>\n",
       "      <th>4</th>\n",
       "      <td>20 ~ 24세</td>\n",
       "      <td>2016</td>\n",
       "      <td>간암</td>\n",
       "      <td>남자</td>\n",
       "      <td>0</td>\n",
       "      <td>0</td>\n",
       "    </tr>\n",
       "  </tbody>\n",
       "</table>\n",
       "</div>"
      ],
      "text/plain": [
       "        연령별    시점 암검진별  성별  대상인원 (명)  수검인원 (명)\n",
       "0  20 ~ 24세  2016   위암  남자         0         0\n",
       "1  20 ~ 24세  2016   위암  여자         0         0\n",
       "2  20 ~ 24세  2016  대장암  남자         0         0\n",
       "3  20 ~ 24세  2016  대장암  여자         0         0\n",
       "4  20 ~ 24세  2016   간암  남자         0         0"
      ]
     },
     "execution_count": 60,
     "metadata": {},
     "output_type": "execute_result"
    }
   ],
   "source": [
    "df.head()"
   ]
  },
  {
   "cell_type": "code",
   "execution_count": 59,
   "id": "463ac1d5",
   "metadata": {
    "id": "a4a2e176",
    "outputId": "e856e95a-7122-4a27-be6c-5e694ee3c24a"
   },
   "outputs": [
    {
     "data": {
      "text/plain": [
       "pandas.core.frame.DataFrame"
      ]
     },
     "execution_count": 59,
     "metadata": {},
     "output_type": "execute_result"
    }
   ],
   "source": [
    "# df 변수의 type을 확인해 봅니다.\n",
    "type(df)"
   ]
  },
  {
   "cell_type": "code",
   "execution_count": 67,
   "id": "c8366785",
   "metadata": {
    "id": "4d69ef54",
    "outputId": "aff13874-7ff7-4c8c-e517-69b1c1ad8796"
   },
   "outputs": [
    {
     "data": {
      "text/html": [
       "<div>\n",
       "<style scoped>\n",
       "    .dataframe tbody tr th:only-of-type {\n",
       "        vertical-align: middle;\n",
       "    }\n",
       "\n",
       "    .dataframe tbody tr th {\n",
       "        vertical-align: top;\n",
       "    }\n",
       "\n",
       "    .dataframe thead th {\n",
       "        text-align: right;\n",
       "    }\n",
       "</style>\n",
       "<table border=\"1\" class=\"dataframe\">\n",
       "  <thead>\n",
       "    <tr style=\"text-align: right;\">\n",
       "      <th></th>\n",
       "      <th>연령별</th>\n",
       "      <th>암검진별</th>\n",
       "      <th>성별</th>\n",
       "    </tr>\n",
       "  </thead>\n",
       "  <tbody>\n",
       "    <tr>\n",
       "      <th>0</th>\n",
       "      <td>20 ~ 24세</td>\n",
       "      <td>위암</td>\n",
       "      <td>남자</td>\n",
       "    </tr>\n",
       "    <tr>\n",
       "      <th>1</th>\n",
       "      <td>20 ~ 24세</td>\n",
       "      <td>위암</td>\n",
       "      <td>여자</td>\n",
       "    </tr>\n",
       "    <tr>\n",
       "      <th>2</th>\n",
       "      <td>20 ~ 24세</td>\n",
       "      <td>대장암</td>\n",
       "      <td>남자</td>\n",
       "    </tr>\n",
       "    <tr>\n",
       "      <th>3</th>\n",
       "      <td>20 ~ 24세</td>\n",
       "      <td>대장암</td>\n",
       "      <td>여자</td>\n",
       "    </tr>\n",
       "    <tr>\n",
       "      <th>4</th>\n",
       "      <td>20 ~ 24세</td>\n",
       "      <td>간암</td>\n",
       "      <td>남자</td>\n",
       "    </tr>\n",
       "  </tbody>\n",
       "</table>\n",
       "</div>"
      ],
      "text/plain": [
       "        연령별 암검진별  성별\n",
       "0  20 ~ 24세   위암  남자\n",
       "1  20 ~ 24세   위암  여자\n",
       "2  20 ~ 24세  대장암  남자\n",
       "3  20 ~ 24세  대장암  여자\n",
       "4  20 ~ 24세   간암  남자"
      ]
     },
     "execution_count": 67,
     "metadata": {},
     "output_type": "execute_result"
    }
   ],
   "source": [
    "# 여러 컬럼을 지정할 때는 리스트 형태로 묶어주어야 합니다.\n",
    "# 2차원 행렬은 [](대괄호)가 2개가 있습니다..\n",
    "df[['연령별','암검진별','성별']].head()"
   ]
  },
  {
   "cell_type": "code",
   "execution_count": 69,
   "id": "fb52d316",
   "metadata": {
    "id": "a636c31e",
    "outputId": "d89bf5a8-be73-4218-8562-c011c4e754b4"
   },
   "outputs": [
    {
     "data": {
      "text/html": [
       "<div>\n",
       "<style scoped>\n",
       "    .dataframe tbody tr th:only-of-type {\n",
       "        vertical-align: middle;\n",
       "    }\n",
       "\n",
       "    .dataframe tbody tr th {\n",
       "        vertical-align: top;\n",
       "    }\n",
       "\n",
       "    .dataframe thead th {\n",
       "        text-align: right;\n",
       "    }\n",
       "</style>\n",
       "<table border=\"1\" class=\"dataframe\">\n",
       "  <thead>\n",
       "    <tr style=\"text-align: right;\">\n",
       "      <th></th>\n",
       "      <th>연령별</th>\n",
       "      <th>시점</th>\n",
       "      <th>암검진별</th>\n",
       "      <th>성별</th>\n",
       "      <th>대상인원 (명)</th>\n",
       "      <th>수검인원 (명)</th>\n",
       "    </tr>\n",
       "  </thead>\n",
       "  <tbody>\n",
       "    <tr>\n",
       "      <th>0</th>\n",
       "      <td>20 ~ 24세</td>\n",
       "      <td>2016</td>\n",
       "      <td>위암</td>\n",
       "      <td>남자</td>\n",
       "      <td>0</td>\n",
       "      <td>0</td>\n",
       "    </tr>\n",
       "    <tr>\n",
       "      <th>1</th>\n",
       "      <td>20 ~ 24세</td>\n",
       "      <td>2016</td>\n",
       "      <td>위암</td>\n",
       "      <td>여자</td>\n",
       "      <td>0</td>\n",
       "      <td>0</td>\n",
       "    </tr>\n",
       "    <tr>\n",
       "      <th>2</th>\n",
       "      <td>20 ~ 24세</td>\n",
       "      <td>2016</td>\n",
       "      <td>대장암</td>\n",
       "      <td>남자</td>\n",
       "      <td>0</td>\n",
       "      <td>0</td>\n",
       "    </tr>\n",
       "    <tr>\n",
       "      <th>3</th>\n",
       "      <td>20 ~ 24세</td>\n",
       "      <td>2016</td>\n",
       "      <td>대장암</td>\n",
       "      <td>여자</td>\n",
       "      <td>0</td>\n",
       "      <td>0</td>\n",
       "    </tr>\n",
       "    <tr>\n",
       "      <th>4</th>\n",
       "      <td>20 ~ 24세</td>\n",
       "      <td>2016</td>\n",
       "      <td>간암</td>\n",
       "      <td>남자</td>\n",
       "      <td>0</td>\n",
       "      <td>0</td>\n",
       "    </tr>\n",
       "  </tbody>\n",
       "</table>\n",
       "</div>"
      ],
      "text/plain": [
       "        연령별    시점 암검진별  성별  대상인원 (명)  수검인원 (명)\n",
       "0  20 ~ 24세  2016   위암  남자         0         0\n",
       "1  20 ~ 24세  2016   위암  여자         0         0\n",
       "2  20 ~ 24세  2016  대장암  남자         0         0\n",
       "3  20 ~ 24세  2016  대장암  여자         0         0\n",
       "4  20 ~ 24세  2016   간암  남자         0         0"
      ]
     },
     "execution_count": 69,
     "metadata": {},
     "output_type": "execute_result"
    }
   ],
   "source": [
    "# 여러 개의 행을 가져올 때도 [](대괄호)를 통해 리스트 형태로 묶어주어야 합니다.\n",
    "df[0:10].head()"
   ]
  },
  {
   "cell_type": "code",
   "execution_count": 71,
   "id": "6a3faab9",
   "metadata": {
    "id": "aa30f1f3",
    "outputId": "bf953e8f-dd7f-4f8e-cb2a-7ac14f33259e"
   },
   "outputs": [
    {
     "data": {
      "text/html": [
       "<div>\n",
       "<style scoped>\n",
       "    .dataframe tbody tr th:only-of-type {\n",
       "        vertical-align: middle;\n",
       "    }\n",
       "\n",
       "    .dataframe tbody tr th {\n",
       "        vertical-align: top;\n",
       "    }\n",
       "\n",
       "    .dataframe thead th {\n",
       "        text-align: right;\n",
       "    }\n",
       "</style>\n",
       "<table border=\"1\" class=\"dataframe\">\n",
       "  <thead>\n",
       "    <tr style=\"text-align: right;\">\n",
       "      <th></th>\n",
       "      <th>암검진별</th>\n",
       "    </tr>\n",
       "  </thead>\n",
       "  <tbody>\n",
       "    <tr>\n",
       "      <th>0</th>\n",
       "      <td>위암</td>\n",
       "    </tr>\n",
       "    <tr>\n",
       "      <th>1</th>\n",
       "      <td>위암</td>\n",
       "    </tr>\n",
       "    <tr>\n",
       "      <th>2</th>\n",
       "      <td>대장암</td>\n",
       "    </tr>\n",
       "    <tr>\n",
       "      <th>3</th>\n",
       "      <td>대장암</td>\n",
       "    </tr>\n",
       "    <tr>\n",
       "      <th>4</th>\n",
       "      <td>간암</td>\n",
       "    </tr>\n",
       "  </tbody>\n",
       "</table>\n",
       "</div>"
      ],
      "text/plain": [
       "  암검진별\n",
       "0   위암\n",
       "1   위암\n",
       "2  대장암\n",
       "3  대장암\n",
       "4   간암"
      ]
     },
     "execution_count": 71,
     "metadata": {},
     "output_type": "execute_result"
    }
   ],
   "source": [
    "# 1개의 column을 가져올 때도 [](대괄호) 2개를 써서 리스트 형태로 묶어주게 되면 데이터프레임 형태로 반환됩니다.\n",
    "# '암검진별'을 데이터프레임으로 가져옵니다.\n",
    "df[['암검진별']].head()"
   ]
  },
  {
   "cell_type": "markdown",
   "id": "78bc15be",
   "metadata": {
    "id": "42753bf8"
   },
   "source": [
    "### loc를 통한 서브셋 가져오기\n",
    "<img src = 'https://pandas.pydata.org/docs/_images/03_subset_columns_rows.svg' width=\"600\">"
   ]
  },
  {
   "cell_type": "code",
   "execution_count": 72,
   "id": "5588886b",
   "metadata": {
    "id": "e096dc7e",
    "outputId": "b366f349-2881-42c5-8ce3-2f7c4f0ecffa"
   },
   "outputs": [
    {
     "data": {
      "text/plain": [
       "'대장암'"
      ]
     },
     "execution_count": 72,
     "metadata": {},
     "output_type": "execute_result"
    }
   ],
   "source": [
    "# 행과 열 함께 가져오기\n",
    "# .loc[행, 열]\n",
    "df.loc[2,'암검진별']"
   ]
  },
  {
   "cell_type": "code",
   "execution_count": 76,
   "id": "6f73aa6f",
   "metadata": {
    "id": "eeb43296",
    "outputId": "80863dce-41d7-46d8-c803-3aac43deecb5"
   },
   "outputs": [
    {
     "data": {
      "text/plain": [
       "'20 ~ 24세'"
      ]
     },
     "execution_count": 76,
     "metadata": {},
     "output_type": "execute_result"
    }
   ],
   "source": [
    "# .loc[행], [열]\n",
    "df.loc[3]['연령별']"
   ]
  },
  {
   "cell_type": "code",
   "execution_count": null,
   "id": "1955f029",
   "metadata": {
    "id": "effe8b80"
   },
   "outputs": [],
   "source": [
    "# 행과 열을 다른 리스트로 분리할 때와 같은 리스트로 묶어줄 때는 실행속도의 차이가 있습니다."
   ]
  },
  {
   "cell_type": "code",
   "execution_count": 77,
   "id": "eedd036a",
   "metadata": {
    "id": "ef417e00"
   },
   "outputs": [
    {
     "name": "stdout",
     "output_type": "stream",
     "text": [
      "9.83 µs ± 274 ns per loop (mean ± std. dev. of 7 runs, 100000 loops each)\n"
     ]
    }
   ],
   "source": [
    "%timeit df.loc[10, '암검진별']"
   ]
  },
  {
   "cell_type": "code",
   "execution_count": 78,
   "id": "ca44544f",
   "metadata": {
    "id": "2d97ce0a"
   },
   "outputs": [
    {
     "name": "stdout",
     "output_type": "stream",
     "text": [
      "156 µs ± 4.55 µs per loop (mean ± std. dev. of 7 runs, 10000 loops each)\n"
     ]
    }
   ],
   "source": [
    "%timeit df.loc[10], ['암검진별']"
   ]
  },
  {
   "cell_type": "code",
   "execution_count": 81,
   "id": "e74f3ec2",
   "metadata": {
    "id": "895b9771",
    "outputId": "3a2b72ff-090f-42d2-b714-be8417037c60"
   },
   "outputs": [
    {
     "data": {
      "text/plain": [
       "0     위암\n",
       "1     위암\n",
       "2    대장암\n",
       "3    대장암\n",
       "4     간암\n",
       "Name: 암검진별, dtype: object"
      ]
     },
     "execution_count": 81,
     "metadata": {},
     "output_type": "execute_result"
    }
   ],
   "source": [
    "# 여러 개의 행과 하나의 column 가져오기\n",
    "# .loc[행, 열]\n",
    "df.loc[:4,'암검진별']"
   ]
  },
  {
   "cell_type": "code",
   "execution_count": 83,
   "id": "6ce375e0",
   "metadata": {
    "id": "d2cbd43e",
    "outputId": "a79025c7-9302-4b80-94e6-464a1176e106"
   },
   "outputs": [
    {
     "data": {
      "text/plain": [
       "0     위암\n",
       "1     위암\n",
       "2    대장암\n",
       "3    대장암\n",
       "4     간암\n",
       "5     간암\n",
       "Name: 암검진별, dtype: object"
      ]
     },
     "execution_count": 83,
     "metadata": {},
     "output_type": "execute_result"
    }
   ],
   "source": [
    "# 여러개의 행과 여러개의 컬럼 가져오기\n",
    "# .loc[행, 열]\n",
    "df.loc[:5]['암검진별']"
   ]
  },
  {
   "cell_type": "markdown",
   "id": "3c0f04ee",
   "metadata": {
    "id": "1a339cc3"
   },
   "source": [
    "### Boolean Indexing\n",
    "* 결과값이 True, False bool형태로 반환되기 대문에 boolean indexing이라고 부른다.\n",
    "* boolean indexing을 사용해 특정 조건식을 만족하는 데이터를 서브셋으로 가져온다."
   ]
  },
  {
   "cell_type": "code",
   "execution_count": 84,
   "id": "a8fcce83",
   "metadata": {
    "id": "c3db1df9",
    "outputId": "71ec5b6e-127f-40ae-d64b-23d2c89674a7"
   },
   "outputs": [
    {
     "data": {
      "text/html": [
       "<div>\n",
       "<style scoped>\n",
       "    .dataframe tbody tr th:only-of-type {\n",
       "        vertical-align: middle;\n",
       "    }\n",
       "\n",
       "    .dataframe tbody tr th {\n",
       "        vertical-align: top;\n",
       "    }\n",
       "\n",
       "    .dataframe thead th {\n",
       "        text-align: right;\n",
       "    }\n",
       "</style>\n",
       "<table border=\"1\" class=\"dataframe\">\n",
       "  <thead>\n",
       "    <tr style=\"text-align: right;\">\n",
       "      <th></th>\n",
       "      <th>연령별</th>\n",
       "      <th>시점</th>\n",
       "      <th>암검진별</th>\n",
       "      <th>성별</th>\n",
       "      <th>대상인원 (명)</th>\n",
       "      <th>수검인원 (명)</th>\n",
       "    </tr>\n",
       "  </thead>\n",
       "  <tbody>\n",
       "  </tbody>\n",
       "</table>\n",
       "</div>"
      ],
      "text/plain": [
       "Empty DataFrame\n",
       "Columns: [연령별, 시점, 암검진별, 성별, 대상인원 (명), 수검인원 (명)]\n",
       "Index: []"
      ]
     },
     "execution_count": 84,
     "metadata": {},
     "output_type": "execute_result"
    }
   ],
   "source": [
    "# DataFrame에서 폐암과 자궁경부암에 관한 내용 찾아보기\n",
    "df[df['암검진별'] == '폐암']\n",
    "# 폐암 국가검진은 2019년 7월부터 추가되었기 때문에 폐암에 관한 데이터는 없습니다."
   ]
  },
  {
   "cell_type": "code",
   "execution_count": 86,
   "id": "19627a9c",
   "metadata": {
    "id": "c26613e5",
    "outputId": "10e03aaf-d67b-41b5-fd2c-c0fdeda810c3"
   },
   "outputs": [
    {
     "data": {
      "text/html": [
       "<div>\n",
       "<style scoped>\n",
       "    .dataframe tbody tr th:only-of-type {\n",
       "        vertical-align: middle;\n",
       "    }\n",
       "\n",
       "    .dataframe tbody tr th {\n",
       "        vertical-align: top;\n",
       "    }\n",
       "\n",
       "    .dataframe thead th {\n",
       "        text-align: right;\n",
       "    }\n",
       "</style>\n",
       "<table border=\"1\" class=\"dataframe\">\n",
       "  <thead>\n",
       "    <tr style=\"text-align: right;\">\n",
       "      <th></th>\n",
       "      <th>연령별</th>\n",
       "      <th>시점</th>\n",
       "      <th>암검진별</th>\n",
       "      <th>성별</th>\n",
       "      <th>대상인원 (명)</th>\n",
       "      <th>수검인원 (명)</th>\n",
       "    </tr>\n",
       "  </thead>\n",
       "  <tbody>\n",
       "    <tr>\n",
       "      <th>8</th>\n",
       "      <td>20 ~ 24세</td>\n",
       "      <td>2016</td>\n",
       "      <td>자궁경부암</td>\n",
       "      <td>남자</td>\n",
       "      <td>0</td>\n",
       "      <td>0</td>\n",
       "    </tr>\n",
       "    <tr>\n",
       "      <th>9</th>\n",
       "      <td>20 ~ 24세</td>\n",
       "      <td>2016</td>\n",
       "      <td>자궁경부암</td>\n",
       "      <td>여자</td>\n",
       "      <td>736010</td>\n",
       "      <td>138829</td>\n",
       "    </tr>\n",
       "    <tr>\n",
       "      <th>18</th>\n",
       "      <td>20 ~ 24세</td>\n",
       "      <td>2017</td>\n",
       "      <td>자궁경부암</td>\n",
       "      <td>남자</td>\n",
       "      <td>0</td>\n",
       "      <td>0</td>\n",
       "    </tr>\n",
       "    <tr>\n",
       "      <th>19</th>\n",
       "      <td>20 ~ 24세</td>\n",
       "      <td>2017</td>\n",
       "      <td>자궁경부암</td>\n",
       "      <td>여자</td>\n",
       "      <td>746162</td>\n",
       "      <td>166205</td>\n",
       "    </tr>\n",
       "    <tr>\n",
       "      <th>28</th>\n",
       "      <td>20 ~ 24세</td>\n",
       "      <td>2018</td>\n",
       "      <td>자궁경부암</td>\n",
       "      <td>남자</td>\n",
       "      <td>0</td>\n",
       "      <td>0</td>\n",
       "    </tr>\n",
       "  </tbody>\n",
       "</table>\n",
       "</div>"
      ],
      "text/plain": [
       "         연령별    시점   암검진별  성별  대상인원 (명)  수검인원 (명)\n",
       "8   20 ~ 24세  2016  자궁경부암  남자         0         0\n",
       "9   20 ~ 24세  2016  자궁경부암  여자    736010    138829\n",
       "18  20 ~ 24세  2017  자궁경부암  남자         0         0\n",
       "19  20 ~ 24세  2017  자궁경부암  여자    746162    166205\n",
       "28  20 ~ 24세  2018  자궁경부암  남자         0         0"
      ]
     },
     "execution_count": 86,
     "metadata": {},
     "output_type": "execute_result"
    }
   ],
   "source": [
    "# 자궁경부암\n",
    "df[df['암검진별'] == '자궁경부암'].head()"
   ]
  },
  {
   "cell_type": "markdown",
   "id": "43dbf6e4",
   "metadata": {},
   "source": [
    "## 파생변수 만들기\n",
    "\n",
    "<img src = 'https://pandas.pydata.org/docs/_images/05_newcolumn_1.svg' width=\"600\">"
   ]
  },
  {
   "cell_type": "code",
   "execution_count": 88,
   "id": "edfe060a",
   "metadata": {},
   "outputs": [
    {
     "data": {
      "text/plain": [
       "array(['20 ~ 24세', '25 ~ 29세', '30 ~ 34세', '35 ~ 39세', '40 ~ 44세',\n",
       "       '45 ~ 49세', '50 ~ 54세', '55 ~ 59세', '60 ~ 64세', '65 ~ 69세',\n",
       "       '70 ~ 74세', '75 ~ 79세', '80 ~ 84세', '85세 이상'], dtype=object)"
      ]
     },
     "execution_count": 88,
     "metadata": {},
     "output_type": "execute_result"
    }
   ],
   "source": [
    "# 연령별 unique 값을 확인합니다.\n",
    "df['연령별'].unique()"
   ]
  },
  {
   "cell_type": "code",
   "execution_count": 91,
   "id": "841bc73e",
   "metadata": {},
   "outputs": [
    {
     "data": {
      "text/html": [
       "<div>\n",
       "<style scoped>\n",
       "    .dataframe tbody tr th:only-of-type {\n",
       "        vertical-align: middle;\n",
       "    }\n",
       "\n",
       "    .dataframe tbody tr th {\n",
       "        vertical-align: top;\n",
       "    }\n",
       "\n",
       "    .dataframe thead th {\n",
       "        text-align: right;\n",
       "    }\n",
       "</style>\n",
       "<table border=\"1\" class=\"dataframe\">\n",
       "  <thead>\n",
       "    <tr style=\"text-align: right;\">\n",
       "      <th></th>\n",
       "      <th>연령별</th>\n",
       "      <th>시점</th>\n",
       "      <th>암검진별</th>\n",
       "      <th>성별</th>\n",
       "      <th>대상인원 (명)</th>\n",
       "      <th>수검인원 (명)</th>\n",
       "      <th>연령대</th>\n",
       "    </tr>\n",
       "  </thead>\n",
       "  <tbody>\n",
       "    <tr>\n",
       "      <th>0</th>\n",
       "      <td>20 ~ 24세</td>\n",
       "      <td>2016</td>\n",
       "      <td>위암</td>\n",
       "      <td>남자</td>\n",
       "      <td>0</td>\n",
       "      <td>0</td>\n",
       "      <td>20대</td>\n",
       "    </tr>\n",
       "    <tr>\n",
       "      <th>1</th>\n",
       "      <td>20 ~ 24세</td>\n",
       "      <td>2016</td>\n",
       "      <td>위암</td>\n",
       "      <td>여자</td>\n",
       "      <td>0</td>\n",
       "      <td>0</td>\n",
       "      <td>20대</td>\n",
       "    </tr>\n",
       "    <tr>\n",
       "      <th>2</th>\n",
       "      <td>20 ~ 24세</td>\n",
       "      <td>2016</td>\n",
       "      <td>대장암</td>\n",
       "      <td>남자</td>\n",
       "      <td>0</td>\n",
       "      <td>0</td>\n",
       "      <td>20대</td>\n",
       "    </tr>\n",
       "    <tr>\n",
       "      <th>3</th>\n",
       "      <td>20 ~ 24세</td>\n",
       "      <td>2016</td>\n",
       "      <td>대장암</td>\n",
       "      <td>여자</td>\n",
       "      <td>0</td>\n",
       "      <td>0</td>\n",
       "      <td>20대</td>\n",
       "    </tr>\n",
       "    <tr>\n",
       "      <th>4</th>\n",
       "      <td>20 ~ 24세</td>\n",
       "      <td>2016</td>\n",
       "      <td>간암</td>\n",
       "      <td>남자</td>\n",
       "      <td>0</td>\n",
       "      <td>0</td>\n",
       "      <td>20대</td>\n",
       "    </tr>\n",
       "  </tbody>\n",
       "</table>\n",
       "</div>"
      ],
      "text/plain": [
       "        연령별    시점 암검진별  성별  대상인원 (명)  수검인원 (명)  연령대\n",
       "0  20 ~ 24세  2016   위암  남자         0         0  20대\n",
       "1  20 ~ 24세  2016   위암  여자         0         0  20대\n",
       "2  20 ~ 24세  2016  대장암  남자         0         0  20대\n",
       "3  20 ~ 24세  2016  대장암  여자         0         0  20대\n",
       "4  20 ~ 24세  2016   간암  남자         0         0  20대"
      ]
     },
     "execution_count": 91,
     "metadata": {},
     "output_type": "execute_result"
    }
   ],
   "source": [
    "# 연령대 파생변수를 생성합니다.\n",
    "# df[\"연령대\"]\n",
    "def age_cat(age):\n",
    "    if age in ['20 ~ 24세', '25 ~ 29세']: return '20대'\n",
    "    elif age in ['30 ~ 34세', '35 ~ 39세']: return '30대'\n",
    "    elif age in ['40 ~ 44세', '45 ~ 49세']: return '40대'\n",
    "    elif age in ['50 ~ 54세', '55 ~ 59세']: return '50대'\n",
    "    elif age in ['60 ~ 64세', '65 ~ 69세']: return '60대'\n",
    "    elif age in ['70 ~ 74세', '75 ~ 79세']: return '70대'\n",
    "    else: return '80대'\n",
    "    \n",
    "df['연령대'] = df['연령별'].apply(lambda x : age_cat(x))\n",
    "df.head()"
   ]
  },
  {
   "cell_type": "markdown",
   "id": "cae4071e",
   "metadata": {},
   "source": [
    "## 여러 조건 검색하기\n",
    "* and => &\n",
    "* or => | "
   ]
  },
  {
   "cell_type": "code",
   "execution_count": 95,
   "id": "d29c42bd",
   "metadata": {
    "id": "0ee537ab",
    "outputId": "cb0e54b9-cbeb-404e-caf1-85b105a6dcb8"
   },
   "outputs": [
    {
     "data": {
      "text/html": [
       "<div>\n",
       "<style scoped>\n",
       "    .dataframe tbody tr th:only-of-type {\n",
       "        vertical-align: middle;\n",
       "    }\n",
       "\n",
       "    .dataframe tbody tr th {\n",
       "        vertical-align: top;\n",
       "    }\n",
       "\n",
       "    .dataframe thead th {\n",
       "        text-align: right;\n",
       "    }\n",
       "</style>\n",
       "<table border=\"1\" class=\"dataframe\">\n",
       "  <thead>\n",
       "    <tr style=\"text-align: right;\">\n",
       "      <th></th>\n",
       "      <th>연령별</th>\n",
       "      <th>시점</th>\n",
       "      <th>암검진별</th>\n",
       "      <th>성별</th>\n",
       "      <th>대상인원 (명)</th>\n",
       "      <th>수검인원 (명)</th>\n",
       "      <th>연령대</th>\n",
       "    </tr>\n",
       "  </thead>\n",
       "  <tbody>\n",
       "    <tr>\n",
       "      <th>84</th>\n",
       "      <td>30 ~ 34세</td>\n",
       "      <td>2010</td>\n",
       "      <td>간암</td>\n",
       "      <td>남자</td>\n",
       "      <td>0</td>\n",
       "      <td>0</td>\n",
       "      <td>30대</td>\n",
       "    </tr>\n",
       "    <tr>\n",
       "      <th>85</th>\n",
       "      <td>30 ~ 34세</td>\n",
       "      <td>2010</td>\n",
       "      <td>간암</td>\n",
       "      <td>여자</td>\n",
       "      <td>0</td>\n",
       "      <td>0</td>\n",
       "      <td>30대</td>\n",
       "    </tr>\n",
       "    <tr>\n",
       "      <th>175</th>\n",
       "      <td>35 ~ 39세</td>\n",
       "      <td>2010</td>\n",
       "      <td>간암</td>\n",
       "      <td>남자</td>\n",
       "      <td>0</td>\n",
       "      <td>0</td>\n",
       "      <td>30대</td>\n",
       "    </tr>\n",
       "    <tr>\n",
       "      <th>176</th>\n",
       "      <td>35 ~ 39세</td>\n",
       "      <td>2010</td>\n",
       "      <td>간암</td>\n",
       "      <td>여자</td>\n",
       "      <td>0</td>\n",
       "      <td>0</td>\n",
       "      <td>30대</td>\n",
       "    </tr>\n",
       "    <tr>\n",
       "      <th>266</th>\n",
       "      <td>40 ~ 44세</td>\n",
       "      <td>2010</td>\n",
       "      <td>간암</td>\n",
       "      <td>남자</td>\n",
       "      <td>77087</td>\n",
       "      <td>29894</td>\n",
       "      <td>40대</td>\n",
       "    </tr>\n",
       "  </tbody>\n",
       "</table>\n",
       "</div>"
      ],
      "text/plain": [
       "          연령별    시점 암검진별  성별  대상인원 (명)  수검인원 (명)  연령대\n",
       "84   30 ~ 34세  2010   간암  남자         0         0  30대\n",
       "85   30 ~ 34세  2010   간암  여자         0         0  30대\n",
       "175  35 ~ 39세  2010   간암  남자         0         0  30대\n",
       "176  35 ~ 39세  2010   간암  여자         0         0  30대\n",
       "266  40 ~ 44세  2010   간암  남자     77087     29894  40대"
      ]
     },
     "execution_count": 95,
     "metadata": {},
     "output_type": "execute_result"
    }
   ],
   "source": [
    "# 2010년에 간암에 관한 데이터를 확인해 봅니다.\n",
    "# .loc[행, 열]\n",
    "# .loc[조건식, 열]\n",
    "# df.loc[(df['시점'] == 2010) & (df['암검진별'] == '간암')] \n",
    "# 시점의 type은 int64이기 때문에 int형식으로 지정해 주어야 합니다.\n",
    "# 시점을 \"2010\" 과 같이 문자열로 지정하면 원하는 데이터를 얻을 수 없습니다.\n",
    "df['시점'] = df['시점'].astype(int)\n",
    "df.loc[(df['시점'] == 2010) & (df['암검진별'] == '간암')].head()"
   ]
  },
  {
   "cell_type": "markdown",
   "id": "6f4c1e7d",
   "metadata": {
    "id": "c9553453"
   },
   "source": [
    "## 사용하지 않는 컬럼 제거"
   ]
  },
  {
   "cell_type": "code",
   "execution_count": 97,
   "id": "ddf018ec",
   "metadata": {
    "id": "b39078a0",
    "outputId": "5830ef72-80a5-41ba-fa12-5eef533f5942",
    "scrolled": false
   },
   "outputs": [
    {
     "data": {
      "text/html": [
       "<div>\n",
       "<style scoped>\n",
       "    .dataframe tbody tr th:only-of-type {\n",
       "        vertical-align: middle;\n",
       "    }\n",
       "\n",
       "    .dataframe tbody tr th {\n",
       "        vertical-align: top;\n",
       "    }\n",
       "\n",
       "    .dataframe thead th {\n",
       "        text-align: right;\n",
       "    }\n",
       "</style>\n",
       "<table border=\"1\" class=\"dataframe\">\n",
       "  <thead>\n",
       "    <tr style=\"text-align: right;\">\n",
       "      <th></th>\n",
       "      <th>연령별</th>\n",
       "      <th>시점</th>\n",
       "      <th>암검진별</th>\n",
       "      <th>성별</th>\n",
       "      <th>연령대</th>\n",
       "    </tr>\n",
       "  </thead>\n",
       "  <tbody>\n",
       "    <tr>\n",
       "      <th>0</th>\n",
       "      <td>20 ~ 24세</td>\n",
       "      <td>2016</td>\n",
       "      <td>위암</td>\n",
       "      <td>남자</td>\n",
       "      <td>20대</td>\n",
       "    </tr>\n",
       "    <tr>\n",
       "      <th>1</th>\n",
       "      <td>20 ~ 24세</td>\n",
       "      <td>2016</td>\n",
       "      <td>위암</td>\n",
       "      <td>여자</td>\n",
       "      <td>20대</td>\n",
       "    </tr>\n",
       "    <tr>\n",
       "      <th>2</th>\n",
       "      <td>20 ~ 24세</td>\n",
       "      <td>2016</td>\n",
       "      <td>대장암</td>\n",
       "      <td>남자</td>\n",
       "      <td>20대</td>\n",
       "    </tr>\n",
       "    <tr>\n",
       "      <th>3</th>\n",
       "      <td>20 ~ 24세</td>\n",
       "      <td>2016</td>\n",
       "      <td>대장암</td>\n",
       "      <td>여자</td>\n",
       "      <td>20대</td>\n",
       "    </tr>\n",
       "    <tr>\n",
       "      <th>4</th>\n",
       "      <td>20 ~ 24세</td>\n",
       "      <td>2016</td>\n",
       "      <td>간암</td>\n",
       "      <td>남자</td>\n",
       "      <td>20대</td>\n",
       "    </tr>\n",
       "  </tbody>\n",
       "</table>\n",
       "</div>"
      ],
      "text/plain": [
       "        연령별    시점 암검진별  성별  연령대\n",
       "0  20 ~ 24세  2016   위암  남자  20대\n",
       "1  20 ~ 24세  2016   위암  여자  20대\n",
       "2  20 ~ 24세  2016  대장암  남자  20대\n",
       "3  20 ~ 24세  2016  대장암  여자  20대\n",
       "4  20 ~ 24세  2016   간암  남자  20대"
      ]
     },
     "execution_count": 97,
     "metadata": {},
     "output_type": "execute_result"
    }
   ],
   "source": [
    "# \"대상인원 (명)\", \"수검인원 (명)\" 은 사용하지 않을 예정이라 제거합니다.\n",
    "# df\n",
    "df.drop([\"대상인원 (명)\", \"수검인원 (명)\"], axis=1).head()"
   ]
  },
  {
   "cell_type": "markdown",
   "id": "4eb200f7",
   "metadata": {
    "id": "688dea84"
   },
   "source": [
    "## 데이터 저장하기\n",
    "\n",
    "<img src = 'https://pandas.pydata.org/docs/_images/02_io_readwrite.svg'>"
   ]
  },
  {
   "cell_type": "code",
   "execution_count": null,
   "id": "2cc659b4",
   "metadata": {
    "id": "c4e636ab"
   },
   "outputs": [],
   "source": [
    "# 데이터를 저장할 때 index를 False로 저장하면 index번호는 같이 저장되지 않습니다.\n",
    "# DataFrame은 excel형식으로도 저장이 가능합니다.\n",
    "# df.to_excel('kosis-cancer.xlsx', index=False)\n",
    "df.to_excel('kosis-cancer.xlsx', index=False)"
   ]
  },
  {
   "cell_type": "code",
   "execution_count": null,
   "id": "a72e1bd0",
   "metadata": {
    "id": "0d1e867a"
   },
   "outputs": [],
   "source": [
    "pd.read_csv('kosis-cancer.xlsx')"
   ]
  }
 ],
 "metadata": {
  "colab": {
   "name": "healthCare_12_31.ipynb",
   "provenance": [],
   "toc_visible": true
  },
  "kernelspec": {
   "display_name": "Python 3",
   "language": "python",
   "name": "python3"
  },
  "language_info": {
   "codemirror_mode": {
    "name": "ipython",
    "version": 3
   },
   "file_extension": ".py",
   "mimetype": "text/x-python",
   "name": "python",
   "nbconvert_exporter": "python",
   "pygments_lexer": "ipython3",
   "version": "3.8.8"
  },
  "toc": {
   "base_numbering": 1,
   "nav_menu": {},
   "number_sections": true,
   "sideBar": true,
   "skip_h1_title": false,
   "title_cell": "Table of Contents",
   "title_sidebar": "Contents",
   "toc_cell": false,
   "toc_position": {},
   "toc_section_display": true,
   "toc_window_display": true
  },
  "varInspector": {
   "cols": {
    "lenName": 16,
    "lenType": 16,
    "lenVar": 40
   },
   "kernels_config": {
    "python": {
     "delete_cmd_postfix": "",
     "delete_cmd_prefix": "del ",
     "library": "var_list.py",
     "varRefreshCmd": "print(var_dic_list())"
    },
    "r": {
     "delete_cmd_postfix": ") ",
     "delete_cmd_prefix": "rm(",
     "library": "var_list.r",
     "varRefreshCmd": "cat(var_dic_list()) "
    }
   },
   "types_to_exclude": [
    "module",
    "function",
    "builtin_function_or_method",
    "instance",
    "_Feature"
   ],
   "window_display": false
  }
 },
 "nbformat": 4,
 "nbformat_minor": 5
}
