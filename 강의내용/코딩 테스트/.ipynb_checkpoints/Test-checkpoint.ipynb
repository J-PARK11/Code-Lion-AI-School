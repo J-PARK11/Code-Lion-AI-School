{
 "cells": [
  {
   "cell_type": "code",
   "execution_count": 28,
   "id": "af699e58",
   "metadata": {},
   "outputs": [],
   "source": [
    "import time"
   ]
  },
  {
   "cell_type": "markdown",
   "id": "fb95e865",
   "metadata": {},
   "source": [
    "## 1.3 Warming Up"
   ]
  },
  {
   "cell_type": "markdown",
   "id": "0cfb691b",
   "metadata": {},
   "source": [
    "### 1.3.1 1번 워밍업 문제(google)\n",
    "\n",
    "1부터 10,000까지 8이라는 숫자가 총 몇번 나오는가?\n",
    "\n",
    "8이 포함되어 있는 숫자의 갯수를 카운팅 하는 것이 아니라 8이라는 숫자를 모두 카운팅 해야 한다.\n",
    "(※ 예를들어 8808은 3, 8888은 4로 카운팅 해야 함)\n",
    "\n",
    "문제 링크 : https://codingdojang.com/scode/393"
   ]
  },
  {
   "cell_type": "code",
   "execution_count": 27,
   "id": "f0b29be2",
   "metadata": {},
   "outputs": [
    {
     "name": "stdout",
     "output_type": "stream",
     "text": [
      "4000\n"
     ]
    }
   ],
   "source": [
    "# Solve 1\n",
    "result = 0\n",
    "for num in range(10000):\n",
    "    num_list = list(map(int,str(num)))\n",
    "    cnt = num_list.count(8)\n",
    "    result += cnt\n",
    "    cnt=0\n",
    "print(result)"
   ]
  },
  {
   "cell_type": "code",
   "execution_count": 30,
   "id": "6ee7e925",
   "metadata": {},
   "outputs": [
    {
     "name": "stdout",
     "output_type": "stream",
     "text": [
      "4000\n"
     ]
    }
   ],
   "source": [
    "# Solve 2\n",
    "result = 0\n",
    "for num in range(10000):\n",
    "    if '8' in str(num):\n",
    "        result += str(num).count('8')\n",
    "print(result)"
   ]
  },
  {
   "cell_type": "code",
   "execution_count": 43,
   "id": "4c452bbc",
   "metadata": {},
   "outputs": [
    {
     "data": {
      "text/plain": [
       "4000"
      ]
     },
     "execution_count": 43,
     "metadata": {},
     "output_type": "execute_result"
    }
   ],
   "source": [
    "# Solve 3\n",
    "num_list = str([num for num in range(1,10001)])\n",
    "num_list.count('8')"
   ]
  },
  {
   "cell_type": "markdown",
   "id": "cd1e2f43",
   "metadata": {},
   "source": [
    "### 1.3.2 2번 워밍업 문제(daum)\n",
    "\n",
    "1차원의 점들이 주어졌을 때, 그 중 가장 거리가 짧은 것의 쌍을 출력하는 함수를 작성하시오. (단 점들의 배열은 모두 정렬되어있다고 가정한다.)\n",
    "\n",
    "예를들어 S = [1, 3, 4, 8, 13, 17, 20] 이 주어졌다면, 결과값은 (3, 4)가 될 것이다.\n",
    "\n",
    "문제링크 : https://codingdojang.com/scode/408"
   ]
  },
  {
   "cell_type": "code",
   "execution_count": 56,
   "id": "f534be7a",
   "metadata": {},
   "outputs": [
    {
     "name": "stdout",
     "output_type": "stream",
     "text": [
      "(3, 4)\n"
     ]
    }
   ],
   "source": [
    "# Solve 1\n",
    "S = [1, 3, 4, 8, 13, 17, 20]\n",
    "S.sort()\n",
    "result = 0\n",
    "min_val = S[-1]\n",
    "\n",
    "for i in range(len(S)-1):\n",
    "    new_val = abs(S[i]-S[i+1])\n",
    "    if new_val < min_val:\n",
    "        min_val = new_val\n",
    "        result = i\n",
    "\n",
    "print((S[result],S[result+1]))"
   ]
  },
  {
   "cell_type": "code",
   "execution_count": 69,
   "id": "7dc9b60d",
   "metadata": {},
   "outputs": [
    {
     "data": {
      "text/plain": [
       "(3, 4)"
      ]
     },
     "execution_count": 69,
     "metadata": {},
     "output_type": "execute_result"
    }
   ],
   "source": [
    "# Solve 2\n",
    "S = [1, 3, 4, 8, 13, 17, 20]\n",
    "S.sort()\n",
    "SS = S[1:]\n",
    "S = S[:-1]\n",
    "\n",
    "sorted(list(zip(S,SS)), key=lambda x : abs(x[0]-x[1]))[0]"
   ]
  },
  {
   "cell_type": "code",
   "execution_count": 82,
   "id": "8584348f",
   "metadata": {},
   "outputs": [
    {
     "data": {
      "text/plain": [
       "['2 x 1 = 2', '2 x 3 = 6', '2 x 5 = 10', '2 x 7 = 14', '2 x 9 = 18']"
      ]
     },
     "execution_count": 82,
     "metadata": {},
     "output_type": "execute_result"
    }
   ],
   "source": [
    "[f'{i} x {j} = {i*j}' for i in range(2,10) for j in range(1,10) if i%2 == 0 and j%2 == 1][:5]"
   ]
  },
  {
   "cell_type": "markdown",
   "id": "55bd1ffd",
   "metadata": {},
   "source": [
    "## 1.4 기본 자료구조 및 알고리즘\n",
    "\n",
    "1. 스택과 큐\n",
    "2. 연결리스트(linked list)\n",
    "3. 정렬\n",
    "    * 3.1 선택정렬\n",
    "    * 3.2 삽입정렬\n",
    "    * 3.3 병합정렬\n",
    "    * 3.4 퀵정렬\n",
    "4. 페이지 교체 알고리즘\n",
    "5. 트리와 그래프\n",
    "6. 트리의 순회"
   ]
  },
  {
   "cell_type": "markdown",
   "id": "9d58c61d",
   "metadata": {},
   "source": [
    "### 1.4.1 스택과 큐\n",
    "* 스택과 큐는 프로그래밍 언어가 생겨날 때부터 있었던 매우 고전적인 개념\n",
    "* 스택은 LIFO(Last-In-First-Out, 후입선출)\n",
    "* 큐는 FIFO(First-In_First-Out, 선입선출)\n",
    "* 특히 알고리즘 문제에서 너비우선 탐색과 깊이 우선탐색에 응용됨\n",
    "* 리스트가 스택과 큐의 모든 연산이 구현되어 있음"
   ]
  },
  {
   "cell_type": "code",
   "execution_count": 84,
   "id": "52017c7c",
   "metadata": {},
   "outputs": [],
   "source": [
    "class Stack():\n",
    "    def __init__(self):\n",
    "        self.array = []\n",
    "    \n",
    "    def push(self, data):\n",
    "        self.array.append(data)\n",
    "        \n",
    "    def pop(self, index):\n",
    "        if index > (len(self.array)-1):\n",
    "            return self.array.pop()\n",
    "        result = self.array.pop(index)\n",
    "        return result\n",
    "    \n",
    "    def top(self):\n",
    "        return self.array[-1]\n",
    "    \n",
    "    def bottom(self):\n",
    "        return self.array[0]"
   ]
  },
  {
   "cell_type": "code",
   "execution_count": 85,
   "id": "f8c74321",
   "metadata": {},
   "outputs": [
    {
     "data": {
      "text/plain": [
       "[10, 20]"
      ]
     },
     "execution_count": 85,
     "metadata": {},
     "output_type": "execute_result"
    }
   ],
   "source": [
    "s = Stack()\n",
    "s.push(10)\n",
    "s.push(20)\n",
    "s.array"
   ]
  },
  {
   "cell_type": "code",
   "execution_count": 86,
   "id": "53b0a2f4",
   "metadata": {},
   "outputs": [
    {
     "data": {
      "text/plain": [
       "[10, 20, 40, 50, 60, 70]"
      ]
     },
     "execution_count": 86,
     "metadata": {},
     "output_type": "execute_result"
    }
   ],
   "source": [
    "s = Stack()\n",
    "s.push(10)\n",
    "s.push(20)\n",
    "s.push(30)\n",
    "s.push(40)\n",
    "s.push(50)\n",
    "s.push(60)\n",
    "s.push(70)\n",
    "s.pop(2)\n",
    "s.array"
   ]
  },
  {
   "cell_type": "markdown",
   "id": "b9d54099",
   "metadata": {},
   "source": [
    "### 1.4.2 연결리스트\n",
    "* 연결리스트, 메모리 효율을 위해 사용되는 경우가 많음\n",
    "* 개념 : https://en.wikipedia.org/wiki/Linked_list\n",
    "* 알고리즘 시각화 : https://visualgo.net/ko"
   ]
  },
  {
   "cell_type": "code",
   "execution_count": 89,
   "id": "6f67c751",
   "metadata": {},
   "outputs": [],
   "source": [
    "linkedlist = {\n",
    "                'head': {\n",
    "                    'value' : 12, \n",
    "                    'next' : {\n",
    "                        'value' : 99,\n",
    "                        'next' : {\n",
    "                            'value' : 37,\n",
    "                            'next' : None\n",
    "                        }\n",
    "                    }\n",
    "                }\n",
    "            }"
   ]
  },
  {
   "cell_type": "code",
   "execution_count": 96,
   "id": "2c2a5d5b",
   "metadata": {},
   "outputs": [
    {
     "data": {
      "text/plain": [
       "{'value': 99, 'next': {'value': 37, 'next': None}}"
      ]
     },
     "execution_count": 96,
     "metadata": {},
     "output_type": "execute_result"
    }
   ],
   "source": [
    "linkedlist['head']['next']"
   ]
  },
  {
   "cell_type": "markdown",
   "id": "b004f1a9",
   "metadata": {},
   "source": [
    "#### Quiz\n",
    "* head -> [90, next] -> [2, next] -> [77, next] -> [35, next] -> [21, next] -> None\n",
    "* 35를 출력해주세요."
   ]
  },
  {
   "cell_type": "code",
   "execution_count": 97,
   "id": "2e0e223d",
   "metadata": {},
   "outputs": [],
   "source": [
    "linked_list = {\n",
    "    'head' : {\n",
    "        'value' : 90,\n",
    "        'next' : {\n",
    "            'value' : 2,\n",
    "            'next' : {\n",
    "                'value' : 77,\n",
    "                'next' : {\n",
    "                    'value' : 35,\n",
    "                    'next' : {\n",
    "                        'value' : 21,\n",
    "                        'next' : None\n",
    "                    }\n",
    "                }\n",
    "            }\n",
    "        }\n",
    "    }\n",
    "}"
   ]
  },
  {
   "cell_type": "code",
   "execution_count": 106,
   "id": "bebccee4",
   "metadata": {},
   "outputs": [
    {
     "data": {
      "text/plain": [
       "35"
      ]
     },
     "execution_count": 106,
     "metadata": {},
     "output_type": "execute_result"
    }
   ],
   "source": [
    "linked_list['head']['next']['next']['next']['value']"
   ]
  },
  {
   "cell_type": "code",
   "execution_count": 133,
   "id": "53c15bf9",
   "metadata": {},
   "outputs": [
    {
     "name": "stdout",
     "output_type": "stream",
     "text": [
      "12이 입력되어 인스턴스가 생성되었습니다\n",
      "20이 입력되어 인스턴스가 생성되었습니다\n",
      "30이 입력되어 인스턴스가 생성되었습니다\n"
     ]
    },
    {
     "data": {
      "text/plain": [
       "30"
      ]
     },
     "execution_count": 133,
     "metadata": {},
     "output_type": "execute_result"
    }
   ],
   "source": [
    "class Node:\n",
    "    def __init__(self,data):\n",
    "        print(f'{data}이 입력되어 인스턴스가 생성되었습니다')\n",
    "        self.data = data\n",
    "        self.next = None\n",
    "        \n",
    "n1 = Node(12)\n",
    "n2 = Node(20)\n",
    "n3 = Node(30)\n",
    "\n",
    "n1.next = n2\n",
    "n2.next = n3\n",
    "n1.next.next.data"
   ]
  },
  {
   "cell_type": "code",
   "execution_count": 1,
   "id": "31b3564e",
   "metadata": {},
   "outputs": [],
   "source": [
    "class Node:\n",
    "    def __init__(self,data):\n",
    "        self.data = data\n",
    "        self.next = None\n",
    "        \n",
    "class LinkedList:\n",
    "    def __init__(self):\n",
    "        init = Node('init')\n",
    "        self.head = init\n",
    "        self.tail = init\n",
    "        print('LinkedList 객체가 생성되었습니다.')\n",
    "        \n",
    "        self.index = None\n",
    "        self.node_num = 0\n",
    "    \n",
    "    def append(self, data):\n",
    "        new_node = Node(data)\n",
    "        self.tail.next = new_node\n",
    "        self.tail = new_node\n",
    "        self.node_num += 1\n",
    "        print(f'{data}이 입력되어 인스턴스가 생성되었습니다!')\n",
    "        \n",
    "    def __len__(self):\n",
    "        return self.node_num\n",
    "    \n",
    "    def __str__(self):\n",
    "        idx = self.head\n",
    "        idx = idx.next\n",
    "        s=''\n",
    "        \n",
    "        for i in range(self.node_num):\n",
    "            s += f'{idx.data} '\n",
    "            idx = idx.next\n",
    "        \n",
    "        return f'[{s}]'\n",
    "    \n",
    "    def pop(self):\n",
    "        last_val = self.tail.data\n",
    "        now_val = self.head\n",
    "        \n",
    "        for i in range(self.node_num):\n",
    "            if now_val.next == self.tail:\n",
    "                self.tail = now_val\n",
    "                break\n",
    "            now_val = now_val.next\n",
    "        \n",
    "        self.node_num -= 1\n",
    "        del self.tail.next\n",
    "        self.tail.next = None\n",
    "        return last_val\n",
    "    \n",
    "    def find(self, data):\n",
    "        index = -1\n",
    "        now_node = self.head\n",
    "        \n",
    "        for i in range(self.node_num-1):\n",
    "            if now_node.data == data :\n",
    "                return index\n",
    "            index += 1\n",
    "            now_node = now_node.next\n",
    "        return -1\n",
    "    \n",
    "    def __iter__(self):\n",
    "        idx = self.head\n",
    "        idx = idx.next\n",
    "        \n",
    "        while idx:\n",
    "            yield idx.data\n",
    "            idx = idx.next\n",
    "    \n",
    "    def insert(self, input_idx, input_data):\n",
    "        new_node = Node(input_data)\n",
    "        now_node = self.head\n",
    "        for i in range(input_idx):\n",
    "            now_node = now_node.next\n",
    "        new_node.next = now_node.next\n",
    "        now_node.next = new_node\n",
    "        print(f'{input_idx+1}번째 노드에 {input_data}를 추가하였습니다.')"
   ]
  },
  {
   "cell_type": "code",
   "execution_count": 2,
   "id": "94fcbda3",
   "metadata": {},
   "outputs": [
    {
     "name": "stdout",
     "output_type": "stream",
     "text": [
      "LinkedList 객체가 생성되었습니다.\n",
      "10이 입력되어 인스턴스가 생성되었습니다!\n",
      "20이 입력되어 인스턴스가 생성되었습니다!\n",
      "30이 입력되어 인스턴스가 생성되었습니다!\n",
      "40이 입력되어 인스턴스가 생성되었습니다!\n",
      "50이 입력되어 인스턴스가 생성되었습니다!\n",
      "15이 입력되어 인스턴스가 생성되었습니다!\n",
      "5개의 인스턴스가 있습니다.\n",
      "[10 20 30 40 50 ]\n",
      "30은 3번째 노드에 있습니다.\n",
      "4번째 노드에 35를 추가하였습니다.\n",
      "10 20 30 35 40 50 "
     ]
    }
   ],
   "source": [
    "l = LinkedList()\n",
    "l.append(10)\n",
    "l.append(20)\n",
    "l.append(30)\n",
    "l.append(40)\n",
    "l.append(50)\n",
    "l.append(15)\n",
    "l.pop()\n",
    "print(f'{len(l)}개의 인스턴스가 있습니다.')\n",
    "print(l)\n",
    "print(f'{30}은 {l.find(30)+1}번째 노드에 있습니다.')\n",
    "l.insert(3,35)\n",
    "for i in l:\n",
    "    print(i, end=' ')"
   ]
  },
  {
   "cell_type": "code",
   "execution_count": 171,
   "id": "6eb515ee",
   "metadata": {},
   "outputs": [
    {
     "name": "stdout",
     "output_type": "stream",
     "text": [
      "init\n",
      "10\n",
      "20\n"
     ]
    }
   ],
   "source": [
    "print(l.head.data)\n",
    "print(l.head.next.data)\n",
    "print(l.head.next.next.data)"
   ]
  },
  {
   "cell_type": "markdown",
   "id": "fcbe99f7",
   "metadata": {},
   "source": [
    "### 1.4.3 트리와 그래프"
   ]
  },
  {
   "cell_type": "markdown",
   "id": "aaaba2c1",
   "metadata": {},
   "source": [
    "#### 1.4.3.1 트리 구현\n",
    "* 트리의 기본형태\n",
    "    * value\n",
    "    * child - left\n",
    "    * child - right"
   ]
  },
  {
   "cell_type": "code",
   "execution_count": 197,
   "id": "1d01c4c8",
   "metadata": {},
   "outputs": [],
   "source": [
    "tree = {\n",
    "    'root' : {\n",
    "        'value' : 5,\n",
    "        'left' : {\n",
    "            'value': 3,\n",
    "            'left': {\n",
    "                'value': 1,\n",
    "                'left': None,\n",
    "                'right': None\n",
    "            },\n",
    "            'right': {\n",
    "                'value': 4,\n",
    "                'left': None,\n",
    "                'right': None\n",
    "            },\n",
    "        },\n",
    "        'right' : {\n",
    "            'value': 8,\n",
    "            'left': {\n",
    "                'value': 6,\n",
    "                'left': None,\n",
    "                'right': None\n",
    "            },\n",
    "            'right': {\n",
    "                'value': 9,\n",
    "                'left': None,\n",
    "                'right': None\n",
    "            },\n",
    "        },\n",
    "    }\n",
    "}"
   ]
  },
  {
   "cell_type": "code",
   "execution_count": 198,
   "id": "42b9a398",
   "metadata": {},
   "outputs": [
    {
     "data": {
      "text/plain": [
       "3"
      ]
     },
     "execution_count": 198,
     "metadata": {},
     "output_type": "execute_result"
    }
   ],
   "source": [
    "tree\n",
    "tree['root']\n",
    "tree['root']['left']['value']"
   ]
  },
  {
   "cell_type": "markdown",
   "id": "22fe8c98",
   "metadata": {},
   "source": [
    "#### Quiz\n",
    "![tree만들기.png](data:image/png;base64,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)"
   ]
  },
  {
   "cell_type": "code",
   "execution_count": 206,
   "id": "b07b1b5a",
   "metadata": {},
   "outputs": [],
   "source": [
    "tree = {\n",
    "    'root' : {\n",
    "        'value' : 55,\n",
    "        'left' : {\n",
    "            'value': 30,\n",
    "            'left': {\n",
    "                'value': 25,\n",
    "                'left': {\n",
    "                    'value': 21,\n",
    "                    'left': None,\n",
    "                    'right': None,\n",
    "                },\n",
    "                'right': None\n",
    "            },\n",
    "            'right': {\n",
    "                'value': 37,\n",
    "                'left': None,\n",
    "                'right': None\n",
    "            },\n",
    "        },\n",
    "        'right' : {\n",
    "            'value': 70,\n",
    "            'left': {\n",
    "                'value': 75,\n",
    "                'left': None,\n",
    "                'right': None\n",
    "            },\n",
    "            'right': {\n",
    "                'value': 77,\n",
    "                'left': None,\n",
    "                'right': {\n",
    "                    'value': 80,\n",
    "                    'left': None,\n",
    "                    'right': None,\n",
    "                }\n",
    "            },\n",
    "        },\n",
    "    }\n",
    "}"
   ]
  },
  {
   "cell_type": "code",
   "execution_count": 207,
   "id": "8015566b",
   "metadata": {},
   "outputs": [
    {
     "data": {
      "text/plain": [
       "25"
      ]
     },
     "execution_count": 207,
     "metadata": {},
     "output_type": "execute_result"
    }
   ],
   "source": [
    "tree\n",
    "tree['root']['value']\n",
    "tree['root']['right']['value']\n",
    "tree['root']['left']['left']['value']"
   ]
  },
  {
   "cell_type": "code",
   "execution_count": null,
   "id": "e93a9c6a",
   "metadata": {},
   "outputs": [],
   "source": []
  },
  {
   "cell_type": "code",
   "execution_count": null,
   "id": "51823260",
   "metadata": {},
   "outputs": [],
   "source": []
  },
  {
   "cell_type": "code",
   "execution_count": null,
   "id": "9c703bcc",
   "metadata": {},
   "outputs": [],
   "source": []
  },
  {
   "cell_type": "code",
   "execution_count": null,
   "id": "5334c122",
   "metadata": {},
   "outputs": [],
   "source": []
  },
  {
   "cell_type": "markdown",
   "id": "22829118",
   "metadata": {},
   "source": [
    "## 1.5 재귀함수 (Recurssive Function)"
   ]
  },
  {
   "cell_type": "code",
   "execution_count": null,
   "id": "0fb73cf6",
   "metadata": {},
   "outputs": [],
   "source": []
  },
  {
   "cell_type": "code",
   "execution_count": null,
   "id": "ba21d258",
   "metadata": {},
   "outputs": [],
   "source": []
  },
  {
   "cell_type": "code",
   "execution_count": null,
   "id": "01df0d38",
   "metadata": {},
   "outputs": [],
   "source": []
  },
  {
   "cell_type": "code",
   "execution_count": null,
   "id": "d3f37d7b",
   "metadata": {},
   "outputs": [],
   "source": []
  }
 ],
 "metadata": {
  "kernelspec": {
   "display_name": "Python 3 (ipykernel)",
   "language": "python",
   "name": "python3"
  },
  "language_info": {
   "codemirror_mode": {
    "name": "ipython",
    "version": 3
   },
   "file_extension": ".py",
   "mimetype": "text/x-python",
   "name": "python",
   "nbconvert_exporter": "python",
   "pygments_lexer": "ipython3",
   "version": "3.9.12"
  }
 },
 "nbformat": 4,
 "nbformat_minor": 5
}
