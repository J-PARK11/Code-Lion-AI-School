{
 "cells": [
  {
   "cell_type": "markdown",
   "metadata": {
    "id": "uhlO9GP1yzfF"
   },
   "source": [
    "## 파라미터 튜닝으로 모델의 성능 개선하기\n",
    "\n",
    "## 데이터셋 출처\n",
    "* [Pima Indians Diabetes Database | Kaggle](https://www.kaggle.com/uciml/pima-indians-diabetes-database)\n",
    "* https://scikit-learn.org/stable/modules/generated/sklearn.datasets.load_diabetes.html\n",
    "\n",
    "\n",
    "### 데이터 구성\n",
    "\n",
    "* Pregnancies : 임신 횟수\n",
    "* Glucose : 2시간 동안의 경구 포도당 내성 검사에서 혈장 포도당 농도 \n",
    "* BloodPressure : 이완기 혈압 (mm Hg)\n",
    "* SkinThickness : 삼두근 피부 주름 두께 (mm), 체지방을 추정하는데 사용되는 값\n",
    "* Insulin : 2시간 혈청 인슐린 (mu U / ml)\n",
    "* BMI : 체질량 지수 (체중kg / 키(m)^2)\n",
    "* DiabetesPedigreeFunction : 당뇨병 혈통 기능\n",
    "* Age : 나이\n",
    "* Outcome : 768개 중에 268개의 결과 클래스 변수(0 또는 1)는 1이고 나머지는 0입니다.\n",
    "\n",
    "\n",
    "## 필요한 라이브러리 로드"
   ]
  },
  {
   "cell_type": "code",
   "execution_count": 1,
   "metadata": {
    "id": "Q3XRNSsuyzfQ"
   },
   "outputs": [],
   "source": [
    "# 필요한 라이브러리 로드합니다.\n",
    "import pandas as pd\n",
    "import numpy as np\n",
    "import seaborn as sns\n",
    "import matplotlib.pyplot as plt"
   ]
  },
  {
   "cell_type": "markdown",
   "metadata": {
    "id": "7G5os19uyzfV"
   },
   "source": [
    "## 데이터 로드하기"
   ]
  },
  {
   "cell_type": "code",
   "execution_count": 226,
   "metadata": {
    "id": "LXSFbiUuyzfW"
   },
   "outputs": [
    {
     "data": {
      "text/plain": [
       "(768, 9)"
      ]
     },
     "execution_count": 226,
     "metadata": {},
     "output_type": "execute_result"
    }
   ],
   "source": [
    "df = pd.read_csv(\"http://bit.ly/data-diabetes-csv\")\n",
    "df.shape"
   ]
  },
  {
   "cell_type": "code",
   "execution_count": 227,
   "metadata": {
    "id": "xf2cpF7ryzfa"
   },
   "outputs": [
    {
     "data": {
      "text/html": [
       "<div>\n",
       "<style scoped>\n",
       "    .dataframe tbody tr th:only-of-type {\n",
       "        vertical-align: middle;\n",
       "    }\n",
       "\n",
       "    .dataframe tbody tr th {\n",
       "        vertical-align: top;\n",
       "    }\n",
       "\n",
       "    .dataframe thead th {\n",
       "        text-align: right;\n",
       "    }\n",
       "</style>\n",
       "<table border=\"1\" class=\"dataframe\">\n",
       "  <thead>\n",
       "    <tr style=\"text-align: right;\">\n",
       "      <th></th>\n",
       "      <th>Pregnancies</th>\n",
       "      <th>Glucose</th>\n",
       "      <th>BloodPressure</th>\n",
       "      <th>SkinThickness</th>\n",
       "      <th>Insulin</th>\n",
       "      <th>BMI</th>\n",
       "      <th>DiabetesPedigreeFunction</th>\n",
       "      <th>Age</th>\n",
       "      <th>Outcome</th>\n",
       "    </tr>\n",
       "  </thead>\n",
       "  <tbody>\n",
       "    <tr>\n",
       "      <th>0</th>\n",
       "      <td>6</td>\n",
       "      <td>148</td>\n",
       "      <td>72</td>\n",
       "      <td>35</td>\n",
       "      <td>0</td>\n",
       "      <td>33.6</td>\n",
       "      <td>0.627</td>\n",
       "      <td>50</td>\n",
       "      <td>1</td>\n",
       "    </tr>\n",
       "    <tr>\n",
       "      <th>1</th>\n",
       "      <td>1</td>\n",
       "      <td>85</td>\n",
       "      <td>66</td>\n",
       "      <td>29</td>\n",
       "      <td>0</td>\n",
       "      <td>26.6</td>\n",
       "      <td>0.351</td>\n",
       "      <td>31</td>\n",
       "      <td>0</td>\n",
       "    </tr>\n",
       "    <tr>\n",
       "      <th>2</th>\n",
       "      <td>8</td>\n",
       "      <td>183</td>\n",
       "      <td>64</td>\n",
       "      <td>0</td>\n",
       "      <td>0</td>\n",
       "      <td>23.3</td>\n",
       "      <td>0.672</td>\n",
       "      <td>32</td>\n",
       "      <td>1</td>\n",
       "    </tr>\n",
       "    <tr>\n",
       "      <th>3</th>\n",
       "      <td>1</td>\n",
       "      <td>89</td>\n",
       "      <td>66</td>\n",
       "      <td>23</td>\n",
       "      <td>94</td>\n",
       "      <td>28.1</td>\n",
       "      <td>0.167</td>\n",
       "      <td>21</td>\n",
       "      <td>0</td>\n",
       "    </tr>\n",
       "    <tr>\n",
       "      <th>4</th>\n",
       "      <td>0</td>\n",
       "      <td>137</td>\n",
       "      <td>40</td>\n",
       "      <td>35</td>\n",
       "      <td>168</td>\n",
       "      <td>43.1</td>\n",
       "      <td>2.288</td>\n",
       "      <td>33</td>\n",
       "      <td>1</td>\n",
       "    </tr>\n",
       "  </tbody>\n",
       "</table>\n",
       "</div>"
      ],
      "text/plain": [
       "   Pregnancies  Glucose  BloodPressure  SkinThickness  Insulin   BMI  \\\n",
       "0            6      148             72             35        0  33.6   \n",
       "1            1       85             66             29        0  26.6   \n",
       "2            8      183             64              0        0  23.3   \n",
       "3            1       89             66             23       94  28.1   \n",
       "4            0      137             40             35      168  43.1   \n",
       "\n",
       "   DiabetesPedigreeFunction  Age  Outcome  \n",
       "0                     0.627   50        1  \n",
       "1                     0.351   31        0  \n",
       "2                     0.672   32        1  \n",
       "3                     0.167   21        0  \n",
       "4                     2.288   33        1  "
      ]
     },
     "execution_count": 227,
     "metadata": {},
     "output_type": "execute_result"
    }
   ],
   "source": [
    "# 데이터 프레임에서 가장 앞에 있는 5개의 행(기본값)을 출력합니다.\n",
    "df.head()"
   ]
  },
  {
   "cell_type": "markdown",
   "metadata": {
    "id": "Q6EjE_zOyzfb"
   },
   "source": [
    "## 전처리"
   ]
  },
  {
   "cell_type": "code",
   "execution_count": 241,
   "metadata": {},
   "outputs": [
    {
     "data": {
      "text/html": [
       "<div>\n",
       "<style scoped>\n",
       "    .dataframe tbody tr th:only-of-type {\n",
       "        vertical-align: middle;\n",
       "    }\n",
       "\n",
       "    .dataframe tbody tr th {\n",
       "        vertical-align: top;\n",
       "    }\n",
       "\n",
       "    .dataframe thead th {\n",
       "        text-align: right;\n",
       "    }\n",
       "</style>\n",
       "<table border=\"1\" class=\"dataframe\">\n",
       "  <thead>\n",
       "    <tr style=\"text-align: right;\">\n",
       "      <th></th>\n",
       "      <th>count</th>\n",
       "      <th>mean</th>\n",
       "      <th>std</th>\n",
       "      <th>min</th>\n",
       "      <th>25%</th>\n",
       "      <th>50%</th>\n",
       "      <th>75%</th>\n",
       "      <th>max</th>\n",
       "    </tr>\n",
       "    <tr>\n",
       "      <th>Outcome</th>\n",
       "      <th></th>\n",
       "      <th></th>\n",
       "      <th></th>\n",
       "      <th></th>\n",
       "      <th></th>\n",
       "      <th></th>\n",
       "      <th></th>\n",
       "      <th></th>\n",
       "    </tr>\n",
       "  </thead>\n",
       "  <tbody>\n",
       "    <tr>\n",
       "      <th>0</th>\n",
       "      <td>264.0</td>\n",
       "      <td>130.287879</td>\n",
       "      <td>102.482237</td>\n",
       "      <td>15.0</td>\n",
       "      <td>66.0</td>\n",
       "      <td>102.5</td>\n",
       "      <td>161.25</td>\n",
       "      <td>744.0</td>\n",
       "    </tr>\n",
       "    <tr>\n",
       "      <th>1</th>\n",
       "      <td>130.0</td>\n",
       "      <td>206.846154</td>\n",
       "      <td>132.699898</td>\n",
       "      <td>14.0</td>\n",
       "      <td>127.5</td>\n",
       "      <td>169.5</td>\n",
       "      <td>239.25</td>\n",
       "      <td>846.0</td>\n",
       "    </tr>\n",
       "  </tbody>\n",
       "</table>\n",
       "</div>"
      ],
      "text/plain": [
       "         count        mean         std   min    25%    50%     75%    max\n",
       "Outcome                                                                  \n",
       "0        264.0  130.287879  102.482237  15.0   66.0  102.5  161.25  744.0\n",
       "1        130.0  206.846154  132.699898  14.0  127.5  169.5  239.25  846.0"
      ]
     },
     "execution_count": 241,
     "metadata": {},
     "output_type": "execute_result"
    }
   ],
   "source": [
    "df[\"Insulin_nan\"] = df[\"Insulin\"].replace(0, np.nan)\n",
    "in_desc = df.groupby(\"Outcome\")[\"Insulin_nan\"].describe()\n",
    "in_desc"
   ]
  },
  {
   "cell_type": "code",
   "execution_count": 242,
   "metadata": {},
   "outputs": [
    {
     "data": {
      "text/plain": [
       "102.5"
      ]
     },
     "execution_count": 242,
     "metadata": {},
     "output_type": "execute_result"
    }
   ],
   "source": [
    "in_desc.loc[0, \"50%\"]"
   ]
  },
  {
   "cell_type": "code",
   "execution_count": 247,
   "metadata": {},
   "outputs": [],
   "source": [
    "# 인슐린 0 값 중앙값으로 대체\n",
    "\n",
    "df[\"Insulin_filled\"] = df[\"Insulin\"] \n",
    "\n",
    "df.loc[(df[\"Insulin\"] == 0) & (df[\"Outcome\"] == 0), \"Insulin_filled\"] = in_desc.loc[0, \"50%\"]\n",
    "df.loc[(df[\"Insulin\"] == 0) & (df[\"Outcome\"] == 1), \"Insulin_filled\"] = in_desc.loc[1, \"50%\"]"
   ]
  },
  {
   "cell_type": "code",
   "execution_count": 248,
   "metadata": {},
   "outputs": [
    {
     "data": {
      "text/html": [
       "<div>\n",
       "<style scoped>\n",
       "    .dataframe tbody tr th:only-of-type {\n",
       "        vertical-align: middle;\n",
       "    }\n",
       "\n",
       "    .dataframe tbody tr th {\n",
       "        vertical-align: top;\n",
       "    }\n",
       "\n",
       "    .dataframe thead th {\n",
       "        text-align: right;\n",
       "    }\n",
       "</style>\n",
       "<table border=\"1\" class=\"dataframe\">\n",
       "  <thead>\n",
       "    <tr style=\"text-align: right;\">\n",
       "      <th></th>\n",
       "      <th>count</th>\n",
       "      <th>mean</th>\n",
       "      <th>std</th>\n",
       "      <th>min</th>\n",
       "      <th>25%</th>\n",
       "      <th>50%</th>\n",
       "      <th>75%</th>\n",
       "      <th>max</th>\n",
       "    </tr>\n",
       "    <tr>\n",
       "      <th>Outcome</th>\n",
       "      <th></th>\n",
       "      <th></th>\n",
       "      <th></th>\n",
       "      <th></th>\n",
       "      <th></th>\n",
       "      <th></th>\n",
       "      <th></th>\n",
       "      <th></th>\n",
       "    </tr>\n",
       "  </thead>\n",
       "  <tbody>\n",
       "    <tr>\n",
       "      <th>0</th>\n",
       "      <td>500.0</td>\n",
       "      <td>117.172000</td>\n",
       "      <td>75.685302</td>\n",
       "      <td>15.0</td>\n",
       "      <td>95.0</td>\n",
       "      <td>102.5</td>\n",
       "      <td>105.0</td>\n",
       "      <td>744.0</td>\n",
       "    </tr>\n",
       "    <tr>\n",
       "      <th>1</th>\n",
       "      <td>268.0</td>\n",
       "      <td>187.615672</td>\n",
       "      <td>94.114420</td>\n",
       "      <td>14.0</td>\n",
       "      <td>169.5</td>\n",
       "      <td>169.5</td>\n",
       "      <td>169.5</td>\n",
       "      <td>846.0</td>\n",
       "    </tr>\n",
       "  </tbody>\n",
       "</table>\n",
       "</div>"
      ],
      "text/plain": [
       "         count        mean        std   min    25%    50%    75%    max\n",
       "Outcome                                                                \n",
       "0        500.0  117.172000  75.685302  15.0   95.0  102.5  105.0  744.0\n",
       "1        268.0  187.615672  94.114420  14.0  169.5  169.5  169.5  846.0"
      ]
     },
     "execution_count": 248,
     "metadata": {},
     "output_type": "execute_result"
    }
   ],
   "source": [
    "df.groupby(\"Outcome\")[\"Insulin_filled\"].describe()"
   ]
  },
  {
   "cell_type": "markdown",
   "metadata": {
    "id": "OyaFCdFyyzfl"
   },
   "source": [
    "## 학습, 예측 데이터셋 나누기\n",
    "\n",
    "### 정답값이자 예측해야 될 값"
   ]
  },
  {
   "cell_type": "code",
   "execution_count": 249,
   "metadata": {
    "id": "Afvxp4Jpyzfm"
   },
   "outputs": [
    {
     "data": {
      "text/plain": [
       "'Outcome'"
      ]
     },
     "execution_count": 249,
     "metadata": {},
     "output_type": "execute_result"
    }
   ],
   "source": [
    "# label_name 이라는 변수에 예측할 컬럼 이름을 담습니다.\n",
    "# label_name\n",
    "label_name = \"Outcome\"\n",
    "label_name"
   ]
  },
  {
   "cell_type": "markdown",
   "metadata": {
    "id": "En5pooe-yzfh"
   },
   "source": [
    "### 학습, 예측에 사용할 컬럼"
   ]
  },
  {
   "cell_type": "code",
   "execution_count": 268,
   "metadata": {
    "id": "FseSbqGWyzfk"
   },
   "outputs": [
    {
     "data": {
      "text/plain": [
       "['Pregnancies',\n",
       " 'Glucose',\n",
       " 'BloodPressure',\n",
       " 'SkinThickness',\n",
       " 'BMI',\n",
       " 'DiabetesPedigreeFunction',\n",
       " 'Age',\n",
       " 'Insulin_filled']"
      ]
     },
     "execution_count": 268,
     "metadata": {},
     "output_type": "execute_result"
    }
   ],
   "source": [
    "# 학습, 예측에 사용할 컬럼에 이름 지정합니다.\n",
    "feature_names = df.columns.tolist()\n",
    "feature_names.remove(label_name)\n",
    "feature_names.remove(\"Insulin\")\n",
    "feature_names.remove(\"Insulin_nan\")\n",
    "feature_names"
   ]
  },
  {
   "cell_type": "markdown",
   "metadata": {
    "id": "Wd2iOmj1yzfn"
   },
   "source": [
    "### 문제(feature)와 답안(label)을 나누기\n",
    "\n",
    "* X, y를 만들어 줍니다.\n",
    "* X는 feature, 독립변수, 예) 시험의 문제\n",
    "* y는 label, 종속변수, 예) 시험의 정답"
   ]
  },
  {
   "cell_type": "code",
   "execution_count": 269,
   "metadata": {
    "id": "a9iNQrh_yzfo"
   },
   "outputs": [
    {
     "data": {
      "text/plain": [
       "((768, 8), (768,))"
      ]
     },
     "execution_count": 269,
     "metadata": {},
     "output_type": "execute_result"
    }
   ],
   "source": [
    "# X, y를 만들어 줍니다.\n",
    "X = df[feature_names]\n",
    "y = df[label_name]\n",
    "X.shape, y.shape"
   ]
  },
  {
   "cell_type": "markdown",
   "metadata": {
    "id": "p5-ZjSltyzfo"
   },
   "source": [
    "### 학습, 예측 데이터셋 만들기\n",
    "* X_train : 학습 세트 만들기, 행렬, 판다스의 데이터프레임, 2차원 리스트(배열) 구조,  예) 시험의 기출문제\n",
    "* y_train : 정답 값을 만들기, 벡터, 판다스의 시리즈, 1차원 리스트(배열) 구조, 예) 기출문제의 정답\n",
    "* X_test : 예측에 사용할 데이터세트를 만듭니다. 예) 실전 시험 문제\n",
    "* y_test : 예측의 정답값 예) 실전 시험 문제의 정답"
   ]
  },
  {
   "cell_type": "code",
   "execution_count": 270,
   "metadata": {
    "scrolled": true
   },
   "outputs": [
    {
     "data": {
      "text/plain": [
       "0    65.104167\n",
       "1    34.895833\n",
       "Name: Outcome, dtype: float64"
      ]
     },
     "execution_count": 270,
     "metadata": {},
     "output_type": "execute_result"
    }
   ],
   "source": [
    "y.value_counts(normalize=True) * 100"
   ]
  },
  {
   "cell_type": "code",
   "execution_count": 271,
   "metadata": {
    "id": "9YVwiDJByzfp"
   },
   "outputs": [],
   "source": [
    "# train_test_split 으로 무작위로 데이터셋을 train 과 test 로 나눕니다.\n",
    "from sklearn.model_selection import train_test_split\n",
    "\n",
    "X_train, X_test, y_train, y_test = train_test_split(\n",
    "    X, y, test_size=0.2, stratify=y, random_state=42)"
   ]
  },
  {
   "cell_type": "code",
   "execution_count": 272,
   "metadata": {
    "id": "AJvknwIwyzfq"
   },
   "outputs": [
    {
     "data": {
      "text/plain": [
       "((614, 8), (154, 8), (614,), (154,))"
      ]
     },
     "execution_count": 272,
     "metadata": {},
     "output_type": "execute_result"
    }
   ],
   "source": [
    "# 데이터의 행과 열의 개수를 확인합니다.\n",
    "\n",
    "X_train.shape, X_test.shape, y_train.shape, y_test.shape"
   ]
  },
  {
   "cell_type": "markdown",
   "metadata": {},
   "source": [
    "### stratify 로 클래스 별로 균등하게 잘 나뉘었는지 확인"
   ]
  },
  {
   "cell_type": "code",
   "execution_count": 273,
   "metadata": {},
   "outputs": [
    {
     "data": {
      "text/plain": [
       "0    65.14658\n",
       "1    34.85342\n",
       "Name: Outcome, dtype: float64"
      ]
     },
     "execution_count": 273,
     "metadata": {},
     "output_type": "execute_result"
    }
   ],
   "source": [
    "y_train.value_counts(normalize=True) * 100"
   ]
  },
  {
   "cell_type": "code",
   "execution_count": 274,
   "metadata": {},
   "outputs": [
    {
     "data": {
      "text/plain": [
       "0    64.935065\n",
       "1    35.064935\n",
       "Name: Outcome, dtype: float64"
      ]
     },
     "execution_count": 274,
     "metadata": {},
     "output_type": "execute_result"
    }
   ],
   "source": [
    "y_test.value_counts(normalize=True) * 100"
   ]
  },
  {
   "cell_type": "markdown",
   "metadata": {
    "id": "nACsbOMkyzft"
   },
   "source": [
    "## 머신러닝 모델"
   ]
  },
  {
   "cell_type": "markdown",
   "metadata": {
    "id": "Jsmr_2vxA7IU"
   },
   "source": [
    "## 하이퍼파라미터 튜닝\n",
    "\n",
    "* 하이퍼파라미터 (Hyper Parameter)\n",
    "    * 머신러닝 모델을 생성할 때 사용자가 직접 설정하는 값으로, 이를 어떻게 설정하느냐에 따라 모델의 성능이 달라집니다.\n",
    "    \n",
    "* 수동튜닝\n",
    "    * 만족할만한 하이퍼파라미터들의 조합을 찾을 때까지 수동으로 조정\n",
    "\n",
    "* GridSearchCV()\n",
    "    * 시도할 하이퍼파라미터들을 지정하면, 모든 조합에 대해 교차검증 후 가장 좋은 성능을 내는 하이퍼파라미터 조합을 찾음\n",
    "\n",
    "* RandomizedSearchCV()\n",
    "    * GridSearch 와 동일한 방식으로 사용하지만 모든 조합을 다 시도하지는 않고, 각 반복마다 임의의 값만 대입해 지정한 횟수만큼 평가"
   ]
  },
  {
   "cell_type": "code",
   "execution_count": 275,
   "metadata": {
    "id": "TkejnwbZyzfu"
   },
   "outputs": [],
   "source": [
    "from sklearn.tree import DecisionTreeClassifier\n",
    "from sklearn.model_selection import cross_val_predict"
   ]
  },
  {
   "cell_type": "code",
   "execution_count": 276,
   "metadata": {
    "id": "qveRGlKeyzfv",
    "scrolled": true
   },
   "outputs": [
    {
     "data": {
      "text/plain": [
       "[2, 3, 5, 7, 9, 10]"
      ]
     },
     "execution_count": 276,
     "metadata": {},
     "output_type": "execute_result"
    }
   ],
   "source": [
    "# 트리의 깊이\n",
    "max_depth_list = [2, 3, 5, 7, 9, 10]\n",
    "max_depth_list"
   ]
  },
  {
   "cell_type": "code",
   "execution_count": 277,
   "metadata": {},
   "outputs": [
    {
     "data": {
      "text/plain": [
       "array([0.57231783, 0.50494992, 0.22910619, 0.46023097, 0.2946239 ,\n",
       "       0.31921489, 0.36890046, 0.2450368 , 0.27358679, 0.43761541])"
      ]
     },
     "execution_count": 277,
     "metadata": {},
     "output_type": "execute_result"
    }
   ],
   "source": [
    "np.random.uniform(0.2, 0.6, 10)"
   ]
  },
  {
   "cell_type": "code",
   "execution_count": 278,
   "metadata": {
    "id": "RFRMPKsNyzfw"
   },
   "outputs": [
    {
     "data": {
      "text/plain": [
       "[0.4, 0.5, 0.6]"
      ]
     },
     "execution_count": 278,
     "metadata": {},
     "output_type": "execute_result"
    }
   ],
   "source": [
    "# max_features 비율\n",
    "max_features_list = [0.4, 0.5, 0.6]\n",
    "max_features_list"
   ]
  },
  {
   "cell_type": "code",
   "execution_count": 279,
   "metadata": {},
   "outputs": [],
   "source": [
    "# accuracy_list = []\n",
    "# for max_depth in max_depth_list:\n",
    "#     for max_features in max_features_list:\n",
    "#         acc_list = []\n",
    "#         model = DecisionTreeClassifier(max_depth=max_depth, max_features=max_features, random_state=42)\n",
    "#         y_predict = cross_val_predict(model, X_train, y_train, cv=3, n_jobs=-1)\n",
    "#         acc = (y_train == y_predict).mean()\n",
    "\n",
    "#         acc_list.append(max_depth)\n",
    "#         acc_list.append(max_features)\n",
    "#         acc_list.append(acc)\n",
    "#         accuracy_list.append(acc_list)"
   ]
  },
  {
   "cell_type": "code",
   "execution_count": 280,
   "metadata": {},
   "outputs": [],
   "source": [
    "# df_acc = pd.DataFrame(accuracy_list, columns=[\"max_depth\", \"max_features\", \"accuracy\"])\n",
    "# df_acc.nlargest(5, \"accuracy\")"
   ]
  },
  {
   "cell_type": "markdown",
   "metadata": {},
   "source": [
    "### GridSearch"
   ]
  },
  {
   "cell_type": "code",
   "execution_count": 281,
   "metadata": {},
   "outputs": [
    {
     "data": {
      "text/plain": [
       "DecisionTreeClassifier(random_state=42)"
      ]
     },
     "execution_count": 281,
     "metadata": {},
     "output_type": "execute_result"
    }
   ],
   "source": [
    "model = DecisionTreeClassifier(random_state=42)\n",
    "model"
   ]
  },
  {
   "cell_type": "code",
   "execution_count": 282,
   "metadata": {},
   "outputs": [
    {
     "data": {
      "text/plain": [
       "array([2, 3, 5])"
      ]
     },
     "execution_count": 282,
     "metadata": {},
     "output_type": "execute_result"
    }
   ],
   "source": [
    "max_depth_list = np.random.randint(2, 7, 10)\n",
    "max_depth_list = np.unique(max_depth_list)\n",
    "max_depth_list"
   ]
  },
  {
   "cell_type": "code",
   "execution_count": 149,
   "metadata": {},
   "outputs": [
    {
     "data": {
      "text/plain": [
       "array([0.30723102, 0.32318618, 0.4385372 , 0.53372328, 0.4147203 ,\n",
       "       0.52676648, 0.4187821 , 0.40577773, 0.64160435, 0.66929561])"
      ]
     },
     "execution_count": 149,
     "metadata": {},
     "output_type": "execute_result"
    }
   ],
   "source": [
    "max_features_list = np.random.uniform(0.3, 0.7, 10)\n",
    "max_features_list"
   ]
  },
  {
   "cell_type": "code",
   "execution_count": 261,
   "metadata": {},
   "outputs": [],
   "source": [
    "# from sklearn.model_selection import GridSearchCV\n",
    "\n",
    "# parameters = {'max_depth': max_depth_list, 'max_features': max_features_list}\n",
    "\n",
    "# clf = GridSearchCV(model, param_grid=parameters, scoring=\"accuracy\", n_jobs=-1, cv=5, verbose=2)\n",
    "# clf.fit(X_train, y_train)"
   ]
  },
  {
   "cell_type": "code",
   "execution_count": 262,
   "metadata": {},
   "outputs": [
    {
     "data": {
      "text/plain": [
       "0.7507773335871565"
      ]
     },
     "execution_count": 262,
     "metadata": {},
     "output_type": "execute_result"
    }
   ],
   "source": [
    "clf.best_score_"
   ]
  },
  {
   "cell_type": "code",
   "execution_count": 263,
   "metadata": {},
   "outputs": [
    {
     "data": {
      "text/plain": [
       "DecisionTreeClassifier(max_depth=3, max_features=0.8471721685242822,\n",
       "                       random_state=42)"
      ]
     },
     "execution_count": 263,
     "metadata": {},
     "output_type": "execute_result"
    }
   ],
   "source": [
    "clf.best_estimator_"
   ]
  },
  {
   "cell_type": "code",
   "execution_count": 264,
   "metadata": {
    "scrolled": false
   },
   "outputs": [
    {
     "data": {
      "text/html": [
       "<div>\n",
       "<style scoped>\n",
       "    .dataframe tbody tr th:only-of-type {\n",
       "        vertical-align: middle;\n",
       "    }\n",
       "\n",
       "    .dataframe tbody tr th {\n",
       "        vertical-align: top;\n",
       "    }\n",
       "\n",
       "    .dataframe thead th {\n",
       "        text-align: right;\n",
       "    }\n",
       "</style>\n",
       "<table border=\"1\" class=\"dataframe\">\n",
       "  <thead>\n",
       "    <tr style=\"text-align: right;\">\n",
       "      <th></th>\n",
       "      <th>mean_fit_time</th>\n",
       "      <th>std_fit_time</th>\n",
       "      <th>mean_score_time</th>\n",
       "      <th>std_score_time</th>\n",
       "      <th>param_max_features</th>\n",
       "      <th>param_max_depth</th>\n",
       "      <th>params</th>\n",
       "      <th>split0_test_score</th>\n",
       "      <th>split1_test_score</th>\n",
       "      <th>split2_test_score</th>\n",
       "      <th>split3_test_score</th>\n",
       "      <th>split4_test_score</th>\n",
       "      <th>split5_test_score</th>\n",
       "      <th>mean_test_score</th>\n",
       "      <th>std_test_score</th>\n",
       "      <th>rank_test_score</th>\n",
       "    </tr>\n",
       "  </thead>\n",
       "  <tbody>\n",
       "    <tr>\n",
       "      <th>0</th>\n",
       "      <td>0.004867</td>\n",
       "      <td>0.000800</td>\n",
       "      <td>0.003117</td>\n",
       "      <td>0.000794</td>\n",
       "      <td>0.847172</td>\n",
       "      <td>3</td>\n",
       "      <td>{'max_features': 0.8471721685242822, 'max_dept...</td>\n",
       "      <td>0.776699</td>\n",
       "      <td>0.747573</td>\n",
       "      <td>0.735294</td>\n",
       "      <td>0.715686</td>\n",
       "      <td>0.754902</td>\n",
       "      <td>0.774510</td>\n",
       "      <td>0.750777</td>\n",
       "      <td>0.021345</td>\n",
       "      <td>1</td>\n",
       "    </tr>\n",
       "    <tr>\n",
       "      <th>4</th>\n",
       "      <td>0.003249</td>\n",
       "      <td>0.000483</td>\n",
       "      <td>0.001841</td>\n",
       "      <td>0.000357</td>\n",
       "      <td>0.666048</td>\n",
       "      <td>4</td>\n",
       "      <td>{'max_features': 0.6660475072211023, 'max_dept...</td>\n",
       "      <td>0.747573</td>\n",
       "      <td>0.718447</td>\n",
       "      <td>0.784314</td>\n",
       "      <td>0.705882</td>\n",
       "      <td>0.745098</td>\n",
       "      <td>0.745098</td>\n",
       "      <td>0.741069</td>\n",
       "      <td>0.024815</td>\n",
       "      <td>2</td>\n",
       "    </tr>\n",
       "    <tr>\n",
       "      <th>2</th>\n",
       "      <td>0.004106</td>\n",
       "      <td>0.000542</td>\n",
       "      <td>0.002236</td>\n",
       "      <td>0.000234</td>\n",
       "      <td>0.793745</td>\n",
       "      <td>2</td>\n",
       "      <td>{'max_features': 0.7937447661961123, 'max_dept...</td>\n",
       "      <td>0.766990</td>\n",
       "      <td>0.747573</td>\n",
       "      <td>0.725490</td>\n",
       "      <td>0.686275</td>\n",
       "      <td>0.715686</td>\n",
       "      <td>0.784314</td>\n",
       "      <td>0.737721</td>\n",
       "      <td>0.032676</td>\n",
       "      <td>3</td>\n",
       "    </tr>\n",
       "    <tr>\n",
       "      <th>3</th>\n",
       "      <td>0.003946</td>\n",
       "      <td>0.000415</td>\n",
       "      <td>0.002062</td>\n",
       "      <td>0.000335</td>\n",
       "      <td>0.847172</td>\n",
       "      <td>6</td>\n",
       "      <td>{'max_features': 0.8471721685242822, 'max_dept...</td>\n",
       "      <td>0.669903</td>\n",
       "      <td>0.699029</td>\n",
       "      <td>0.774510</td>\n",
       "      <td>0.764706</td>\n",
       "      <td>0.794118</td>\n",
       "      <td>0.715686</td>\n",
       "      <td>0.736325</td>\n",
       "      <td>0.044408</td>\n",
       "      <td>4</td>\n",
       "    </tr>\n",
       "    <tr>\n",
       "      <th>1</th>\n",
       "      <td>0.003411</td>\n",
       "      <td>0.000562</td>\n",
       "      <td>0.002169</td>\n",
       "      <td>0.000602</td>\n",
       "      <td>0.666048</td>\n",
       "      <td>5</td>\n",
       "      <td>{'max_features': 0.6660475072211023, 'max_dept...</td>\n",
       "      <td>0.699029</td>\n",
       "      <td>0.757282</td>\n",
       "      <td>0.705882</td>\n",
       "      <td>0.715686</td>\n",
       "      <td>0.745098</td>\n",
       "      <td>0.745098</td>\n",
       "      <td>0.728013</td>\n",
       "      <td>0.022069</td>\n",
       "      <td>5</td>\n",
       "    </tr>\n",
       "  </tbody>\n",
       "</table>\n",
       "</div>"
      ],
      "text/plain": [
       "   mean_fit_time  std_fit_time  mean_score_time  std_score_time  \\\n",
       "0       0.004867      0.000800         0.003117        0.000794   \n",
       "4       0.003249      0.000483         0.001841        0.000357   \n",
       "2       0.004106      0.000542         0.002236        0.000234   \n",
       "3       0.003946      0.000415         0.002062        0.000335   \n",
       "1       0.003411      0.000562         0.002169        0.000602   \n",
       "\n",
       "  param_max_features param_max_depth  \\\n",
       "0           0.847172               3   \n",
       "4           0.666048               4   \n",
       "2           0.793745               2   \n",
       "3           0.847172               6   \n",
       "1           0.666048               5   \n",
       "\n",
       "                                              params  split0_test_score  \\\n",
       "0  {'max_features': 0.8471721685242822, 'max_dept...           0.776699   \n",
       "4  {'max_features': 0.6660475072211023, 'max_dept...           0.747573   \n",
       "2  {'max_features': 0.7937447661961123, 'max_dept...           0.766990   \n",
       "3  {'max_features': 0.8471721685242822, 'max_dept...           0.669903   \n",
       "1  {'max_features': 0.6660475072211023, 'max_dept...           0.699029   \n",
       "\n",
       "   split1_test_score  split2_test_score  split3_test_score  split4_test_score  \\\n",
       "0           0.747573           0.735294           0.715686           0.754902   \n",
       "4           0.718447           0.784314           0.705882           0.745098   \n",
       "2           0.747573           0.725490           0.686275           0.715686   \n",
       "3           0.699029           0.774510           0.764706           0.794118   \n",
       "1           0.757282           0.705882           0.715686           0.745098   \n",
       "\n",
       "   split5_test_score  mean_test_score  std_test_score  rank_test_score  \n",
       "0           0.774510         0.750777        0.021345                1  \n",
       "4           0.745098         0.741069        0.024815                2  \n",
       "2           0.784314         0.737721        0.032676                3  \n",
       "3           0.715686         0.736325        0.044408                4  \n",
       "1           0.745098         0.728013        0.022069                5  "
      ]
     },
     "execution_count": 264,
     "metadata": {},
     "output_type": "execute_result"
    }
   ],
   "source": [
    "pd.DataFrame(clf.cv_results_).sort_values(\"rank_test_score\")"
   ]
  },
  {
   "cell_type": "markdown",
   "metadata": {},
   "source": [
    "### RandomSearchCV"
   ]
  },
  {
   "cell_type": "code",
   "execution_count": 283,
   "metadata": {},
   "outputs": [
    {
     "data": {
      "text/plain": [
       "array([2, 3, 4, 6])"
      ]
     },
     "execution_count": 283,
     "metadata": {},
     "output_type": "execute_result"
    }
   ],
   "source": [
    "max_depth_list = np.random.randint(2, 7, 10)\n",
    "max_depth_list = np.unique(max_depth_list)\n",
    "max_depth_list"
   ]
  },
  {
   "cell_type": "code",
   "execution_count": 284,
   "metadata": {},
   "outputs": [
    {
     "data": {
      "text/plain": [
       "array([0.8451229 , 0.69887686, 0.70022886, 0.86952748, 0.72613771])"
      ]
     },
     "execution_count": 284,
     "metadata": {},
     "output_type": "execute_result"
    }
   ],
   "source": [
    "max_features_list = np.random.uniform(0.5, 0.98, 5)\n",
    "max_features_list"
   ]
  },
  {
   "cell_type": "code",
   "execution_count": 285,
   "metadata": {},
   "outputs": [
    {
     "name": "stdout",
     "output_type": "stream",
     "text": [
      "Fitting 6 folds for each of 5 candidates, totalling 30 fits\n"
     ]
    },
    {
     "data": {
      "text/plain": [
       "RandomizedSearchCV(cv=6, estimator=DecisionTreeClassifier(random_state=42),\n",
       "                   n_iter=5, n_jobs=-1,\n",
       "                   param_distributions={'max_depth': array([2, 3, 4, 5, 6]),\n",
       "                                        'max_features': array([0.59999967, 0.90942904, 0.76841872, 0.70109503, 0.89529297])},\n",
       "                   random_state=42, verbose=2)"
      ]
     },
     "execution_count": 285,
     "metadata": {},
     "output_type": "execute_result"
    }
   ],
   "source": [
    "from sklearn.model_selection import RandomizedSearchCV\n",
    "\n",
    "param_distributions = {\"max_depth\": np.unique(np.random.randint(2, 7, 10)), \n",
    "                       \"max_features\": np.random.uniform(0.5, 0.98, 5)}\n",
    "clf = RandomizedSearchCV(model, param_distributions, n_iter=5, cv=6, \n",
    "                         n_jobs=-1, verbose=2, random_state=42)\n",
    "clf.fit(X_train, y_train)"
   ]
  },
  {
   "cell_type": "code",
   "execution_count": 286,
   "metadata": {},
   "outputs": [
    {
     "data": {
      "text/plain": [
       "DecisionTreeClassifier(max_depth=6, max_features=0.7010950341803761,\n",
       "                       random_state=42)"
      ]
     },
     "execution_count": 286,
     "metadata": {},
     "output_type": "execute_result"
    }
   ],
   "source": [
    "clf.best_estimator_"
   ]
  },
  {
   "cell_type": "code",
   "execution_count": 287,
   "metadata": {},
   "outputs": [
    {
     "data": {
      "text/plain": [
       "0.8632210165619645"
      ]
     },
     "execution_count": 287,
     "metadata": {},
     "output_type": "execute_result"
    }
   ],
   "source": [
    "clf.best_score_"
   ]
  },
  {
   "cell_type": "code",
   "execution_count": 288,
   "metadata": {},
   "outputs": [
    {
     "data": {
      "text/html": [
       "<div>\n",
       "<style scoped>\n",
       "    .dataframe tbody tr th:only-of-type {\n",
       "        vertical-align: middle;\n",
       "    }\n",
       "\n",
       "    .dataframe tbody tr th {\n",
       "        vertical-align: top;\n",
       "    }\n",
       "\n",
       "    .dataframe thead th {\n",
       "        text-align: right;\n",
       "    }\n",
       "</style>\n",
       "<table border=\"1\" class=\"dataframe\">\n",
       "  <thead>\n",
       "    <tr style=\"text-align: right;\">\n",
       "      <th></th>\n",
       "      <th>mean_fit_time</th>\n",
       "      <th>std_fit_time</th>\n",
       "      <th>mean_score_time</th>\n",
       "      <th>std_score_time</th>\n",
       "      <th>param_max_features</th>\n",
       "      <th>param_max_depth</th>\n",
       "      <th>params</th>\n",
       "      <th>split0_test_score</th>\n",
       "      <th>split1_test_score</th>\n",
       "      <th>split2_test_score</th>\n",
       "      <th>split3_test_score</th>\n",
       "      <th>split4_test_score</th>\n",
       "      <th>split5_test_score</th>\n",
       "      <th>mean_test_score</th>\n",
       "      <th>std_test_score</th>\n",
       "      <th>rank_test_score</th>\n",
       "    </tr>\n",
       "  </thead>\n",
       "  <tbody>\n",
       "    <tr>\n",
       "      <th>3</th>\n",
       "      <td>0.004178</td>\n",
       "      <td>0.000487</td>\n",
       "      <td>0.002166</td>\n",
       "      <td>0.000437</td>\n",
       "      <td>0.701095</td>\n",
       "      <td>6</td>\n",
       "      <td>{'max_features': 0.7010950341803761, 'max_dept...</td>\n",
       "      <td>0.825243</td>\n",
       "      <td>0.883495</td>\n",
       "      <td>0.872549</td>\n",
       "      <td>0.911765</td>\n",
       "      <td>0.852941</td>\n",
       "      <td>0.833333</td>\n",
       "      <td>0.863221</td>\n",
       "      <td>0.029709</td>\n",
       "      <td>1</td>\n",
       "    </tr>\n",
       "    <tr>\n",
       "      <th>1</th>\n",
       "      <td>0.004263</td>\n",
       "      <td>0.000556</td>\n",
       "      <td>0.002165</td>\n",
       "      <td>0.000404</td>\n",
       "      <td>0.909429</td>\n",
       "      <td>5</td>\n",
       "      <td>{'max_features': 0.9094290393604607, 'max_dept...</td>\n",
       "      <td>0.825243</td>\n",
       "      <td>0.834951</td>\n",
       "      <td>0.892157</td>\n",
       "      <td>0.862745</td>\n",
       "      <td>0.852941</td>\n",
       "      <td>0.882353</td>\n",
       "      <td>0.858398</td>\n",
       "      <td>0.023844</td>\n",
       "      <td>2</td>\n",
       "    </tr>\n",
       "    <tr>\n",
       "      <th>4</th>\n",
       "      <td>0.004971</td>\n",
       "      <td>0.000491</td>\n",
       "      <td>0.002779</td>\n",
       "      <td>0.000466</td>\n",
       "      <td>0.909429</td>\n",
       "      <td>4</td>\n",
       "      <td>{'max_features': 0.9094290393604607, 'max_dept...</td>\n",
       "      <td>0.825243</td>\n",
       "      <td>0.834951</td>\n",
       "      <td>0.882353</td>\n",
       "      <td>0.882353</td>\n",
       "      <td>0.843137</td>\n",
       "      <td>0.862745</td>\n",
       "      <td>0.855130</td>\n",
       "      <td>0.022303</td>\n",
       "      <td>3</td>\n",
       "    </tr>\n",
       "    <tr>\n",
       "      <th>0</th>\n",
       "      <td>0.004856</td>\n",
       "      <td>0.000915</td>\n",
       "      <td>0.002877</td>\n",
       "      <td>0.000808</td>\n",
       "      <td>0.701095</td>\n",
       "      <td>3</td>\n",
       "      <td>{'max_features': 0.7010950341803761, 'max_dept...</td>\n",
       "      <td>0.815534</td>\n",
       "      <td>0.796117</td>\n",
       "      <td>0.862745</td>\n",
       "      <td>0.833333</td>\n",
       "      <td>0.823529</td>\n",
       "      <td>0.892157</td>\n",
       "      <td>0.837236</td>\n",
       "      <td>0.031707</td>\n",
       "      <td>4</td>\n",
       "    </tr>\n",
       "    <tr>\n",
       "      <th>2</th>\n",
       "      <td>0.002732</td>\n",
       "      <td>0.000364</td>\n",
       "      <td>0.001656</td>\n",
       "      <td>0.000323</td>\n",
       "      <td>0.6</td>\n",
       "      <td>2</td>\n",
       "      <td>{'max_features': 0.5999996749733298, 'max_dept...</td>\n",
       "      <td>0.834951</td>\n",
       "      <td>0.796117</td>\n",
       "      <td>0.852941</td>\n",
       "      <td>0.823529</td>\n",
       "      <td>0.803922</td>\n",
       "      <td>0.823529</td>\n",
       "      <td>0.822498</td>\n",
       "      <td>0.018820</td>\n",
       "      <td>5</td>\n",
       "    </tr>\n",
       "  </tbody>\n",
       "</table>\n",
       "</div>"
      ],
      "text/plain": [
       "   mean_fit_time  std_fit_time  mean_score_time  std_score_time  \\\n",
       "3       0.004178      0.000487         0.002166        0.000437   \n",
       "1       0.004263      0.000556         0.002165        0.000404   \n",
       "4       0.004971      0.000491         0.002779        0.000466   \n",
       "0       0.004856      0.000915         0.002877        0.000808   \n",
       "2       0.002732      0.000364         0.001656        0.000323   \n",
       "\n",
       "  param_max_features param_max_depth  \\\n",
       "3           0.701095               6   \n",
       "1           0.909429               5   \n",
       "4           0.909429               4   \n",
       "0           0.701095               3   \n",
       "2                0.6               2   \n",
       "\n",
       "                                              params  split0_test_score  \\\n",
       "3  {'max_features': 0.7010950341803761, 'max_dept...           0.825243   \n",
       "1  {'max_features': 0.9094290393604607, 'max_dept...           0.825243   \n",
       "4  {'max_features': 0.9094290393604607, 'max_dept...           0.825243   \n",
       "0  {'max_features': 0.7010950341803761, 'max_dept...           0.815534   \n",
       "2  {'max_features': 0.5999996749733298, 'max_dept...           0.834951   \n",
       "\n",
       "   split1_test_score  split2_test_score  split3_test_score  split4_test_score  \\\n",
       "3           0.883495           0.872549           0.911765           0.852941   \n",
       "1           0.834951           0.892157           0.862745           0.852941   \n",
       "4           0.834951           0.882353           0.882353           0.843137   \n",
       "0           0.796117           0.862745           0.833333           0.823529   \n",
       "2           0.796117           0.852941           0.823529           0.803922   \n",
       "\n",
       "   split5_test_score  mean_test_score  std_test_score  rank_test_score  \n",
       "3           0.833333         0.863221        0.029709                1  \n",
       "1           0.882353         0.858398        0.023844                2  \n",
       "4           0.862745         0.855130        0.022303                3  \n",
       "0           0.892157         0.837236        0.031707                4  \n",
       "2           0.823529         0.822498        0.018820                5  "
      ]
     },
     "execution_count": 288,
     "metadata": {},
     "output_type": "execute_result"
    }
   ],
   "source": [
    "pd.DataFrame(clf.cv_results_).nsmallest(5,\"rank_test_score\")"
   ]
  },
  {
   "cell_type": "markdown",
   "metadata": {},
   "source": [
    "## Best Estimator"
   ]
  },
  {
   "cell_type": "code",
   "execution_count": 289,
   "metadata": {
    "id": "qS2UVZy6yzf5"
   },
   "outputs": [
    {
     "data": {
      "text/plain": [
       "DecisionTreeClassifier(max_depth=6, max_features=0.7010950341803761,\n",
       "                       random_state=42)"
      ]
     },
     "execution_count": 289,
     "metadata": {},
     "output_type": "execute_result"
    }
   ],
   "source": [
    "# 데이터를 머신러닝 모델로 학습(fit)합니다.\n",
    "best_model = clf.best_estimator_\n",
    "best_model.fit(X_train, y_train)"
   ]
  },
  {
   "cell_type": "code",
   "execution_count": 290,
   "metadata": {
    "id": "OEx2c1Wkyzf5"
   },
   "outputs": [
    {
     "data": {
      "text/plain": [
       "array([1, 0, 0, 1, 0])"
      ]
     },
     "execution_count": 290,
     "metadata": {},
     "output_type": "execute_result"
    }
   ],
   "source": [
    "# 데이터를 머신러닝 모델로 예측(predict)합니다.\n",
    "y_predict = best_model.predict(X_test)\n",
    "y_predict[:5]"
   ]
  },
  {
   "cell_type": "markdown",
   "metadata": {
    "id": "7bI-_wBRyzf5"
   },
   "source": [
    "## 모델 평가하기"
   ]
  },
  {
   "cell_type": "code",
   "execution_count": 291,
   "metadata": {
    "id": "ILu6KL6lyzf6"
   },
   "outputs": [
    {
     "data": {
      "text/plain": [
       "array([0.        , 0.10496583, 0.        , 0.08649198, 0.07528658,\n",
       "       0.01651037, 0.07598375, 0.64076149])"
      ]
     },
     "execution_count": 291,
     "metadata": {},
     "output_type": "execute_result"
    }
   ],
   "source": [
    "# feature_importances_ 를 통해 모델의 피처 중요도를 추출합니다.\n",
    "best_model.feature_importances_"
   ]
  },
  {
   "cell_type": "code",
   "execution_count": 292,
   "metadata": {
    "id": "gcL64Pwpyzf6"
   },
   "outputs": [
    {
     "data": {
      "text/plain": [
       "<AxesSubplot:>"
      ]
     },
     "execution_count": 292,
     "metadata": {},
     "output_type": "execute_result"
    },
    {
     "data": {
      "image/png": "[encoded data removed]",
      "text/plain": [
       "<Figure size 432x288 with 1 Axes>"
      ]
     },
     "metadata": {
      "needs_background": "light"
     },
     "output_type": "display_data"
    }
   ],
   "source": [
    "# 피처 중요도를 시각화 합니다.\n",
    "sns.barplot(x=best_model.feature_importances_, y=feature_names)"
   ]
  },
  {
   "cell_type": "markdown",
   "metadata": {
    "id": "DdW1Kiwxyzf7"
   },
   "source": [
    "### 점수 측정하기\n",
    "#### Accuracy"
   ]
  },
  {
   "cell_type": "code",
   "execution_count": 293,
   "metadata": {
    "id": "PNAXFaiIyzf7"
   },
   "outputs": [
    {
     "data": {
      "text/plain": [
       "0.9025974025974026"
      ]
     },
     "execution_count": 293,
     "metadata": {},
     "output_type": "execute_result"
    }
   ],
   "source": [
    "(y_test == y_predict).mean()"
   ]
  },
  {
   "cell_type": "code",
   "execution_count": null,
   "metadata": {},
   "outputs": [],
   "source": []
  }
 ],
 "metadata": {
  "colab": {
   "collapsed_sections": [],
   "name": "telco_prediction_03.ipynb",
   "provenance": []
  },
  "kernelspec": {
   "display_name": "Python 3",
   "language": "python",
   "name": "python3"
  },
  "language_info": {
   "codemirror_mode": {
    "name": "ipython",
    "version": 3
   },
   "file_extension": ".py",
   "mimetype": "text/x-python",
   "name": "python",
   "nbconvert_exporter": "python",
   "pygments_lexer": "ipython3",
   "version": "3.8.8"
  },
  "toc": {
   "base_numbering": 1,
   "nav_menu": {},
   "number_sections": true,
   "sideBar": true,
   "skip_h1_title": false,
   "title_cell": "Table of Contents",
   "title_sidebar": "Contents",
   "toc_cell": false,
   "toc_position": {},
   "toc_section_display": true,
   "toc_window_display": false
  },
  "varInspector": {
   "cols": {
    "lenName": 16,
    "lenType": 16,
    "lenVar": 40
   },
   "kernels_config": {
    "python": {
     "delete_cmd_postfix": "",
     "delete_cmd_prefix": "del ",
     "library": "var_list.py",
     "varRefreshCmd": "print(var_dic_list())"
    },
    "r": {
     "delete_cmd_postfix": ") ",
     "delete_cmd_prefix": "rm(",
     "library": "var_list.r",
     "varRefreshCmd": "cat(var_dic_list()) "
    }
   },
   "types_to_exclude": [
    "module",
    "function",
    "builtin_function_or_method",
    "instance",
    "_Feature"
   ],
   "window_display": false
  }
 },
 "nbformat": 4,
 "nbformat_minor": 1
}
