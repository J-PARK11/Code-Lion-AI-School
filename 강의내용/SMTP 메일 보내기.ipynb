{
 "cells": [
  {
   "cell_type": "markdown",
   "id": "eb60e256",
   "metadata": {},
   "source": [
    "## SMTP 메일 보내기\n",
    "- 이론   \n",
    "SMTP(Simple Message Transfer Protocol) : 이메일 통신 프로토콜   \n",
    "IMAP : 이메일 서버가 개인 클라이언트에 접촉할 때 사용하는 보안 프로토콜   \n",
    "SMTP 서버에 N 번 포트를 통해 접속함. (address & port)   \n",
    "SSL이란 보안방식을 의미.   \n",
    "MIME란 전자메일을 위한 약속된 포맷(코덱)   \n",
    "MIME인자에는 subject, to, from이 있다.   "
   ]
  },
  {
   "cell_type": "markdown",
   "id": "6187bb82",
   "metadata": {},
   "source": [
    "### 텍스트 메일 보내기"
   ]
  },
  {
   "cell_type": "code",
   "execution_count": 21,
   "id": "48df8fe8",
   "metadata": {},
   "outputs": [
    {
     "data": {
      "text/plain": [
       "(221,\n",
       " b'2.0.0 closing connection p6-20020a17090ac00600b001cd4989fecbsm9296196pjt.23 - gsmtp')"
      ]
     },
     "execution_count": 21,
     "metadata": {},
     "output_type": "execute_result"
    }
   ],
   "source": [
    "import smtplib\n",
    "from email.message import EmailMessage\n",
    "\n",
    "# 원하는 메일서버에 연결.\n",
    "SMTP_SERVER = 'smtp.gmail.com'\n",
    "SMTP_PORT = 465\n",
    "\n",
    "smtp = smtplib.SMTP_SSL(SMTP_SERVER, SMTP_PORT)\n",
    "smtp.login('wxx1123@likelion.org', '12345678')\n",
    "\n",
    "# MIME 객체 만들기\n",
    "text='코드라이언 수업중^^'\n",
    "message = EmailMessage()\n",
    "message.set_content(text)\n",
    "\n",
    "# 메일요소 설정\n",
    "message['Subject'] = '코드라이언 메일연습'\n",
    "message['From'] = 'wxx1123@naver.com'\n",
    "message['To'] = 'wxx1123@likelion.org'\n",
    "\n",
    "# 메일보내기\n",
    "smtp.send_message(message)\n",
    "smtp.quit()"
   ]
  },
  {
   "cell_type": "markdown",
   "id": "5d8d7fa2",
   "metadata": {},
   "source": [
    "### 이미지 메일 보내기"
   ]
  },
  {
   "cell_type": "code",
   "execution_count": 24,
   "id": "036fc069",
   "metadata": {},
   "outputs": [
    {
     "data": {
      "text/plain": [
       "(221,\n",
       " b'2.0.0 closing connection l17-20020a170902d05100b0015e8d4eb1besm3775965pll.8 - gsmtp')"
      ]
     },
     "execution_count": 24,
     "metadata": {},
     "output_type": "execute_result"
    }
   ],
   "source": [
    "import smtplib\n",
    "from email.message import EmailMessage\n",
    "import imghdr\n",
    "\n",
    "# 원하는 메일서버에 연결.\n",
    "SMTP_SERVER = 'smtp.gmail.com'\n",
    "SMTP_PORT = 465\n",
    "\n",
    "smtp = smtplib.SMTP_SSL(SMTP_SERVER, SMTP_PORT)\n",
    "smtp.login('wxx1123@likelion.org', '12345678')\n",
    "\n",
    "# MIME 객체 만들기\n",
    "text = '코드라이언 수업중^^'\n",
    "message = EmailMessage()\n",
    "message.set_content(text)\n",
    "\n",
    "# 메일요소 설정\n",
    "message['Subject'] = '이미지 메일^^'\n",
    "message['From'] = 'wxx1123@likelion.org'\n",
    "message['To'] = 'wxx1123@likelion.org'\n",
    "\n",
    "# MIME에 이미지 추가하기.\n",
    "with open('codelion.png', 'rb') as image:\n",
    "    image_file = image.read()\n",
    "\n",
    "image_type = imghdr.what('codelion',image_file)\n",
    "message.add_attachment(image_file, maintype='image', subtype=image_type)\n",
    "\n",
    "# 메일보내기\n",
    "smtp.send_message(message)\n",
    "smtp.quit()"
   ]
  },
  {
   "cell_type": "markdown",
   "id": "1eaea733",
   "metadata": {},
   "source": [
    "### 메일 유효성 검사"
   ]
  },
  {
   "cell_type": "code",
   "execution_count": 33,
   "id": "49c281da",
   "metadata": {},
   "outputs": [
    {
     "name": "stdout",
     "output_type": "stream",
     "text": [
      "정상적으로 메일이 발송되었습니다.\n"
     ]
    }
   ],
   "source": [
    "import smtplib\n",
    "from email.message import EmailMessage\n",
    "import imghdr\n",
    "import re\n",
    "\n",
    "# 원하는 메일서버에 연결.\n",
    "SMTP_SERVER = 'smtp.gmail.com'\n",
    "SMTP_PORT = 465\n",
    "\n",
    "smtp = smtplib.SMTP_SSL(SMTP_SERVER, SMTP_PORT)\n",
    "smtp.login('wxx1123@likelion.org', '12345678')\n",
    "\n",
    "# 유효성 검사\n",
    "def sendEmail(addr):\n",
    "    reg = '^[a-zA-Z0-9.+_-]+@[a-zA-Z0-9]+\\.[a-z]{2,3}$'\n",
    "    if bool(re.match(reg, addr)):\n",
    "        smtp.send_message(message)\n",
    "        print('정상적으로 메일이 발송되었습니다.')\n",
    "    else:\n",
    "        print('유효한 이메일 주소가 아닙니다.')\n",
    "\n",
    "# MIME 객체 만들기\n",
    "text = '코드라이언 수업중^^'\n",
    "message = EmailMessage()\n",
    "message.set_content(text)\n",
    "\n",
    "# 메일요소 설정\n",
    "message['Subject'] = '유효성검사'\n",
    "message['From'] = 'wxx1123@likelion.org'\n",
    "message['To'] = 'wxx1123@likelion.org'\n",
    "\n",
    "# MIME에 이미지 추가하기.\n",
    "with open('codelion.png', 'rb') as image:\n",
    "    image_file = image.read()\n",
    "\n",
    "image_type = imghdr.what('codelion',image_file)\n",
    "message.add_attachment(image_file, maintype='image', subtype=image_type)\n",
    "\n",
    "# 메일보내기\n",
    "sendEmail('wxx1123@likelion.org')"
   ]
  }
 ],
 "metadata": {
  "kernelspec": {
   "display_name": "Python 3",
   "language": "python",
   "name": "python3"
  },
  "language_info": {
   "codemirror_mode": {
    "name": "ipython",
    "version": 3
   },
   "file_extension": ".py",
   "mimetype": "text/x-python",
   "name": "python",
   "nbconvert_exporter": "python",
   "pygments_lexer": "ipython3",
   "version": "3.8.8"
  }
 },
 "nbformat": 4,
 "nbformat_minor": 5
}
