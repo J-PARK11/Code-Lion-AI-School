{
 "cells": [
  {
   "cell_type": "markdown",
   "id": "f63e19c9",
   "metadata": {},
   "source": [
    "## API Key 활용\n",
    "- 이론   \n",
    "json(java script object notation) : 데이터를 주고 받는 포맷   "
   ]
  },
  {
   "cell_type": "code",
   "execution_count": 99,
   "id": "8975ca68",
   "metadata": {},
   "outputs": [
    {
     "name": "stdout",
     "output_type": "stream",
     "text": [
      "Seoul\n",
      "e41cddc39ec634c5b36d6137f7d838ad\n",
      "https://api.openweathermap.org/data/2.5/weather?q=Seoul&appid=e41cddc39ec634c5b36d6137f7d838ad&lang=kr&units=metric\n",
      "<class 'str'>\n",
      "<class 'dict'> \n",
      "\n",
      "2022년 05월 07일 실시간 날씨 정보 입니다. \n",
      "Seoul의 날씨입니다.\n",
      "날씨는 Clouds이고, 온흐림일 것으로 보입니다.\n",
      "현재 온도는 17.69입니다.\n",
      "하지만 체감 온도는 15.91입니다.\n",
      "최저 기온은 17.69입니다.\n",
      "최고 기온은 17.69입니다.\n",
      "습도는 15도 입니다.\n",
      "기압은 1017입니다.\n"
     ]
    }
   ],
   "source": [
    "import requests\n",
    "import datetime\n",
    "import json\n",
    "\n",
    "# apikey 설정\n",
    "city = 'Seoul'\n",
    "lang = 'kr'\n",
    "units = 'metric'\n",
    "apikey = 'e41cddc39ec634c5b36d6137f7d838ad'\n",
    "\n",
    "# f-string\n",
    "api = f'https://api.openweathermap.org/data/2.5/weather?q={city}&appid={apikey}&lang={lang}&units={units}'\n",
    "\n",
    "print(city)\n",
    "print(apikey)\n",
    "print(api)\n",
    "\n",
    "# 데이터 형식 조정\n",
    "result = requests.get(api)\n",
    "data = json.loads(result.text)\n",
    "print(type(result.text))\n",
    "print(type(data),'\\n')\n",
    "\n",
    "# 원하는 정보 추출\n",
    "print(datetime.datetime.today().strftime('%Y년 %m월 %d일 실시간 날씨 정보 입니다. '))\n",
    "print(data['name']+'의','날씨입니다.')\n",
    "print('날씨는',data['weather'][0]['main']+'이고,',data['weather'][0]['description']+'일 것으로 보입니다.')\n",
    "print('현재 온도는',str(data['main']['temp'])+'입니다.')\n",
    "print('하지만 체감 온도는',str(data['main']['feels_like'])+'입니다.')\n",
    "print('최저 기온은',str(data['main']['temp_min'])+'입니다.')\n",
    "print('최고 기온은',str(data['main']['temp_max'])+'입니다.')\n",
    "print('습도는',str(data['main']['humidity'])+'도 입니다.')\n",
    "print('기압은',str(data['main']['pressure'])+'입니다.')"
   ]
  },
  {
   "cell_type": "code",
   "execution_count": 90,
   "id": "91e994a4",
   "metadata": {},
   "outputs": [
    {
     "data": {
      "text/plain": [
       "{'coord': {'lon': 126.9778, 'lat': 37.5683},\n",
       " 'weather': [{'id': 804,\n",
       "   'main': 'Clouds',\n",
       "   'description': '온흐림',\n",
       "   'icon': '04d'}],\n",
       " 'base': 'stations',\n",
       " 'main': {'temp': 17.69,\n",
       "  'feels_like': 15.91,\n",
       "  'temp_min': 17.69,\n",
       "  'temp_max': 17.69,\n",
       "  'pressure': 1017,\n",
       "  'humidity': 15,\n",
       "  'sea_level': 1017,\n",
       "  'grnd_level': 1010},\n",
       " 'visibility': 10000,\n",
       " 'wind': {'speed': 4.85, 'deg': 329, 'gust': 5.54},\n",
       " 'clouds': {'all': 99},\n",
       " 'dt': 1651914159,\n",
       " 'sys': {'type': 1,\n",
       "  'id': 8093,\n",
       "  'country': 'KR',\n",
       "  'sunrise': 1651869046,\n",
       "  'sunset': 1651919192},\n",
       " 'timezone': 32400,\n",
       " 'id': 1835848,\n",
       " 'name': 'Seoul',\n",
       " 'cod': 200}"
      ]
     },
     "execution_count": 90,
     "metadata": {},
     "output_type": "execute_result"
    }
   ],
   "source": [
    "data"
   ]
  }
 ],
 "metadata": {
  "kernelspec": {
   "display_name": "Python 3",
   "language": "python",
   "name": "python3"
  },
  "language_info": {
   "codemirror_mode": {
    "name": "ipython",
    "version": 3
   },
   "file_extension": ".py",
   "mimetype": "text/x-python",
   "name": "python",
   "nbconvert_exporter": "python",
   "pygments_lexer": "ipython3",
   "version": "3.8.8"
  }
 },
 "nbformat": 4,
 "nbformat_minor": 5
}
