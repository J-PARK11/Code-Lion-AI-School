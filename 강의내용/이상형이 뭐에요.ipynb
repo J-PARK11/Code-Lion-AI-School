{
 "cells": [
  {
   "cell_type": "markdown",
   "id": "6ee76b5d",
   "metadata": {},
   "source": [
    "## 이상형이 뭐에요?\n",
    "기능 : 질문을 여러 개 받고, 그에 대한 대답을 입력 받아 사전으로 정리하여 출력함."
   ]
  },
  {
   "cell_type": "code",
   "execution_count": 1,
   "id": "10aac9ee",
   "metadata": {},
   "outputs": [
    {
     "name": "stdout",
     "output_type": "stream",
     "text": [
      "질문을 입력해주세요 : 취미가 뭐에요\n",
      "질문을 입력해주세요 : 성별이 뭐에요\n",
      "질문을 입력해주세요 : q\n",
      "취미가 뭐에요\n",
      "답변을 입력해주세요 : 축구\n",
      "성별이 뭐에요\n",
      "답변을 입력해주세요 : 남자\n",
      "{'취미가 뭐에요': '축구', '성별이 뭐에요': '남자'}\n"
     ]
    }
   ],
   "source": [
    "total_dictionary = {}\n",
    "\n",
    "# 질문 받기\n",
    "while True:\n",
    "    question = input('질문을 입력해주세요 : ')\n",
    "    if question == 'q':\n",
    "        break\n",
    "    else:\n",
    "        total_dictionary[question] = \"\"\n",
    "    \n",
    "# 답변 받기\n",
    "for i in total_dictionary:\n",
    "    print(i)\n",
    "    answer = input('답변을 입력해주세요 : ')\n",
    "    total_dictionary[i] = answer\n",
    "\n",
    "# 사전 출력\n",
    "print(total_dictionary)"
   ]
  },
  {
   "cell_type": "code",
   "execution_count": 4,
   "id": "8946df1e",
   "metadata": {},
   "outputs": [
    {
     "name": "stdout",
     "output_type": "stream",
     "text": [
      "질문을 입력해주세요 : 취미가 뭐에요\n",
      "질문을 입력해주세요 : 성별이 뭐에요\n",
      "질문을 입력해주세요 : q\n",
      "취미가 뭐에요\n",
      "답변을 입력해주세요 : 축구\n",
      "성별이 뭐에요\n",
      "답변을 입력해주세요 : 남자\n",
      "[{'질문': '취미가 뭐에요', '답변': '축구'}, {'질문': '성별이 뭐에요', '답변': '남자'}]\n"
     ]
    }
   ],
   "source": [
    "total_list = []\n",
    "\n",
    "# 질문 받기\n",
    "while True:\n",
    "    question = input('질문을 입력해주세요 : ')\n",
    "    if question == 'q':\n",
    "        break\n",
    "    else:\n",
    "        total_list.append({'질문':question,'답변':''})\n",
    "    \n",
    "# 답변 받기\n",
    "for i in total_list:\n",
    "    print(i['질문'])\n",
    "    answer = input('답변을 입력해주세요 : ')\n",
    "    i['답변'] = answer\n",
    "\n",
    "# 사전 출력\n",
    "print(total_list)"
   ]
  }
 ],
 "metadata": {
  "kernelspec": {
   "display_name": "Python 3",
   "language": "python",
   "name": "python3"
  },
  "language_info": {
   "codemirror_mode": {
    "name": "ipython",
    "version": 3
   },
   "file_extension": ".py",
   "mimetype": "text/x-python",
   "name": "python",
   "nbconvert_exporter": "python",
   "pygments_lexer": "ipython3",
   "version": "3.8.8"
  }
 },
 "nbformat": 4,
 "nbformat_minor": 5
}
