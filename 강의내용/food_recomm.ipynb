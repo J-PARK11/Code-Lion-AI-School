{
 "cells": [
  {
   "cell_type": "markdown",
   "id": "413b23f5-e7aa-4dd1-9ef6-008e093bdae1",
   "metadata": {},
   "source": [
    "# 음식 추천하기"
   ]
  },
  {
   "cell_type": "code",
   "execution_count": 102,
   "id": "26ccfbda-5bc3-4dc3-90a3-8225284222ba",
   "metadata": {},
   "outputs": [
    {
     "data": {
      "text/plain": [
       "dict_keys(['매운맛', '기름진맛', '단맛'])"
      ]
     },
     "execution_count": 102,
     "metadata": {},
     "output_type": "execute_result"
    }
   ],
   "source": [
    "import pandas as pd\n",
    "\n",
    "name2gid = {\n",
    "    '매운맛': 0,\n",
    "    '기름진맛': 1369311762,\n",
    "    '단맛': 1090863632,\n",
    "}\n",
    "\n",
    "name2gid.keys()"
   ]
  },
  {
   "cell_type": "markdown",
   "id": "2299c410-ce52-4d3e-923e-f7ec6f12ec19",
   "metadata": {},
   "source": [
    "## 구글 시트의 원본 데이터를 pd.DataFrame으로 읽어오기"
   ]
  },
  {
   "cell_type": "code",
   "execution_count": 103,
   "id": "89898137-9506-4dc7-95aa-12742743c3b4",
   "metadata": {},
   "outputs": [],
   "source": [
    "def fetch_food_data(sheet_name):\n",
    "    \"\"\"구글시트의 음식 데이터를 pd.DataFrame 형태로 읽어온다\"\"\"\n",
    "    url = \\\n",
    "        'https://docs.google.com/spreadsheets/d/e' \\\n",
    "        '/2PACX-1vSiAzsjRqvLWoFSpOuRlz2xtDef2yAN77AGsvmAgCWRtpF8NVr71sNTdNazri4o1FAmF7QA540PNveb' \\\n",
    "        f'/pub?single=true&output=csv&gid={name2gid[sheet_name]}'\n",
    "    return pd.read_csv(url, index_col=0)"
   ]
  },
  {
   "cell_type": "code",
   "execution_count": 104,
   "id": "806eff54-63e5-45e7-847d-af142ce1fd3d",
   "metadata": {},
   "outputs": [],
   "source": [
    "dfs = [fetch_food_data(f) for f in name2gid.keys()]"
   ]
  },
  {
   "cell_type": "markdown",
   "id": "2217d766-9825-4c28-aa67-b02714e1d8e4",
   "metadata": {},
   "source": [
    "## 데이터가 우리의 가정을 만족하는지 알아보기"
   ]
  },
  {
   "cell_type": "code",
   "execution_count": 87,
   "id": "315d12e5-12fb-405b-aef3-d8e40dde8f54",
   "metadata": {},
   "outputs": [],
   "source": [
    "from statistics import mean\n",
    "\n",
    "def check_range(df):\n",
    "    lbound = 0.0\n",
    "    ubound = 1.0\n",
    "    df_mask = df.isna()\n",
    "    df_filled = df.mask(df_mask, mean([lbound, ubound]))\n",
    "    \n",
    "    in_lbound = (df_filled >= lbound).all(axis=None)\n",
    "    in_ubound = (df_filled <= ubound).all(axis=None)\n",
    "    return in_lbound and in_ubound\n",
    "\"\n",
    "def check_no_na(df):\n",
    "    return not df.isna().any(axis=None)\n",
    "\n",
    "def check_foodnames(dfs):\n",
    "    sets = [set(df.index) for df in dfs]\n",
    "    return set.intersection(*sets) == set.union(*sets)"
   ]
  },
  {
   "cell_type": "code",
   "execution_count": 83,
   "id": "dc4590b6-7e9d-4ab2-ae47-1927fcc0823a",
   "metadata": {},
   "outputs": [
    {
     "data": {
      "text/plain": [
       "False"
      ]
     },
     "execution_count": 83,
     "metadata": {},
     "output_type": "execute_result"
    }
   ],
   "source": [
    "check_range(df_spicy) and check_range(df_oily) and check_range(df_sweet)"
   ]
  },
  {
   "cell_type": "code",
   "execution_count": 84,
   "id": "b639fe9b-a50e-4271-9807-a8a27e70ffb1",
   "metadata": {},
   "outputs": [
    {
     "data": {
      "text/plain": [
       "False"
      ]
     },
     "execution_count": 84,
     "metadata": {},
     "output_type": "execute_result"
    }
   ],
   "source": [
    "check_no_na(df_spicy) and check_no_na(df_oily) and check_no_na(df_sweet)"
   ]
  },
  {
   "cell_type": "code",
   "execution_count": 85,
   "id": "081068f0-894a-4cd1-bed2-3b36bc1fd1ac",
   "metadata": {},
   "outputs": [
    {
     "data": {
      "text/plain": [
       "False"
      ]
     },
     "execution_count": 85,
     "metadata": {},
     "output_type": "execute_result"
    }
   ],
   "source": [
    "check_foodnames([df_spicy, df_oily, df_sweet])"
   ]
  },
  {
   "cell_type": "markdown",
   "id": "791be14d-c32d-4807-bb2d-20bd3fb87ec8",
   "metadata": {},
   "source": [
    "## 코드에 문제가 없는지 검사하기"
   ]
  },
  {
   "cell_type": "code",
   "execution_count": 10,
   "id": "efa8d550-562a-426f-9b6b-996f0bd6e490",
   "metadata": {},
   "outputs": [],
   "source": [
    "def make_dummy(values, names):\n",
    "    return pd.DataFrame(values, index=names)"
   ]
  },
  {
   "cell_type": "markdown",
   "id": "b2d133e3-f9b2-4025-b1c0-f4ff2e645ce8",
   "metadata": {},
   "source": [
    "테스트용 데이터를 만들어서 `check_range()`에 문제가 없는지 검사하기"
   ]
  },
  {
   "cell_type": "code",
   "execution_count": 11,
   "id": "d95f08f4-18ac-4b11-8f1d-bc7d9f3c6b64",
   "metadata": {},
   "outputs": [
    {
     "data": {
      "text/plain": [
       "True"
      ]
     },
     "execution_count": 11,
     "metadata": {},
     "output_type": "execute_result"
    }
   ],
   "source": [
    "check_range(make_dummy([[0, 0], [0, 1]], names=['a', 'b']))"
   ]
  },
  {
   "cell_type": "code",
   "execution_count": 12,
   "id": "e6057244-0f1b-404a-bef6-297cf8b29f2a",
   "metadata": {},
   "outputs": [
    {
     "data": {
      "text/plain": [
       "False"
      ]
     },
     "execution_count": 12,
     "metadata": {},
     "output_type": "execute_result"
    }
   ],
   "source": [
    "check_range(make_dummy([[0, 0], [0, -1]], names=['a', 'b']))"
   ]
  },
  {
   "cell_type": "code",
   "execution_count": 13,
   "id": "7691164a-6860-4645-865b-66767a5d46f0",
   "metadata": {},
   "outputs": [
    {
     "data": {
      "text/plain": [
       "False"
      ]
     },
     "execution_count": 13,
     "metadata": {},
     "output_type": "execute_result"
    }
   ],
   "source": [
    "check_range(make_dummy([[0, 0], [0, 2]], names=['a', 'b']))"
   ]
  },
  {
   "cell_type": "markdown",
   "id": "1151e342-687d-4809-a0a4-2ff0604f65ab",
   "metadata": {},
   "source": [
    "## all()과 any() 이해하기\n",
    "\n",
    "`all()`은 데이터프레임의 모든 값이 True인 경우에만 True를 반환합니다."
   ]
  },
  {
   "cell_type": "code",
   "execution_count": 14,
   "id": "3371d1e7-2342-4589-b30a-f866e813c74b",
   "metadata": {},
   "outputs": [
    {
     "data": {
      "text/plain": [
       "True"
      ]
     },
     "execution_count": 14,
     "metadata": {},
     "output_type": "execute_result"
    }
   ],
   "source": [
    "pd.DataFrame([True, True]).all(axis=None)"
   ]
  },
  {
   "cell_type": "code",
   "execution_count": 15,
   "id": "92b61aeb-29dd-40ba-b4b9-c23fb8ce60ce",
   "metadata": {},
   "outputs": [
    {
     "data": {
      "text/plain": [
       "False"
      ]
     },
     "execution_count": 15,
     "metadata": {},
     "output_type": "execute_result"
    }
   ],
   "source": [
    "pd.DataFrame([True, False]).all(axis=None)"
   ]
  },
  {
   "cell_type": "code",
   "execution_count": 16,
   "id": "0d992063-045f-4fd3-8247-5f3bcb50b4ff",
   "metadata": {},
   "outputs": [
    {
     "data": {
      "text/plain": [
       "False"
      ]
     },
     "execution_count": 16,
     "metadata": {},
     "output_type": "execute_result"
    }
   ],
   "source": [
    "pd.DataFrame([False, False]).all(axis=None)"
   ]
  },
  {
   "cell_type": "markdown",
   "id": "0cf61459-3dc3-4565-a20b-146ab263ee1a",
   "metadata": {},
   "source": [
    "`any()`는 데이터프레임에 True인 값이 하나라도 있으면 True를 반환합니다. (is there **any**?)"
   ]
  },
  {
   "cell_type": "code",
   "execution_count": 17,
   "id": "ce57d9c7-9ac4-4aad-8276-6b1b9e71aefe",
   "metadata": {},
   "outputs": [
    {
     "data": {
      "text/plain": [
       "True"
      ]
     },
     "execution_count": 17,
     "metadata": {},
     "output_type": "execute_result"
    }
   ],
   "source": [
    "pd.DataFrame([True, True]).any(axis=None)"
   ]
  },
  {
   "cell_type": "code",
   "execution_count": 18,
   "id": "7f6da4d0-f56a-4347-b13c-7f692a42244d",
   "metadata": {},
   "outputs": [
    {
     "data": {
      "text/plain": [
       "True"
      ]
     },
     "execution_count": 18,
     "metadata": {},
     "output_type": "execute_result"
    }
   ],
   "source": [
    "pd.DataFrame([True, False]).any(axis=None)"
   ]
  },
  {
   "cell_type": "code",
   "execution_count": 19,
   "id": "984bc594-c90e-4657-9106-0bef9a584617",
   "metadata": {},
   "outputs": [
    {
     "data": {
      "text/plain": [
       "False"
      ]
     },
     "execution_count": 19,
     "metadata": {},
     "output_type": "execute_result"
    }
   ],
   "source": [
    "pd.DataFrame([False, False]).any(axis=None)"
   ]
  },
  {
   "cell_type": "markdown",
   "id": "5d9d853d-90fd-496a-97b4-ff91f4c4601d",
   "metadata": {},
   "source": [
    "## 클렌징"
   ]
  },
  {
   "cell_type": "code",
   "execution_count": 97,
   "id": "ac359937-c0be-48d6-98e0-91b6ca28115e",
   "metadata": {},
   "outputs": [],
   "source": [
    "def scale_minmax(df):\n",
    "    \"\"\"min-max scaling 적용하고 min-max가 같은 칼럼은 제거하기\"\"\"\n",
    "    min_value = df.min()\n",
    "    max_value = df.max()\n",
    "    extent = max_value - min_value\n",
    "\n",
    "    scaled_df = (df - min_value) / extent\n",
    "    columns_to_keep = extent > 0\n",
    "    return scaled_df.loc[:, columns_to_keep]"
   ]
  },
  {
   "cell_type": "code",
   "execution_count": 98,
   "id": "9ffcd6d0-b90d-4b1d-ad95-2e2f1c4548df",
   "metadata": {},
   "outputs": [
    {
     "data": {
      "text/html": [
       "<div>\n",
       "<style scoped>\n",
       "    .dataframe tbody tr th:only-of-type {\n",
       "        vertical-align: middle;\n",
       "    }\n",
       "\n",
       "    .dataframe tbody tr th {\n",
       "        vertical-align: top;\n",
       "    }\n",
       "\n",
       "    .dataframe thead th {\n",
       "        text-align: right;\n",
       "    }\n",
       "</style>\n",
       "<table border=\"1\" class=\"dataframe\">\n",
       "  <thead>\n",
       "    <tr style=\"text-align: right;\">\n",
       "      <th></th>\n",
       "      <th>1</th>\n",
       "      <th>3</th>\n",
       "    </tr>\n",
       "  </thead>\n",
       "  <tbody>\n",
       "    <tr>\n",
       "      <th>f0</th>\n",
       "      <td>0.0</td>\n",
       "      <td>0.000000</td>\n",
       "    </tr>\n",
       "    <tr>\n",
       "      <th>f1</th>\n",
       "      <td>0.5</td>\n",
       "      <td>0.285714</td>\n",
       "    </tr>\n",
       "    <tr>\n",
       "      <th>f2</th>\n",
       "      <td>1.0</td>\n",
       "      <td>1.000000</td>\n",
       "    </tr>\n",
       "  </tbody>\n",
       "</table>\n",
       "</div>"
      ],
      "text/plain": [
       "      1         3\n",
       "f0  0.0  0.000000\n",
       "f1  0.5  0.285714\n",
       "f2  1.0  1.000000"
      ]
     },
     "execution_count": 98,
     "metadata": {},
     "output_type": "execute_result"
    }
   ],
   "source": [
    "df = make_dummy(\n",
    "    [\n",
    "        # u0, u1, u2, u3, ...\n",
    "        [1, 0.1, 3, 0.3],  # f0\n",
    "        [1, 0.2, 3, 0.5],  # f1\n",
    "        [1, 0.3, 3, 1.0],  # f2\n",
    "    ],\n",
    "    ['f0', 'f1', 'f2'],\n",
    ")\n",
    "scale_minmax(df)"
   ]
  },
  {
   "cell_type": "code",
   "execution_count": 106,
   "id": "5449ef4d-ad39-4bf4-ab4c-8693f98c6dec",
   "metadata": {},
   "outputs": [],
   "source": [
    "# 대표값 구하기\n",
    "means = [scale_minmax(df).fillna(0.5).mean(axis=1) for df in dfs]"
   ]
  },
  {
   "cell_type": "code",
   "execution_count": 107,
   "id": "6d2f6fc6-fdcb-4e33-abbb-2281b2c59a6c",
   "metadata": {},
   "outputs": [
    {
     "data": {
      "text/html": [
       "<div>\n",
       "<style scoped>\n",
       "    .dataframe tbody tr th:only-of-type {\n",
       "        vertical-align: middle;\n",
       "    }\n",
       "\n",
       "    .dataframe tbody tr th {\n",
       "        vertical-align: top;\n",
       "    }\n",
       "\n",
       "    .dataframe thead th {\n",
       "        text-align: right;\n",
       "    }\n",
       "</style>\n",
       "<table border=\"1\" class=\"dataframe\">\n",
       "  <thead>\n",
       "    <tr style=\"text-align: right;\">\n",
       "      <th></th>\n",
       "      <th>매운맛</th>\n",
       "      <th>기름진맛</th>\n",
       "      <th>단맛</th>\n",
       "    </tr>\n",
       "    <tr>\n",
       "      <th>menu</th>\n",
       "      <th></th>\n",
       "      <th></th>\n",
       "      <th></th>\n",
       "    </tr>\n",
       "  </thead>\n",
       "  <tbody>\n",
       "    <tr>\n",
       "      <th>계란밥</th>\n",
       "      <td>0.019231</td>\n",
       "      <td>0.386111</td>\n",
       "      <td>0.215608</td>\n",
       "    </tr>\n",
       "    <tr>\n",
       "      <th>그릭요거트</th>\n",
       "      <td>0.019231</td>\n",
       "      <td>0.257407</td>\n",
       "      <td>0.221561</td>\n",
       "    </tr>\n",
       "    <tr>\n",
       "      <th>김치찌개</th>\n",
       "      <td>0.482120</td>\n",
       "      <td>0.426852</td>\n",
       "      <td>0.205026</td>\n",
       "    </tr>\n",
       "    <tr>\n",
       "      <th>김치찜</th>\n",
       "      <td>0.548191</td>\n",
       "      <td>0.617593</td>\n",
       "      <td>0.325397</td>\n",
       "    </tr>\n",
       "    <tr>\n",
       "      <th>꽃게탕</th>\n",
       "      <td>0.378594</td>\n",
       "      <td>0.178704</td>\n",
       "      <td>0.126323</td>\n",
       "    </tr>\n",
       "  </tbody>\n",
       "</table>\n",
       "</div>"
      ],
      "text/plain": [
       "            매운맛      기름진맛        단맛\n",
       "menu                               \n",
       "계란밥    0.019231  0.386111  0.215608\n",
       "그릭요거트  0.019231  0.257407  0.221561\n",
       "김치찌개   0.482120  0.426852  0.205026\n",
       "김치찜    0.548191  0.617593  0.325397\n",
       "꽃게탕    0.378594  0.178704  0.126323"
      ]
     },
     "execution_count": 107,
     "metadata": {},
     "output_type": "execute_result"
    }
   ],
   "source": [
    "# 하나로 합치기\n",
    "df = pd \\\n",
    "    .concat(means, axis=1, keys=name2gid.keys()) \\\n",
    "    .dropna()\n",
    "df.head()"
   ]
  },
  {
   "cell_type": "markdown",
   "id": "ae98ce0d-c9c4-4e44-bdc1-7275f2f365cc",
   "metadata": {},
   "source": [
    "## 추천하기"
   ]
  },
  {
   "cell_type": "code",
   "execution_count": null,
   "id": "ebc12514-317f-420c-ae42-f633807b14d3",
   "metadata": {},
   "outputs": [],
   "source": []
  },
  {
   "cell_type": "code",
   "execution_count": null,
   "id": "99dce155-1326-4ae2-8ad9-c5be7dec2421",
   "metadata": {},
   "outputs": [],
   "source": []
  }
 ],
 "metadata": {
  "kernelspec": {
   "display_name": "Python 3 (ipykernel)",
   "language": "python",
   "name": "python3"
  },
  "language_info": {
   "codemirror_mode": {
    "name": "ipython",
    "version": 3
   },
   "file_extension": ".py",
   "mimetype": "text/x-python",
   "name": "python",
   "nbconvert_exporter": "python",
   "pygments_lexer": "ipython3",
   "version": "3.9.1"
  }
 },
 "nbformat": 4,
 "nbformat_minor": 5
}
