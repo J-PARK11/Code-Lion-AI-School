{
 "cells": [
  {
   "cell_type": "markdown",
   "metadata": {
    "id": "k0bhTZkT7xib"
   },
   "source": [
    "# Data Description\n",
    "## Stroke\n",
    "- `id` : 고유 식별자\n",
    "- `gender` : 환자의 성별\n",
    "- `age` : 환자의 연령\n",
    "- `hypertension` : 환자가 고혈압이 아닌 경우 0, 고혈압인 경우 1\n",
    "- `heart_parament` : 환자가 심장 질환이 없는 경우 0, 환자가 심장 질환이 있는 경우 1\n",
    "- `ever_married` : 결혼한 적이 있는가 \"아니오\" 또는 \"예\"\n",
    "- `work_type` : \"Children\", \"Govt_jov\", \"Never_worked\", \"Private\" 또는 \"Self-employed\"\n",
    "- `Residence_type` : \"Rural\" or \"Urban”\n",
    "- `avg_glucose_level` : 혈중 평균 포도당 수준\n",
    "- `bmi` : 체질량지수\n",
    "- `smoking_status` : \"formerly smoked\", \"never smoked\", \"smokes\" or \"Unknown\"\n",
    "- `stroke` : 뇌졸중이 있는 경우 1, 뇌졸중이 아닌 경우 0\n",
    "- 참고 : smoking_status의 **Unknown**은 이 환자에 대한 정보를 사용할 수 없음을 의미한다."
   ]
  },
  {
   "cell_type": "markdown",
   "metadata": {
    "id": "BPTQeinM73Fz"
   },
   "source": [
    "# 라이브러리"
   ]
  },
  {
   "cell_type": "code",
   "execution_count": 1,
   "metadata": {
    "id": "pyoXGoFQzeTx"
   },
   "outputs": [],
   "source": [
    "import pandas as pd\n",
    "import numpy as np\n",
    "import seaborn as sns\n",
    "sns.set_style(\"whitegrid\")\n",
    "sns.set_context(\"talk\")\n",
    "\n",
    "import matplotlib.pyplot as plt\n",
    "plt.style.use('seaborn')\n",
    "\n",
    "import scipy.stats as stats\n",
    "from scipy.stats import shapiro\n",
    "from scipy.stats import kstest\n",
    "\n",
    "import warnings\n",
    "warnings.filterwarnings(\"ignore\")"
   ]
  },
  {
   "cell_type": "code",
   "execution_count": 2,
   "metadata": {
    "id": "LDccMnGXzkm-"
   },
   "outputs": [],
   "source": [
    "from sklearn.svm import SVC\n",
    "\n",
    "from sklearn import tree\n",
    "from sklearn.tree import DecisionTreeClassifier\n",
    "from sklearn.ensemble import ExtraTreesClassifier\n",
    "from sklearn.ensemble import VotingClassifier\n",
    "from sklearn.ensemble import AdaBoostClassifier\n",
    "from sklearn.ensemble import BaggingClassifier\n",
    "from sklearn.ensemble import RandomForestClassifier\n",
    "from sklearn.ensemble import GradientBoostingClassifier\n",
    "from sklearn.neighbors import KNeighborsClassifier\n",
    "\n",
    "import xgboost as xgb\n",
    "from xgboost import XGBClassifier\n",
    "from xgboost import plot_importance, plot_tree\n",
    "from lightgbm import LGBMClassifier\n",
    "from lightgbm import plot_importance, plot_metric, plot_tree\n",
    "\n",
    "from sklearn.model_selection import KFold, train_test_split, cross_val_score, GridSearchCV\n",
    "from sklearn.preprocessing import StandardScaler, MinMaxScaler, LabelEncoder\n",
    "from sklearn.preprocessing import power_transform\n",
    "from sklearn.metrics import accuracy_score\n",
    "from sklearn.metrics import confusion_matrix\n",
    "from sklearn.metrics import roc_auc_score\n",
    "\n",
    "from sklearn.model_selection import StratifiedKFold\n",
    "from sklearn.utils import shuffle"
   ]
  },
  {
   "cell_type": "markdown",
   "metadata": {
    "id": "fQ1vlSEc746y"
   },
   "source": [
    "# Data Load"
   ]
  },
  {
   "cell_type": "code",
   "execution_count": 3,
   "metadata": {
    "id": "kXG1zGdGzvyh"
   },
   "outputs": [],
   "source": [
    "stroke = pd.read_csv(\"/content/stroke.csv\")"
   ]
  },
  {
   "cell_type": "markdown",
   "metadata": {
    "id": "GWnDtgER75-Q"
   },
   "source": [
    "# 데이터 살펴보기"
   ]
  },
  {
   "cell_type": "code",
   "execution_count": 4,
   "metadata": {
    "colab": {
     "base_uri": "https://localhost:8080/"
    },
    "id": "Bv5bcQDgz1W8",
    "outputId": "16d58d73-bf99-43e6-d11a-499364a71f7b"
   },
   "outputs": [
    {
     "data": {
      "text/plain": [
       "(5110, 12)"
      ]
     },
     "execution_count": 4,
     "metadata": {},
     "output_type": "execute_result"
    }
   ],
   "source": [
    "stroke.shape"
   ]
  },
  {
   "cell_type": "code",
   "execution_count": 5,
   "metadata": {
    "colab": {
     "base_uri": "https://localhost:8080/"
    },
    "id": "xuJl4CIyz259",
    "outputId": "6e80b5dc-8c72-4717-b734-7521fe90921a"
   },
   "outputs": [
    {
     "name": "stdout",
     "output_type": "stream",
     "text": [
      "<class 'pandas.core.frame.DataFrame'>\n",
      "RangeIndex: 5110 entries, 0 to 5109\n",
      "Data columns (total 12 columns):\n",
      " #   Column             Non-Null Count  Dtype  \n",
      "---  ------             --------------  -----  \n",
      " 0   id                 5110 non-null   int64  \n",
      " 1   gender             5110 non-null   object \n",
      " 2   age                5110 non-null   float64\n",
      " 3   hypertension       5110 non-null   int64  \n",
      " 4   heart_disease      5110 non-null   int64  \n",
      " 5   ever_married       5110 non-null   object \n",
      " 6   work_type          5110 non-null   object \n",
      " 7   Residence_type     5110 non-null   object \n",
      " 8   avg_glucose_level  5110 non-null   float64\n",
      " 9   bmi                4909 non-null   float64\n",
      " 10  smoking_status     5110 non-null   object \n",
      " 11  stroke             5110 non-null   int64  \n",
      "dtypes: float64(3), int64(4), object(5)\n",
      "memory usage: 479.2+ KB\n"
     ]
    }
   ],
   "source": [
    "stroke.info()"
   ]
  },
  {
   "cell_type": "code",
   "execution_count": 6,
   "metadata": {
    "colab": {
     "base_uri": "https://localhost:8080/",
     "height": 0
    },
    "id": "6p8cJGT1z4FP",
    "outputId": "56e12642-89cb-4495-ebe5-09557cc3d6ab"
   },
   "outputs": [
    {
     "data": {
      "text/html": [
       "\n",
       "  <div id=\"df-6971cc30-282d-496b-a7f2-dae41b06ff6d\">\n",
       "    <div class=\"colab-df-container\">\n",
       "      <div>\n",
       "<style scoped>\n",
       "    .dataframe tbody tr th:only-of-type {\n",
       "        vertical-align: middle;\n",
       "    }\n",
       "\n",
       "    .dataframe tbody tr th {\n",
       "        vertical-align: top;\n",
       "    }\n",
       "\n",
       "    .dataframe thead th {\n",
       "        text-align: right;\n",
       "    }\n",
       "</style>\n",
       "<table border=\"1\" class=\"dataframe\">\n",
       "  <thead>\n",
       "    <tr style=\"text-align: right;\">\n",
       "      <th></th>\n",
       "      <th>id</th>\n",
       "      <th>gender</th>\n",
       "      <th>age</th>\n",
       "      <th>hypertension</th>\n",
       "      <th>heart_disease</th>\n",
       "      <th>ever_married</th>\n",
       "      <th>work_type</th>\n",
       "      <th>Residence_type</th>\n",
       "      <th>avg_glucose_level</th>\n",
       "      <th>bmi</th>\n",
       "      <th>smoking_status</th>\n",
       "      <th>stroke</th>\n",
       "    </tr>\n",
       "  </thead>\n",
       "  <tbody>\n",
       "    <tr>\n",
       "      <th>0</th>\n",
       "      <td>9046</td>\n",
       "      <td>Male</td>\n",
       "      <td>67.0</td>\n",
       "      <td>0</td>\n",
       "      <td>1</td>\n",
       "      <td>Yes</td>\n",
       "      <td>Private</td>\n",
       "      <td>Urban</td>\n",
       "      <td>228.69</td>\n",
       "      <td>36.6</td>\n",
       "      <td>formerly smoked</td>\n",
       "      <td>1</td>\n",
       "    </tr>\n",
       "    <tr>\n",
       "      <th>1</th>\n",
       "      <td>51676</td>\n",
       "      <td>Female</td>\n",
       "      <td>61.0</td>\n",
       "      <td>0</td>\n",
       "      <td>0</td>\n",
       "      <td>Yes</td>\n",
       "      <td>Self-employed</td>\n",
       "      <td>Rural</td>\n",
       "      <td>202.21</td>\n",
       "      <td>NaN</td>\n",
       "      <td>never smoked</td>\n",
       "      <td>1</td>\n",
       "    </tr>\n",
       "    <tr>\n",
       "      <th>2</th>\n",
       "      <td>31112</td>\n",
       "      <td>Male</td>\n",
       "      <td>80.0</td>\n",
       "      <td>0</td>\n",
       "      <td>1</td>\n",
       "      <td>Yes</td>\n",
       "      <td>Private</td>\n",
       "      <td>Rural</td>\n",
       "      <td>105.92</td>\n",
       "      <td>32.5</td>\n",
       "      <td>never smoked</td>\n",
       "      <td>1</td>\n",
       "    </tr>\n",
       "    <tr>\n",
       "      <th>3</th>\n",
       "      <td>60182</td>\n",
       "      <td>Female</td>\n",
       "      <td>49.0</td>\n",
       "      <td>0</td>\n",
       "      <td>0</td>\n",
       "      <td>Yes</td>\n",
       "      <td>Private</td>\n",
       "      <td>Urban</td>\n",
       "      <td>171.23</td>\n",
       "      <td>34.4</td>\n",
       "      <td>smokes</td>\n",
       "      <td>1</td>\n",
       "    </tr>\n",
       "    <tr>\n",
       "      <th>4</th>\n",
       "      <td>1665</td>\n",
       "      <td>Female</td>\n",
       "      <td>79.0</td>\n",
       "      <td>1</td>\n",
       "      <td>0</td>\n",
       "      <td>Yes</td>\n",
       "      <td>Self-employed</td>\n",
       "      <td>Rural</td>\n",
       "      <td>174.12</td>\n",
       "      <td>24.0</td>\n",
       "      <td>never smoked</td>\n",
       "      <td>1</td>\n",
       "    </tr>\n",
       "  </tbody>\n",
       "</table>\n",
       "</div>\n",
       "      <button class=\"colab-df-convert\" onclick=\"convertToInteractive('df-6971cc30-282d-496b-a7f2-dae41b06ff6d')\"\n",
       "              title=\"Convert this dataframe to an interactive table.\"\n",
       "              style=\"display:none;\">\n",
       "        \n",
       "  <svg xmlns=\"http://www.w3.org/2000/svg\" height=\"24px\"viewBox=\"0 0 24 24\"\n",
       "       width=\"24px\">\n",
       "    <path d=\"M0 0h24v24H0V0z\" fill=\"none\"/>\n",
       "    <path d=\"M18.56 5.44l.94 2.06.94-2.06 2.06-.94-2.06-.94-.94-2.06-.94 2.06-2.06.94zm-11 1L8.5 8.5l.94-2.06 2.06-.94-2.06-.94L8.5 2.5l-.94 2.06-2.06.94zm10 10l.94 2.06.94-2.06 2.06-.94-2.06-.94-.94-2.06-.94 2.06-2.06.94z\"/><path d=\"M17.41 7.96l-1.37-1.37c-.4-.4-.92-.59-1.43-.59-.52 0-1.04.2-1.43.59L10.3 9.45l-7.72 7.72c-.78.78-.78 2.05 0 2.83L4 21.41c.39.39.9.59 1.41.59.51 0 1.02-.2 1.41-.59l7.78-7.78 2.81-2.81c.8-.78.8-2.07 0-2.86zM5.41 20L4 18.59l7.72-7.72 1.47 1.35L5.41 20z\"/>\n",
       "  </svg>\n",
       "      </button>\n",
       "      \n",
       "  <style>\n",
       "    .colab-df-container {\n",
       "      display:flex;\n",
       "      flex-wrap:wrap;\n",
       "      gap: 12px;\n",
       "    }\n",
       "\n",
       "    .colab-df-convert {\n",
       "      background-color: #E8F0FE;\n",
       "      border: none;\n",
       "      border-radius: 50%;\n",
       "      cursor: pointer;\n",
       "      display: none;\n",
       "      fill: #1967D2;\n",
       "      height: 32px;\n",
       "      padding: 0 0 0 0;\n",
       "      width: 32px;\n",
       "    }\n",
       "\n",
       "    .colab-df-convert:hover {\n",
       "      background-color: #E2EBFA;\n",
       "      box-shadow: 0px 1px 2px rgba(60, 64, 67, 0.3), 0px 1px 3px 1px rgba(60, 64, 67, 0.15);\n",
       "      fill: #174EA6;\n",
       "    }\n",
       "\n",
       "    [theme=dark] .colab-df-convert {\n",
       "      background-color: #3B4455;\n",
       "      fill: #D2E3FC;\n",
       "    }\n",
       "\n",
       "    [theme=dark] .colab-df-convert:hover {\n",
       "      background-color: #434B5C;\n",
       "      box-shadow: 0px 1px 3px 1px rgba(0, 0, 0, 0.15);\n",
       "      filter: drop-shadow(0px 1px 2px rgba(0, 0, 0, 0.3));\n",
       "      fill: #FFFFFF;\n",
       "    }\n",
       "  </style>\n",
       "\n",
       "      <script>\n",
       "        const buttonEl =\n",
       "          document.querySelector('#df-6971cc30-282d-496b-a7f2-dae41b06ff6d button.colab-df-convert');\n",
       "        buttonEl.style.display =\n",
       "          google.colab.kernel.accessAllowed ? 'block' : 'none';\n",
       "\n",
       "        async function convertToInteractive(key) {\n",
       "          const element = document.querySelector('#df-6971cc30-282d-496b-a7f2-dae41b06ff6d');\n",
       "          const dataTable =\n",
       "            await google.colab.kernel.invokeFunction('convertToInteractive',\n",
       "                                                     [key], {});\n",
       "          if (!dataTable) return;\n",
       "\n",
       "          const docLinkHtml = 'Like what you see? Visit the ' +\n",
       "            '<a target=\"_blank\" href=https://colab.research.google.com/notebooks/data_table.ipynb>data table notebook</a>'\n",
       "            + ' to learn more about interactive tables.';\n",
       "          element.innerHTML = '';\n",
       "          dataTable['output_type'] = 'display_data';\n",
       "          await google.colab.output.renderOutput(dataTable, element);\n",
       "          const docLink = document.createElement('div');\n",
       "          docLink.innerHTML = docLinkHtml;\n",
       "          element.appendChild(docLink);\n",
       "        }\n",
       "      </script>\n",
       "    </div>\n",
       "  </div>\n",
       "  "
      ],
      "text/plain": [
       "      id  gender   age  hypertension  heart_disease ever_married  \\\n",
       "0   9046    Male  67.0             0              1          Yes   \n",
       "1  51676  Female  61.0             0              0          Yes   \n",
       "2  31112    Male  80.0             0              1          Yes   \n",
       "3  60182  Female  49.0             0              0          Yes   \n",
       "4   1665  Female  79.0             1              0          Yes   \n",
       "\n",
       "       work_type Residence_type  avg_glucose_level   bmi   smoking_status  \\\n",
       "0        Private          Urban             228.69  36.6  formerly smoked   \n",
       "1  Self-employed          Rural             202.21   NaN     never smoked   \n",
       "2        Private          Rural             105.92  32.5     never smoked   \n",
       "3        Private          Urban             171.23  34.4           smokes   \n",
       "4  Self-employed          Rural             174.12  24.0     never smoked   \n",
       "\n",
       "   stroke  \n",
       "0       1  \n",
       "1       1  \n",
       "2       1  \n",
       "3       1  \n",
       "4       1  "
      ]
     },
     "execution_count": 6,
     "metadata": {},
     "output_type": "execute_result"
    }
   ],
   "source": [
    "stroke.head()"
   ]
  },
  {
   "cell_type": "code",
   "execution_count": 7,
   "metadata": {
    "colab": {
     "base_uri": "https://localhost:8080/",
     "height": 0
    },
    "id": "iiAFwpHuz5X4",
    "outputId": "fde16f56-ca8d-4eee-939a-a37ccd5ab79b"
   },
   "outputs": [
    {
     "data": {
      "text/html": [
       "\n",
       "  <div id=\"df-69d530dd-eebf-495d-81c8-d7ef80f2f8d1\">\n",
       "    <div class=\"colab-df-container\">\n",
       "      <div>\n",
       "<style scoped>\n",
       "    .dataframe tbody tr th:only-of-type {\n",
       "        vertical-align: middle;\n",
       "    }\n",
       "\n",
       "    .dataframe tbody tr th {\n",
       "        vertical-align: top;\n",
       "    }\n",
       "\n",
       "    .dataframe thead th {\n",
       "        text-align: right;\n",
       "    }\n",
       "</style>\n",
       "<table border=\"1\" class=\"dataframe\">\n",
       "  <thead>\n",
       "    <tr style=\"text-align: right;\">\n",
       "      <th></th>\n",
       "      <th>id</th>\n",
       "      <th>gender</th>\n",
       "      <th>age</th>\n",
       "      <th>hypertension</th>\n",
       "      <th>heart_disease</th>\n",
       "      <th>ever_married</th>\n",
       "      <th>work_type</th>\n",
       "      <th>Residence_type</th>\n",
       "      <th>avg_glucose_level</th>\n",
       "      <th>bmi</th>\n",
       "      <th>smoking_status</th>\n",
       "      <th>stroke</th>\n",
       "    </tr>\n",
       "  </thead>\n",
       "  <tbody>\n",
       "    <tr>\n",
       "      <th>5105</th>\n",
       "      <td>18234</td>\n",
       "      <td>Female</td>\n",
       "      <td>80.0</td>\n",
       "      <td>1</td>\n",
       "      <td>0</td>\n",
       "      <td>Yes</td>\n",
       "      <td>Private</td>\n",
       "      <td>Urban</td>\n",
       "      <td>83.75</td>\n",
       "      <td>NaN</td>\n",
       "      <td>never smoked</td>\n",
       "      <td>0</td>\n",
       "    </tr>\n",
       "    <tr>\n",
       "      <th>5106</th>\n",
       "      <td>44873</td>\n",
       "      <td>Female</td>\n",
       "      <td>81.0</td>\n",
       "      <td>0</td>\n",
       "      <td>0</td>\n",
       "      <td>Yes</td>\n",
       "      <td>Self-employed</td>\n",
       "      <td>Urban</td>\n",
       "      <td>125.20</td>\n",
       "      <td>40.0</td>\n",
       "      <td>never smoked</td>\n",
       "      <td>0</td>\n",
       "    </tr>\n",
       "    <tr>\n",
       "      <th>5107</th>\n",
       "      <td>19723</td>\n",
       "      <td>Female</td>\n",
       "      <td>35.0</td>\n",
       "      <td>0</td>\n",
       "      <td>0</td>\n",
       "      <td>Yes</td>\n",
       "      <td>Self-employed</td>\n",
       "      <td>Rural</td>\n",
       "      <td>82.99</td>\n",
       "      <td>30.6</td>\n",
       "      <td>never smoked</td>\n",
       "      <td>0</td>\n",
       "    </tr>\n",
       "    <tr>\n",
       "      <th>5108</th>\n",
       "      <td>37544</td>\n",
       "      <td>Male</td>\n",
       "      <td>51.0</td>\n",
       "      <td>0</td>\n",
       "      <td>0</td>\n",
       "      <td>Yes</td>\n",
       "      <td>Private</td>\n",
       "      <td>Rural</td>\n",
       "      <td>166.29</td>\n",
       "      <td>25.6</td>\n",
       "      <td>formerly smoked</td>\n",
       "      <td>0</td>\n",
       "    </tr>\n",
       "    <tr>\n",
       "      <th>5109</th>\n",
       "      <td>44679</td>\n",
       "      <td>Female</td>\n",
       "      <td>44.0</td>\n",
       "      <td>0</td>\n",
       "      <td>0</td>\n",
       "      <td>Yes</td>\n",
       "      <td>Govt_job</td>\n",
       "      <td>Urban</td>\n",
       "      <td>85.28</td>\n",
       "      <td>26.2</td>\n",
       "      <td>Unknown</td>\n",
       "      <td>0</td>\n",
       "    </tr>\n",
       "  </tbody>\n",
       "</table>\n",
       "</div>\n",
       "      <button class=\"colab-df-convert\" onclick=\"convertToInteractive('df-69d530dd-eebf-495d-81c8-d7ef80f2f8d1')\"\n",
       "              title=\"Convert this dataframe to an interactive table.\"\n",
       "              style=\"display:none;\">\n",
       "        \n",
       "  <svg xmlns=\"http://www.w3.org/2000/svg\" height=\"24px\"viewBox=\"0 0 24 24\"\n",
       "       width=\"24px\">\n",
       "    <path d=\"M0 0h24v24H0V0z\" fill=\"none\"/>\n",
       "    <path d=\"M18.56 5.44l.94 2.06.94-2.06 2.06-.94-2.06-.94-.94-2.06-.94 2.06-2.06.94zm-11 1L8.5 8.5l.94-2.06 2.06-.94-2.06-.94L8.5 2.5l-.94 2.06-2.06.94zm10 10l.94 2.06.94-2.06 2.06-.94-2.06-.94-.94-2.06-.94 2.06-2.06.94z\"/><path d=\"M17.41 7.96l-1.37-1.37c-.4-.4-.92-.59-1.43-.59-.52 0-1.04.2-1.43.59L10.3 9.45l-7.72 7.72c-.78.78-.78 2.05 0 2.83L4 21.41c.39.39.9.59 1.41.59.51 0 1.02-.2 1.41-.59l7.78-7.78 2.81-2.81c.8-.78.8-2.07 0-2.86zM5.41 20L4 18.59l7.72-7.72 1.47 1.35L5.41 20z\"/>\n",
       "  </svg>\n",
       "      </button>\n",
       "      \n",
       "  <style>\n",
       "    .colab-df-container {\n",
       "      display:flex;\n",
       "      flex-wrap:wrap;\n",
       "      gap: 12px;\n",
       "    }\n",
       "\n",
       "    .colab-df-convert {\n",
       "      background-color: #E8F0FE;\n",
       "      border: none;\n",
       "      border-radius: 50%;\n",
       "      cursor: pointer;\n",
       "      display: none;\n",
       "      fill: #1967D2;\n",
       "      height: 32px;\n",
       "      padding: 0 0 0 0;\n",
       "      width: 32px;\n",
       "    }\n",
       "\n",
       "    .colab-df-convert:hover {\n",
       "      background-color: #E2EBFA;\n",
       "      box-shadow: 0px 1px 2px rgba(60, 64, 67, 0.3), 0px 1px 3px 1px rgba(60, 64, 67, 0.15);\n",
       "      fill: #174EA6;\n",
       "    }\n",
       "\n",
       "    [theme=dark] .colab-df-convert {\n",
       "      background-color: #3B4455;\n",
       "      fill: #D2E3FC;\n",
       "    }\n",
       "\n",
       "    [theme=dark] .colab-df-convert:hover {\n",
       "      background-color: #434B5C;\n",
       "      box-shadow: 0px 1px 3px 1px rgba(0, 0, 0, 0.15);\n",
       "      filter: drop-shadow(0px 1px 2px rgba(0, 0, 0, 0.3));\n",
       "      fill: #FFFFFF;\n",
       "    }\n",
       "  </style>\n",
       "\n",
       "      <script>\n",
       "        const buttonEl =\n",
       "          document.querySelector('#df-69d530dd-eebf-495d-81c8-d7ef80f2f8d1 button.colab-df-convert');\n",
       "        buttonEl.style.display =\n",
       "          google.colab.kernel.accessAllowed ? 'block' : 'none';\n",
       "\n",
       "        async function convertToInteractive(key) {\n",
       "          const element = document.querySelector('#df-69d530dd-eebf-495d-81c8-d7ef80f2f8d1');\n",
       "          const dataTable =\n",
       "            await google.colab.kernel.invokeFunction('convertToInteractive',\n",
       "                                                     [key], {});\n",
       "          if (!dataTable) return;\n",
       "\n",
       "          const docLinkHtml = 'Like what you see? Visit the ' +\n",
       "            '<a target=\"_blank\" href=https://colab.research.google.com/notebooks/data_table.ipynb>data table notebook</a>'\n",
       "            + ' to learn more about interactive tables.';\n",
       "          element.innerHTML = '';\n",
       "          dataTable['output_type'] = 'display_data';\n",
       "          await google.colab.output.renderOutput(dataTable, element);\n",
       "          const docLink = document.createElement('div');\n",
       "          docLink.innerHTML = docLinkHtml;\n",
       "          element.appendChild(docLink);\n",
       "        }\n",
       "      </script>\n",
       "    </div>\n",
       "  </div>\n",
       "  "
      ],
      "text/plain": [
       "         id  gender   age  hypertension  heart_disease ever_married  \\\n",
       "5105  18234  Female  80.0             1              0          Yes   \n",
       "5106  44873  Female  81.0             0              0          Yes   \n",
       "5107  19723  Female  35.0             0              0          Yes   \n",
       "5108  37544    Male  51.0             0              0          Yes   \n",
       "5109  44679  Female  44.0             0              0          Yes   \n",
       "\n",
       "          work_type Residence_type  avg_glucose_level   bmi   smoking_status  \\\n",
       "5105        Private          Urban              83.75   NaN     never smoked   \n",
       "5106  Self-employed          Urban             125.20  40.0     never smoked   \n",
       "5107  Self-employed          Rural              82.99  30.6     never smoked   \n",
       "5108        Private          Rural             166.29  25.6  formerly smoked   \n",
       "5109       Govt_job          Urban              85.28  26.2          Unknown   \n",
       "\n",
       "      stroke  \n",
       "5105       0  \n",
       "5106       0  \n",
       "5107       0  \n",
       "5108       0  \n",
       "5109       0  "
      ]
     },
     "execution_count": 7,
     "metadata": {},
     "output_type": "execute_result"
    }
   ],
   "source": [
    "stroke.tail()"
   ]
  },
  {
   "cell_type": "markdown",
   "metadata": {
    "id": "Xk-vKrcJ77xA"
   },
   "source": [
    "- 연속형 변수"
   ]
  },
  {
   "cell_type": "code",
   "execution_count": 8,
   "metadata": {
    "id": "ZErAiyslz6ja"
   },
   "outputs": [],
   "source": [
    "sample1 = stroke[[\"age\", \"bmi\", \"avg_glucose_level\"]]\n",
    "\n",
    "def num_desc(data):\n",
    "    df = data.describe().T\n",
    "    \n",
    "    df1 = data.isnull().sum()\n",
    "    df1.name = \"missing\"\n",
    "    \n",
    "    df2 = data.skew()\n",
    "    df2.name = \"skewness\"\n",
    "    \n",
    "    df3 = data.kurt()\n",
    "    df3.name = \"kurtosis\"\n",
    "\n",
    "    df4 = data.median()\n",
    "    df4.name = \"median\"\n",
    "    \n",
    "    df = pd.concat([df, df1, df2, df3, df4], axis=1)\n",
    "    df[\"total\"] = df[\"count\"] + df[\"missing\"]\n",
    "    \n",
    "    order = [\"total\", \"count\", \"missing\", \"mean\", \"median\", \"std\", \"skewness\", \"kurtosis\", \"min\", \"max\", \"25%\", \"75%\"]\n",
    "        \n",
    "    num_df = df[order]\n",
    "    num_df = num_df.round(2)\n",
    "    \n",
    "    return num_df"
   ]
  },
  {
   "cell_type": "code",
   "execution_count": 9,
   "metadata": {
    "colab": {
     "base_uri": "https://localhost:8080/",
     "height": 0
    },
    "id": "plLZsrZBz7oq",
    "outputId": "299f0dc8-3200-4a74-fc2f-07c177173b32"
   },
   "outputs": [
    {
     "data": {
      "text/html": [
       "\n",
       "  <div id=\"df-d2e7a165-1692-4879-8090-16a80ca6c835\">\n",
       "    <div class=\"colab-df-container\">\n",
       "      <div>\n",
       "<style scoped>\n",
       "    .dataframe tbody tr th:only-of-type {\n",
       "        vertical-align: middle;\n",
       "    }\n",
       "\n",
       "    .dataframe tbody tr th {\n",
       "        vertical-align: top;\n",
       "    }\n",
       "\n",
       "    .dataframe thead th {\n",
       "        text-align: right;\n",
       "    }\n",
       "</style>\n",
       "<table border=\"1\" class=\"dataframe\">\n",
       "  <thead>\n",
       "    <tr style=\"text-align: right;\">\n",
       "      <th></th>\n",
       "      <th>total</th>\n",
       "      <th>count</th>\n",
       "      <th>missing</th>\n",
       "      <th>mean</th>\n",
       "      <th>median</th>\n",
       "      <th>std</th>\n",
       "      <th>skewness</th>\n",
       "      <th>kurtosis</th>\n",
       "      <th>min</th>\n",
       "      <th>max</th>\n",
       "      <th>25%</th>\n",
       "      <th>75%</th>\n",
       "    </tr>\n",
       "  </thead>\n",
       "  <tbody>\n",
       "    <tr>\n",
       "      <th>age</th>\n",
       "      <td>5110.0</td>\n",
       "      <td>5110.0</td>\n",
       "      <td>0</td>\n",
       "      <td>43.23</td>\n",
       "      <td>45.00</td>\n",
       "      <td>22.61</td>\n",
       "      <td>-0.14</td>\n",
       "      <td>-0.99</td>\n",
       "      <td>0.08</td>\n",
       "      <td>82.00</td>\n",
       "      <td>25.00</td>\n",
       "      <td>61.00</td>\n",
       "    </tr>\n",
       "    <tr>\n",
       "      <th>bmi</th>\n",
       "      <td>5110.0</td>\n",
       "      <td>4909.0</td>\n",
       "      <td>201</td>\n",
       "      <td>28.89</td>\n",
       "      <td>28.10</td>\n",
       "      <td>7.85</td>\n",
       "      <td>1.06</td>\n",
       "      <td>3.36</td>\n",
       "      <td>10.30</td>\n",
       "      <td>97.60</td>\n",
       "      <td>23.50</td>\n",
       "      <td>33.10</td>\n",
       "    </tr>\n",
       "    <tr>\n",
       "      <th>avg_glucose_level</th>\n",
       "      <td>5110.0</td>\n",
       "      <td>5110.0</td>\n",
       "      <td>0</td>\n",
       "      <td>106.15</td>\n",
       "      <td>91.88</td>\n",
       "      <td>45.28</td>\n",
       "      <td>1.57</td>\n",
       "      <td>1.68</td>\n",
       "      <td>55.12</td>\n",
       "      <td>271.74</td>\n",
       "      <td>77.24</td>\n",
       "      <td>114.09</td>\n",
       "    </tr>\n",
       "  </tbody>\n",
       "</table>\n",
       "</div>\n",
       "      <button class=\"colab-df-convert\" onclick=\"convertToInteractive('df-d2e7a165-1692-4879-8090-16a80ca6c835')\"\n",
       "              title=\"Convert this dataframe to an interactive table.\"\n",
       "              style=\"display:none;\">\n",
       "        \n",
       "  <svg xmlns=\"http://www.w3.org/2000/svg\" height=\"24px\"viewBox=\"0 0 24 24\"\n",
       "       width=\"24px\">\n",
       "    <path d=\"M0 0h24v24H0V0z\" fill=\"none\"/>\n",
       "    <path d=\"M18.56 5.44l.94 2.06.94-2.06 2.06-.94-2.06-.94-.94-2.06-.94 2.06-2.06.94zm-11 1L8.5 8.5l.94-2.06 2.06-.94-2.06-.94L8.5 2.5l-.94 2.06-2.06.94zm10 10l.94 2.06.94-2.06 2.06-.94-2.06-.94-.94-2.06-.94 2.06-2.06.94z\"/><path d=\"M17.41 7.96l-1.37-1.37c-.4-.4-.92-.59-1.43-.59-.52 0-1.04.2-1.43.59L10.3 9.45l-7.72 7.72c-.78.78-.78 2.05 0 2.83L4 21.41c.39.39.9.59 1.41.59.51 0 1.02-.2 1.41-.59l7.78-7.78 2.81-2.81c.8-.78.8-2.07 0-2.86zM5.41 20L4 18.59l7.72-7.72 1.47 1.35L5.41 20z\"/>\n",
       "  </svg>\n",
       "      </button>\n",
       "      \n",
       "  <style>\n",
       "    .colab-df-container {\n",
       "      display:flex;\n",
       "      flex-wrap:wrap;\n",
       "      gap: 12px;\n",
       "    }\n",
       "\n",
       "    .colab-df-convert {\n",
       "      background-color: #E8F0FE;\n",
       "      border: none;\n",
       "      border-radius: 50%;\n",
       "      cursor: pointer;\n",
       "      display: none;\n",
       "      fill: #1967D2;\n",
       "      height: 32px;\n",
       "      padding: 0 0 0 0;\n",
       "      width: 32px;\n",
       "    }\n",
       "\n",
       "    .colab-df-convert:hover {\n",
       "      background-color: #E2EBFA;\n",
       "      box-shadow: 0px 1px 2px rgba(60, 64, 67, 0.3), 0px 1px 3px 1px rgba(60, 64, 67, 0.15);\n",
       "      fill: #174EA6;\n",
       "    }\n",
       "\n",
       "    [theme=dark] .colab-df-convert {\n",
       "      background-color: #3B4455;\n",
       "      fill: #D2E3FC;\n",
       "    }\n",
       "\n",
       "    [theme=dark] .colab-df-convert:hover {\n",
       "      background-color: #434B5C;\n",
       "      box-shadow: 0px 1px 3px 1px rgba(0, 0, 0, 0.15);\n",
       "      filter: drop-shadow(0px 1px 2px rgba(0, 0, 0, 0.3));\n",
       "      fill: #FFFFFF;\n",
       "    }\n",
       "  </style>\n",
       "\n",
       "      <script>\n",
       "        const buttonEl =\n",
       "          document.querySelector('#df-d2e7a165-1692-4879-8090-16a80ca6c835 button.colab-df-convert');\n",
       "        buttonEl.style.display =\n",
       "          google.colab.kernel.accessAllowed ? 'block' : 'none';\n",
       "\n",
       "        async function convertToInteractive(key) {\n",
       "          const element = document.querySelector('#df-d2e7a165-1692-4879-8090-16a80ca6c835');\n",
       "          const dataTable =\n",
       "            await google.colab.kernel.invokeFunction('convertToInteractive',\n",
       "                                                     [key], {});\n",
       "          if (!dataTable) return;\n",
       "\n",
       "          const docLinkHtml = 'Like what you see? Visit the ' +\n",
       "            '<a target=\"_blank\" href=https://colab.research.google.com/notebooks/data_table.ipynb>data table notebook</a>'\n",
       "            + ' to learn more about interactive tables.';\n",
       "          element.innerHTML = '';\n",
       "          dataTable['output_type'] = 'display_data';\n",
       "          await google.colab.output.renderOutput(dataTable, element);\n",
       "          const docLink = document.createElement('div');\n",
       "          docLink.innerHTML = docLinkHtml;\n",
       "          element.appendChild(docLink);\n",
       "        }\n",
       "      </script>\n",
       "    </div>\n",
       "  </div>\n",
       "  "
      ],
      "text/plain": [
       "                    total   count  missing    mean  median    std  skewness  \\\n",
       "age                5110.0  5110.0        0   43.23   45.00  22.61     -0.14   \n",
       "bmi                5110.0  4909.0      201   28.89   28.10   7.85      1.06   \n",
       "avg_glucose_level  5110.0  5110.0        0  106.15   91.88  45.28      1.57   \n",
       "\n",
       "                   kurtosis    min     max    25%     75%  \n",
       "age                   -0.99   0.08   82.00  25.00   61.00  \n",
       "bmi                    3.36  10.30   97.60  23.50   33.10  \n",
       "avg_glucose_level      1.68  55.12  271.74  77.24  114.09  "
      ]
     },
     "execution_count": 9,
     "metadata": {},
     "output_type": "execute_result"
    }
   ],
   "source": [
    "num_desc(sample1)"
   ]
  },
  {
   "cell_type": "markdown",
   "metadata": {
    "id": "s13a39NA79mq"
   },
   "source": [
    "- 범주형 변수"
   ]
  },
  {
   "cell_type": "code",
   "execution_count": 10,
   "metadata": {
    "id": "VxJMrSRqz80y"
   },
   "outputs": [],
   "source": [
    "def cat_df(data, col):\n",
    "    cat_df = data[col].value_counts(dropna=False).to_frame().sort_index(ascending=True).rename(columns={col:\"count\"}).reset_index()\n",
    "    cat_df = cat_df.rename(columns={\"index\":col})\n",
    "\n",
    "    return cat_df"
   ]
  },
  {
   "cell_type": "code",
   "execution_count": 11,
   "metadata": {
    "colab": {
     "base_uri": "https://localhost:8080/",
     "height": 0
    },
    "id": "V9VmicDsz9z_",
    "outputId": "e1363cb8-3e69-440e-aafb-06a6d16284df"
   },
   "outputs": [
    {
     "data": {
      "text/html": [
       "\n",
       "  <div id=\"df-15a961e0-4f7a-489c-8728-73054a2e4b9a\">\n",
       "    <div class=\"colab-df-container\">\n",
       "      <div>\n",
       "<style scoped>\n",
       "    .dataframe tbody tr th:only-of-type {\n",
       "        vertical-align: middle;\n",
       "    }\n",
       "\n",
       "    .dataframe tbody tr th {\n",
       "        vertical-align: top;\n",
       "    }\n",
       "\n",
       "    .dataframe thead th {\n",
       "        text-align: right;\n",
       "    }\n",
       "</style>\n",
       "<table border=\"1\" class=\"dataframe\">\n",
       "  <thead>\n",
       "    <tr style=\"text-align: right;\">\n",
       "      <th></th>\n",
       "      <th>gender</th>\n",
       "      <th>count</th>\n",
       "    </tr>\n",
       "  </thead>\n",
       "  <tbody>\n",
       "    <tr>\n",
       "      <th>0</th>\n",
       "      <td>Female</td>\n",
       "      <td>2994</td>\n",
       "    </tr>\n",
       "    <tr>\n",
       "      <th>1</th>\n",
       "      <td>Male</td>\n",
       "      <td>2115</td>\n",
       "    </tr>\n",
       "    <tr>\n",
       "      <th>2</th>\n",
       "      <td>Other</td>\n",
       "      <td>1</td>\n",
       "    </tr>\n",
       "  </tbody>\n",
       "</table>\n",
       "</div>\n",
       "      <button class=\"colab-df-convert\" onclick=\"convertToInteractive('df-15a961e0-4f7a-489c-8728-73054a2e4b9a')\"\n",
       "              title=\"Convert this dataframe to an interactive table.\"\n",
       "              style=\"display:none;\">\n",
       "        \n",
       "  <svg xmlns=\"http://www.w3.org/2000/svg\" height=\"24px\"viewBox=\"0 0 24 24\"\n",
       "       width=\"24px\">\n",
       "    <path d=\"M0 0h24v24H0V0z\" fill=\"none\"/>\n",
       "    <path d=\"M18.56 5.44l.94 2.06.94-2.06 2.06-.94-2.06-.94-.94-2.06-.94 2.06-2.06.94zm-11 1L8.5 8.5l.94-2.06 2.06-.94-2.06-.94L8.5 2.5l-.94 2.06-2.06.94zm10 10l.94 2.06.94-2.06 2.06-.94-2.06-.94-.94-2.06-.94 2.06-2.06.94z\"/><path d=\"M17.41 7.96l-1.37-1.37c-.4-.4-.92-.59-1.43-.59-.52 0-1.04.2-1.43.59L10.3 9.45l-7.72 7.72c-.78.78-.78 2.05 0 2.83L4 21.41c.39.39.9.59 1.41.59.51 0 1.02-.2 1.41-.59l7.78-7.78 2.81-2.81c.8-.78.8-2.07 0-2.86zM5.41 20L4 18.59l7.72-7.72 1.47 1.35L5.41 20z\"/>\n",
       "  </svg>\n",
       "      </button>\n",
       "      \n",
       "  <style>\n",
       "    .colab-df-container {\n",
       "      display:flex;\n",
       "      flex-wrap:wrap;\n",
       "      gap: 12px;\n",
       "    }\n",
       "\n",
       "    .colab-df-convert {\n",
       "      background-color: #E8F0FE;\n",
       "      border: none;\n",
       "      border-radius: 50%;\n",
       "      cursor: pointer;\n",
       "      display: none;\n",
       "      fill: #1967D2;\n",
       "      height: 32px;\n",
       "      padding: 0 0 0 0;\n",
       "      width: 32px;\n",
       "    }\n",
       "\n",
       "    .colab-df-convert:hover {\n",
       "      background-color: #E2EBFA;\n",
       "      box-shadow: 0px 1px 2px rgba(60, 64, 67, 0.3), 0px 1px 3px 1px rgba(60, 64, 67, 0.15);\n",
       "      fill: #174EA6;\n",
       "    }\n",
       "\n",
       "    [theme=dark] .colab-df-convert {\n",
       "      background-color: #3B4455;\n",
       "      fill: #D2E3FC;\n",
       "    }\n",
       "\n",
       "    [theme=dark] .colab-df-convert:hover {\n",
       "      background-color: #434B5C;\n",
       "      box-shadow: 0px 1px 3px 1px rgba(0, 0, 0, 0.15);\n",
       "      filter: drop-shadow(0px 1px 2px rgba(0, 0, 0, 0.3));\n",
       "      fill: #FFFFFF;\n",
       "    }\n",
       "  </style>\n",
       "\n",
       "      <script>\n",
       "        const buttonEl =\n",
       "          document.querySelector('#df-15a961e0-4f7a-489c-8728-73054a2e4b9a button.colab-df-convert');\n",
       "        buttonEl.style.display =\n",
       "          google.colab.kernel.accessAllowed ? 'block' : 'none';\n",
       "\n",
       "        async function convertToInteractive(key) {\n",
       "          const element = document.querySelector('#df-15a961e0-4f7a-489c-8728-73054a2e4b9a');\n",
       "          const dataTable =\n",
       "            await google.colab.kernel.invokeFunction('convertToInteractive',\n",
       "                                                     [key], {});\n",
       "          if (!dataTable) return;\n",
       "\n",
       "          const docLinkHtml = 'Like what you see? Visit the ' +\n",
       "            '<a target=\"_blank\" href=https://colab.research.google.com/notebooks/data_table.ipynb>data table notebook</a>'\n",
       "            + ' to learn more about interactive tables.';\n",
       "          element.innerHTML = '';\n",
       "          dataTable['output_type'] = 'display_data';\n",
       "          await google.colab.output.renderOutput(dataTable, element);\n",
       "          const docLink = document.createElement('div');\n",
       "          docLink.innerHTML = docLinkHtml;\n",
       "          element.appendChild(docLink);\n",
       "        }\n",
       "      </script>\n",
       "    </div>\n",
       "  </div>\n",
       "  "
      ],
      "text/plain": [
       "   gender  count\n",
       "0  Female   2994\n",
       "1    Male   2115\n",
       "2   Other      1"
      ]
     },
     "execution_count": 11,
     "metadata": {},
     "output_type": "execute_result"
    }
   ],
   "source": [
    "cat_df(stroke, \"gender\")"
   ]
  },
  {
   "cell_type": "code",
   "execution_count": 12,
   "metadata": {
    "colab": {
     "base_uri": "https://localhost:8080/",
     "height": 0
    },
    "id": "b_orObME0C8R",
    "outputId": "c664312e-44ee-4e2c-8f06-5c2581d8339e"
   },
   "outputs": [
    {
     "data": {
      "text/html": [
       "\n",
       "  <div id=\"df-7978296a-b5a5-4a08-b0b8-9b29f8bb18dd\">\n",
       "    <div class=\"colab-df-container\">\n",
       "      <div>\n",
       "<style scoped>\n",
       "    .dataframe tbody tr th:only-of-type {\n",
       "        vertical-align: middle;\n",
       "    }\n",
       "\n",
       "    .dataframe tbody tr th {\n",
       "        vertical-align: top;\n",
       "    }\n",
       "\n",
       "    .dataframe thead th {\n",
       "        text-align: right;\n",
       "    }\n",
       "</style>\n",
       "<table border=\"1\" class=\"dataframe\">\n",
       "  <thead>\n",
       "    <tr style=\"text-align: right;\">\n",
       "      <th></th>\n",
       "      <th>ever_married</th>\n",
       "      <th>count</th>\n",
       "    </tr>\n",
       "  </thead>\n",
       "  <tbody>\n",
       "    <tr>\n",
       "      <th>0</th>\n",
       "      <td>No</td>\n",
       "      <td>1757</td>\n",
       "    </tr>\n",
       "    <tr>\n",
       "      <th>1</th>\n",
       "      <td>Yes</td>\n",
       "      <td>3353</td>\n",
       "    </tr>\n",
       "  </tbody>\n",
       "</table>\n",
       "</div>\n",
       "      <button class=\"colab-df-convert\" onclick=\"convertToInteractive('df-7978296a-b5a5-4a08-b0b8-9b29f8bb18dd')\"\n",
       "              title=\"Convert this dataframe to an interactive table.\"\n",
       "              style=\"display:none;\">\n",
       "        \n",
       "  <svg xmlns=\"http://www.w3.org/2000/svg\" height=\"24px\"viewBox=\"0 0 24 24\"\n",
       "       width=\"24px\">\n",
       "    <path d=\"M0 0h24v24H0V0z\" fill=\"none\"/>\n",
       "    <path d=\"M18.56 5.44l.94 2.06.94-2.06 2.06-.94-2.06-.94-.94-2.06-.94 2.06-2.06.94zm-11 1L8.5 8.5l.94-2.06 2.06-.94-2.06-.94L8.5 2.5l-.94 2.06-2.06.94zm10 10l.94 2.06.94-2.06 2.06-.94-2.06-.94-.94-2.06-.94 2.06-2.06.94z\"/><path d=\"M17.41 7.96l-1.37-1.37c-.4-.4-.92-.59-1.43-.59-.52 0-1.04.2-1.43.59L10.3 9.45l-7.72 7.72c-.78.78-.78 2.05 0 2.83L4 21.41c.39.39.9.59 1.41.59.51 0 1.02-.2 1.41-.59l7.78-7.78 2.81-2.81c.8-.78.8-2.07 0-2.86zM5.41 20L4 18.59l7.72-7.72 1.47 1.35L5.41 20z\"/>\n",
       "  </svg>\n",
       "      </button>\n",
       "      \n",
       "  <style>\n",
       "    .colab-df-container {\n",
       "      display:flex;\n",
       "      flex-wrap:wrap;\n",
       "      gap: 12px;\n",
       "    }\n",
       "\n",
       "    .colab-df-convert {\n",
       "      background-color: #E8F0FE;\n",
       "      border: none;\n",
       "      border-radius: 50%;\n",
       "      cursor: pointer;\n",
       "      display: none;\n",
       "      fill: #1967D2;\n",
       "      height: 32px;\n",
       "      padding: 0 0 0 0;\n",
       "      width: 32px;\n",
       "    }\n",
       "\n",
       "    .colab-df-convert:hover {\n",
       "      background-color: #E2EBFA;\n",
       "      box-shadow: 0px 1px 2px rgba(60, 64, 67, 0.3), 0px 1px 3px 1px rgba(60, 64, 67, 0.15);\n",
       "      fill: #174EA6;\n",
       "    }\n",
       "\n",
       "    [theme=dark] .colab-df-convert {\n",
       "      background-color: #3B4455;\n",
       "      fill: #D2E3FC;\n",
       "    }\n",
       "\n",
       "    [theme=dark] .colab-df-convert:hover {\n",
       "      background-color: #434B5C;\n",
       "      box-shadow: 0px 1px 3px 1px rgba(0, 0, 0, 0.15);\n",
       "      filter: drop-shadow(0px 1px 2px rgba(0, 0, 0, 0.3));\n",
       "      fill: #FFFFFF;\n",
       "    }\n",
       "  </style>\n",
       "\n",
       "      <script>\n",
       "        const buttonEl =\n",
       "          document.querySelector('#df-7978296a-b5a5-4a08-b0b8-9b29f8bb18dd button.colab-df-convert');\n",
       "        buttonEl.style.display =\n",
       "          google.colab.kernel.accessAllowed ? 'block' : 'none';\n",
       "\n",
       "        async function convertToInteractive(key) {\n",
       "          const element = document.querySelector('#df-7978296a-b5a5-4a08-b0b8-9b29f8bb18dd');\n",
       "          const dataTable =\n",
       "            await google.colab.kernel.invokeFunction('convertToInteractive',\n",
       "                                                     [key], {});\n",
       "          if (!dataTable) return;\n",
       "\n",
       "          const docLinkHtml = 'Like what you see? Visit the ' +\n",
       "            '<a target=\"_blank\" href=https://colab.research.google.com/notebooks/data_table.ipynb>data table notebook</a>'\n",
       "            + ' to learn more about interactive tables.';\n",
       "          element.innerHTML = '';\n",
       "          dataTable['output_type'] = 'display_data';\n",
       "          await google.colab.output.renderOutput(dataTable, element);\n",
       "          const docLink = document.createElement('div');\n",
       "          docLink.innerHTML = docLinkHtml;\n",
       "          element.appendChild(docLink);\n",
       "        }\n",
       "      </script>\n",
       "    </div>\n",
       "  </div>\n",
       "  "
      ],
      "text/plain": [
       "  ever_married  count\n",
       "0           No   1757\n",
       "1          Yes   3353"
      ]
     },
     "execution_count": 12,
     "metadata": {},
     "output_type": "execute_result"
    }
   ],
   "source": [
    "cat_df(stroke, \"ever_married\")"
   ]
  },
  {
   "cell_type": "code",
   "execution_count": 13,
   "metadata": {
    "colab": {
     "base_uri": "https://localhost:8080/",
     "height": 0
    },
    "id": "DzxUjsuf0EEr",
    "outputId": "1d7aee45-1632-461a-bd2f-798b67c160d1"
   },
   "outputs": [
    {
     "data": {
      "text/html": [
       "\n",
       "  <div id=\"df-e042fcc8-df87-4fd1-b7b1-ec686726d50a\">\n",
       "    <div class=\"colab-df-container\">\n",
       "      <div>\n",
       "<style scoped>\n",
       "    .dataframe tbody tr th:only-of-type {\n",
       "        vertical-align: middle;\n",
       "    }\n",
       "\n",
       "    .dataframe tbody tr th {\n",
       "        vertical-align: top;\n",
       "    }\n",
       "\n",
       "    .dataframe thead th {\n",
       "        text-align: right;\n",
       "    }\n",
       "</style>\n",
       "<table border=\"1\" class=\"dataframe\">\n",
       "  <thead>\n",
       "    <tr style=\"text-align: right;\">\n",
       "      <th></th>\n",
       "      <th>work_type</th>\n",
       "      <th>count</th>\n",
       "    </tr>\n",
       "  </thead>\n",
       "  <tbody>\n",
       "    <tr>\n",
       "      <th>0</th>\n",
       "      <td>Govt_job</td>\n",
       "      <td>657</td>\n",
       "    </tr>\n",
       "    <tr>\n",
       "      <th>1</th>\n",
       "      <td>Never_worked</td>\n",
       "      <td>22</td>\n",
       "    </tr>\n",
       "    <tr>\n",
       "      <th>2</th>\n",
       "      <td>Private</td>\n",
       "      <td>2925</td>\n",
       "    </tr>\n",
       "    <tr>\n",
       "      <th>3</th>\n",
       "      <td>Self-employed</td>\n",
       "      <td>819</td>\n",
       "    </tr>\n",
       "    <tr>\n",
       "      <th>4</th>\n",
       "      <td>children</td>\n",
       "      <td>687</td>\n",
       "    </tr>\n",
       "  </tbody>\n",
       "</table>\n",
       "</div>\n",
       "      <button class=\"colab-df-convert\" onclick=\"convertToInteractive('df-e042fcc8-df87-4fd1-b7b1-ec686726d50a')\"\n",
       "              title=\"Convert this dataframe to an interactive table.\"\n",
       "              style=\"display:none;\">\n",
       "        \n",
       "  <svg xmlns=\"http://www.w3.org/2000/svg\" height=\"24px\"viewBox=\"0 0 24 24\"\n",
       "       width=\"24px\">\n",
       "    <path d=\"M0 0h24v24H0V0z\" fill=\"none\"/>\n",
       "    <path d=\"M18.56 5.44l.94 2.06.94-2.06 2.06-.94-2.06-.94-.94-2.06-.94 2.06-2.06.94zm-11 1L8.5 8.5l.94-2.06 2.06-.94-2.06-.94L8.5 2.5l-.94 2.06-2.06.94zm10 10l.94 2.06.94-2.06 2.06-.94-2.06-.94-.94-2.06-.94 2.06-2.06.94z\"/><path d=\"M17.41 7.96l-1.37-1.37c-.4-.4-.92-.59-1.43-.59-.52 0-1.04.2-1.43.59L10.3 9.45l-7.72 7.72c-.78.78-.78 2.05 0 2.83L4 21.41c.39.39.9.59 1.41.59.51 0 1.02-.2 1.41-.59l7.78-7.78 2.81-2.81c.8-.78.8-2.07 0-2.86zM5.41 20L4 18.59l7.72-7.72 1.47 1.35L5.41 20z\"/>\n",
       "  </svg>\n",
       "      </button>\n",
       "      \n",
       "  <style>\n",
       "    .colab-df-container {\n",
       "      display:flex;\n",
       "      flex-wrap:wrap;\n",
       "      gap: 12px;\n",
       "    }\n",
       "\n",
       "    .colab-df-convert {\n",
       "      background-color: #E8F0FE;\n",
       "      border: none;\n",
       "      border-radius: 50%;\n",
       "      cursor: pointer;\n",
       "      display: none;\n",
       "      fill: #1967D2;\n",
       "      height: 32px;\n",
       "      padding: 0 0 0 0;\n",
       "      width: 32px;\n",
       "    }\n",
       "\n",
       "    .colab-df-convert:hover {\n",
       "      background-color: #E2EBFA;\n",
       "      box-shadow: 0px 1px 2px rgba(60, 64, 67, 0.3), 0px 1px 3px 1px rgba(60, 64, 67, 0.15);\n",
       "      fill: #174EA6;\n",
       "    }\n",
       "\n",
       "    [theme=dark] .colab-df-convert {\n",
       "      background-color: #3B4455;\n",
       "      fill: #D2E3FC;\n",
       "    }\n",
       "\n",
       "    [theme=dark] .colab-df-convert:hover {\n",
       "      background-color: #434B5C;\n",
       "      box-shadow: 0px 1px 3px 1px rgba(0, 0, 0, 0.15);\n",
       "      filter: drop-shadow(0px 1px 2px rgba(0, 0, 0, 0.3));\n",
       "      fill: #FFFFFF;\n",
       "    }\n",
       "  </style>\n",
       "\n",
       "      <script>\n",
       "        const buttonEl =\n",
       "          document.querySelector('#df-e042fcc8-df87-4fd1-b7b1-ec686726d50a button.colab-df-convert');\n",
       "        buttonEl.style.display =\n",
       "          google.colab.kernel.accessAllowed ? 'block' : 'none';\n",
       "\n",
       "        async function convertToInteractive(key) {\n",
       "          const element = document.querySelector('#df-e042fcc8-df87-4fd1-b7b1-ec686726d50a');\n",
       "          const dataTable =\n",
       "            await google.colab.kernel.invokeFunction('convertToInteractive',\n",
       "                                                     [key], {});\n",
       "          if (!dataTable) return;\n",
       "\n",
       "          const docLinkHtml = 'Like what you see? Visit the ' +\n",
       "            '<a target=\"_blank\" href=https://colab.research.google.com/notebooks/data_table.ipynb>data table notebook</a>'\n",
       "            + ' to learn more about interactive tables.';\n",
       "          element.innerHTML = '';\n",
       "          dataTable['output_type'] = 'display_data';\n",
       "          await google.colab.output.renderOutput(dataTable, element);\n",
       "          const docLink = document.createElement('div');\n",
       "          docLink.innerHTML = docLinkHtml;\n",
       "          element.appendChild(docLink);\n",
       "        }\n",
       "      </script>\n",
       "    </div>\n",
       "  </div>\n",
       "  "
      ],
      "text/plain": [
       "       work_type  count\n",
       "0       Govt_job    657\n",
       "1   Never_worked     22\n",
       "2        Private   2925\n",
       "3  Self-employed    819\n",
       "4       children    687"
      ]
     },
     "execution_count": 13,
     "metadata": {},
     "output_type": "execute_result"
    }
   ],
   "source": [
    "cat_df(stroke, \"work_type\")"
   ]
  },
  {
   "cell_type": "code",
   "execution_count": 14,
   "metadata": {
    "colab": {
     "base_uri": "https://localhost:8080/",
     "height": 0
    },
    "id": "IwMSzzOs0FBZ",
    "outputId": "8eaf6754-af16-4693-a15a-f48f06b7aca3"
   },
   "outputs": [
    {
     "data": {
      "text/html": [
       "\n",
       "  <div id=\"df-de090f27-9032-4ce4-b0fc-da183a637efa\">\n",
       "    <div class=\"colab-df-container\">\n",
       "      <div>\n",
       "<style scoped>\n",
       "    .dataframe tbody tr th:only-of-type {\n",
       "        vertical-align: middle;\n",
       "    }\n",
       "\n",
       "    .dataframe tbody tr th {\n",
       "        vertical-align: top;\n",
       "    }\n",
       "\n",
       "    .dataframe thead th {\n",
       "        text-align: right;\n",
       "    }\n",
       "</style>\n",
       "<table border=\"1\" class=\"dataframe\">\n",
       "  <thead>\n",
       "    <tr style=\"text-align: right;\">\n",
       "      <th></th>\n",
       "      <th>Residence_type</th>\n",
       "      <th>count</th>\n",
       "    </tr>\n",
       "  </thead>\n",
       "  <tbody>\n",
       "    <tr>\n",
       "      <th>0</th>\n",
       "      <td>Rural</td>\n",
       "      <td>2514</td>\n",
       "    </tr>\n",
       "    <tr>\n",
       "      <th>1</th>\n",
       "      <td>Urban</td>\n",
       "      <td>2596</td>\n",
       "    </tr>\n",
       "  </tbody>\n",
       "</table>\n",
       "</div>\n",
       "      <button class=\"colab-df-convert\" onclick=\"convertToInteractive('df-de090f27-9032-4ce4-b0fc-da183a637efa')\"\n",
       "              title=\"Convert this dataframe to an interactive table.\"\n",
       "              style=\"display:none;\">\n",
       "        \n",
       "  <svg xmlns=\"http://www.w3.org/2000/svg\" height=\"24px\"viewBox=\"0 0 24 24\"\n",
       "       width=\"24px\">\n",
       "    <path d=\"M0 0h24v24H0V0z\" fill=\"none\"/>\n",
       "    <path d=\"M18.56 5.44l.94 2.06.94-2.06 2.06-.94-2.06-.94-.94-2.06-.94 2.06-2.06.94zm-11 1L8.5 8.5l.94-2.06 2.06-.94-2.06-.94L8.5 2.5l-.94 2.06-2.06.94zm10 10l.94 2.06.94-2.06 2.06-.94-2.06-.94-.94-2.06-.94 2.06-2.06.94z\"/><path d=\"M17.41 7.96l-1.37-1.37c-.4-.4-.92-.59-1.43-.59-.52 0-1.04.2-1.43.59L10.3 9.45l-7.72 7.72c-.78.78-.78 2.05 0 2.83L4 21.41c.39.39.9.59 1.41.59.51 0 1.02-.2 1.41-.59l7.78-7.78 2.81-2.81c.8-.78.8-2.07 0-2.86zM5.41 20L4 18.59l7.72-7.72 1.47 1.35L5.41 20z\"/>\n",
       "  </svg>\n",
       "      </button>\n",
       "      \n",
       "  <style>\n",
       "    .colab-df-container {\n",
       "      display:flex;\n",
       "      flex-wrap:wrap;\n",
       "      gap: 12px;\n",
       "    }\n",
       "\n",
       "    .colab-df-convert {\n",
       "      background-color: #E8F0FE;\n",
       "      border: none;\n",
       "      border-radius: 50%;\n",
       "      cursor: pointer;\n",
       "      display: none;\n",
       "      fill: #1967D2;\n",
       "      height: 32px;\n",
       "      padding: 0 0 0 0;\n",
       "      width: 32px;\n",
       "    }\n",
       "\n",
       "    .colab-df-convert:hover {\n",
       "      background-color: #E2EBFA;\n",
       "      box-shadow: 0px 1px 2px rgba(60, 64, 67, 0.3), 0px 1px 3px 1px rgba(60, 64, 67, 0.15);\n",
       "      fill: #174EA6;\n",
       "    }\n",
       "\n",
       "    [theme=dark] .colab-df-convert {\n",
       "      background-color: #3B4455;\n",
       "      fill: #D2E3FC;\n",
       "    }\n",
       "\n",
       "    [theme=dark] .colab-df-convert:hover {\n",
       "      background-color: #434B5C;\n",
       "      box-shadow: 0px 1px 3px 1px rgba(0, 0, 0, 0.15);\n",
       "      filter: drop-shadow(0px 1px 2px rgba(0, 0, 0, 0.3));\n",
       "      fill: #FFFFFF;\n",
       "    }\n",
       "  </style>\n",
       "\n",
       "      <script>\n",
       "        const buttonEl =\n",
       "          document.querySelector('#df-de090f27-9032-4ce4-b0fc-da183a637efa button.colab-df-convert');\n",
       "        buttonEl.style.display =\n",
       "          google.colab.kernel.accessAllowed ? 'block' : 'none';\n",
       "\n",
       "        async function convertToInteractive(key) {\n",
       "          const element = document.querySelector('#df-de090f27-9032-4ce4-b0fc-da183a637efa');\n",
       "          const dataTable =\n",
       "            await google.colab.kernel.invokeFunction('convertToInteractive',\n",
       "                                                     [key], {});\n",
       "          if (!dataTable) return;\n",
       "\n",
       "          const docLinkHtml = 'Like what you see? Visit the ' +\n",
       "            '<a target=\"_blank\" href=https://colab.research.google.com/notebooks/data_table.ipynb>data table notebook</a>'\n",
       "            + ' to learn more about interactive tables.';\n",
       "          element.innerHTML = '';\n",
       "          dataTable['output_type'] = 'display_data';\n",
       "          await google.colab.output.renderOutput(dataTable, element);\n",
       "          const docLink = document.createElement('div');\n",
       "          docLink.innerHTML = docLinkHtml;\n",
       "          element.appendChild(docLink);\n",
       "        }\n",
       "      </script>\n",
       "    </div>\n",
       "  </div>\n",
       "  "
      ],
      "text/plain": [
       "  Residence_type  count\n",
       "0          Rural   2514\n",
       "1          Urban   2596"
      ]
     },
     "execution_count": 14,
     "metadata": {},
     "output_type": "execute_result"
    }
   ],
   "source": [
    "cat_df(stroke, \"Residence_type\")"
   ]
  },
  {
   "cell_type": "code",
   "execution_count": 15,
   "metadata": {
    "colab": {
     "base_uri": "https://localhost:8080/",
     "height": 0
    },
    "id": "S_Hdi7Sf0GIZ",
    "outputId": "b6407129-a4c8-4870-eb01-12f28d6166ee"
   },
   "outputs": [
    {
     "data": {
      "text/html": [
       "\n",
       "  <div id=\"df-318ad649-d1a3-4b46-abea-765ed9ec2eac\">\n",
       "    <div class=\"colab-df-container\">\n",
       "      <div>\n",
       "<style scoped>\n",
       "    .dataframe tbody tr th:only-of-type {\n",
       "        vertical-align: middle;\n",
       "    }\n",
       "\n",
       "    .dataframe tbody tr th {\n",
       "        vertical-align: top;\n",
       "    }\n",
       "\n",
       "    .dataframe thead th {\n",
       "        text-align: right;\n",
       "    }\n",
       "</style>\n",
       "<table border=\"1\" class=\"dataframe\">\n",
       "  <thead>\n",
       "    <tr style=\"text-align: right;\">\n",
       "      <th></th>\n",
       "      <th>hypertension</th>\n",
       "      <th>count</th>\n",
       "    </tr>\n",
       "  </thead>\n",
       "  <tbody>\n",
       "    <tr>\n",
       "      <th>0</th>\n",
       "      <td>0</td>\n",
       "      <td>4612</td>\n",
       "    </tr>\n",
       "    <tr>\n",
       "      <th>1</th>\n",
       "      <td>1</td>\n",
       "      <td>498</td>\n",
       "    </tr>\n",
       "  </tbody>\n",
       "</table>\n",
       "</div>\n",
       "      <button class=\"colab-df-convert\" onclick=\"convertToInteractive('df-318ad649-d1a3-4b46-abea-765ed9ec2eac')\"\n",
       "              title=\"Convert this dataframe to an interactive table.\"\n",
       "              style=\"display:none;\">\n",
       "        \n",
       "  <svg xmlns=\"http://www.w3.org/2000/svg\" height=\"24px\"viewBox=\"0 0 24 24\"\n",
       "       width=\"24px\">\n",
       "    <path d=\"M0 0h24v24H0V0z\" fill=\"none\"/>\n",
       "    <path d=\"M18.56 5.44l.94 2.06.94-2.06 2.06-.94-2.06-.94-.94-2.06-.94 2.06-2.06.94zm-11 1L8.5 8.5l.94-2.06 2.06-.94-2.06-.94L8.5 2.5l-.94 2.06-2.06.94zm10 10l.94 2.06.94-2.06 2.06-.94-2.06-.94-.94-2.06-.94 2.06-2.06.94z\"/><path d=\"M17.41 7.96l-1.37-1.37c-.4-.4-.92-.59-1.43-.59-.52 0-1.04.2-1.43.59L10.3 9.45l-7.72 7.72c-.78.78-.78 2.05 0 2.83L4 21.41c.39.39.9.59 1.41.59.51 0 1.02-.2 1.41-.59l7.78-7.78 2.81-2.81c.8-.78.8-2.07 0-2.86zM5.41 20L4 18.59l7.72-7.72 1.47 1.35L5.41 20z\"/>\n",
       "  </svg>\n",
       "      </button>\n",
       "      \n",
       "  <style>\n",
       "    .colab-df-container {\n",
       "      display:flex;\n",
       "      flex-wrap:wrap;\n",
       "      gap: 12px;\n",
       "    }\n",
       "\n",
       "    .colab-df-convert {\n",
       "      background-color: #E8F0FE;\n",
       "      border: none;\n",
       "      border-radius: 50%;\n",
       "      cursor: pointer;\n",
       "      display: none;\n",
       "      fill: #1967D2;\n",
       "      height: 32px;\n",
       "      padding: 0 0 0 0;\n",
       "      width: 32px;\n",
       "    }\n",
       "\n",
       "    .colab-df-convert:hover {\n",
       "      background-color: #E2EBFA;\n",
       "      box-shadow: 0px 1px 2px rgba(60, 64, 67, 0.3), 0px 1px 3px 1px rgba(60, 64, 67, 0.15);\n",
       "      fill: #174EA6;\n",
       "    }\n",
       "\n",
       "    [theme=dark] .colab-df-convert {\n",
       "      background-color: #3B4455;\n",
       "      fill: #D2E3FC;\n",
       "    }\n",
       "\n",
       "    [theme=dark] .colab-df-convert:hover {\n",
       "      background-color: #434B5C;\n",
       "      box-shadow: 0px 1px 3px 1px rgba(0, 0, 0, 0.15);\n",
       "      filter: drop-shadow(0px 1px 2px rgba(0, 0, 0, 0.3));\n",
       "      fill: #FFFFFF;\n",
       "    }\n",
       "  </style>\n",
       "\n",
       "      <script>\n",
       "        const buttonEl =\n",
       "          document.querySelector('#df-318ad649-d1a3-4b46-abea-765ed9ec2eac button.colab-df-convert');\n",
       "        buttonEl.style.display =\n",
       "          google.colab.kernel.accessAllowed ? 'block' : 'none';\n",
       "\n",
       "        async function convertToInteractive(key) {\n",
       "          const element = document.querySelector('#df-318ad649-d1a3-4b46-abea-765ed9ec2eac');\n",
       "          const dataTable =\n",
       "            await google.colab.kernel.invokeFunction('convertToInteractive',\n",
       "                                                     [key], {});\n",
       "          if (!dataTable) return;\n",
       "\n",
       "          const docLinkHtml = 'Like what you see? Visit the ' +\n",
       "            '<a target=\"_blank\" href=https://colab.research.google.com/notebooks/data_table.ipynb>data table notebook</a>'\n",
       "            + ' to learn more about interactive tables.';\n",
       "          element.innerHTML = '';\n",
       "          dataTable['output_type'] = 'display_data';\n",
       "          await google.colab.output.renderOutput(dataTable, element);\n",
       "          const docLink = document.createElement('div');\n",
       "          docLink.innerHTML = docLinkHtml;\n",
       "          element.appendChild(docLink);\n",
       "        }\n",
       "      </script>\n",
       "    </div>\n",
       "  </div>\n",
       "  "
      ],
      "text/plain": [
       "   hypertension  count\n",
       "0             0   4612\n",
       "1             1    498"
      ]
     },
     "execution_count": 15,
     "metadata": {},
     "output_type": "execute_result"
    }
   ],
   "source": [
    "cat_df(stroke, \"hypertension\")"
   ]
  },
  {
   "cell_type": "code",
   "execution_count": 16,
   "metadata": {
    "colab": {
     "base_uri": "https://localhost:8080/",
     "height": 0
    },
    "id": "hv7wqr4Q0IIT",
    "outputId": "981d8591-a597-42d4-82c3-df72b1014591"
   },
   "outputs": [
    {
     "data": {
      "text/html": [
       "\n",
       "  <div id=\"df-ec8ebc2d-508d-4d81-b1f1-616a1c71e8ac\">\n",
       "    <div class=\"colab-df-container\">\n",
       "      <div>\n",
       "<style scoped>\n",
       "    .dataframe tbody tr th:only-of-type {\n",
       "        vertical-align: middle;\n",
       "    }\n",
       "\n",
       "    .dataframe tbody tr th {\n",
       "        vertical-align: top;\n",
       "    }\n",
       "\n",
       "    .dataframe thead th {\n",
       "        text-align: right;\n",
       "    }\n",
       "</style>\n",
       "<table border=\"1\" class=\"dataframe\">\n",
       "  <thead>\n",
       "    <tr style=\"text-align: right;\">\n",
       "      <th></th>\n",
       "      <th>heart_disease</th>\n",
       "      <th>count</th>\n",
       "    </tr>\n",
       "  </thead>\n",
       "  <tbody>\n",
       "    <tr>\n",
       "      <th>0</th>\n",
       "      <td>0</td>\n",
       "      <td>4834</td>\n",
       "    </tr>\n",
       "    <tr>\n",
       "      <th>1</th>\n",
       "      <td>1</td>\n",
       "      <td>276</td>\n",
       "    </tr>\n",
       "  </tbody>\n",
       "</table>\n",
       "</div>\n",
       "      <button class=\"colab-df-convert\" onclick=\"convertToInteractive('df-ec8ebc2d-508d-4d81-b1f1-616a1c71e8ac')\"\n",
       "              title=\"Convert this dataframe to an interactive table.\"\n",
       "              style=\"display:none;\">\n",
       "        \n",
       "  <svg xmlns=\"http://www.w3.org/2000/svg\" height=\"24px\"viewBox=\"0 0 24 24\"\n",
       "       width=\"24px\">\n",
       "    <path d=\"M0 0h24v24H0V0z\" fill=\"none\"/>\n",
       "    <path d=\"M18.56 5.44l.94 2.06.94-2.06 2.06-.94-2.06-.94-.94-2.06-.94 2.06-2.06.94zm-11 1L8.5 8.5l.94-2.06 2.06-.94-2.06-.94L8.5 2.5l-.94 2.06-2.06.94zm10 10l.94 2.06.94-2.06 2.06-.94-2.06-.94-.94-2.06-.94 2.06-2.06.94z\"/><path d=\"M17.41 7.96l-1.37-1.37c-.4-.4-.92-.59-1.43-.59-.52 0-1.04.2-1.43.59L10.3 9.45l-7.72 7.72c-.78.78-.78 2.05 0 2.83L4 21.41c.39.39.9.59 1.41.59.51 0 1.02-.2 1.41-.59l7.78-7.78 2.81-2.81c.8-.78.8-2.07 0-2.86zM5.41 20L4 18.59l7.72-7.72 1.47 1.35L5.41 20z\"/>\n",
       "  </svg>\n",
       "      </button>\n",
       "      \n",
       "  <style>\n",
       "    .colab-df-container {\n",
       "      display:flex;\n",
       "      flex-wrap:wrap;\n",
       "      gap: 12px;\n",
       "    }\n",
       "\n",
       "    .colab-df-convert {\n",
       "      background-color: #E8F0FE;\n",
       "      border: none;\n",
       "      border-radius: 50%;\n",
       "      cursor: pointer;\n",
       "      display: none;\n",
       "      fill: #1967D2;\n",
       "      height: 32px;\n",
       "      padding: 0 0 0 0;\n",
       "      width: 32px;\n",
       "    }\n",
       "\n",
       "    .colab-df-convert:hover {\n",
       "      background-color: #E2EBFA;\n",
       "      box-shadow: 0px 1px 2px rgba(60, 64, 67, 0.3), 0px 1px 3px 1px rgba(60, 64, 67, 0.15);\n",
       "      fill: #174EA6;\n",
       "    }\n",
       "\n",
       "    [theme=dark] .colab-df-convert {\n",
       "      background-color: #3B4455;\n",
       "      fill: #D2E3FC;\n",
       "    }\n",
       "\n",
       "    [theme=dark] .colab-df-convert:hover {\n",
       "      background-color: #434B5C;\n",
       "      box-shadow: 0px 1px 3px 1px rgba(0, 0, 0, 0.15);\n",
       "      filter: drop-shadow(0px 1px 2px rgba(0, 0, 0, 0.3));\n",
       "      fill: #FFFFFF;\n",
       "    }\n",
       "  </style>\n",
       "\n",
       "      <script>\n",
       "        const buttonEl =\n",
       "          document.querySelector('#df-ec8ebc2d-508d-4d81-b1f1-616a1c71e8ac button.colab-df-convert');\n",
       "        buttonEl.style.display =\n",
       "          google.colab.kernel.accessAllowed ? 'block' : 'none';\n",
       "\n",
       "        async function convertToInteractive(key) {\n",
       "          const element = document.querySelector('#df-ec8ebc2d-508d-4d81-b1f1-616a1c71e8ac');\n",
       "          const dataTable =\n",
       "            await google.colab.kernel.invokeFunction('convertToInteractive',\n",
       "                                                     [key], {});\n",
       "          if (!dataTable) return;\n",
       "\n",
       "          const docLinkHtml = 'Like what you see? Visit the ' +\n",
       "            '<a target=\"_blank\" href=https://colab.research.google.com/notebooks/data_table.ipynb>data table notebook</a>'\n",
       "            + ' to learn more about interactive tables.';\n",
       "          element.innerHTML = '';\n",
       "          dataTable['output_type'] = 'display_data';\n",
       "          await google.colab.output.renderOutput(dataTable, element);\n",
       "          const docLink = document.createElement('div');\n",
       "          docLink.innerHTML = docLinkHtml;\n",
       "          element.appendChild(docLink);\n",
       "        }\n",
       "      </script>\n",
       "    </div>\n",
       "  </div>\n",
       "  "
      ],
      "text/plain": [
       "   heart_disease  count\n",
       "0              0   4834\n",
       "1              1    276"
      ]
     },
     "execution_count": 16,
     "metadata": {},
     "output_type": "execute_result"
    }
   ],
   "source": [
    "cat_df(stroke, \"heart_disease\")"
   ]
  },
  {
   "cell_type": "markdown",
   "metadata": {
    "id": "Y1AG_EkC7_MF"
   },
   "source": [
    "## 결측치\n",
    "- bmi에 201개의 결측치 존재"
   ]
  },
  {
   "cell_type": "code",
   "execution_count": 17,
   "metadata": {
    "colab": {
     "base_uri": "https://localhost:8080/"
    },
    "id": "8fa1k8dP0JI7",
    "outputId": "5cec1df0-aeaf-476a-e180-c624bfec1a4c"
   },
   "outputs": [
    {
     "data": {
      "text/plain": [
       "id                     0\n",
       "gender                 0\n",
       "age                    0\n",
       "hypertension           0\n",
       "heart_disease          0\n",
       "ever_married           0\n",
       "work_type              0\n",
       "Residence_type         0\n",
       "avg_glucose_level      0\n",
       "bmi                  201\n",
       "smoking_status         0\n",
       "stroke                 0\n",
       "dtype: int64"
      ]
     },
     "execution_count": 17,
     "metadata": {},
     "output_type": "execute_result"
    }
   ],
   "source": [
    "stroke.isnull().sum()"
   ]
  },
  {
   "cell_type": "code",
   "execution_count": 18,
   "metadata": {
    "colab": {
     "base_uri": "https://localhost:8080/",
     "height": 0
    },
    "id": "DARUaxw80Kex",
    "outputId": "6450214d-47aa-429c-ff2f-b901287c3ad5"
   },
   "outputs": [
    {
     "data": {
      "image/png": "[encoded data removed]",
      "text/plain": [
       "<Figure size 864x432 with 2 Axes>"
      ]
     },
     "metadata": {
      "needs_background": "light"
     },
     "output_type": "display_data"
    }
   ],
   "source": [
    "plt.figure(figsize=(12, 6))\n",
    "sns.heatmap(stroke.isnull(), yticklabels = False)\n",
    "plt.show()"
   ]
  },
  {
   "cell_type": "markdown",
   "metadata": {
    "id": "3Zc5ewDZ8CeP"
   },
   "source": [
    "- bmi는 평균, 중위수, 최빈값이 비슷하므로 평균 대체"
   ]
  },
  {
   "cell_type": "code",
   "execution_count": 19,
   "metadata": {
    "colab": {
     "base_uri": "https://localhost:8080/",
     "height": 0
    },
    "id": "WQ7p5YHU0Mww",
    "outputId": "05f0657c-570e-49ba-af0d-83f3662db932"
   },
   "outputs": [
    {
     "data": {
      "text/html": [
       "\n",
       "  <div id=\"df-0429f359-d352-458d-b132-3cfd44e96df6\">\n",
       "    <div class=\"colab-df-container\">\n",
       "      <div>\n",
       "<style scoped>\n",
       "    .dataframe tbody tr th:only-of-type {\n",
       "        vertical-align: middle;\n",
       "    }\n",
       "\n",
       "    .dataframe tbody tr th {\n",
       "        vertical-align: top;\n",
       "    }\n",
       "\n",
       "    .dataframe thead th {\n",
       "        text-align: right;\n",
       "    }\n",
       "</style>\n",
       "<table border=\"1\" class=\"dataframe\">\n",
       "  <thead>\n",
       "    <tr style=\"text-align: right;\">\n",
       "      <th></th>\n",
       "      <th>bmi</th>\n",
       "    </tr>\n",
       "    <tr>\n",
       "      <th>stroke</th>\n",
       "      <th></th>\n",
       "    </tr>\n",
       "  </thead>\n",
       "  <tbody>\n",
       "    <tr>\n",
       "      <th>0</th>\n",
       "      <td>28.823064</td>\n",
       "    </tr>\n",
       "    <tr>\n",
       "      <th>1</th>\n",
       "      <td>30.471292</td>\n",
       "    </tr>\n",
       "  </tbody>\n",
       "</table>\n",
       "</div>\n",
       "      <button class=\"colab-df-convert\" onclick=\"convertToInteractive('df-0429f359-d352-458d-b132-3cfd44e96df6')\"\n",
       "              title=\"Convert this dataframe to an interactive table.\"\n",
       "              style=\"display:none;\">\n",
       "        \n",
       "  <svg xmlns=\"http://www.w3.org/2000/svg\" height=\"24px\"viewBox=\"0 0 24 24\"\n",
       "       width=\"24px\">\n",
       "    <path d=\"M0 0h24v24H0V0z\" fill=\"none\"/>\n",
       "    <path d=\"M18.56 5.44l.94 2.06.94-2.06 2.06-.94-2.06-.94-.94-2.06-.94 2.06-2.06.94zm-11 1L8.5 8.5l.94-2.06 2.06-.94-2.06-.94L8.5 2.5l-.94 2.06-2.06.94zm10 10l.94 2.06.94-2.06 2.06-.94-2.06-.94-.94-2.06-.94 2.06-2.06.94z\"/><path d=\"M17.41 7.96l-1.37-1.37c-.4-.4-.92-.59-1.43-.59-.52 0-1.04.2-1.43.59L10.3 9.45l-7.72 7.72c-.78.78-.78 2.05 0 2.83L4 21.41c.39.39.9.59 1.41.59.51 0 1.02-.2 1.41-.59l7.78-7.78 2.81-2.81c.8-.78.8-2.07 0-2.86zM5.41 20L4 18.59l7.72-7.72 1.47 1.35L5.41 20z\"/>\n",
       "  </svg>\n",
       "      </button>\n",
       "      \n",
       "  <style>\n",
       "    .colab-df-container {\n",
       "      display:flex;\n",
       "      flex-wrap:wrap;\n",
       "      gap: 12px;\n",
       "    }\n",
       "\n",
       "    .colab-df-convert {\n",
       "      background-color: #E8F0FE;\n",
       "      border: none;\n",
       "      border-radius: 50%;\n",
       "      cursor: pointer;\n",
       "      display: none;\n",
       "      fill: #1967D2;\n",
       "      height: 32px;\n",
       "      padding: 0 0 0 0;\n",
       "      width: 32px;\n",
       "    }\n",
       "\n",
       "    .colab-df-convert:hover {\n",
       "      background-color: #E2EBFA;\n",
       "      box-shadow: 0px 1px 2px rgba(60, 64, 67, 0.3), 0px 1px 3px 1px rgba(60, 64, 67, 0.15);\n",
       "      fill: #174EA6;\n",
       "    }\n",
       "\n",
       "    [theme=dark] .colab-df-convert {\n",
       "      background-color: #3B4455;\n",
       "      fill: #D2E3FC;\n",
       "    }\n",
       "\n",
       "    [theme=dark] .colab-df-convert:hover {\n",
       "      background-color: #434B5C;\n",
       "      box-shadow: 0px 1px 3px 1px rgba(0, 0, 0, 0.15);\n",
       "      filter: drop-shadow(0px 1px 2px rgba(0, 0, 0, 0.3));\n",
       "      fill: #FFFFFF;\n",
       "    }\n",
       "  </style>\n",
       "\n",
       "      <script>\n",
       "        const buttonEl =\n",
       "          document.querySelector('#df-0429f359-d352-458d-b132-3cfd44e96df6 button.colab-df-convert');\n",
       "        buttonEl.style.display =\n",
       "          google.colab.kernel.accessAllowed ? 'block' : 'none';\n",
       "\n",
       "        async function convertToInteractive(key) {\n",
       "          const element = document.querySelector('#df-0429f359-d352-458d-b132-3cfd44e96df6');\n",
       "          const dataTable =\n",
       "            await google.colab.kernel.invokeFunction('convertToInteractive',\n",
       "                                                     [key], {});\n",
       "          if (!dataTable) return;\n",
       "\n",
       "          const docLinkHtml = 'Like what you see? Visit the ' +\n",
       "            '<a target=\"_blank\" href=https://colab.research.google.com/notebooks/data_table.ipynb>data table notebook</a>'\n",
       "            + ' to learn more about interactive tables.';\n",
       "          element.innerHTML = '';\n",
       "          dataTable['output_type'] = 'display_data';\n",
       "          await google.colab.output.renderOutput(dataTable, element);\n",
       "          const docLink = document.createElement('div');\n",
       "          docLink.innerHTML = docLinkHtml;\n",
       "          element.appendChild(docLink);\n",
       "        }\n",
       "      </script>\n",
       "    </div>\n",
       "  </div>\n",
       "  "
      ],
      "text/plain": [
       "              bmi\n",
       "stroke           \n",
       "0       28.823064\n",
       "1       30.471292"
      ]
     },
     "execution_count": 19,
     "metadata": {},
     "output_type": "execute_result"
    }
   ],
   "source": [
    "bmi_group = stroke.groupby([\"stroke\"])[[\"bmi\"]].mean()\n",
    "bmi_group"
   ]
  },
  {
   "cell_type": "code",
   "execution_count": 20,
   "metadata": {
    "id": "hcMhMiA80P1V"
   },
   "outputs": [],
   "source": [
    "stroke.loc[(stroke[\"stroke\"] == 0) & (stroke[\"bmi\"].isnull()), \"bmi\"] = bmi_group.loc[0, \"bmi\"]\n",
    "stroke.loc[(stroke[\"stroke\"] == 1) & (stroke[\"bmi\"].isnull()), \"bmi\"] = bmi_group.loc[1, \"bmi\"]"
   ]
  },
  {
   "cell_type": "code",
   "execution_count": 21,
   "metadata": {
    "colab": {
     "base_uri": "https://localhost:8080/"
    },
    "id": "SITD7QbA0Qym",
    "outputId": "6f722443-37ff-4bf7-d252-bd0208cca822"
   },
   "outputs": [
    {
     "data": {
      "text/plain": [
       "0"
      ]
     },
     "execution_count": 21,
     "metadata": {},
     "output_type": "execute_result"
    }
   ],
   "source": [
    "stroke.isnull().sum()[\"bmi\"]"
   ]
  },
  {
   "cell_type": "markdown",
   "metadata": {
    "id": "672w0sN08Icm"
   },
   "source": [
    "## 중복값\n",
    "- 중복값이 존재하지 않는다."
   ]
  },
  {
   "cell_type": "code",
   "execution_count": 22,
   "metadata": {
    "colab": {
     "base_uri": "https://localhost:8080/",
     "height": 0
    },
    "id": "82aJHRNV0YIS",
    "outputId": "2f666324-3b20-4b4c-8f83-98d6cec18aca"
   },
   "outputs": [
    {
     "data": {
      "text/html": [
       "\n",
       "  <div id=\"df-681b1904-c2b0-4ad9-bb3e-969dddb26477\">\n",
       "    <div class=\"colab-df-container\">\n",
       "      <div>\n",
       "<style scoped>\n",
       "    .dataframe tbody tr th:only-of-type {\n",
       "        vertical-align: middle;\n",
       "    }\n",
       "\n",
       "    .dataframe tbody tr th {\n",
       "        vertical-align: top;\n",
       "    }\n",
       "\n",
       "    .dataframe thead th {\n",
       "        text-align: right;\n",
       "    }\n",
       "</style>\n",
       "<table border=\"1\" class=\"dataframe\">\n",
       "  <thead>\n",
       "    <tr style=\"text-align: right;\">\n",
       "      <th></th>\n",
       "      <th>id</th>\n",
       "      <th>gender</th>\n",
       "      <th>age</th>\n",
       "      <th>hypertension</th>\n",
       "      <th>heart_disease</th>\n",
       "      <th>ever_married</th>\n",
       "      <th>work_type</th>\n",
       "      <th>Residence_type</th>\n",
       "      <th>avg_glucose_level</th>\n",
       "      <th>bmi</th>\n",
       "      <th>smoking_status</th>\n",
       "      <th>stroke</th>\n",
       "    </tr>\n",
       "  </thead>\n",
       "  <tbody>\n",
       "  </tbody>\n",
       "</table>\n",
       "</div>\n",
       "      <button class=\"colab-df-convert\" onclick=\"convertToInteractive('df-681b1904-c2b0-4ad9-bb3e-969dddb26477')\"\n",
       "              title=\"Convert this dataframe to an interactive table.\"\n",
       "              style=\"display:none;\">\n",
       "        \n",
       "  <svg xmlns=\"http://www.w3.org/2000/svg\" height=\"24px\"viewBox=\"0 0 24 24\"\n",
       "       width=\"24px\">\n",
       "    <path d=\"M0 0h24v24H0V0z\" fill=\"none\"/>\n",
       "    <path d=\"M18.56 5.44l.94 2.06.94-2.06 2.06-.94-2.06-.94-.94-2.06-.94 2.06-2.06.94zm-11 1L8.5 8.5l.94-2.06 2.06-.94-2.06-.94L8.5 2.5l-.94 2.06-2.06.94zm10 10l.94 2.06.94-2.06 2.06-.94-2.06-.94-.94-2.06-.94 2.06-2.06.94z\"/><path d=\"M17.41 7.96l-1.37-1.37c-.4-.4-.92-.59-1.43-.59-.52 0-1.04.2-1.43.59L10.3 9.45l-7.72 7.72c-.78.78-.78 2.05 0 2.83L4 21.41c.39.39.9.59 1.41.59.51 0 1.02-.2 1.41-.59l7.78-7.78 2.81-2.81c.8-.78.8-2.07 0-2.86zM5.41 20L4 18.59l7.72-7.72 1.47 1.35L5.41 20z\"/>\n",
       "  </svg>\n",
       "      </button>\n",
       "      \n",
       "  <style>\n",
       "    .colab-df-container {\n",
       "      display:flex;\n",
       "      flex-wrap:wrap;\n",
       "      gap: 12px;\n",
       "    }\n",
       "\n",
       "    .colab-df-convert {\n",
       "      background-color: #E8F0FE;\n",
       "      border: none;\n",
       "      border-radius: 50%;\n",
       "      cursor: pointer;\n",
       "      display: none;\n",
       "      fill: #1967D2;\n",
       "      height: 32px;\n",
       "      padding: 0 0 0 0;\n",
       "      width: 32px;\n",
       "    }\n",
       "\n",
       "    .colab-df-convert:hover {\n",
       "      background-color: #E2EBFA;\n",
       "      box-shadow: 0px 1px 2px rgba(60, 64, 67, 0.3), 0px 1px 3px 1px rgba(60, 64, 67, 0.15);\n",
       "      fill: #174EA6;\n",
       "    }\n",
       "\n",
       "    [theme=dark] .colab-df-convert {\n",
       "      background-color: #3B4455;\n",
       "      fill: #D2E3FC;\n",
       "    }\n",
       "\n",
       "    [theme=dark] .colab-df-convert:hover {\n",
       "      background-color: #434B5C;\n",
       "      box-shadow: 0px 1px 3px 1px rgba(0, 0, 0, 0.15);\n",
       "      filter: drop-shadow(0px 1px 2px rgba(0, 0, 0, 0.3));\n",
       "      fill: #FFFFFF;\n",
       "    }\n",
       "  </style>\n",
       "\n",
       "      <script>\n",
       "        const buttonEl =\n",
       "          document.querySelector('#df-681b1904-c2b0-4ad9-bb3e-969dddb26477 button.colab-df-convert');\n",
       "        buttonEl.style.display =\n",
       "          google.colab.kernel.accessAllowed ? 'block' : 'none';\n",
       "\n",
       "        async function convertToInteractive(key) {\n",
       "          const element = document.querySelector('#df-681b1904-c2b0-4ad9-bb3e-969dddb26477');\n",
       "          const dataTable =\n",
       "            await google.colab.kernel.invokeFunction('convertToInteractive',\n",
       "                                                     [key], {});\n",
       "          if (!dataTable) return;\n",
       "\n",
       "          const docLinkHtml = 'Like what you see? Visit the ' +\n",
       "            '<a target=\"_blank\" href=https://colab.research.google.com/notebooks/data_table.ipynb>data table notebook</a>'\n",
       "            + ' to learn more about interactive tables.';\n",
       "          element.innerHTML = '';\n",
       "          dataTable['output_type'] = 'display_data';\n",
       "          await google.colab.output.renderOutput(dataTable, element);\n",
       "          const docLink = document.createElement('div');\n",
       "          docLink.innerHTML = docLinkHtml;\n",
       "          element.appendChild(docLink);\n",
       "        }\n",
       "      </script>\n",
       "    </div>\n",
       "  </div>\n",
       "  "
      ],
      "text/plain": [
       "Empty DataFrame\n",
       "Columns: [id, gender, age, hypertension, heart_disease, ever_married, work_type, Residence_type, avg_glucose_level, bmi, smoking_status, stroke]\n",
       "Index: []"
      ]
     },
     "execution_count": 22,
     "metadata": {},
     "output_type": "execute_result"
    }
   ],
   "source": [
    "stroke[stroke.duplicated()]"
   ]
  },
  {
   "cell_type": "markdown",
   "metadata": {
    "id": "uCMwbAYj8PBq"
   },
   "source": [
    "## 이상치"
   ]
  },
  {
   "cell_type": "code",
   "execution_count": 23,
   "metadata": {
    "id": "Q8115wLf0YYc"
   },
   "outputs": [],
   "source": [
    "num_cols = [\"age\", \"avg_glucose_level\", \"bmi\"]\n",
    "cat_cols = stroke.drop(num_cols, axis=1)"
   ]
  },
  {
   "cell_type": "code",
   "execution_count": 24,
   "metadata": {
    "id": "F9DUpHua0Zb1"
   },
   "outputs": [],
   "source": [
    "def outlier_df(data, col):\n",
    "    Q1 = data[col].quantile(0.25)\n",
    "    Q3 = data[col].quantile(0.75)\n",
    "    IQR = Q3 - Q1\n",
    "    \n",
    "    outlier = data[(Q1 - 1.5 * IQR > data[col]) | (data[col] > Q3 + 1.5 * IQR)]\n",
    "    \n",
    "    print(f\"하한값 : {Q1 - 1.5 * IQR},  상한값 : {Q3 + 1.5 * IQR}\")\n",
    "    return outlier"
   ]
  },
  {
   "cell_type": "markdown",
   "metadata": {
    "id": "zJQPZ3Dd8ccX"
   },
   "source": [
    "![image.png](data:image/png;base64,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)"
   ]
  },
  {
   "cell_type": "code",
   "execution_count": 25,
   "metadata": {
    "colab": {
     "base_uri": "https://localhost:8080/",
     "height": 0
    },
    "id": "qHiaAg7v0aMZ",
    "outputId": "098ef8a1-10e7-49fb-e402-68277b237807"
   },
   "outputs": [
    {
     "name": "stdout",
     "output_type": "stream",
     "text": [
      "하한값 : 21.977500000000006,  상한값 : 169.35750000000002\n"
     ]
    },
    {
     "data": {
      "text/html": [
       "\n",
       "  <div id=\"df-af62d4cb-db85-479c-a6ef-c0e343cccdc9\">\n",
       "    <div class=\"colab-df-container\">\n",
       "      <div>\n",
       "<style scoped>\n",
       "    .dataframe tbody tr th:only-of-type {\n",
       "        vertical-align: middle;\n",
       "    }\n",
       "\n",
       "    .dataframe tbody tr th {\n",
       "        vertical-align: top;\n",
       "    }\n",
       "\n",
       "    .dataframe thead th {\n",
       "        text-align: right;\n",
       "    }\n",
       "</style>\n",
       "<table border=\"1\" class=\"dataframe\">\n",
       "  <thead>\n",
       "    <tr style=\"text-align: right;\">\n",
       "      <th></th>\n",
       "      <th>id</th>\n",
       "      <th>gender</th>\n",
       "      <th>age</th>\n",
       "      <th>hypertension</th>\n",
       "      <th>heart_disease</th>\n",
       "      <th>ever_married</th>\n",
       "      <th>work_type</th>\n",
       "      <th>Residence_type</th>\n",
       "      <th>avg_glucose_level</th>\n",
       "      <th>bmi</th>\n",
       "      <th>smoking_status</th>\n",
       "      <th>stroke</th>\n",
       "    </tr>\n",
       "  </thead>\n",
       "  <tbody>\n",
       "    <tr>\n",
       "      <th>0</th>\n",
       "      <td>9046</td>\n",
       "      <td>Male</td>\n",
       "      <td>67.0</td>\n",
       "      <td>0</td>\n",
       "      <td>1</td>\n",
       "      <td>Yes</td>\n",
       "      <td>Private</td>\n",
       "      <td>Urban</td>\n",
       "      <td>228.69</td>\n",
       "      <td>36.600000</td>\n",
       "      <td>formerly smoked</td>\n",
       "      <td>1</td>\n",
       "    </tr>\n",
       "    <tr>\n",
       "      <th>1</th>\n",
       "      <td>51676</td>\n",
       "      <td>Female</td>\n",
       "      <td>61.0</td>\n",
       "      <td>0</td>\n",
       "      <td>0</td>\n",
       "      <td>Yes</td>\n",
       "      <td>Self-employed</td>\n",
       "      <td>Rural</td>\n",
       "      <td>202.21</td>\n",
       "      <td>30.471292</td>\n",
       "      <td>never smoked</td>\n",
       "      <td>1</td>\n",
       "    </tr>\n",
       "    <tr>\n",
       "      <th>3</th>\n",
       "      <td>60182</td>\n",
       "      <td>Female</td>\n",
       "      <td>49.0</td>\n",
       "      <td>0</td>\n",
       "      <td>0</td>\n",
       "      <td>Yes</td>\n",
       "      <td>Private</td>\n",
       "      <td>Urban</td>\n",
       "      <td>171.23</td>\n",
       "      <td>34.400000</td>\n",
       "      <td>smokes</td>\n",
       "      <td>1</td>\n",
       "    </tr>\n",
       "    <tr>\n",
       "      <th>4</th>\n",
       "      <td>1665</td>\n",
       "      <td>Female</td>\n",
       "      <td>79.0</td>\n",
       "      <td>1</td>\n",
       "      <td>0</td>\n",
       "      <td>Yes</td>\n",
       "      <td>Self-employed</td>\n",
       "      <td>Rural</td>\n",
       "      <td>174.12</td>\n",
       "      <td>24.000000</td>\n",
       "      <td>never smoked</td>\n",
       "      <td>1</td>\n",
       "    </tr>\n",
       "    <tr>\n",
       "      <th>5</th>\n",
       "      <td>56669</td>\n",
       "      <td>Male</td>\n",
       "      <td>81.0</td>\n",
       "      <td>0</td>\n",
       "      <td>0</td>\n",
       "      <td>Yes</td>\n",
       "      <td>Private</td>\n",
       "      <td>Urban</td>\n",
       "      <td>186.21</td>\n",
       "      <td>29.000000</td>\n",
       "      <td>formerly smoked</td>\n",
       "      <td>1</td>\n",
       "    </tr>\n",
       "    <tr>\n",
       "      <th>...</th>\n",
       "      <td>...</td>\n",
       "      <td>...</td>\n",
       "      <td>...</td>\n",
       "      <td>...</td>\n",
       "      <td>...</td>\n",
       "      <td>...</td>\n",
       "      <td>...</td>\n",
       "      <td>...</td>\n",
       "      <td>...</td>\n",
       "      <td>...</td>\n",
       "      <td>...</td>\n",
       "      <td>...</td>\n",
       "    </tr>\n",
       "    <tr>\n",
       "      <th>5061</th>\n",
       "      <td>38009</td>\n",
       "      <td>Male</td>\n",
       "      <td>41.0</td>\n",
       "      <td>0</td>\n",
       "      <td>0</td>\n",
       "      <td>Yes</td>\n",
       "      <td>Private</td>\n",
       "      <td>Urban</td>\n",
       "      <td>223.78</td>\n",
       "      <td>32.300000</td>\n",
       "      <td>never smoked</td>\n",
       "      <td>0</td>\n",
       "    </tr>\n",
       "    <tr>\n",
       "      <th>5062</th>\n",
       "      <td>11184</td>\n",
       "      <td>Female</td>\n",
       "      <td>82.0</td>\n",
       "      <td>0</td>\n",
       "      <td>0</td>\n",
       "      <td>Yes</td>\n",
       "      <td>Self-employed</td>\n",
       "      <td>Rural</td>\n",
       "      <td>211.58</td>\n",
       "      <td>36.900000</td>\n",
       "      <td>never smoked</td>\n",
       "      <td>0</td>\n",
       "    </tr>\n",
       "    <tr>\n",
       "      <th>5063</th>\n",
       "      <td>68967</td>\n",
       "      <td>Male</td>\n",
       "      <td>39.0</td>\n",
       "      <td>0</td>\n",
       "      <td>0</td>\n",
       "      <td>Yes</td>\n",
       "      <td>Private</td>\n",
       "      <td>Urban</td>\n",
       "      <td>179.38</td>\n",
       "      <td>27.700000</td>\n",
       "      <td>Unknown</td>\n",
       "      <td>0</td>\n",
       "    </tr>\n",
       "    <tr>\n",
       "      <th>5064</th>\n",
       "      <td>66684</td>\n",
       "      <td>Male</td>\n",
       "      <td>70.0</td>\n",
       "      <td>0</td>\n",
       "      <td>0</td>\n",
       "      <td>Yes</td>\n",
       "      <td>Self-employed</td>\n",
       "      <td>Rural</td>\n",
       "      <td>193.88</td>\n",
       "      <td>24.300000</td>\n",
       "      <td>Unknown</td>\n",
       "      <td>0</td>\n",
       "    </tr>\n",
       "    <tr>\n",
       "      <th>5076</th>\n",
       "      <td>39935</td>\n",
       "      <td>Female</td>\n",
       "      <td>34.0</td>\n",
       "      <td>0</td>\n",
       "      <td>0</td>\n",
       "      <td>Yes</td>\n",
       "      <td>Private</td>\n",
       "      <td>Rural</td>\n",
       "      <td>174.37</td>\n",
       "      <td>23.000000</td>\n",
       "      <td>never smoked</td>\n",
       "      <td>0</td>\n",
       "    </tr>\n",
       "  </tbody>\n",
       "</table>\n",
       "<p>627 rows × 12 columns</p>\n",
       "</div>\n",
       "      <button class=\"colab-df-convert\" onclick=\"convertToInteractive('df-af62d4cb-db85-479c-a6ef-c0e343cccdc9')\"\n",
       "              title=\"Convert this dataframe to an interactive table.\"\n",
       "              style=\"display:none;\">\n",
       "        \n",
       "  <svg xmlns=\"http://www.w3.org/2000/svg\" height=\"24px\"viewBox=\"0 0 24 24\"\n",
       "       width=\"24px\">\n",
       "    <path d=\"M0 0h24v24H0V0z\" fill=\"none\"/>\n",
       "    <path d=\"M18.56 5.44l.94 2.06.94-2.06 2.06-.94-2.06-.94-.94-2.06-.94 2.06-2.06.94zm-11 1L8.5 8.5l.94-2.06 2.06-.94-2.06-.94L8.5 2.5l-.94 2.06-2.06.94zm10 10l.94 2.06.94-2.06 2.06-.94-2.06-.94-.94-2.06-.94 2.06-2.06.94z\"/><path d=\"M17.41 7.96l-1.37-1.37c-.4-.4-.92-.59-1.43-.59-.52 0-1.04.2-1.43.59L10.3 9.45l-7.72 7.72c-.78.78-.78 2.05 0 2.83L4 21.41c.39.39.9.59 1.41.59.51 0 1.02-.2 1.41-.59l7.78-7.78 2.81-2.81c.8-.78.8-2.07 0-2.86zM5.41 20L4 18.59l7.72-7.72 1.47 1.35L5.41 20z\"/>\n",
       "  </svg>\n",
       "      </button>\n",
       "      \n",
       "  <style>\n",
       "    .colab-df-container {\n",
       "      display:flex;\n",
       "      flex-wrap:wrap;\n",
       "      gap: 12px;\n",
       "    }\n",
       "\n",
       "    .colab-df-convert {\n",
       "      background-color: #E8F0FE;\n",
       "      border: none;\n",
       "      border-radius: 50%;\n",
       "      cursor: pointer;\n",
       "      display: none;\n",
       "      fill: #1967D2;\n",
       "      height: 32px;\n",
       "      padding: 0 0 0 0;\n",
       "      width: 32px;\n",
       "    }\n",
       "\n",
       "    .colab-df-convert:hover {\n",
       "      background-color: #E2EBFA;\n",
       "      box-shadow: 0px 1px 2px rgba(60, 64, 67, 0.3), 0px 1px 3px 1px rgba(60, 64, 67, 0.15);\n",
       "      fill: #174EA6;\n",
       "    }\n",
       "\n",
       "    [theme=dark] .colab-df-convert {\n",
       "      background-color: #3B4455;\n",
       "      fill: #D2E3FC;\n",
       "    }\n",
       "\n",
       "    [theme=dark] .colab-df-convert:hover {\n",
       "      background-color: #434B5C;\n",
       "      box-shadow: 0px 1px 3px 1px rgba(0, 0, 0, 0.15);\n",
       "      filter: drop-shadow(0px 1px 2px rgba(0, 0, 0, 0.3));\n",
       "      fill: #FFFFFF;\n",
       "    }\n",
       "  </style>\n",
       "\n",
       "      <script>\n",
       "        const buttonEl =\n",
       "          document.querySelector('#df-af62d4cb-db85-479c-a6ef-c0e343cccdc9 button.colab-df-convert');\n",
       "        buttonEl.style.display =\n",
       "          google.colab.kernel.accessAllowed ? 'block' : 'none';\n",
       "\n",
       "        async function convertToInteractive(key) {\n",
       "          const element = document.querySelector('#df-af62d4cb-db85-479c-a6ef-c0e343cccdc9');\n",
       "          const dataTable =\n",
       "            await google.colab.kernel.invokeFunction('convertToInteractive',\n",
       "                                                     [key], {});\n",
       "          if (!dataTable) return;\n",
       "\n",
       "          const docLinkHtml = 'Like what you see? Visit the ' +\n",
       "            '<a target=\"_blank\" href=https://colab.research.google.com/notebooks/data_table.ipynb>data table notebook</a>'\n",
       "            + ' to learn more about interactive tables.';\n",
       "          element.innerHTML = '';\n",
       "          dataTable['output_type'] = 'display_data';\n",
       "          await google.colab.output.renderOutput(dataTable, element);\n",
       "          const docLink = document.createElement('div');\n",
       "          docLink.innerHTML = docLinkHtml;\n",
       "          element.appendChild(docLink);\n",
       "        }\n",
       "      </script>\n",
       "    </div>\n",
       "  </div>\n",
       "  "
      ],
      "text/plain": [
       "         id  gender   age  hypertension  heart_disease ever_married  \\\n",
       "0      9046    Male  67.0             0              1          Yes   \n",
       "1     51676  Female  61.0             0              0          Yes   \n",
       "3     60182  Female  49.0             0              0          Yes   \n",
       "4      1665  Female  79.0             1              0          Yes   \n",
       "5     56669    Male  81.0             0              0          Yes   \n",
       "...     ...     ...   ...           ...            ...          ...   \n",
       "5061  38009    Male  41.0             0              0          Yes   \n",
       "5062  11184  Female  82.0             0              0          Yes   \n",
       "5063  68967    Male  39.0             0              0          Yes   \n",
       "5064  66684    Male  70.0             0              0          Yes   \n",
       "5076  39935  Female  34.0             0              0          Yes   \n",
       "\n",
       "          work_type Residence_type  avg_glucose_level        bmi  \\\n",
       "0           Private          Urban             228.69  36.600000   \n",
       "1     Self-employed          Rural             202.21  30.471292   \n",
       "3           Private          Urban             171.23  34.400000   \n",
       "4     Self-employed          Rural             174.12  24.000000   \n",
       "5           Private          Urban             186.21  29.000000   \n",
       "...             ...            ...                ...        ...   \n",
       "5061        Private          Urban             223.78  32.300000   \n",
       "5062  Self-employed          Rural             211.58  36.900000   \n",
       "5063        Private          Urban             179.38  27.700000   \n",
       "5064  Self-employed          Rural             193.88  24.300000   \n",
       "5076        Private          Rural             174.37  23.000000   \n",
       "\n",
       "       smoking_status  stroke  \n",
       "0     formerly smoked       1  \n",
       "1        never smoked       1  \n",
       "3              smokes       1  \n",
       "4        never smoked       1  \n",
       "5     formerly smoked       1  \n",
       "...               ...     ...  \n",
       "5061     never smoked       0  \n",
       "5062     never smoked       0  \n",
       "5063          Unknown       0  \n",
       "5064          Unknown       0  \n",
       "5076     never smoked       0  \n",
       "\n",
       "[627 rows x 12 columns]"
      ]
     },
     "execution_count": 25,
     "metadata": {},
     "output_type": "execute_result"
    }
   ],
   "source": [
    "outlier_df(stroke, \"avg_glucose_level\")"
   ]
  },
  {
   "cell_type": "markdown",
   "metadata": {
    "id": "9EOmUWl18nwJ"
   },
   "source": [
    "![image.png](data:image/png;base64,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)"
   ]
  },
  {
   "cell_type": "markdown",
   "metadata": {
    "id": "IeV2mvpZ8vqU"
   },
   "source": [
    "- 네이버 bmi 계산기로 계산해본 결과 ... bmi가 46 이상인 경우는 저게 사람의 몸무게인가 싶을 정도였다.. 조정이 필요해보인다."
   ]
  },
  {
   "cell_type": "code",
   "execution_count": 26,
   "metadata": {
    "colab": {
     "base_uri": "https://localhost:8080/",
     "height": 0
    },
    "id": "BNZ2G_mQ0bHj",
    "outputId": "9d3d32d0-5c82-435e-bd28-038fed526571"
   },
   "outputs": [
    {
     "name": "stdout",
     "output_type": "stream",
     "text": [
      "하한값 : 10.300000000000006,  상한값 : 46.29999999999999\n"
     ]
    },
    {
     "data": {
      "text/html": [
       "\n",
       "  <div id=\"df-bc5a9596-ed6c-4c17-8589-6c95fb8eb4af\">\n",
       "    <div class=\"colab-df-container\">\n",
       "      <div>\n",
       "<style scoped>\n",
       "    .dataframe tbody tr th:only-of-type {\n",
       "        vertical-align: middle;\n",
       "    }\n",
       "\n",
       "    .dataframe tbody tr th {\n",
       "        vertical-align: top;\n",
       "    }\n",
       "\n",
       "    .dataframe thead th {\n",
       "        text-align: right;\n",
       "    }\n",
       "</style>\n",
       "<table border=\"1\" class=\"dataframe\">\n",
       "  <thead>\n",
       "    <tr style=\"text-align: right;\">\n",
       "      <th></th>\n",
       "      <th>id</th>\n",
       "      <th>gender</th>\n",
       "      <th>age</th>\n",
       "      <th>hypertension</th>\n",
       "      <th>heart_disease</th>\n",
       "      <th>ever_married</th>\n",
       "      <th>work_type</th>\n",
       "      <th>Residence_type</th>\n",
       "      <th>avg_glucose_level</th>\n",
       "      <th>bmi</th>\n",
       "      <th>smoking_status</th>\n",
       "      <th>stroke</th>\n",
       "    </tr>\n",
       "  </thead>\n",
       "  <tbody>\n",
       "    <tr>\n",
       "      <th>21</th>\n",
       "      <td>13861</td>\n",
       "      <td>Female</td>\n",
       "      <td>52.0</td>\n",
       "      <td>1</td>\n",
       "      <td>0</td>\n",
       "      <td>Yes</td>\n",
       "      <td>Self-employed</td>\n",
       "      <td>Urban</td>\n",
       "      <td>233.29</td>\n",
       "      <td>48.9</td>\n",
       "      <td>never smoked</td>\n",
       "      <td>1</td>\n",
       "    </tr>\n",
       "    <tr>\n",
       "      <th>66</th>\n",
       "      <td>17004</td>\n",
       "      <td>Female</td>\n",
       "      <td>70.0</td>\n",
       "      <td>0</td>\n",
       "      <td>0</td>\n",
       "      <td>Yes</td>\n",
       "      <td>Private</td>\n",
       "      <td>Urban</td>\n",
       "      <td>221.58</td>\n",
       "      <td>47.5</td>\n",
       "      <td>never smoked</td>\n",
       "      <td>1</td>\n",
       "    </tr>\n",
       "    <tr>\n",
       "      <th>113</th>\n",
       "      <td>41069</td>\n",
       "      <td>Female</td>\n",
       "      <td>45.0</td>\n",
       "      <td>0</td>\n",
       "      <td>0</td>\n",
       "      <td>Yes</td>\n",
       "      <td>Private</td>\n",
       "      <td>Rural</td>\n",
       "      <td>224.10</td>\n",
       "      <td>56.6</td>\n",
       "      <td>never smoked</td>\n",
       "      <td>1</td>\n",
       "    </tr>\n",
       "    <tr>\n",
       "      <th>254</th>\n",
       "      <td>32257</td>\n",
       "      <td>Female</td>\n",
       "      <td>47.0</td>\n",
       "      <td>0</td>\n",
       "      <td>0</td>\n",
       "      <td>Yes</td>\n",
       "      <td>Private</td>\n",
       "      <td>Urban</td>\n",
       "      <td>210.95</td>\n",
       "      <td>50.1</td>\n",
       "      <td>Unknown</td>\n",
       "      <td>0</td>\n",
       "    </tr>\n",
       "    <tr>\n",
       "      <th>258</th>\n",
       "      <td>28674</td>\n",
       "      <td>Female</td>\n",
       "      <td>74.0</td>\n",
       "      <td>1</td>\n",
       "      <td>0</td>\n",
       "      <td>Yes</td>\n",
       "      <td>Self-employed</td>\n",
       "      <td>Urban</td>\n",
       "      <td>205.84</td>\n",
       "      <td>54.6</td>\n",
       "      <td>never smoked</td>\n",
       "      <td>0</td>\n",
       "    </tr>\n",
       "    <tr>\n",
       "      <th>...</th>\n",
       "      <td>...</td>\n",
       "      <td>...</td>\n",
       "      <td>...</td>\n",
       "      <td>...</td>\n",
       "      <td>...</td>\n",
       "      <td>...</td>\n",
       "      <td>...</td>\n",
       "      <td>...</td>\n",
       "      <td>...</td>\n",
       "      <td>...</td>\n",
       "      <td>...</td>\n",
       "      <td>...</td>\n",
       "    </tr>\n",
       "    <tr>\n",
       "      <th>4906</th>\n",
       "      <td>72696</td>\n",
       "      <td>Female</td>\n",
       "      <td>53.0</td>\n",
       "      <td>0</td>\n",
       "      <td>0</td>\n",
       "      <td>Yes</td>\n",
       "      <td>Private</td>\n",
       "      <td>Urban</td>\n",
       "      <td>70.51</td>\n",
       "      <td>54.1</td>\n",
       "      <td>never smoked</td>\n",
       "      <td>0</td>\n",
       "    </tr>\n",
       "    <tr>\n",
       "      <th>4952</th>\n",
       "      <td>16245</td>\n",
       "      <td>Male</td>\n",
       "      <td>51.0</td>\n",
       "      <td>1</td>\n",
       "      <td>0</td>\n",
       "      <td>Yes</td>\n",
       "      <td>Self-employed</td>\n",
       "      <td>Rural</td>\n",
       "      <td>211.83</td>\n",
       "      <td>56.6</td>\n",
       "      <td>never smoked</td>\n",
       "      <td>0</td>\n",
       "    </tr>\n",
       "    <tr>\n",
       "      <th>5009</th>\n",
       "      <td>40732</td>\n",
       "      <td>Female</td>\n",
       "      <td>50.0</td>\n",
       "      <td>0</td>\n",
       "      <td>0</td>\n",
       "      <td>Yes</td>\n",
       "      <td>Self-employed</td>\n",
       "      <td>Rural</td>\n",
       "      <td>126.85</td>\n",
       "      <td>49.5</td>\n",
       "      <td>formerly smoked</td>\n",
       "      <td>0</td>\n",
       "    </tr>\n",
       "    <tr>\n",
       "      <th>5057</th>\n",
       "      <td>38349</td>\n",
       "      <td>Female</td>\n",
       "      <td>49.0</td>\n",
       "      <td>0</td>\n",
       "      <td>0</td>\n",
       "      <td>Yes</td>\n",
       "      <td>Govt_job</td>\n",
       "      <td>Urban</td>\n",
       "      <td>69.92</td>\n",
       "      <td>47.6</td>\n",
       "      <td>never smoked</td>\n",
       "      <td>0</td>\n",
       "    </tr>\n",
       "    <tr>\n",
       "      <th>5103</th>\n",
       "      <td>22127</td>\n",
       "      <td>Female</td>\n",
       "      <td>18.0</td>\n",
       "      <td>0</td>\n",
       "      <td>0</td>\n",
       "      <td>No</td>\n",
       "      <td>Private</td>\n",
       "      <td>Urban</td>\n",
       "      <td>82.85</td>\n",
       "      <td>46.9</td>\n",
       "      <td>Unknown</td>\n",
       "      <td>0</td>\n",
       "    </tr>\n",
       "  </tbody>\n",
       "</table>\n",
       "<p>126 rows × 12 columns</p>\n",
       "</div>\n",
       "      <button class=\"colab-df-convert\" onclick=\"convertToInteractive('df-bc5a9596-ed6c-4c17-8589-6c95fb8eb4af')\"\n",
       "              title=\"Convert this dataframe to an interactive table.\"\n",
       "              style=\"display:none;\">\n",
       "        \n",
       "  <svg xmlns=\"http://www.w3.org/2000/svg\" height=\"24px\"viewBox=\"0 0 24 24\"\n",
       "       width=\"24px\">\n",
       "    <path d=\"M0 0h24v24H0V0z\" fill=\"none\"/>\n",
       "    <path d=\"M18.56 5.44l.94 2.06.94-2.06 2.06-.94-2.06-.94-.94-2.06-.94 2.06-2.06.94zm-11 1L8.5 8.5l.94-2.06 2.06-.94-2.06-.94L8.5 2.5l-.94 2.06-2.06.94zm10 10l.94 2.06.94-2.06 2.06-.94-2.06-.94-.94-2.06-.94 2.06-2.06.94z\"/><path d=\"M17.41 7.96l-1.37-1.37c-.4-.4-.92-.59-1.43-.59-.52 0-1.04.2-1.43.59L10.3 9.45l-7.72 7.72c-.78.78-.78 2.05 0 2.83L4 21.41c.39.39.9.59 1.41.59.51 0 1.02-.2 1.41-.59l7.78-7.78 2.81-2.81c.8-.78.8-2.07 0-2.86zM5.41 20L4 18.59l7.72-7.72 1.47 1.35L5.41 20z\"/>\n",
       "  </svg>\n",
       "      </button>\n",
       "      \n",
       "  <style>\n",
       "    .colab-df-container {\n",
       "      display:flex;\n",
       "      flex-wrap:wrap;\n",
       "      gap: 12px;\n",
       "    }\n",
       "\n",
       "    .colab-df-convert {\n",
       "      background-color: #E8F0FE;\n",
       "      border: none;\n",
       "      border-radius: 50%;\n",
       "      cursor: pointer;\n",
       "      display: none;\n",
       "      fill: #1967D2;\n",
       "      height: 32px;\n",
       "      padding: 0 0 0 0;\n",
       "      width: 32px;\n",
       "    }\n",
       "\n",
       "    .colab-df-convert:hover {\n",
       "      background-color: #E2EBFA;\n",
       "      box-shadow: 0px 1px 2px rgba(60, 64, 67, 0.3), 0px 1px 3px 1px rgba(60, 64, 67, 0.15);\n",
       "      fill: #174EA6;\n",
       "    }\n",
       "\n",
       "    [theme=dark] .colab-df-convert {\n",
       "      background-color: #3B4455;\n",
       "      fill: #D2E3FC;\n",
       "    }\n",
       "\n",
       "    [theme=dark] .colab-df-convert:hover {\n",
       "      background-color: #434B5C;\n",
       "      box-shadow: 0px 1px 3px 1px rgba(0, 0, 0, 0.15);\n",
       "      filter: drop-shadow(0px 1px 2px rgba(0, 0, 0, 0.3));\n",
       "      fill: #FFFFFF;\n",
       "    }\n",
       "  </style>\n",
       "\n",
       "      <script>\n",
       "        const buttonEl =\n",
       "          document.querySelector('#df-bc5a9596-ed6c-4c17-8589-6c95fb8eb4af button.colab-df-convert');\n",
       "        buttonEl.style.display =\n",
       "          google.colab.kernel.accessAllowed ? 'block' : 'none';\n",
       "\n",
       "        async function convertToInteractive(key) {\n",
       "          const element = document.querySelector('#df-bc5a9596-ed6c-4c17-8589-6c95fb8eb4af');\n",
       "          const dataTable =\n",
       "            await google.colab.kernel.invokeFunction('convertToInteractive',\n",
       "                                                     [key], {});\n",
       "          if (!dataTable) return;\n",
       "\n",
       "          const docLinkHtml = 'Like what you see? Visit the ' +\n",
       "            '<a target=\"_blank\" href=https://colab.research.google.com/notebooks/data_table.ipynb>data table notebook</a>'\n",
       "            + ' to learn more about interactive tables.';\n",
       "          element.innerHTML = '';\n",
       "          dataTable['output_type'] = 'display_data';\n",
       "          await google.colab.output.renderOutput(dataTable, element);\n",
       "          const docLink = document.createElement('div');\n",
       "          docLink.innerHTML = docLinkHtml;\n",
       "          element.appendChild(docLink);\n",
       "        }\n",
       "      </script>\n",
       "    </div>\n",
       "  </div>\n",
       "  "
      ],
      "text/plain": [
       "         id  gender   age  hypertension  heart_disease ever_married  \\\n",
       "21    13861  Female  52.0             1              0          Yes   \n",
       "66    17004  Female  70.0             0              0          Yes   \n",
       "113   41069  Female  45.0             0              0          Yes   \n",
       "254   32257  Female  47.0             0              0          Yes   \n",
       "258   28674  Female  74.0             1              0          Yes   \n",
       "...     ...     ...   ...           ...            ...          ...   \n",
       "4906  72696  Female  53.0             0              0          Yes   \n",
       "4952  16245    Male  51.0             1              0          Yes   \n",
       "5009  40732  Female  50.0             0              0          Yes   \n",
       "5057  38349  Female  49.0             0              0          Yes   \n",
       "5103  22127  Female  18.0             0              0           No   \n",
       "\n",
       "          work_type Residence_type  avg_glucose_level   bmi   smoking_status  \\\n",
       "21    Self-employed          Urban             233.29  48.9     never smoked   \n",
       "66          Private          Urban             221.58  47.5     never smoked   \n",
       "113         Private          Rural             224.10  56.6     never smoked   \n",
       "254         Private          Urban             210.95  50.1          Unknown   \n",
       "258   Self-employed          Urban             205.84  54.6     never smoked   \n",
       "...             ...            ...                ...   ...              ...   \n",
       "4906        Private          Urban              70.51  54.1     never smoked   \n",
       "4952  Self-employed          Rural             211.83  56.6     never smoked   \n",
       "5009  Self-employed          Rural             126.85  49.5  formerly smoked   \n",
       "5057       Govt_job          Urban              69.92  47.6     never smoked   \n",
       "5103        Private          Urban              82.85  46.9          Unknown   \n",
       "\n",
       "      stroke  \n",
       "21         1  \n",
       "66         1  \n",
       "113        1  \n",
       "254        0  \n",
       "258        0  \n",
       "...      ...  \n",
       "4906       0  \n",
       "4952       0  \n",
       "5009       0  \n",
       "5057       0  \n",
       "5103       0  \n",
       "\n",
       "[126 rows x 12 columns]"
      ]
     },
     "execution_count": 26,
     "metadata": {},
     "output_type": "execute_result"
    }
   ],
   "source": [
    "outlier_df(stroke, \"bmi\")"
   ]
  },
  {
   "cell_type": "code",
   "execution_count": 27,
   "metadata": {
    "colab": {
     "base_uri": "https://localhost:8080/",
     "height": 0
    },
    "id": "hehWmmRG0cft",
    "outputId": "efc474a1-1b4e-4ae1-98f9-06c7af5e3361"
   },
   "outputs": [
    {
     "data": {
      "text/plain": [
       "<matplotlib.axes._subplots.AxesSubplot at 0x7ffbbc98ca50>"
      ]
     },
     "execution_count": 27,
     "metadata": {},
     "output_type": "execute_result"
    },
    {
     "data": {
      "image/png": "[encoded data removed]",
      "text/plain": [
       "<Figure size 864x576 with 1 Axes>"
      ]
     },
     "metadata": {
      "needs_background": "light"
     },
     "output_type": "display_data"
    }
   ],
   "source": [
    "stroke[num_cols].boxplot(figsize=(12, 8))"
   ]
  },
  {
   "cell_type": "markdown",
   "metadata": {
    "id": "yEtksu1E9aYO"
   },
   "source": [
    "- bmi 이상치를 각 상한값과 하한값으로 대체"
   ]
  },
  {
   "cell_type": "code",
   "execution_count": 28,
   "metadata": {
    "id": "XuBRgAc10deE"
   },
   "outputs": [],
   "source": [
    "stroke.loc[stroke[\"bmi\"] > 46.29999999999999, \"bmi\"] = 46.29999999999999\n",
    "stroke.loc[stroke[\"bmi\"] < 10.300000000000006, \"bmi\"] = 10.300000000000006"
   ]
  },
  {
   "cell_type": "code",
   "execution_count": 29,
   "metadata": {
    "colab": {
     "base_uri": "https://localhost:8080/",
     "height": 0
    },
    "id": "eoi7b1wO0ega",
    "outputId": "23dabcba-105e-4aef-fd00-56d7c7f6151e"
   },
   "outputs": [
    {
     "name": "stdout",
     "output_type": "stream",
     "text": [
      "하한값 : 10.300000000000006,  상한값 : 46.29999999999999\n"
     ]
    },
    {
     "data": {
      "text/html": [
       "\n",
       "  <div id=\"df-04b9503c-079a-41bc-adf5-cca0e19b646f\">\n",
       "    <div class=\"colab-df-container\">\n",
       "      <div>\n",
       "<style scoped>\n",
       "    .dataframe tbody tr th:only-of-type {\n",
       "        vertical-align: middle;\n",
       "    }\n",
       "\n",
       "    .dataframe tbody tr th {\n",
       "        vertical-align: top;\n",
       "    }\n",
       "\n",
       "    .dataframe thead th {\n",
       "        text-align: right;\n",
       "    }\n",
       "</style>\n",
       "<table border=\"1\" class=\"dataframe\">\n",
       "  <thead>\n",
       "    <tr style=\"text-align: right;\">\n",
       "      <th></th>\n",
       "      <th>id</th>\n",
       "      <th>gender</th>\n",
       "      <th>age</th>\n",
       "      <th>hypertension</th>\n",
       "      <th>heart_disease</th>\n",
       "      <th>ever_married</th>\n",
       "      <th>work_type</th>\n",
       "      <th>Residence_type</th>\n",
       "      <th>avg_glucose_level</th>\n",
       "      <th>bmi</th>\n",
       "      <th>smoking_status</th>\n",
       "      <th>stroke</th>\n",
       "    </tr>\n",
       "  </thead>\n",
       "  <tbody>\n",
       "  </tbody>\n",
       "</table>\n",
       "</div>\n",
       "      <button class=\"colab-df-convert\" onclick=\"convertToInteractive('df-04b9503c-079a-41bc-adf5-cca0e19b646f')\"\n",
       "              title=\"Convert this dataframe to an interactive table.\"\n",
       "              style=\"display:none;\">\n",
       "        \n",
       "  <svg xmlns=\"http://www.w3.org/2000/svg\" height=\"24px\"viewBox=\"0 0 24 24\"\n",
       "       width=\"24px\">\n",
       "    <path d=\"M0 0h24v24H0V0z\" fill=\"none\"/>\n",
       "    <path d=\"M18.56 5.44l.94 2.06.94-2.06 2.06-.94-2.06-.94-.94-2.06-.94 2.06-2.06.94zm-11 1L8.5 8.5l.94-2.06 2.06-.94-2.06-.94L8.5 2.5l-.94 2.06-2.06.94zm10 10l.94 2.06.94-2.06 2.06-.94-2.06-.94-.94-2.06-.94 2.06-2.06.94z\"/><path d=\"M17.41 7.96l-1.37-1.37c-.4-.4-.92-.59-1.43-.59-.52 0-1.04.2-1.43.59L10.3 9.45l-7.72 7.72c-.78.78-.78 2.05 0 2.83L4 21.41c.39.39.9.59 1.41.59.51 0 1.02-.2 1.41-.59l7.78-7.78 2.81-2.81c.8-.78.8-2.07 0-2.86zM5.41 20L4 18.59l7.72-7.72 1.47 1.35L5.41 20z\"/>\n",
       "  </svg>\n",
       "      </button>\n",
       "      \n",
       "  <style>\n",
       "    .colab-df-container {\n",
       "      display:flex;\n",
       "      flex-wrap:wrap;\n",
       "      gap: 12px;\n",
       "    }\n",
       "\n",
       "    .colab-df-convert {\n",
       "      background-color: #E8F0FE;\n",
       "      border: none;\n",
       "      border-radius: 50%;\n",
       "      cursor: pointer;\n",
       "      display: none;\n",
       "      fill: #1967D2;\n",
       "      height: 32px;\n",
       "      padding: 0 0 0 0;\n",
       "      width: 32px;\n",
       "    }\n",
       "\n",
       "    .colab-df-convert:hover {\n",
       "      background-color: #E2EBFA;\n",
       "      box-shadow: 0px 1px 2px rgba(60, 64, 67, 0.3), 0px 1px 3px 1px rgba(60, 64, 67, 0.15);\n",
       "      fill: #174EA6;\n",
       "    }\n",
       "\n",
       "    [theme=dark] .colab-df-convert {\n",
       "      background-color: #3B4455;\n",
       "      fill: #D2E3FC;\n",
       "    }\n",
       "\n",
       "    [theme=dark] .colab-df-convert:hover {\n",
       "      background-color: #434B5C;\n",
       "      box-shadow: 0px 1px 3px 1px rgba(0, 0, 0, 0.15);\n",
       "      filter: drop-shadow(0px 1px 2px rgba(0, 0, 0, 0.3));\n",
       "      fill: #FFFFFF;\n",
       "    }\n",
       "  </style>\n",
       "\n",
       "      <script>\n",
       "        const buttonEl =\n",
       "          document.querySelector('#df-04b9503c-079a-41bc-adf5-cca0e19b646f button.colab-df-convert');\n",
       "        buttonEl.style.display =\n",
       "          google.colab.kernel.accessAllowed ? 'block' : 'none';\n",
       "\n",
       "        async function convertToInteractive(key) {\n",
       "          const element = document.querySelector('#df-04b9503c-079a-41bc-adf5-cca0e19b646f');\n",
       "          const dataTable =\n",
       "            await google.colab.kernel.invokeFunction('convertToInteractive',\n",
       "                                                     [key], {});\n",
       "          if (!dataTable) return;\n",
       "\n",
       "          const docLinkHtml = 'Like what you see? Visit the ' +\n",
       "            '<a target=\"_blank\" href=https://colab.research.google.com/notebooks/data_table.ipynb>data table notebook</a>'\n",
       "            + ' to learn more about interactive tables.';\n",
       "          element.innerHTML = '';\n",
       "          dataTable['output_type'] = 'display_data';\n",
       "          await google.colab.output.renderOutput(dataTable, element);\n",
       "          const docLink = document.createElement('div');\n",
       "          docLink.innerHTML = docLinkHtml;\n",
       "          element.appendChild(docLink);\n",
       "        }\n",
       "      </script>\n",
       "    </div>\n",
       "  </div>\n",
       "  "
      ],
      "text/plain": [
       "Empty DataFrame\n",
       "Columns: [id, gender, age, hypertension, heart_disease, ever_married, work_type, Residence_type, avg_glucose_level, bmi, smoking_status, stroke]\n",
       "Index: []"
      ]
     },
     "execution_count": 29,
     "metadata": {},
     "output_type": "execute_result"
    }
   ],
   "source": [
    "outlier_df(stroke, \"bmi\")"
   ]
  },
  {
   "cell_type": "markdown",
   "metadata": {
    "id": "Vo9h9jdm80rD"
   },
   "source": [
    "- 혈당 포도당 수치가 공복, 식전, 식후 중 어느 것을 기준으로 봐야할지 잘 모르겠다..\n",
    "- 200이 넘는 값을 상한값으로 대체한다."
   ]
  },
  {
   "cell_type": "code",
   "execution_count": 30,
   "metadata": {
    "colab": {
     "base_uri": "https://localhost:8080/",
     "height": 0
    },
    "id": "F5kWaLcx0fXt",
    "outputId": "2815a1ea-ba06-41ef-d37f-74ffa78e1ed1"
   },
   "outputs": [
    {
     "data": {
      "image/png": "[encoded data removed]",
      "text/plain": [
       "<Figure size 432x288 with 1 Axes>"
      ]
     },
     "metadata": {
      "needs_background": "light"
     },
     "output_type": "display_data"
    }
   ],
   "source": [
    "sns.boxplot(data=stroke, x=\"avg_glucose_level\")\n",
    "plt.show()"
   ]
  },
  {
   "cell_type": "code",
   "execution_count": 31,
   "metadata": {
    "id": "tZ8eyTm00hR1"
   },
   "outputs": [],
   "source": [
    "stroke.loc[stroke[\"avg_glucose_level\"] > 200, \"avg_glucose_level\"] = 169\n",
    "stroke.loc[stroke[\"avg_glucose_level\"] < 21, \"avg_glucose_level\"] = 21"
   ]
  },
  {
   "cell_type": "markdown",
   "metadata": {
    "id": "HYr5Pbug9IDj"
   },
   "source": [
    "- 전체 변수의 히스토그램"
   ]
  },
  {
   "cell_type": "code",
   "execution_count": 32,
   "metadata": {
    "colab": {
     "base_uri": "https://localhost:8080/",
     "height": 0
    },
    "id": "SSWKPZxz0i-X",
    "outputId": "3a36ab23-c4f7-46ba-e240-dc5ad36fc4b0"
   },
   "outputs": [
    {
     "data": {
      "image/png": "[encoded data removed]",
      "text/plain": [
       "<Figure size 1152x720 with 9 Axes>"
      ]
     },
     "metadata": {
      "needs_background": "light"
     },
     "output_type": "display_data"
    }
   ],
   "source": [
    "_ = stroke.hist(figsize=(16, 10), bins=50)"
   ]
  },
  {
   "cell_type": "markdown",
   "metadata": {
    "id": "2QbW1WEA9KVW"
   },
   "source": [
    "- 수치형 변수 간의 상관계수"
   ]
  },
  {
   "cell_type": "code",
   "execution_count": 33,
   "metadata": {
    "colab": {
     "base_uri": "https://localhost:8080/",
     "height": 0
    },
    "id": "K_NB57Ye0j5W",
    "outputId": "acf5e35a-907d-4877-df3c-be3e6b8cafe1"
   },
   "outputs": [
    {
     "data": {
      "image/png": "[encoded data removed]",
      "text/plain": [
       "<Figure size 432x432 with 2 Axes>"
      ]
     },
     "metadata": {
      "needs_background": "light"
     },
     "output_type": "display_data"
    }
   ],
   "source": [
    "mask = np.triu(np.ones_like(stroke.corr()))\n",
    "\n",
    "plt.figure(figsize=(6, 6))\n",
    "sns.heatmap(stroke.corr(), cmap=\"coolwarm\", vmin=-1, vmax=1, mask=mask, annot=True, fmt=\"1.1f\")\n",
    "plt.show()"
   ]
  },
  {
   "cell_type": "markdown",
   "metadata": {
    "id": "V4Tu74NJ9caR"
   },
   "source": [
    "범주별 히스토그램"
   ]
  },
  {
   "cell_type": "code",
   "execution_count": 34,
   "metadata": {
    "id": "MYs1ZoM90k-r"
   },
   "outputs": [],
   "source": [
    "def hist_plot(data, col1, col2):\n",
    "    plt.figure(figsize=(12, 5))\n",
    "    sns.histplot(data=data, x=col1, hue=col2, kde=True)\n",
    "    plt.show()"
   ]
  },
  {
   "cell_type": "code",
   "execution_count": 35,
   "metadata": {
    "colab": {
     "base_uri": "https://localhost:8080/",
     "height": 0
    },
    "id": "0NKx7O340l9B",
    "outputId": "1cd661f8-40e7-49a0-e13f-a7a3cc1e212f"
   },
   "outputs": [
    {
     "data": {
      "image/png": "[encoded data removed]",
      "text/plain": [
       "<Figure size 864x360 with 1 Axes>"
      ]
     },
     "metadata": {
      "needs_background": "light"
     },
     "output_type": "display_data"
    }
   ],
   "source": [
    "hist_plot(stroke, \"bmi\", \"hypertension\")"
   ]
  },
  {
   "cell_type": "code",
   "execution_count": 36,
   "metadata": {
    "colab": {
     "base_uri": "https://localhost:8080/",
     "height": 0
    },
    "id": "Rt6wfsI10m1A",
    "outputId": "8b88a8ae-da55-4407-e726-a2056fc50b8b"
   },
   "outputs": [
    {
     "data": {
      "image/png": "[encoded data removed]",
      "text/plain": [
       "<Figure size 864x360 with 1 Axes>"
      ]
     },
     "metadata": {
      "needs_background": "light"
     },
     "output_type": "display_data"
    }
   ],
   "source": [
    "hist_plot(stroke, \"bmi\", \"heart_disease\")"
   ]
  },
  {
   "cell_type": "code",
   "execution_count": 37,
   "metadata": {
    "colab": {
     "base_uri": "https://localhost:8080/",
     "height": 0
    },
    "id": "9Vn3yP440oEf",
    "outputId": "5a98c32d-5320-409d-94fe-7d2ddf047f13"
   },
   "outputs": [
    {
     "data": {
      "image/png": "[encoded data removed]",
      "text/plain": [
       "<Figure size 864x360 with 1 Axes>"
      ]
     },
     "metadata": {
      "needs_background": "light"
     },
     "output_type": "display_data"
    }
   ],
   "source": [
    "hist_plot(stroke, \"avg_glucose_level\", \"smoking_status\")"
   ]
  },
  {
   "cell_type": "code",
   "execution_count": 38,
   "metadata": {
    "colab": {
     "base_uri": "https://localhost:8080/",
     "height": 0
    },
    "id": "KM6-3k_P0pCx",
    "outputId": "9bf1a048-9745-43a0-e748-2fc8a03b74f0"
   },
   "outputs": [
    {
     "data": {
      "image/png": "[encoded data removed]",
      "text/plain": [
       "<Figure size 864x360 with 1 Axes>"
      ]
     },
     "metadata": {
      "needs_background": "light"
     },
     "output_type": "display_data"
    }
   ],
   "source": [
    "hist_plot(stroke, \"bmi\", \"smoking_status\")"
   ]
  },
  {
   "cell_type": "markdown",
   "metadata": {
    "id": "MfxJvgnB9iMJ"
   },
   "source": [
    "- target 변수 분포 확인\n",
    "- 데이터가 불균형하다."
   ]
  },
  {
   "cell_type": "code",
   "execution_count": 39,
   "metadata": {
    "colab": {
     "base_uri": "https://localhost:8080/"
    },
    "id": "kySPhqxL0qN_",
    "outputId": "e956d5f8-01b1-43b7-bf6f-45199d65fe3a"
   },
   "outputs": [
    {
     "data": {
      "text/plain": [
       "0    4861\n",
       "1     249\n",
       "Name: stroke, dtype: int64"
      ]
     },
     "execution_count": 39,
     "metadata": {},
     "output_type": "execute_result"
    }
   ],
   "source": [
    "stroke[\"stroke\"].value_counts()"
   ]
  },
  {
   "cell_type": "code",
   "execution_count": 40,
   "metadata": {
    "colab": {
     "base_uri": "https://localhost:8080/",
     "height": 0
    },
    "id": "Me8TqUBL0rSG",
    "outputId": "870f8394-3d4f-4cb0-92b1-83d1c3608efb"
   },
   "outputs": [
    {
     "data": {
      "image/png": "[encoded data removed]",
      "text/plain": [
       "<Figure size 432x288 with 1 Axes>"
      ]
     },
     "metadata": {
      "needs_background": "light"
     },
     "output_type": "display_data"
    }
   ],
   "source": [
    "sns.countplot(data=stroke, x=\"stroke\")\n",
    "plt.show()"
   ]
  },
  {
   "cell_type": "markdown",
   "metadata": {
    "id": "nqtHthUf-JhL"
   },
   "source": [
    "# 전처리"
   ]
  },
  {
   "cell_type": "markdown",
   "metadata": {
    "id": "SSYAe-mS98ci"
   },
   "source": [
    "- 불필요한 id 컬럼 삭제"
   ]
  },
  {
   "cell_type": "code",
   "execution_count": 41,
   "metadata": {
    "id": "mqTGl8SE0sLy"
   },
   "outputs": [],
   "source": [
    "stroke = stroke.drop([\"id\"], axis=1)"
   ]
  },
  {
   "cell_type": "markdown",
   "metadata": {
    "id": "meTDNkWk9-cj"
   },
   "source": [
    "- 성별에 Other은 뭐지? 하나 뿐이므로 제거"
   ]
  },
  {
   "cell_type": "code",
   "execution_count": 42,
   "metadata": {
    "colab": {
     "base_uri": "https://localhost:8080/",
     "height": 0
    },
    "id": "o6SFWS_x05a9",
    "outputId": "cdd9bcf7-37ed-4827-a12d-fb54100b5172"
   },
   "outputs": [
    {
     "data": {
      "text/html": [
       "\n",
       "  <div id=\"df-85208dfb-f9a9-4a1f-a51c-362ca21628f4\">\n",
       "    <div class=\"colab-df-container\">\n",
       "      <div>\n",
       "<style scoped>\n",
       "    .dataframe tbody tr th:only-of-type {\n",
       "        vertical-align: middle;\n",
       "    }\n",
       "\n",
       "    .dataframe tbody tr th {\n",
       "        vertical-align: top;\n",
       "    }\n",
       "\n",
       "    .dataframe thead th {\n",
       "        text-align: right;\n",
       "    }\n",
       "</style>\n",
       "<table border=\"1\" class=\"dataframe\">\n",
       "  <thead>\n",
       "    <tr style=\"text-align: right;\">\n",
       "      <th></th>\n",
       "      <th>gender</th>\n",
       "      <th>age</th>\n",
       "      <th>hypertension</th>\n",
       "      <th>heart_disease</th>\n",
       "      <th>ever_married</th>\n",
       "      <th>work_type</th>\n",
       "      <th>Residence_type</th>\n",
       "      <th>avg_glucose_level</th>\n",
       "      <th>bmi</th>\n",
       "      <th>smoking_status</th>\n",
       "      <th>stroke</th>\n",
       "    </tr>\n",
       "  </thead>\n",
       "  <tbody>\n",
       "    <tr>\n",
       "      <th>3116</th>\n",
       "      <td>Other</td>\n",
       "      <td>26.0</td>\n",
       "      <td>0</td>\n",
       "      <td>0</td>\n",
       "      <td>No</td>\n",
       "      <td>Private</td>\n",
       "      <td>Rural</td>\n",
       "      <td>143.33</td>\n",
       "      <td>22.4</td>\n",
       "      <td>formerly smoked</td>\n",
       "      <td>0</td>\n",
       "    </tr>\n",
       "  </tbody>\n",
       "</table>\n",
       "</div>\n",
       "      <button class=\"colab-df-convert\" onclick=\"convertToInteractive('df-85208dfb-f9a9-4a1f-a51c-362ca21628f4')\"\n",
       "              title=\"Convert this dataframe to an interactive table.\"\n",
       "              style=\"display:none;\">\n",
       "        \n",
       "  <svg xmlns=\"http://www.w3.org/2000/svg\" height=\"24px\"viewBox=\"0 0 24 24\"\n",
       "       width=\"24px\">\n",
       "    <path d=\"M0 0h24v24H0V0z\" fill=\"none\"/>\n",
       "    <path d=\"M18.56 5.44l.94 2.06.94-2.06 2.06-.94-2.06-.94-.94-2.06-.94 2.06-2.06.94zm-11 1L8.5 8.5l.94-2.06 2.06-.94-2.06-.94L8.5 2.5l-.94 2.06-2.06.94zm10 10l.94 2.06.94-2.06 2.06-.94-2.06-.94-.94-2.06-.94 2.06-2.06.94z\"/><path d=\"M17.41 7.96l-1.37-1.37c-.4-.4-.92-.59-1.43-.59-.52 0-1.04.2-1.43.59L10.3 9.45l-7.72 7.72c-.78.78-.78 2.05 0 2.83L4 21.41c.39.39.9.59 1.41.59.51 0 1.02-.2 1.41-.59l7.78-7.78 2.81-2.81c.8-.78.8-2.07 0-2.86zM5.41 20L4 18.59l7.72-7.72 1.47 1.35L5.41 20z\"/>\n",
       "  </svg>\n",
       "      </button>\n",
       "      \n",
       "  <style>\n",
       "    .colab-df-container {\n",
       "      display:flex;\n",
       "      flex-wrap:wrap;\n",
       "      gap: 12px;\n",
       "    }\n",
       "\n",
       "    .colab-df-convert {\n",
       "      background-color: #E8F0FE;\n",
       "      border: none;\n",
       "      border-radius: 50%;\n",
       "      cursor: pointer;\n",
       "      display: none;\n",
       "      fill: #1967D2;\n",
       "      height: 32px;\n",
       "      padding: 0 0 0 0;\n",
       "      width: 32px;\n",
       "    }\n",
       "\n",
       "    .colab-df-convert:hover {\n",
       "      background-color: #E2EBFA;\n",
       "      box-shadow: 0px 1px 2px rgba(60, 64, 67, 0.3), 0px 1px 3px 1px rgba(60, 64, 67, 0.15);\n",
       "      fill: #174EA6;\n",
       "    }\n",
       "\n",
       "    [theme=dark] .colab-df-convert {\n",
       "      background-color: #3B4455;\n",
       "      fill: #D2E3FC;\n",
       "    }\n",
       "\n",
       "    [theme=dark] .colab-df-convert:hover {\n",
       "      background-color: #434B5C;\n",
       "      box-shadow: 0px 1px 3px 1px rgba(0, 0, 0, 0.15);\n",
       "      filter: drop-shadow(0px 1px 2px rgba(0, 0, 0, 0.3));\n",
       "      fill: #FFFFFF;\n",
       "    }\n",
       "  </style>\n",
       "\n",
       "      <script>\n",
       "        const buttonEl =\n",
       "          document.querySelector('#df-85208dfb-f9a9-4a1f-a51c-362ca21628f4 button.colab-df-convert');\n",
       "        buttonEl.style.display =\n",
       "          google.colab.kernel.accessAllowed ? 'block' : 'none';\n",
       "\n",
       "        async function convertToInteractive(key) {\n",
       "          const element = document.querySelector('#df-85208dfb-f9a9-4a1f-a51c-362ca21628f4');\n",
       "          const dataTable =\n",
       "            await google.colab.kernel.invokeFunction('convertToInteractive',\n",
       "                                                     [key], {});\n",
       "          if (!dataTable) return;\n",
       "\n",
       "          const docLinkHtml = 'Like what you see? Visit the ' +\n",
       "            '<a target=\"_blank\" href=https://colab.research.google.com/notebooks/data_table.ipynb>data table notebook</a>'\n",
       "            + ' to learn more about interactive tables.';\n",
       "          element.innerHTML = '';\n",
       "          dataTable['output_type'] = 'display_data';\n",
       "          await google.colab.output.renderOutput(dataTable, element);\n",
       "          const docLink = document.createElement('div');\n",
       "          docLink.innerHTML = docLinkHtml;\n",
       "          element.appendChild(docLink);\n",
       "        }\n",
       "      </script>\n",
       "    </div>\n",
       "  </div>\n",
       "  "
      ],
      "text/plain": [
       "     gender   age  hypertension  heart_disease ever_married work_type  \\\n",
       "3116  Other  26.0             0              0           No   Private   \n",
       "\n",
       "     Residence_type  avg_glucose_level   bmi   smoking_status  stroke  \n",
       "3116          Rural             143.33  22.4  formerly smoked       0  "
      ]
     },
     "execution_count": 42,
     "metadata": {},
     "output_type": "execute_result"
    }
   ],
   "source": [
    "stroke[stroke[\"gender\"] == \"Other\"]"
   ]
  },
  {
   "cell_type": "code",
   "execution_count": 43,
   "metadata": {
    "id": "ENL5LhYV06X-"
   },
   "outputs": [],
   "source": [
    "stroke = stroke.drop(3116, axis=0)"
   ]
  },
  {
   "cell_type": "markdown",
   "metadata": {
    "id": "8zEXHGZR-GDp"
   },
   "source": [
    "## 스케일링"
   ]
  },
  {
   "cell_type": "code",
   "execution_count": 44,
   "metadata": {
    "id": "wbEAWUFb07dH"
   },
   "outputs": [],
   "source": [
    "target = stroke[\"stroke\"]\n",
    "num_cols = [\"age\", \"avg_glucose_level\", \"bmi\"]\n",
    "cat_cols = [\"gender\", \"hypertension\", \"heart_disease\", \"ever_married\", \"work_type\", \"Residence_type\", \"smoking_status\"]"
   ]
  },
  {
   "cell_type": "markdown",
   "metadata": {
    "id": "XqS8OonAbH3J"
   },
   "source": [
    "- avg_glucose_level log 변환"
   ]
  },
  {
   "cell_type": "code",
   "execution_count": 45,
   "metadata": {
    "colab": {
     "base_uri": "https://localhost:8080/",
     "height": 0
    },
    "id": "76NxoWb7bUSO",
    "outputId": "6aa78738-3683-4801-fb14-1feb385fb968"
   },
   "outputs": [
    {
     "data": {
      "text/plain": [
       "<matplotlib.axes._subplots.AxesSubplot at 0x7ffbb9c98550>"
      ]
     },
     "execution_count": 45,
     "metadata": {},
     "output_type": "execute_result"
    },
    {
     "data": {
      "image/png": "[encoded data removed]",
      "text/plain": [
       "<Figure size 432x288 with 1 Axes>"
      ]
     },
     "metadata": {
      "needs_background": "light"
     },
     "output_type": "display_data"
    }
   ],
   "source": [
    "stroke[\"avg_glucose_level\"].plot(kind=\"hist\", bins=50)"
   ]
  },
  {
   "cell_type": "code",
   "execution_count": 46,
   "metadata": {
    "colab": {
     "base_uri": "https://localhost:8080/",
     "height": 0
    },
    "id": "cq2Jp0VzbMNv",
    "outputId": "ac96d283-3b91-4d40-f614-9ca8d2fa385c"
   },
   "outputs": [
    {
     "data": {
      "text/plain": [
       "<matplotlib.axes._subplots.AxesSubplot at 0x7ffbb9cb5b90>"
      ]
     },
     "execution_count": 46,
     "metadata": {},
     "output_type": "execute_result"
    },
    {
     "data": {
      "image/png": "[encoded data removed]",
      "text/plain": [
       "<Figure size 432x288 with 1 Axes>"
      ]
     },
     "metadata": {
      "needs_background": "light"
     },
     "output_type": "display_data"
    }
   ],
   "source": [
    "np.log1p(stroke[\"avg_glucose_level\"]).plot(kind=\"hist\", bins=50)"
   ]
  },
  {
   "cell_type": "code",
   "execution_count": 47,
   "metadata": {
    "id": "VTESlk16bTe7"
   },
   "outputs": [],
   "source": [
    "stroke[\"avg_glucose_level\"] = np.log1p(stroke[\"avg_glucose_level\"])"
   ]
  },
  {
   "cell_type": "markdown",
   "metadata": {
    "id": "p6kgF2C6-RFV"
   },
   "source": [
    "- 연속형 변수 StandardScaler"
   ]
  },
  {
   "cell_type": "code",
   "execution_count": 48,
   "metadata": {
    "id": "KQr0KjR-M0Rz"
   },
   "outputs": [],
   "source": [
    "scale = StandardScaler()\n",
    "stroke[num_cols] = scale.fit_transform(stroke[num_cols])"
   ]
  },
  {
   "cell_type": "markdown",
   "metadata": {
    "id": "yeZrx_I5-NNc"
   },
   "source": [
    "- 범주형 변수 One-hot Endoding"
   ]
  },
  {
   "cell_type": "code",
   "execution_count": 49,
   "metadata": {
    "id": "4i2TPU471CqJ"
   },
   "outputs": [],
   "source": [
    "stroke = stroke.drop(\"stroke\", axis=1)\n",
    "stroke = pd.get_dummies(stroke)\n",
    "\n",
    "stroke = pd.concat([stroke, target], axis=1)"
   ]
  },
  {
   "cell_type": "code",
   "execution_count": 50,
   "metadata": {
    "colab": {
     "base_uri": "https://localhost:8080/",
     "height": 0
    },
    "id": "Sv78SSanmjWX",
    "outputId": "c897cd48-4b11-4fe7-f957-6a4db669f9a6"
   },
   "outputs": [
    {
     "data": {
      "text/html": [
       "\n",
       "  <div id=\"df-27e8d060-51f3-4647-a5df-b8c951e7a832\">\n",
       "    <div class=\"colab-df-container\">\n",
       "      <div>\n",
       "<style scoped>\n",
       "    .dataframe tbody tr th:only-of-type {\n",
       "        vertical-align: middle;\n",
       "    }\n",
       "\n",
       "    .dataframe tbody tr th {\n",
       "        vertical-align: top;\n",
       "    }\n",
       "\n",
       "    .dataframe thead th {\n",
       "        text-align: right;\n",
       "    }\n",
       "</style>\n",
       "<table border=\"1\" class=\"dataframe\">\n",
       "  <thead>\n",
       "    <tr style=\"text-align: right;\">\n",
       "      <th></th>\n",
       "      <th>age</th>\n",
       "      <th>hypertension</th>\n",
       "      <th>heart_disease</th>\n",
       "      <th>avg_glucose_level</th>\n",
       "      <th>bmi</th>\n",
       "      <th>gender_Female</th>\n",
       "      <th>gender_Male</th>\n",
       "      <th>ever_married_No</th>\n",
       "      <th>ever_married_Yes</th>\n",
       "      <th>work_type_Govt_job</th>\n",
       "      <th>...</th>\n",
       "      <th>work_type_Private</th>\n",
       "      <th>work_type_Self-employed</th>\n",
       "      <th>work_type_children</th>\n",
       "      <th>Residence_type_Rural</th>\n",
       "      <th>Residence_type_Urban</th>\n",
       "      <th>smoking_status_Unknown</th>\n",
       "      <th>smoking_status_formerly smoked</th>\n",
       "      <th>smoking_status_never smoked</th>\n",
       "      <th>smoking_status_smokes</th>\n",
       "      <th>stroke</th>\n",
       "    </tr>\n",
       "  </thead>\n",
       "  <tbody>\n",
       "    <tr>\n",
       "      <th>0</th>\n",
       "      <td>1.051242</td>\n",
       "      <td>0</td>\n",
       "      <td>1</td>\n",
       "      <td>1.780216</td>\n",
       "      <td>1.104760</td>\n",
       "      <td>0</td>\n",
       "      <td>1</td>\n",
       "      <td>0</td>\n",
       "      <td>1</td>\n",
       "      <td>0</td>\n",
       "      <td>...</td>\n",
       "      <td>1</td>\n",
       "      <td>0</td>\n",
       "      <td>0</td>\n",
       "      <td>0</td>\n",
       "      <td>1</td>\n",
       "      <td>0</td>\n",
       "      <td>1</td>\n",
       "      <td>0</td>\n",
       "      <td>0</td>\n",
       "      <td>1</td>\n",
       "    </tr>\n",
       "    <tr>\n",
       "      <th>1</th>\n",
       "      <td>0.785889</td>\n",
       "      <td>0</td>\n",
       "      <td>0</td>\n",
       "      <td>1.780216</td>\n",
       "      <td>0.244108</td>\n",
       "      <td>1</td>\n",
       "      <td>0</td>\n",
       "      <td>0</td>\n",
       "      <td>1</td>\n",
       "      <td>0</td>\n",
       "      <td>...</td>\n",
       "      <td>0</td>\n",
       "      <td>1</td>\n",
       "      <td>0</td>\n",
       "      <td>1</td>\n",
       "      <td>0</td>\n",
       "      <td>0</td>\n",
       "      <td>0</td>\n",
       "      <td>1</td>\n",
       "      <td>0</td>\n",
       "      <td>1</td>\n",
       "    </tr>\n",
       "    <tr>\n",
       "      <th>2</th>\n",
       "      <td>1.626174</td>\n",
       "      <td>0</td>\n",
       "      <td>1</td>\n",
       "      <td>0.294148</td>\n",
       "      <td>0.528999</td>\n",
       "      <td>0</td>\n",
       "      <td>1</td>\n",
       "      <td>0</td>\n",
       "      <td>1</td>\n",
       "      <td>0</td>\n",
       "      <td>...</td>\n",
       "      <td>1</td>\n",
       "      <td>0</td>\n",
       "      <td>0</td>\n",
       "      <td>1</td>\n",
       "      <td>0</td>\n",
       "      <td>0</td>\n",
       "      <td>0</td>\n",
       "      <td>1</td>\n",
       "      <td>0</td>\n",
       "      <td>1</td>\n",
       "    </tr>\n",
       "    <tr>\n",
       "      <th>3</th>\n",
       "      <td>0.255182</td>\n",
       "      <td>0</td>\n",
       "      <td>0</td>\n",
       "      <td>1.821981</td>\n",
       "      <td>0.795815</td>\n",
       "      <td>1</td>\n",
       "      <td>0</td>\n",
       "      <td>0</td>\n",
       "      <td>1</td>\n",
       "      <td>0</td>\n",
       "      <td>...</td>\n",
       "      <td>1</td>\n",
       "      <td>0</td>\n",
       "      <td>0</td>\n",
       "      <td>0</td>\n",
       "      <td>1</td>\n",
       "      <td>0</td>\n",
       "      <td>0</td>\n",
       "      <td>0</td>\n",
       "      <td>1</td>\n",
       "      <td>1</td>\n",
       "    </tr>\n",
       "    <tr>\n",
       "      <th>4</th>\n",
       "      <td>1.581949</td>\n",
       "      <td>1</td>\n",
       "      <td>0</td>\n",
       "      <td>1.875309</td>\n",
       "      <td>-0.664652</td>\n",
       "      <td>1</td>\n",
       "      <td>0</td>\n",
       "      <td>0</td>\n",
       "      <td>1</td>\n",
       "      <td>0</td>\n",
       "      <td>...</td>\n",
       "      <td>0</td>\n",
       "      <td>1</td>\n",
       "      <td>0</td>\n",
       "      <td>1</td>\n",
       "      <td>0</td>\n",
       "      <td>0</td>\n",
       "      <td>0</td>\n",
       "      <td>1</td>\n",
       "      <td>0</td>\n",
       "      <td>1</td>\n",
       "    </tr>\n",
       "  </tbody>\n",
       "</table>\n",
       "<p>5 rows × 21 columns</p>\n",
       "</div>\n",
       "      <button class=\"colab-df-convert\" onclick=\"convertToInteractive('df-27e8d060-51f3-4647-a5df-b8c951e7a832')\"\n",
       "              title=\"Convert this dataframe to an interactive table.\"\n",
       "              style=\"display:none;\">\n",
       "        \n",
       "  <svg xmlns=\"http://www.w3.org/2000/svg\" height=\"24px\"viewBox=\"0 0 24 24\"\n",
       "       width=\"24px\">\n",
       "    <path d=\"M0 0h24v24H0V0z\" fill=\"none\"/>\n",
       "    <path d=\"M18.56 5.44l.94 2.06.94-2.06 2.06-.94-2.06-.94-.94-2.06-.94 2.06-2.06.94zm-11 1L8.5 8.5l.94-2.06 2.06-.94-2.06-.94L8.5 2.5l-.94 2.06-2.06.94zm10 10l.94 2.06.94-2.06 2.06-.94-2.06-.94-.94-2.06-.94 2.06-2.06.94z\"/><path d=\"M17.41 7.96l-1.37-1.37c-.4-.4-.92-.59-1.43-.59-.52 0-1.04.2-1.43.59L10.3 9.45l-7.72 7.72c-.78.78-.78 2.05 0 2.83L4 21.41c.39.39.9.59 1.41.59.51 0 1.02-.2 1.41-.59l7.78-7.78 2.81-2.81c.8-.78.8-2.07 0-2.86zM5.41 20L4 18.59l7.72-7.72 1.47 1.35L5.41 20z\"/>\n",
       "  </svg>\n",
       "      </button>\n",
       "      \n",
       "  <style>\n",
       "    .colab-df-container {\n",
       "      display:flex;\n",
       "      flex-wrap:wrap;\n",
       "      gap: 12px;\n",
       "    }\n",
       "\n",
       "    .colab-df-convert {\n",
       "      background-color: #E8F0FE;\n",
       "      border: none;\n",
       "      border-radius: 50%;\n",
       "      cursor: pointer;\n",
       "      display: none;\n",
       "      fill: #1967D2;\n",
       "      height: 32px;\n",
       "      padding: 0 0 0 0;\n",
       "      width: 32px;\n",
       "    }\n",
       "\n",
       "    .colab-df-convert:hover {\n",
       "      background-color: #E2EBFA;\n",
       "      box-shadow: 0px 1px 2px rgba(60, 64, 67, 0.3), 0px 1px 3px 1px rgba(60, 64, 67, 0.15);\n",
       "      fill: #174EA6;\n",
       "    }\n",
       "\n",
       "    [theme=dark] .colab-df-convert {\n",
       "      background-color: #3B4455;\n",
       "      fill: #D2E3FC;\n",
       "    }\n",
       "\n",
       "    [theme=dark] .colab-df-convert:hover {\n",
       "      background-color: #434B5C;\n",
       "      box-shadow: 0px 1px 3px 1px rgba(0, 0, 0, 0.15);\n",
       "      filter: drop-shadow(0px 1px 2px rgba(0, 0, 0, 0.3));\n",
       "      fill: #FFFFFF;\n",
       "    }\n",
       "  </style>\n",
       "\n",
       "      <script>\n",
       "        const buttonEl =\n",
       "          document.querySelector('#df-27e8d060-51f3-4647-a5df-b8c951e7a832 button.colab-df-convert');\n",
       "        buttonEl.style.display =\n",
       "          google.colab.kernel.accessAllowed ? 'block' : 'none';\n",
       "\n",
       "        async function convertToInteractive(key) {\n",
       "          const element = document.querySelector('#df-27e8d060-51f3-4647-a5df-b8c951e7a832');\n",
       "          const dataTable =\n",
       "            await google.colab.kernel.invokeFunction('convertToInteractive',\n",
       "                                                     [key], {});\n",
       "          if (!dataTable) return;\n",
       "\n",
       "          const docLinkHtml = 'Like what you see? Visit the ' +\n",
       "            '<a target=\"_blank\" href=https://colab.research.google.com/notebooks/data_table.ipynb>data table notebook</a>'\n",
       "            + ' to learn more about interactive tables.';\n",
       "          element.innerHTML = '';\n",
       "          dataTable['output_type'] = 'display_data';\n",
       "          await google.colab.output.renderOutput(dataTable, element);\n",
       "          const docLink = document.createElement('div');\n",
       "          docLink.innerHTML = docLinkHtml;\n",
       "          element.appendChild(docLink);\n",
       "        }\n",
       "      </script>\n",
       "    </div>\n",
       "  </div>\n",
       "  "
      ],
      "text/plain": [
       "        age  hypertension  heart_disease  avg_glucose_level       bmi  \\\n",
       "0  1.051242             0              1           1.780216  1.104760   \n",
       "1  0.785889             0              0           1.780216  0.244108   \n",
       "2  1.626174             0              1           0.294148  0.528999   \n",
       "3  0.255182             0              0           1.821981  0.795815   \n",
       "4  1.581949             1              0           1.875309 -0.664652   \n",
       "\n",
       "   gender_Female  gender_Male  ever_married_No  ever_married_Yes  \\\n",
       "0              0            1                0                 1   \n",
       "1              1            0                0                 1   \n",
       "2              0            1                0                 1   \n",
       "3              1            0                0                 1   \n",
       "4              1            0                0                 1   \n",
       "\n",
       "   work_type_Govt_job  ...  work_type_Private  work_type_Self-employed  \\\n",
       "0                   0  ...                  1                        0   \n",
       "1                   0  ...                  0                        1   \n",
       "2                   0  ...                  1                        0   \n",
       "3                   0  ...                  1                        0   \n",
       "4                   0  ...                  0                        1   \n",
       "\n",
       "   work_type_children  Residence_type_Rural  Residence_type_Urban  \\\n",
       "0                   0                     0                     1   \n",
       "1                   0                     1                     0   \n",
       "2                   0                     1                     0   \n",
       "3                   0                     0                     1   \n",
       "4                   0                     1                     0   \n",
       "\n",
       "   smoking_status_Unknown  smoking_status_formerly smoked  \\\n",
       "0                       0                               1   \n",
       "1                       0                               0   \n",
       "2                       0                               0   \n",
       "3                       0                               0   \n",
       "4                       0                               0   \n",
       "\n",
       "   smoking_status_never smoked  smoking_status_smokes  stroke  \n",
       "0                            0                      0       1  \n",
       "1                            1                      0       1  \n",
       "2                            1                      0       1  \n",
       "3                            0                      1       1  \n",
       "4                            1                      0       1  \n",
       "\n",
       "[5 rows x 21 columns]"
      ]
     },
     "execution_count": 50,
     "metadata": {},
     "output_type": "execute_result"
    }
   ],
   "source": [
    "stroke.head()"
   ]
  },
  {
   "cell_type": "markdown",
   "metadata": {
    "id": "bV01WUdp-TsY"
   },
   "source": [
    "- 불균형한 데이터 오버 샘플링"
   ]
  },
  {
   "cell_type": "code",
   "execution_count": 51,
   "metadata": {
    "id": "NwKgR0S8pACj"
   },
   "outputs": [],
   "source": [
    "X = stroke.iloc[:, :-1]\n",
    "y = stroke.iloc[:, -1]"
   ]
  },
  {
   "cell_type": "code",
   "execution_count": 52,
   "metadata": {
    "id": "QkU4DkRcos36"
   },
   "outputs": [],
   "source": [
    "X_train, X_test, y_train, y_test = train_test_split(X, y, test_size=0.3, stratify=y, random_state=25)"
   ]
  },
  {
   "cell_type": "code",
   "execution_count": 53,
   "metadata": {
    "colab": {
     "base_uri": "https://localhost:8080/"
    },
    "id": "TasqsOEBDuTH",
    "outputId": "3fc3bc2e-98b5-4a15-c0d7-a8a5a5de436f"
   },
   "outputs": [
    {
     "data": {
      "text/plain": [
       "((6804, 20), (6804,), (1533, 20), (1533,))"
      ]
     },
     "execution_count": 53,
     "metadata": {},
     "output_type": "execute_result"
    }
   ],
   "source": [
    "import imblearn.over_sampling as osam \n",
    "ros = osam.RandomOverSampler(random_state=25)\n",
    "X_train, y_train = ros.fit_resample(X_train, y_train)\n",
    "\n",
    "X_train.shape, y_train.shape, X_test.shape, y_test.shape"
   ]
  },
  {
   "cell_type": "code",
   "execution_count": 54,
   "metadata": {
    "colab": {
     "base_uri": "https://localhost:8080/"
    },
    "id": "EjDJrBmG1NpQ",
    "outputId": "b0f37c3b-d515-4a00-aee9-93ea6476ea7a"
   },
   "outputs": [
    {
     "data": {
      "text/plain": [
       "0    3402\n",
       "1    3402\n",
       "Name: stroke, dtype: int64"
      ]
     },
     "execution_count": 54,
     "metadata": {},
     "output_type": "execute_result"
    }
   ],
   "source": [
    "y_train.value_counts()"
   ]
  },
  {
   "cell_type": "code",
   "execution_count": 55,
   "metadata": {
    "colab": {
     "base_uri": "https://localhost:8080/"
    },
    "id": "1TGVqjxtZV_5",
    "outputId": "0d2d04b0-7f86-4799-bea1-44af456480e6"
   },
   "outputs": [
    {
     "data": {
      "text/plain": [
       "0    1458\n",
       "1      75\n",
       "Name: stroke, dtype: int64"
      ]
     },
     "execution_count": 55,
     "metadata": {},
     "output_type": "execute_result"
    }
   ],
   "source": [
    "y_test.value_counts()"
   ]
  },
  {
   "cell_type": "code",
   "execution_count": 56,
   "metadata": {
    "colab": {
     "base_uri": "https://localhost:8080/",
     "height": 0
    },
    "id": "TcXhe4En2Czj",
    "outputId": "580efc85-3ab3-440e-e496-e1fb21c6de98"
   },
   "outputs": [
    {
     "data": {
      "image/png": "[encoded data removed]",
      "text/plain": [
       "<Figure size 432x288 with 1 Axes>"
      ]
     },
     "metadata": {
      "needs_background": "light"
     },
     "output_type": "display_data"
    }
   ],
   "source": [
    "target = y_train.value_counts()\n",
    "\n",
    "sns.barplot(x=target.index, y=target)\n",
    "plt.show()"
   ]
  },
  {
   "cell_type": "markdown",
   "metadata": {
    "id": "56kiUE-ZCukr"
   },
   "source": [
    "- 오버 샘플링으로 과적합이 발생하는 것 같다.\n",
    "- 오버 샘플링 후 target == 1인 데이터를 절반 삭제한다."
   ]
  },
  {
   "cell_type": "code",
   "execution_count": 57,
   "metadata": {
    "colab": {
     "base_uri": "https://localhost:8080/"
    },
    "id": "H8nUdqLq_ZT3",
    "outputId": "ea889e35-9c70-4ac8-e3d4-9b9fb52f3146"
   },
   "outputs": [
    {
     "name": "stdout",
     "output_type": "stream",
     "text": [
      "(6804, 21)\n"
     ]
    }
   ],
   "source": [
    "df = pd.concat([X_train, y_train], axis=1)\n",
    "print(df.shape)"
   ]
  },
  {
   "cell_type": "code",
   "execution_count": 58,
   "metadata": {
    "colab": {
     "base_uri": "https://localhost:8080/"
    },
    "id": "hbDkHyhqalSr",
    "outputId": "bac513ac-dae4-4434-a8c5-7d3f138d7cb8"
   },
   "outputs": [
    {
     "data": {
      "text/plain": [
       "((3402, 21), (3402, 21))"
      ]
     },
     "execution_count": 58,
     "metadata": {},
     "output_type": "execute_result"
    }
   ],
   "source": [
    "target_0 = df[df['stroke'] == 0] \n",
    "target_1 = df[df['stroke'] == 1] \n",
    "\n",
    "target_0 = pd.DataFrame(target_0).reset_index(drop=True)\n",
    "target_1 = pd.DataFrame(target_1).reset_index(drop=True)\n",
    "\n",
    "target_0.shape, target_1.shape"
   ]
  },
  {
   "cell_type": "code",
   "execution_count": 59,
   "metadata": {
    "colab": {
     "base_uri": "https://localhost:8080/"
    },
    "id": "Y1Rh9p6ebRoG",
    "outputId": "81ed0d88-d04f-4b1b-a216-665f5a7ba425"
   },
   "outputs": [
    {
     "data": {
      "text/plain": [
       "1701"
      ]
     },
     "execution_count": 59,
     "metadata": {},
     "output_type": "execute_result"
    }
   ],
   "source": [
    "round(len(df[df['stroke'] == 1]) / 2)"
   ]
  },
  {
   "cell_type": "code",
   "execution_count": 60,
   "metadata": {
    "id": "AWox5tWu_l5c"
   },
   "outputs": [],
   "source": [
    "target_1 = target_1.sample(1701, random_state=725)"
   ]
  },
  {
   "cell_type": "code",
   "execution_count": 61,
   "metadata": {
    "colab": {
     "base_uri": "https://localhost:8080/"
    },
    "id": "e8qXYS_W_lx_",
    "outputId": "1d532b66-b949-4afd-b868-489023a0ee64"
   },
   "outputs": [
    {
     "data": {
      "text/plain": [
       "0    3402\n",
       "1    1701\n",
       "Name: stroke, dtype: int64"
      ]
     },
     "execution_count": 61,
     "metadata": {},
     "output_type": "execute_result"
    }
   ],
   "source": [
    "df = pd.concat([target_0, target_1], axis=0).reset_index(drop=True)\n",
    "df['stroke'].value_counts()"
   ]
  },
  {
   "cell_type": "markdown",
   "metadata": {
    "id": "0I7QMwfC-ZPO"
   },
   "source": [
    "# 모델링"
   ]
  },
  {
   "cell_type": "code",
   "execution_count": 62,
   "metadata": {
    "id": "F8uOYXpWZMU8"
   },
   "outputs": [],
   "source": [
    "X_train = df.drop([\"stroke\"], axis=1)\n",
    "y_train = df[\"stroke\"]"
   ]
  },
  {
   "cell_type": "code",
   "execution_count": 63,
   "metadata": {
    "colab": {
     "base_uri": "https://localhost:8080/"
    },
    "id": "XPKZvN2GZTAY",
    "outputId": "05c0f662-e728-4a1a-f780-edf96f989d33"
   },
   "outputs": [
    {
     "data": {
      "text/plain": [
       "((5103, 20), (5103,), (1533, 20), (1533,))"
      ]
     },
     "execution_count": 63,
     "metadata": {},
     "output_type": "execute_result"
    }
   ],
   "source": [
    "X_train.shape, y_train.shape, X_test.shape, y_test.shape"
   ]
  },
  {
   "cell_type": "code",
   "execution_count": 64,
   "metadata": {
    "colab": {
     "base_uri": "https://localhost:8080/"
    },
    "id": "4Hms7xVm02q2",
    "outputId": "1a0d8fbe-2bba-4870-dfb1-ea5154fab071"
   },
   "outputs": [
    {
     "name": "stdout",
     "output_type": "stream",
     "text": [
      "0.9894179894179894\n",
      "0.9373776908023483\n"
     ]
    }
   ],
   "source": [
    "model1 = LGBMClassifier(learning_rate=0.3, max_depth=4, random_state=25)\n",
    "model2 = XGBClassifier(learning_rate=0.3, max_depth=4, random_state=25)\n",
    "model3 = GradientBoostingClassifier(max_depth=4, learning_rate=0.4, n_estimators=300, random_state=25)\n",
    "\n",
    "vote_model = VotingClassifier(estimators=[(\"LGBM\", model1), (\"XGB\", model2), (\"Gradient\", model3)], voting=\"hard\")\n",
    "\n",
    "vote_model.fit(X_train, y_train)\n",
    "predict = vote_model.predict(X_test)\n",
    "\n",
    "print(vote_model.score(X_train, y_train))\n",
    "print(vote_model.score(X_test, y_test))"
   ]
  },
  {
   "cell_type": "code",
   "execution_count": 65,
   "metadata": {
    "colab": {
     "base_uri": "https://localhost:8080/"
    },
    "id": "0yCKmB4amiRE",
    "outputId": "5b535102-518c-43a1-87b6-37b70fc41321"
   },
   "outputs": [
    {
     "name": "stdout",
     "output_type": "stream",
     "text": [
      "              precision    recall  f1-score   support\n",
      "\n",
      "           0       0.97      0.97      0.97      1458\n",
      "           1       0.35      0.33      0.34        75\n",
      "\n",
      "    accuracy                           0.94      1533\n",
      "   macro avg       0.66      0.65      0.65      1533\n",
      "weighted avg       0.94      0.94      0.94      1533\n",
      "\n"
     ]
    }
   ],
   "source": [
    "from sklearn.metrics import classification_report\n",
    "print(classification_report(y_test, predict))"
   ]
  },
  {
   "cell_type": "code",
   "execution_count": 66,
   "metadata": {
    "colab": {
     "base_uri": "https://localhost:8080/"
    },
    "id": "Wm5cGEfRmiRF",
    "outputId": "2b50c839-327f-4e8b-bcb2-1a60e8315d3e"
   },
   "outputs": [
    {
     "name": "stdout",
     "output_type": "stream",
     "text": [
      "[[1412   46]\n",
      " [  50   25]]\n"
     ]
    }
   ],
   "source": [
    "confmat = confusion_matrix(y_true=y_test, y_pred=predict)\n",
    "\n",
    "print(confmat)"
   ]
  },
  {
   "cell_type": "code",
   "execution_count": 67,
   "metadata": {
    "colab": {
     "base_uri": "https://localhost:8080/",
     "height": 225
    },
    "id": "ZwshZZoBmiRF",
    "outputId": "12e2dc7d-b2f8-49e3-fc82-9a8586123e37"
   },
   "outputs": [
    {
     "data": {
      "image/png": "[encoded data removed]",
      "text/plain": [
       "<Figure size 216x216 with 1 Axes>"
      ]
     },
     "metadata": {
      "needs_background": "light"
     },
     "output_type": "display_data"
    }
   ],
   "source": [
    "fig, ax = plt.subplots(figsize=(3, 3))\n",
    "\n",
    "ax.matshow(confmat, cmap=plt.cm.Blues, alpha=0.3)\n",
    "for i in range(confmat.shape[0]):\n",
    "    for j in range(confmat.shape[1]):\n",
    "        ax.text(x=j, y=i, s=confmat[i, j], va=\"center\", ha=\"center\")\n",
    "\n",
    "plt.xlabel(\"Predicted label\")\n",
    "plt.ylabel(\"True label\")\n",
    "plt.tight_layout()\n",
    "plt.show()"
   ]
  },
  {
   "cell_type": "code",
   "execution_count": 68,
   "metadata": {
    "colab": {
     "base_uri": "https://localhost:8080/"
    },
    "id": "KM3ti-JnmiRF",
    "outputId": "df505f0a-f3ce-4bb1-f398-6cbed089436b"
   },
   "outputs": [
    {
     "name": "stdout",
     "output_type": "stream",
     "text": [
      "[[1412   46]\n",
      " [  50   25]]\n",
      "정확도 : 0.94\n",
      "정밀도 : 0.35\n",
      "재현율 : 0.33\n",
      "F1 Score : 0.34\n"
     ]
    }
   ],
   "source": [
    "from sklearn.metrics import accuracy_score, precision_score , recall_score, f1_score\n",
    "\n",
    "print(confusion_matrix(y_test , predict))\n",
    "\n",
    "print(f\"정확도 : {round(accuracy_score(y_test, predict), 2)}\")\n",
    "print(f\"정밀도 : {round(precision_score(y_test, predict), 2)}\")\n",
    "print(f\"재현율 : {round(recall_score(y_test, predict), 2)}\")\n",
    "print(f\"F1 Score : {round(f1_score(y_test, predict), 2)}\")"
   ]
  },
  {
   "cell_type": "markdown",
   "metadata": {
    "id": "HQBMulesfZSB"
   },
   "source": [
    "# 성능"
   ]
  },
  {
   "cell_type": "markdown",
   "metadata": {
    "id": "Sbx5mqoBUtfd"
   },
   "source": [
    "- LGBMClassifier(learning_rate=0.5, max_depth=4, random_state=25)\n",
    "- XGBClassifier(learning_rate=0.5, max_depth=4, random_state=25)\n",
    "- GradientBoostingClassifier(max_depth=4, learning_rate=0.5, n_estimators=300, random_state=25)"
   ]
  },
  {
   "cell_type": "code",
   "execution_count": null,
   "metadata": {
    "id": "2hMSztmaZwvp"
   },
   "outputs": [],
   "source": [
    "# [[1407   51]\n",
    "#  [  52   23]]\n",
    "\n",
    "# 정확도 : 0.93\n",
    "# 정밀도 : 0.31\n",
    "# 재현율 : 0.31\n",
    "# F1 Score : 0.31\n",
    "\n",
    "# [[1403   55]\n",
    "#  [  48   27]]\n",
    "\n",
    "# 정확도 : 0.93\n",
    "# 정밀도 : 0.33\n",
    "# 재현율 : 0.36\n",
    "# F1 Score : 0.34\n",
    "\n",
    "# [[1412   46]\n",
    "#  [  50   25]]\n",
    "\n",
    "# 정확도 : 0.94\n",
    "# 정밀도 : 0.35\n",
    "# 재현율 : 0.33\n",
    "# F1 Score : 0.34"
   ]
  },
  {
   "cell_type": "markdown",
   "metadata": {
    "id": "9acZaZ5Tdslb"
   },
   "source": [
    "- LGBMClassifier(learning_rate=0.5, max_depth=3, random_state=25)\n",
    "- XGBClassifier(learning_rate=0.5, max_depth=3, random_state=25)\n",
    "- GradientBoostingClassifier(max_depth=4, learning_rate=0.4, n_estimators=300, random_state=25)\n",
    "- RandomOverSampling 진행 후 절반 삭제"
   ]
  },
  {
   "cell_type": "code",
   "execution_count": null,
   "metadata": {
    "id": "YWWAbA0Qcesl"
   },
   "outputs": [],
   "source": [
    "# [[1403   55]\n",
    "#  [  48   27]]\n",
    "\n",
    "# 정확도 : 0.93\n",
    "# 정밀도 : 0.33\n",
    "# 재현율 : 0.36\n",
    "# F1 Score : 0.34"
   ]
  },
  {
   "cell_type": "markdown",
   "metadata": {
    "id": "JClBt3IqeTKa"
   },
   "source": [
    "- LGBMClassifier(learning_rate=0.3, max_depth=4, random_state=25)\n",
    "- XGBClassifier(learning_rate=0.3, max_depth=4, random_state=25)\n",
    "- GradientBoostingClassifier(max_depth=4, learning_rate=0.4, n_estimators=300, random_state=25)\n",
    "- RandomOverSampling 진행 후 절반 삭제"
   ]
  },
  {
   "cell_type": "code",
   "execution_count": null,
   "metadata": {
    "id": "pK3JTqTwd7Ym"
   },
   "outputs": [],
   "source": [
    "# [[1412   46]\n",
    "#  [  50   25]]\n",
    "\n",
    "# 정확도 : 0.94\n",
    "# 정밀도 : 0.35\n",
    "# 재현율 : 0.33\n",
    "# F1 Score : 0.34"
   ]
  }
 ],
 "metadata": {
  "colab": {
   "collapsed_sections": [
    "BPTQeinM73Fz",
    "fQ1vlSEc746y",
    "GWnDtgER75-Q",
    "nqtHthUf-JhL",
    "0I7QMwfC-ZPO",
    "HQBMulesfZSB"
   ],
   "name": "Stroke.ipynb",
   "provenance": []
  },
  "kernelspec": {
   "display_name": "Python 3",
   "language": "python",
   "name": "python3"
  },
  "language_info": {
   "codemirror_mode": {
    "name": "ipython",
    "version": 3
   },
   "file_extension": ".py",
   "mimetype": "text/x-python",
   "name": "python",
   "nbconvert_exporter": "python",
   "pygments_lexer": "ipython3",
   "version": "3.8.8"
  }
 },
 "nbformat": 4,
 "nbformat_minor": 1
}
